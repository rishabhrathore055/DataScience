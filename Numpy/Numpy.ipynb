{
 "cells": [
  {
   "cell_type": "markdown",
   "id": "5adbf0e7",
   "metadata": {},
   "source": [
    "# Numpy \n",
    "### **[Reference](https://numpy.org/doc/)**"
   ]
  },
  {
   "cell_type": "code",
   "execution_count": 1,
   "id": "6194ee4d",
   "metadata": {},
   "outputs": [
    {
     "data": {
      "text/plain": [
       "'c:\\\\users\\\\rishabh rathore\\\\appdata\\\\local\\\\programs\\\\python\\\\python39\\\\python.exe'"
      ]
     },
     "execution_count": 1,
     "metadata": {},
     "output_type": "execute_result"
    }
   ],
   "source": [
    "import sys\n",
    "sys.executable"
   ]
  },
  {
   "cell_type": "code",
   "execution_count": 2,
   "id": "8e1089e6",
   "metadata": {},
   "outputs": [],
   "source": [
    "# !pip install numpy\n",
    "import numpy as np"
   ]
  },
  {
   "cell_type": "code",
   "execution_count": 3,
   "id": "9679a841",
   "metadata": {},
   "outputs": [
    {
     "name": "stdout",
     "output_type": "stream",
     "text": [
      "[[ 2  4  6  8 10 12]\n",
      " [ 1  3  5  7  9 11]]\n"
     ]
    }
   ],
   "source": [
    "arr = np.array([[2,4,6,8,10,12],[1,3,5,7,9,11]],dtype ='int32')\n",
    "print(arr)"
   ]
  },
  {
   "cell_type": "code",
   "execution_count": 4,
   "id": "b42e3264",
   "metadata": {},
   "outputs": [
    {
     "data": {
      "text/plain": [
       "2"
      ]
     },
     "execution_count": 4,
     "metadata": {},
     "output_type": "execute_result"
    }
   ],
   "source": [
    "arr.ndim #dimensions"
   ]
  },
  {
   "cell_type": "code",
   "execution_count": 5,
   "id": "dbe51837",
   "metadata": {},
   "outputs": [
    {
     "data": {
      "text/plain": [
       "(2, 6)"
      ]
     },
     "execution_count": 5,
     "metadata": {},
     "output_type": "execute_result"
    }
   ],
   "source": [
    "arr.shape # For a matrix with n rows and m columns, shape will be (n,m)"
   ]
  },
  {
   "cell_type": "code",
   "execution_count": 6,
   "id": "ca02bba3",
   "metadata": {},
   "outputs": [
    {
     "data": {
      "text/plain": [
       "12"
      ]
     },
     "execution_count": 6,
     "metadata": {},
     "output_type": "execute_result"
    }
   ],
   "source": [
    "arr.size # the total number of elements of the array."
   ]
  },
  {
   "cell_type": "code",
   "execution_count": 7,
   "id": "9cbbda2b",
   "metadata": {},
   "outputs": [
    {
     "data": {
      "text/plain": [
       "dtype('int32')"
      ]
     },
     "execution_count": 7,
     "metadata": {},
     "output_type": "execute_result"
    }
   ],
   "source": [
    "arr.dtype"
   ]
  },
  {
   "cell_type": "code",
   "execution_count": 8,
   "id": "5aea7b2f",
   "metadata": {},
   "outputs": [
    {
     "data": {
      "text/plain": [
       "numpy.ndarray"
      ]
     },
     "execution_count": 8,
     "metadata": {},
     "output_type": "execute_result"
    }
   ],
   "source": [
    "type(arr) # it is the python syntax"
   ]
  },
  {
   "cell_type": "code",
   "execution_count": 9,
   "id": "167d1d14",
   "metadata": {},
   "outputs": [
    {
     "data": {
      "text/plain": [
       "4"
      ]
     },
     "execution_count": 9,
     "metadata": {},
     "output_type": "execute_result"
    }
   ],
   "source": [
    "arr.itemsize # the size in bytes of each element of the array"
   ]
  },
  {
   "cell_type": "code",
   "execution_count": 10,
   "id": "dfab9bac",
   "metadata": {},
   "outputs": [],
   "source": [
    "num = np.array([[10,20,40],[40,80,160]],dtype=complex)"
   ]
  },
  {
   "cell_type": "code",
   "execution_count": 11,
   "id": "1d593fbb",
   "metadata": {},
   "outputs": [
    {
     "data": {
      "text/plain": [
       "array([[ 10.+0.j,  20.+0.j,  40.+0.j],\n",
       "       [ 40.+0.j,  80.+0.j, 160.+0.j]])"
      ]
     },
     "execution_count": 11,
     "metadata": {},
     "output_type": "execute_result"
    }
   ],
   "source": [
    "num"
   ]
  },
  {
   "cell_type": "code",
   "execution_count": 12,
   "id": "670e9cc8",
   "metadata": {},
   "outputs": [
    {
     "data": {
      "text/plain": [
       "4"
      ]
     },
     "execution_count": 12,
     "metadata": {},
     "output_type": "execute_result"
    }
   ],
   "source": [
    "arr.itemsize"
   ]
  },
  {
   "cell_type": "markdown",
   "id": "cf25b726",
   "metadata": {},
   "source": [
    "### Array Creation"
   ]
  },
  {
   "cell_type": "code",
   "execution_count": 13,
   "id": "22a63605",
   "metadata": {},
   "outputs": [],
   "source": [
    "arr = np.array([2,3,4])"
   ]
  },
  {
   "cell_type": "code",
   "execution_count": 14,
   "id": "90cb8a69",
   "metadata": {},
   "outputs": [
    {
     "data": {
      "text/plain": [
       "array([2, 3, 4])"
      ]
     },
     "execution_count": 14,
     "metadata": {},
     "output_type": "execute_result"
    }
   ],
   "source": [
    "arr"
   ]
  },
  {
   "cell_type": "code",
   "execution_count": 15,
   "id": "2337e12e",
   "metadata": {},
   "outputs": [
    {
     "data": {
      "text/plain": [
       "array([20.+0.j, 30.+0.j, 40.+0.j])"
      ]
     },
     "execution_count": 15,
     "metadata": {},
     "output_type": "execute_result"
    }
   ],
   "source": [
    "arr_complex = np.array([20,30,40],dtype=complex)\n",
    "arr_complex"
   ]
  },
  {
   "cell_type": "markdown",
   "id": "6d8a840c",
   "metadata": {},
   "source": [
    "### Zeros"
   ]
  },
  {
   "cell_type": "code",
   "execution_count": 16,
   "id": "d01b4397",
   "metadata": {},
   "outputs": [
    {
     "data": {
      "text/plain": [
       "array([[[0., 0., 0.],\n",
       "        [0., 0., 0.],\n",
       "        [0., 0., 0.],\n",
       "        [0., 0., 0.]],\n",
       "\n",
       "       [[0., 0., 0.],\n",
       "        [0., 0., 0.],\n",
       "        [0., 0., 0.],\n",
       "        [0., 0., 0.]],\n",
       "\n",
       "       [[0., 0., 0.],\n",
       "        [0., 0., 0.],\n",
       "        [0., 0., 0.],\n",
       "        [0., 0., 0.]]])"
      ]
     },
     "execution_count": 16,
     "metadata": {},
     "output_type": "execute_result"
    }
   ],
   "source": [
    "np.zeros((3,4,3))"
   ]
  },
  {
   "cell_type": "code",
   "execution_count": 17,
   "id": "b49d2507",
   "metadata": {},
   "outputs": [
    {
     "data": {
      "text/plain": [
       "array([0, 0, 0, 0, 0, 0])"
      ]
     },
     "execution_count": 17,
     "metadata": {},
     "output_type": "execute_result"
    }
   ],
   "source": [
    "num = [10,20,30,40,50,60]\n",
    "np.zeros_like(num)"
   ]
  },
  {
   "cell_type": "code",
   "execution_count": 97,
   "id": "b999b8c7",
   "metadata": {},
   "outputs": [
    {
     "data": {
      "text/plain": [
       "array([1., 1., 1., 1., 1.])"
      ]
     },
     "execution_count": 97,
     "metadata": {},
     "output_type": "execute_result"
    }
   ],
   "source": [
    "np.ones(5)"
   ]
  },
  {
   "cell_type": "code",
   "execution_count": 99,
   "id": "62803048",
   "metadata": {},
   "outputs": [
    {
     "data": {
      "text/plain": [
       "array([[1., 1., 1., 1., 1.],\n",
       "       [1., 1., 1., 1., 1.]])"
      ]
     },
     "execution_count": 99,
     "metadata": {},
     "output_type": "execute_result"
    }
   ],
   "source": [
    "arr = np.ones((2,5))\n",
    "arr"
   ]
  },
  {
   "cell_type": "code",
   "execution_count": 100,
   "id": "758e7342",
   "metadata": {},
   "outputs": [
    {
     "data": {
      "text/plain": [
       "array([[6., 6., 6., 6., 6.],\n",
       "       [6., 6., 6., 6., 6.]])"
      ]
     },
     "execution_count": 100,
     "metadata": {},
     "output_type": "execute_result"
    }
   ],
   "source": [
    "arr +5"
   ]
  },
  {
   "cell_type": "code",
   "execution_count": 102,
   "id": "4ce134a8",
   "metadata": {},
   "outputs": [
    {
     "data": {
      "text/plain": [
       "array([[4., 4., 4., 4., 4.],\n",
       "       [4., 4., 4., 4., 4.]])"
      ]
     },
     "execution_count": 102,
     "metadata": {},
     "output_type": "execute_result"
    }
   ],
   "source": [
    "arr*4"
   ]
  },
  {
   "cell_type": "code",
   "execution_count": 105,
   "id": "d3796333",
   "metadata": {},
   "outputs": [
    {
     "data": {
      "text/plain": [
       "array([[1.        , 1.41421356, 1.73205081, 2.        ],\n",
       "       [2.23606798, 2.44948974, 2.64575131, 2.82842712],\n",
       "       [3.        , 3.16227766, 3.31662479, 3.46410162]])"
      ]
     },
     "execution_count": 105,
     "metadata": {},
     "output_type": "execute_result"
    }
   ],
   "source": [
    "np.empty((3,4))"
   ]
  },
  {
   "cell_type": "code",
   "execution_count": 110,
   "id": "e42ccf9e",
   "metadata": {},
   "outputs": [
    {
     "data": {
      "text/plain": [
       "array([[1., 0., 0., 0., 0.],\n",
       "       [0., 1., 0., 0., 0.],\n",
       "       [0., 0., 1., 0., 0.],\n",
       "       [0., 0., 0., 1., 0.],\n",
       "       [0., 0., 0., 0., 1.]])"
      ]
     },
     "execution_count": 110,
     "metadata": {},
     "output_type": "execute_result"
    }
   ],
   "source": [
    "np.eye(5) # defines a 2D identity matrix"
   ]
  },
  {
   "cell_type": "code",
   "execution_count": 112,
   "id": "9bf86440",
   "metadata": {},
   "outputs": [
    {
     "data": {
      "text/plain": [
       "array([[10,  0,  0],\n",
       "       [ 0, 20,  0],\n",
       "       [ 0,  0, 30]])"
      ]
     },
     "execution_count": 112,
     "metadata": {},
     "output_type": "execute_result"
    }
   ],
   "source": [
    "np.diag([10,20,30])"
   ]
  },
  {
   "cell_type": "code",
   "execution_count": 114,
   "id": "ed4d10ac",
   "metadata": {},
   "outputs": [
    {
     "data": {
      "text/plain": [
       "array([[0.27348036, 0.2228581 , 0.33233937],\n",
       "       [0.61092422, 0.2489183 , 0.45063635]])"
      ]
     },
     "execution_count": 114,
     "metadata": {},
     "output_type": "execute_result"
    }
   ],
   "source": [
    "np.random.rand(2,3)"
   ]
  },
  {
   "cell_type": "code",
   "execution_count": 115,
   "id": "f9d8cf27",
   "metadata": {},
   "outputs": [
    {
     "data": {
      "text/plain": [
       "array([[ 1.39575009,  0.13799284, -0.01563516],\n",
       "       [ 0.31498608, -0.51789892, -0.45121599]])"
      ]
     },
     "execution_count": 115,
     "metadata": {},
     "output_type": "execute_result"
    }
   ],
   "source": [
    "np.random.randn(2,3)"
   ]
  },
  {
   "cell_type": "code",
   "execution_count": 120,
   "id": "6bc7c0fb",
   "metadata": {},
   "outputs": [
    {
     "data": {
      "text/plain": [
       "array([[6, 2, 2, 8],\n",
       "       [8, 2, 2, 7],\n",
       "       [2, 3, 5, 3]])"
      ]
     },
     "execution_count": 120,
     "metadata": {},
     "output_type": "execute_result"
    }
   ],
   "source": [
    "nums = np.random.randint(2,10,(3,4))\n",
    "nums"
   ]
  },
  {
   "cell_type": "code",
   "execution_count": 121,
   "id": "73bfdf36",
   "metadata": {},
   "outputs": [],
   "source": [
    "import pandas as pd"
   ]
  },
  {
   "cell_type": "code",
   "execution_count": 122,
   "id": "8d26f0af",
   "metadata": {},
   "outputs": [
    {
     "data": {
      "text/html": [
       "<div>\n",
       "<style scoped>\n",
       "    .dataframe tbody tr th:only-of-type {\n",
       "        vertical-align: middle;\n",
       "    }\n",
       "\n",
       "    .dataframe tbody tr th {\n",
       "        vertical-align: top;\n",
       "    }\n",
       "\n",
       "    .dataframe thead th {\n",
       "        text-align: right;\n",
       "    }\n",
       "</style>\n",
       "<table border=\"1\" class=\"dataframe\">\n",
       "  <thead>\n",
       "    <tr style=\"text-align: right;\">\n",
       "      <th></th>\n",
       "      <th>0</th>\n",
       "      <th>1</th>\n",
       "      <th>2</th>\n",
       "      <th>3</th>\n",
       "    </tr>\n",
       "  </thead>\n",
       "  <tbody>\n",
       "    <tr>\n",
       "      <th>0</th>\n",
       "      <td>6</td>\n",
       "      <td>2</td>\n",
       "      <td>2</td>\n",
       "      <td>8</td>\n",
       "    </tr>\n",
       "    <tr>\n",
       "      <th>1</th>\n",
       "      <td>8</td>\n",
       "      <td>2</td>\n",
       "      <td>2</td>\n",
       "      <td>7</td>\n",
       "    </tr>\n",
       "    <tr>\n",
       "      <th>2</th>\n",
       "      <td>2</td>\n",
       "      <td>3</td>\n",
       "      <td>5</td>\n",
       "      <td>3</td>\n",
       "    </tr>\n",
       "  </tbody>\n",
       "</table>\n",
       "</div>"
      ],
      "text/plain": [
       "   0  1  2  3\n",
       "0  6  2  2  8\n",
       "1  8  2  2  7\n",
       "2  2  3  5  3"
      ]
     },
     "execution_count": 122,
     "metadata": {},
     "output_type": "execute_result"
    }
   ],
   "source": [
    "pd.DataFrame(nums)"
   ]
  },
  {
   "cell_type": "code",
   "execution_count": 125,
   "id": "6c47a6d7",
   "metadata": {},
   "outputs": [
    {
     "name": "stdout",
     "output_type": "stream",
     "text": [
      "[[6 2 2 8]\n",
      " [8 2 2 7]\n",
      " [2 3 5 3]]\n"
     ]
    },
    {
     "data": {
      "text/plain": [
       "(3, 4)"
      ]
     },
     "execution_count": 125,
     "metadata": {},
     "output_type": "execute_result"
    }
   ],
   "source": [
    "print(nums)\n",
    "nums.shape"
   ]
  },
  {
   "cell_type": "code",
   "execution_count": 124,
   "id": "4d251bc2",
   "metadata": {},
   "outputs": [
    {
     "data": {
      "text/plain": [
       "array([[6, 2, 2],\n",
       "       [8, 8, 2],\n",
       "       [2, 7, 2],\n",
       "       [3, 5, 3]])"
      ]
     },
     "execution_count": 124,
     "metadata": {},
     "output_type": "execute_result"
    }
   ],
   "source": [
    "nums.reshape(4,3)"
   ]
  },
  {
   "cell_type": "code",
   "execution_count": 127,
   "id": "6f686f0c",
   "metadata": {},
   "outputs": [
    {
     "data": {
      "text/plain": [
       "array([[6, 2, 2],\n",
       "       [8, 8, 2],\n",
       "       [2, 7, 2],\n",
       "       [3, 5, 3]])"
      ]
     },
     "execution_count": 127,
     "metadata": {},
     "output_type": "execute_result"
    }
   ],
   "source": [
    "nums.reshape(4,-1)"
   ]
  },
  {
   "cell_type": "code",
   "execution_count": 126,
   "id": "94b3d720",
   "metadata": {},
   "outputs": [
    {
     "data": {
      "text/plain": [
       "array([[6, 2],\n",
       "       [2, 8],\n",
       "       [8, 2],\n",
       "       [2, 7],\n",
       "       [2, 3],\n",
       "       [5, 3]])"
      ]
     },
     "execution_count": 126,
     "metadata": {},
     "output_type": "execute_result"
    }
   ],
   "source": [
    "nums.reshape(6,2)"
   ]
  },
  {
   "cell_type": "code",
   "execution_count": 130,
   "id": "40040773",
   "metadata": {},
   "outputs": [
    {
     "data": {
      "text/plain": [
       "array([[[6, 2],\n",
       "        [2, 8],\n",
       "        [8, 2]],\n",
       "\n",
       "       [[2, 7],\n",
       "        [2, 3],\n",
       "        [5, 3]]])"
      ]
     },
     "execution_count": 130,
     "metadata": {},
     "output_type": "execute_result"
    }
   ],
   "source": [
    "nums.reshape(2,3,2)"
   ]
  },
  {
   "cell_type": "markdown",
   "id": "6312cd28",
   "metadata": {},
   "source": [
    "### Arange function"
   ]
  },
  {
   "cell_type": "code",
   "execution_count": 18,
   "id": "2c47881c",
   "metadata": {},
   "outputs": [
    {
     "data": {
      "text/plain": [
       "[0, 1, 2, 3, 4]"
      ]
     },
     "execution_count": 18,
     "metadata": {},
     "output_type": "execute_result"
    }
   ],
   "source": [
    "list(range(5))"
   ]
  },
  {
   "cell_type": "code",
   "execution_count": 19,
   "id": "2a2c1806",
   "metadata": {},
   "outputs": [
    {
     "data": {
      "text/plain": [
       "[0, 1, 2, 3, 4, 5, 6, 7, 8, 9]"
      ]
     },
     "execution_count": 19,
     "metadata": {},
     "output_type": "execute_result"
    }
   ],
   "source": [
    "list(range(0,10))"
   ]
  },
  {
   "cell_type": "code",
   "execution_count": 20,
   "id": "99ff9b5c",
   "metadata": {},
   "outputs": [],
   "source": [
    "# list(range(0.4,10.4)) #TypeError: 'float' object cannot be interpreted as an integer"
   ]
  },
  {
   "cell_type": "code",
   "execution_count": 21,
   "id": "e6ff2b7c",
   "metadata": {},
   "outputs": [
    {
     "data": {
      "text/plain": [
       "array([0.4, 1.4, 2.4, 3.4, 4.4, 5.4, 6.4, 7.4, 8.4, 9.4])"
      ]
     },
     "execution_count": 21,
     "metadata": {},
     "output_type": "execute_result"
    }
   ],
   "source": [
    "np.arange(0.4,10.4)"
   ]
  },
  {
   "cell_type": "markdown",
   "id": "73838e36",
   "metadata": {},
   "source": [
    "### Linspace"
   ]
  },
  {
   "cell_type": "code",
   "execution_count": 22,
   "id": "ad7e7006",
   "metadata": {},
   "outputs": [
    {
     "data": {
      "text/plain": [
       "array([1.        , 1.21052632, 1.42105263, 1.63157895, 1.84210526,\n",
       "       2.05263158, 2.26315789, 2.47368421, 2.68421053, 2.89473684,\n",
       "       3.10526316, 3.31578947, 3.52631579, 3.73684211, 3.94736842,\n",
       "       4.15789474, 4.36842105, 4.57894737, 4.78947368, 5.        ])"
      ]
     },
     "execution_count": 22,
     "metadata": {},
     "output_type": "execute_result"
    }
   ],
   "source": [
    "np.linspace(1,5,20)"
   ]
  },
  {
   "cell_type": "markdown",
   "id": "375f866b",
   "metadata": {},
   "source": [
    "### Logspace"
   ]
  },
  {
   "cell_type": "code",
   "execution_count": 23,
   "id": "1c467889",
   "metadata": {},
   "outputs": [
    {
     "data": {
      "text/plain": [
       "array([   4.        ,    5.3556164 ,    7.17065677,    9.60082176,\n",
       "         12.85457963,   17.21104938,   23.0439446 ,   30.85363193,\n",
       "         41.31005433,   55.31020117,   74.05505519,   99.15261711,\n",
       "        132.75584569,  177.74734625,  237.98665088,  318.6413029 ,\n",
       "        426.63014728,  571.21685389,  764.80458837, 1024.        ])"
      ]
     },
     "execution_count": 23,
     "metadata": {},
     "output_type": "execute_result"
    }
   ],
   "source": [
    "np.logspace(1,5,20,base=4)"
   ]
  },
  {
   "cell_type": "code",
   "execution_count": 24,
   "id": "3bf0afc7",
   "metadata": {},
   "outputs": [
    {
     "data": {
      "text/plain": [
       "array([1.00000000e+01, 2.78255940e+01, 7.74263683e+01, 2.15443469e+02,\n",
       "       5.99484250e+02, 1.66810054e+03, 4.64158883e+03, 1.29154967e+04,\n",
       "       3.59381366e+04, 1.00000000e+05])"
      ]
     },
     "execution_count": 24,
     "metadata": {},
     "output_type": "execute_result"
    }
   ],
   "source": [
    "np.logspace(1,5,10) # default base=10.0"
   ]
  },
  {
   "cell_type": "code",
   "execution_count": 25,
   "id": "1552e28d",
   "metadata": {},
   "outputs": [
    {
     "data": {
      "text/plain": [
       "array([ 2.        ,  2.72158   ,  3.70349885,  5.0396842 ,  6.85795186,\n",
       "        9.33223232, 12.69920842, 17.28095582, 23.51575188, 32.        ])"
      ]
     },
     "execution_count": 25,
     "metadata": {},
     "output_type": "execute_result"
    }
   ],
   "source": [
    "np.logspace(1,5,10,base=2) "
   ]
  },
  {
   "cell_type": "code",
   "execution_count": 26,
   "id": "779d44a6",
   "metadata": {},
   "outputs": [
    {
     "data": {
      "text/plain": [
       "445"
      ]
     },
     "execution_count": 26,
     "metadata": {},
     "output_type": "execute_result"
    }
   ],
   "source": [
    "np.add(222,223)"
   ]
  },
  {
   "cell_type": "code",
   "execution_count": 27,
   "id": "4f445fa8",
   "metadata": {},
   "outputs": [],
   "source": [
    "arr = np.array([[1,2,3,4],[5,6,7,8]])"
   ]
  },
  {
   "cell_type": "code",
   "execution_count": 29,
   "id": "c37f8462",
   "metadata": {},
   "outputs": [
    {
     "data": {
      "text/plain": [
       "array([[1, 5],\n",
       "       [2, 6],\n",
       "       [3, 7],\n",
       "       [4, 8]])"
      ]
     },
     "execution_count": 29,
     "metadata": {},
     "output_type": "execute_result"
    }
   ],
   "source": [
    "arr.T"
   ]
  },
  {
   "cell_type": "code",
   "execution_count": 30,
   "id": "f9e347ee",
   "metadata": {},
   "outputs": [
    {
     "data": {
      "text/plain": [
       "array([[ 1,  4,  9, 16],\n",
       "       [25, 36, 49, 64]])"
      ]
     },
     "execution_count": 30,
     "metadata": {},
     "output_type": "execute_result"
    }
   ],
   "source": [
    "arr*arr"
   ]
  },
  {
   "cell_type": "code",
   "execution_count": 31,
   "id": "619bb32d",
   "metadata": {},
   "outputs": [
    {
     "data": {
      "text/plain": [
       "array([[ 2,  4,  6,  8],\n",
       "       [10, 12, 14, 16]])"
      ]
     },
     "execution_count": 31,
     "metadata": {},
     "output_type": "execute_result"
    }
   ],
   "source": [
    "arr+arr"
   ]
  },
  {
   "cell_type": "code",
   "execution_count": 32,
   "id": "a585d114",
   "metadata": {},
   "outputs": [
    {
     "data": {
      "text/plain": [
       "array([[0, 0, 0, 0],\n",
       "       [0, 0, 0, 0]])"
      ]
     },
     "execution_count": 32,
     "metadata": {},
     "output_type": "execute_result"
    }
   ],
   "source": [
    "arr%arr"
   ]
  },
  {
   "cell_type": "code",
   "execution_count": 33,
   "id": "a9c0ea0a",
   "metadata": {},
   "outputs": [
    {
     "data": {
      "text/plain": [
       "array([[1., 1., 1., 1.],\n",
       "       [1., 1., 1., 1.]])"
      ]
     },
     "execution_count": 33,
     "metadata": {},
     "output_type": "execute_result"
    }
   ],
   "source": [
    "arr/arr"
   ]
  },
  {
   "cell_type": "code",
   "execution_count": 34,
   "id": "b37537ef",
   "metadata": {},
   "outputs": [
    {
     "data": {
      "text/plain": [
       "array([[2.        , 1.        , 0.66666667, 0.5       ],\n",
       "       [0.4       , 0.33333333, 0.28571429, 0.25      ]])"
      ]
     },
     "execution_count": 34,
     "metadata": {},
     "output_type": "execute_result"
    }
   ],
   "source": [
    "2/arr"
   ]
  },
  {
   "cell_type": "code",
   "execution_count": 35,
   "id": "26fe07bc",
   "metadata": {},
   "outputs": [
    {
     "data": {
      "text/plain": [
       "array([[1.13945490e-311, 2.81617418e-322, 0.00000000e+000,\n",
       "        0.00000000e+000, 4.00766127e+175, 8.60952352e-072],\n",
       "       [5.49606416e-090, 1.56082907e+161, 3.63373968e+174,\n",
       "        3.05999123e-057, 6.48224660e+170, 4.93432906e+257]])"
      ]
     },
     "execution_count": 35,
     "metadata": {},
     "output_type": "execute_result"
    }
   ],
   "source": [
    "np.empty((2,6))"
   ]
  },
  {
   "cell_type": "code",
   "execution_count": 36,
   "id": "4ada643d",
   "metadata": {},
   "outputs": [
    {
     "data": {
      "text/plain": [
       "array([ 0,  1,  2,  3,  4,  5,  6,  7,  8,  9, 10, 11, 12, 13, 14, 15, 16,\n",
       "       17, 18, 19, 20, 21, 22, 23, 24, 25, 26, 27, 28, 29, 30, 31, 32, 33,\n",
       "       34, 35, 36, 37, 38, 39, 40, 41, 42, 43, 44, 45, 46, 47, 48, 49, 50,\n",
       "       51, 52, 53, 54, 55, 56, 57, 58, 59, 60, 61, 62, 63, 64, 65, 66, 67,\n",
       "       68, 69, 70, 71, 72, 73, 74, 75, 76, 77, 78, 79, 80, 81, 82, 83, 84,\n",
       "       85, 86, 87, 88, 89, 90, 91, 92, 93, 94, 95, 96, 97, 98, 99])"
      ]
     },
     "execution_count": 36,
     "metadata": {},
     "output_type": "execute_result"
    }
   ],
   "source": [
    "arr1 = np.arange(0,100)\n",
    "arr1"
   ]
  },
  {
   "cell_type": "code",
   "execution_count": 37,
   "id": "4ae8bbe5",
   "metadata": {},
   "outputs": [
    {
     "data": {
      "text/plain": [
       "array([[ 0,  1,  2,  3,  4,  5,  6,  7,  8,  9, 10, 11, 12, 13, 14, 15,\n",
       "        16, 17, 18, 19, 20, 21, 22, 23, 24],\n",
       "       [25, 26, 27, 28, 29, 30, 31, 32, 33, 34, 35, 36, 37, 38, 39, 40,\n",
       "        41, 42, 43, 44, 45, 46, 47, 48, 49],\n",
       "       [50, 51, 52, 53, 54, 55, 56, 57, 58, 59, 60, 61, 62, 63, 64, 65,\n",
       "        66, 67, 68, 69, 70, 71, 72, 73, 74],\n",
       "       [75, 76, 77, 78, 79, 80, 81, 82, 83, 84, 85, 86, 87, 88, 89, 90,\n",
       "        91, 92, 93, 94, 95, 96, 97, 98, 99]])"
      ]
     },
     "execution_count": 37,
     "metadata": {},
     "output_type": "execute_result"
    }
   ],
   "source": [
    "arr1.reshape(4,25)"
   ]
  },
  {
   "cell_type": "code",
   "execution_count": 38,
   "id": "a3b01070",
   "metadata": {},
   "outputs": [
    {
     "data": {
      "text/plain": [
       "array([ 0,  1,  2,  3,  4,  5,  6,  7,  8,  9, 10, 11, 12, 13, 14, 15, 16,\n",
       "       17, 18, 19, 20, 21, 22, 23, 24, 25, 26, 27, 28, 29, 30, 31, 32, 33,\n",
       "       34, 35, 36, 37, 38, 39, 40, 41, 42, 43, 44, 45, 46, 47, 48, 49, 50,\n",
       "       51, 52, 53, 54, 55, 56, 57, 58, 59, 60, 61, 62, 63, 64, 65, 66, 67,\n",
       "       68, 69, 70, 71, 72, 73, 74, 75, 76, 77, 78, 79, 80, 81, 82, 83, 84,\n",
       "       85, 86, 87, 88, 89, 90, 91, 92, 93, 94, 95, 96, 97, 98, 99])"
      ]
     },
     "execution_count": 38,
     "metadata": {},
     "output_type": "execute_result"
    }
   ],
   "source": [
    "arr1.ravel()"
   ]
  },
  {
   "cell_type": "code",
   "execution_count": 39,
   "id": "0407ef05",
   "metadata": {},
   "outputs": [
    {
     "data": {
      "text/plain": [
       "(100,)"
      ]
     },
     "execution_count": 39,
     "metadata": {},
     "output_type": "execute_result"
    }
   ],
   "source": [
    "arr1.shape"
   ]
  },
  {
   "cell_type": "code",
   "execution_count": 40,
   "id": "67283b81",
   "metadata": {},
   "outputs": [
    {
     "data": {
      "text/plain": [
       "4950"
      ]
     },
     "execution_count": 40,
     "metadata": {},
     "output_type": "execute_result"
    }
   ],
   "source": [
    "arr1.sum()"
   ]
  },
  {
   "cell_type": "code",
   "execution_count": 41,
   "id": "9521838b",
   "metadata": {},
   "outputs": [
    {
     "data": {
      "text/plain": [
       "array([[ 1,  2,  3],\n",
       "       [ 4,  5,  6],\n",
       "       [ 7,  8,  9],\n",
       "       [10, 11, 12]])"
      ]
     },
     "execution_count": 41,
     "metadata": {},
     "output_type": "execute_result"
    }
   ],
   "source": [
    "array = np.array([[1,2,3],[4,5,6],[7,8,9],[10,11,12]])\n",
    "array"
   ]
  },
  {
   "cell_type": "code",
   "execution_count": 42,
   "id": "e5f5e4c5",
   "metadata": {},
   "outputs": [
    {
     "data": {
      "text/plain": [
       "array([22, 26, 30])"
      ]
     },
     "execution_count": 42,
     "metadata": {},
     "output_type": "execute_result"
    }
   ],
   "source": [
    "array.sum(axis=0)"
   ]
  },
  {
   "cell_type": "code",
   "execution_count": 43,
   "id": "5faaa5b6",
   "metadata": {},
   "outputs": [
    {
     "data": {
      "text/plain": [
       "array([ 6, 15, 24, 33])"
      ]
     },
     "execution_count": 43,
     "metadata": {},
     "output_type": "execute_result"
    }
   ],
   "source": [
    "array.sum(axis=1)"
   ]
  },
  {
   "cell_type": "code",
   "execution_count": 44,
   "id": "f517d01b",
   "metadata": {},
   "outputs": [
    {
     "data": {
      "text/plain": [
       "array([[ 1,  4,  7, 10],\n",
       "       [ 2,  5,  8, 11],\n",
       "       [ 3,  6,  9, 12]])"
      ]
     },
     "execution_count": 44,
     "metadata": {},
     "output_type": "execute_result"
    }
   ],
   "source": [
    "array.T"
   ]
  },
  {
   "cell_type": "code",
   "execution_count": 45,
   "id": "1fcacbe1",
   "metadata": {},
   "outputs": [
    {
     "name": "stdout",
     "output_type": "stream",
     "text": [
      "1\n",
      "2\n",
      "3\n",
      "4\n",
      "5\n",
      "6\n",
      "7\n",
      "8\n",
      "9\n",
      "10\n",
      "11\n",
      "12\n"
     ]
    }
   ],
   "source": [
    "array.flat\n",
    "for i in array.flat:\n",
    "    print(i)"
   ]
  },
  {
   "cell_type": "code",
   "execution_count": 46,
   "id": "bd51983b",
   "metadata": {},
   "outputs": [
    {
     "data": {
      "text/plain": [
       "2"
      ]
     },
     "execution_count": 46,
     "metadata": {},
     "output_type": "execute_result"
    }
   ],
   "source": [
    "array.ndim #Dimensions "
   ]
  },
  {
   "cell_type": "code",
   "execution_count": 47,
   "id": "90e7213a",
   "metadata": {},
   "outputs": [
    {
     "data": {
      "text/plain": [
       "12"
      ]
     },
     "execution_count": 47,
     "metadata": {},
     "output_type": "execute_result"
    }
   ],
   "source": [
    "array.size #size"
   ]
  },
  {
   "cell_type": "code",
   "execution_count": 48,
   "id": "cc94d408",
   "metadata": {},
   "outputs": [
    {
     "data": {
      "text/plain": [
       "48"
      ]
     },
     "execution_count": 48,
     "metadata": {},
     "output_type": "execute_result"
    }
   ],
   "source": [
    "array.nbytes #Storage in bytes"
   ]
  },
  {
   "cell_type": "code",
   "execution_count": 49,
   "id": "f5e413cb",
   "metadata": {},
   "outputs": [
    {
     "data": {
      "text/plain": [
       "12"
      ]
     },
     "execution_count": 49,
     "metadata": {},
     "output_type": "execute_result"
    }
   ],
   "source": [
    "array.max() #maxValue"
   ]
  },
  {
   "cell_type": "code",
   "execution_count": 50,
   "id": "08a04858",
   "metadata": {},
   "outputs": [
    {
     "data": {
      "text/plain": [
       "1"
      ]
     },
     "execution_count": 50,
     "metadata": {},
     "output_type": "execute_result"
    }
   ],
   "source": [
    "array.min() #minValue"
   ]
  },
  {
   "cell_type": "code",
   "execution_count": 51,
   "id": "a9eef607",
   "metadata": {},
   "outputs": [
    {
     "data": {
      "text/plain": [
       "11"
      ]
     },
     "execution_count": 51,
     "metadata": {},
     "output_type": "execute_result"
    }
   ],
   "source": [
    "array.argmax() #maxValueIndx"
   ]
  },
  {
   "cell_type": "code",
   "execution_count": 52,
   "id": "60ca464f",
   "metadata": {},
   "outputs": [
    {
     "data": {
      "text/plain": [
       "0"
      ]
     },
     "execution_count": 52,
     "metadata": {},
     "output_type": "execute_result"
    }
   ],
   "source": [
    "array.argmin() #minValueIndx"
   ]
  },
  {
   "cell_type": "code",
   "execution_count": 53,
   "id": "85e9de60",
   "metadata": {},
   "outputs": [
    {
     "data": {
      "text/plain": [
       "array([0, 3, 1, 2, 4], dtype=int64)"
      ]
     },
     "execution_count": 53,
     "metadata": {},
     "output_type": "execute_result"
    }
   ],
   "source": [
    "array.argsort() # sort the array acc. to index value\n",
    "\n",
    "test = np.array([2,34,56,4,56])\n",
    "test.argsort()"
   ]
  },
  {
   "cell_type": "code",
   "execution_count": 54,
   "id": "5a1766d0",
   "metadata": {},
   "outputs": [
    {
     "data": {
      "text/plain": [
       "array([3, 3, 3], dtype=int64)"
      ]
     },
     "execution_count": 54,
     "metadata": {},
     "output_type": "execute_result"
    }
   ],
   "source": [
    "array.argmax(axis=0)"
   ]
  },
  {
   "cell_type": "code",
   "execution_count": 55,
   "id": "e4c75502",
   "metadata": {},
   "outputs": [
    {
     "data": {
      "text/plain": [
       "array([0, 0, 0, 0], dtype=int64)"
      ]
     },
     "execution_count": 55,
     "metadata": {},
     "output_type": "execute_result"
    }
   ],
   "source": [
    "array.argmin(axis=1)"
   ]
  },
  {
   "cell_type": "code",
   "execution_count": 56,
   "id": "c556a5b0",
   "metadata": {},
   "outputs": [
    {
     "data": {
      "text/plain": [
       "array([[1.        , 1.41421356, 1.73205081],\n",
       "       [2.        , 2.23606798, 2.44948974],\n",
       "       [2.64575131, 2.82842712, 3.        ],\n",
       "       [3.16227766, 3.31662479, 3.46410162]])"
      ]
     },
     "execution_count": 56,
     "metadata": {},
     "output_type": "execute_result"
    }
   ],
   "source": [
    "np.sqrt(array)"
   ]
  },
  {
   "cell_type": "code",
   "execution_count": 57,
   "id": "fd1089cc",
   "metadata": {},
   "outputs": [
    {
     "data": {
      "text/plain": [
       "(array([3, 3], dtype=int64), array([1, 2], dtype=int64))"
      ]
     },
     "execution_count": 57,
     "metadata": {},
     "output_type": "execute_result"
    }
   ],
   "source": [
    "np.where(array>10)"
   ]
  },
  {
   "cell_type": "code",
   "execution_count": 58,
   "id": "aa3d2dc7",
   "metadata": {},
   "outputs": [
    {
     "data": {
      "text/plain": [
       "12"
      ]
     },
     "execution_count": 58,
     "metadata": {},
     "output_type": "execute_result"
    }
   ],
   "source": [
    "np.count_nonzero(array)"
   ]
  },
  {
   "cell_type": "code",
   "execution_count": 59,
   "id": "7dd1aed2",
   "metadata": {},
   "outputs": [
    {
     "data": {
      "text/plain": [
       "array([[ 1,  2,  3],\n",
       "       [ 4,  5,  6],\n",
       "       [ 7,  8,  9],\n",
       "       [10, 11, 12]])"
      ]
     },
     "execution_count": 59,
     "metadata": {},
     "output_type": "execute_result"
    }
   ],
   "source": [
    "array"
   ]
  },
  {
   "cell_type": "code",
   "execution_count": 60,
   "id": "4bf1e128",
   "metadata": {},
   "outputs": [
    {
     "data": {
      "text/plain": [
       "(array([0, 0, 0, 1, 1, 1, 2, 2, 2, 3, 3, 3], dtype=int64),\n",
       " array([0, 1, 2, 0, 1, 2, 0, 1, 2, 0, 1, 2], dtype=int64))"
      ]
     },
     "execution_count": 60,
     "metadata": {},
     "output_type": "execute_result"
    }
   ],
   "source": [
    "np.nonzero(array)"
   ]
  },
  {
   "cell_type": "code",
   "execution_count": 61,
   "id": "063c0c5a",
   "metadata": {},
   "outputs": [
    {
     "data": {
      "text/plain": [
       "array([[0, 0, 0],\n",
       "       [0, 0, 0],\n",
       "       [0, 0, 0],\n",
       "       [0, 0, 0]])"
      ]
     },
     "execution_count": 61,
     "metadata": {},
     "output_type": "execute_result"
    }
   ],
   "source": [
    "np.imag(array)"
   ]
  },
  {
   "cell_type": "code",
   "execution_count": 62,
   "id": "fdacfa75",
   "metadata": {},
   "outputs": [
    {
     "data": {
      "text/plain": [
       "array([[ 1,  2,  3],\n",
       "       [ 4,  5,  6],\n",
       "       [ 7,  8,  9],\n",
       "       [10, 11, 12]])"
      ]
     },
     "execution_count": 62,
     "metadata": {},
     "output_type": "execute_result"
    }
   ],
   "source": [
    "np.real(array)"
   ]
  },
  {
   "cell_type": "code",
   "execution_count": 63,
   "id": "e9b02095",
   "metadata": {},
   "outputs": [
    {
     "data": {
      "text/plain": [
       "4"
      ]
     },
     "execution_count": 63,
     "metadata": {},
     "output_type": "execute_result"
    }
   ],
   "source": [
    "array.itemsize"
   ]
  },
  {
   "cell_type": "code",
   "execution_count": 64,
   "id": "bede3816",
   "metadata": {},
   "outputs": [
    {
     "data": {
      "text/plain": [
       "48"
      ]
     },
     "execution_count": 64,
     "metadata": {},
     "output_type": "execute_result"
    }
   ],
   "source": [
    "array.itemsize * array.size "
   ]
  },
  {
   "cell_type": "code",
   "execution_count": 65,
   "id": "5662e362",
   "metadata": {},
   "outputs": [
    {
     "data": {
      "text/plain": [
       "<function ndarray.compress>"
      ]
     },
     "execution_count": 65,
     "metadata": {},
     "output_type": "execute_result"
    }
   ],
   "source": [
    "array.compress"
   ]
  },
  {
   "cell_type": "code",
   "execution_count": 66,
   "id": "ce8a4e63",
   "metadata": {},
   "outputs": [
    {
     "data": {
      "text/plain": [
       "[[1, 2, 3], [4, 5, 6], [7, 8, 9], [10, 11, 12]]"
      ]
     },
     "execution_count": 66,
     "metadata": {},
     "output_type": "execute_result"
    }
   ],
   "source": [
    "array.tolist()"
   ]
  },
  {
   "cell_type": "code",
   "execution_count": 67,
   "id": "92141cfa",
   "metadata": {},
   "outputs": [
    {
     "data": {
      "text/plain": [
       "array([[ 1,  2,  3],\n",
       "       [ 4,  5,  6],\n",
       "       [ 7,  8,  9],\n",
       "       [10, 11, 12]])"
      ]
     },
     "execution_count": 67,
     "metadata": {},
     "output_type": "execute_result"
    }
   ],
   "source": [
    "array.view()"
   ]
  },
  {
   "cell_type": "markdown",
   "id": "8149daaf",
   "metadata": {},
   "source": [
    "## Slicing"
   ]
  },
  {
   "cell_type": "code",
   "execution_count": 68,
   "id": "a8a16663",
   "metadata": {},
   "outputs": [
    {
     "data": {
      "text/plain": [
       "2"
      ]
     },
     "execution_count": 68,
     "metadata": {},
     "output_type": "execute_result"
    }
   ],
   "source": [
    "arr[0,1]"
   ]
  },
  {
   "cell_type": "code",
   "execution_count": 69,
   "id": "cf2ca219",
   "metadata": {},
   "outputs": [],
   "source": [
    "arr1 = np.array([2,4,6,8,10])"
   ]
  },
  {
   "cell_type": "code",
   "execution_count": 70,
   "id": "7ebdeeb0",
   "metadata": {},
   "outputs": [
    {
     "data": {
      "text/plain": [
       "array([6, 8])"
      ]
     },
     "execution_count": 70,
     "metadata": {},
     "output_type": "execute_result"
    }
   ],
   "source": [
    "arr1[2:4]"
   ]
  },
  {
   "cell_type": "code",
   "execution_count": 71,
   "id": "9a8158a7",
   "metadata": {},
   "outputs": [],
   "source": [
    "arr2 = arr1[:5].copy()"
   ]
  },
  {
   "cell_type": "code",
   "execution_count": 72,
   "id": "256a87d6",
   "metadata": {},
   "outputs": [
    {
     "data": {
      "text/plain": [
       "array([ 2,  4,  6,  8, 10])"
      ]
     },
     "execution_count": 72,
     "metadata": {},
     "output_type": "execute_result"
    }
   ],
   "source": [
    "arr2"
   ]
  },
  {
   "cell_type": "code",
   "execution_count": 143,
   "id": "6ea7540f",
   "metadata": {},
   "outputs": [
    {
     "data": {
      "text/plain": [
       "array([[3, 5, 1, 9, 2, 7],\n",
       "       [1, 5, 1, 9, 4, 7],\n",
       "       [8, 7, 7, 4, 2, 1],\n",
       "       [2, 2, 2, 9, 1, 7],\n",
       "       [4, 5, 6, 6, 7, 2]])"
      ]
     },
     "execution_count": 143,
     "metadata": {},
     "output_type": "execute_result"
    }
   ],
   "source": [
    "nums1 = np.random.randint(1,10,(5,6))\n",
    "nums1"
   ]
  },
  {
   "cell_type": "code",
   "execution_count": 144,
   "id": "dba9c2e3",
   "metadata": {},
   "outputs": [
    {
     "data": {
      "text/plain": [
       "array([[False, False, False,  True, False, False],\n",
       "       [False, False, False,  True, False, False],\n",
       "       [False, False, False, False, False, False],\n",
       "       [False, False, False,  True, False, False],\n",
       "       [False, False, False, False, False, False]])"
      ]
     },
     "execution_count": 144,
     "metadata": {},
     "output_type": "execute_result"
    }
   ],
   "source": [
    "nums1>8"
   ]
  },
  {
   "cell_type": "code",
   "execution_count": 145,
   "id": "64733e49",
   "metadata": {},
   "outputs": [
    {
     "data": {
      "text/plain": [
       "array([9, 9, 8, 9])"
      ]
     },
     "execution_count": 145,
     "metadata": {},
     "output_type": "execute_result"
    }
   ],
   "source": [
    "nums1[nums1>7]"
   ]
  },
  {
   "cell_type": "code",
   "execution_count": 146,
   "id": "bbfd189d",
   "metadata": {},
   "outputs": [
    {
     "data": {
      "text/plain": [
       "array([[3, 5, 1, 9, 2, 7],\n",
       "       [1, 5, 1, 9, 4, 7],\n",
       "       [8, 7, 7, 4, 2, 1],\n",
       "       [2, 2, 2, 9, 1, 7],\n",
       "       [4, 5, 6, 6, 7, 2]])"
      ]
     },
     "execution_count": 146,
     "metadata": {},
     "output_type": "execute_result"
    }
   ],
   "source": [
    "nums1"
   ]
  },
  {
   "cell_type": "code",
   "execution_count": 151,
   "id": "2e79d02c",
   "metadata": {},
   "outputs": [
    {
     "data": {
      "text/plain": [
       "array([8, 7, 7])"
      ]
     },
     "execution_count": 151,
     "metadata": {},
     "output_type": "execute_result"
    }
   ],
   "source": [
    "nums1[2,[0,1,2]]"
   ]
  },
  {
   "cell_type": "code",
   "execution_count": 153,
   "id": "08b8a67e",
   "metadata": {},
   "outputs": [
    {
     "data": {
      "text/plain": [
       "array([[7, 4],\n",
       "       [2, 9]])"
      ]
     },
     "execution_count": 153,
     "metadata": {},
     "output_type": "execute_result"
    }
   ],
   "source": [
    "nums1[2:4,[2,3]]"
   ]
  },
  {
   "cell_type": "markdown",
   "id": "643890ef",
   "metadata": {},
   "source": [
    "### Matrix Multiplication"
   ]
  },
  {
   "cell_type": "code",
   "execution_count": 158,
   "id": "2c5f3f36",
   "metadata": {},
   "outputs": [
    {
     "data": {
      "text/plain": [
       "array([[5, 7, 3, 4],\n",
       "       [3, 8, 3, 4],\n",
       "       [7, 7, 2, 9]])"
      ]
     },
     "execution_count": 158,
     "metadata": {},
     "output_type": "execute_result"
    }
   ],
   "source": [
    "num1 = np.random.randint(1,10,(3,4))\n",
    "num1"
   ]
  },
  {
   "cell_type": "code",
   "execution_count": 159,
   "id": "48f3c2a9",
   "metadata": {},
   "outputs": [
    {
     "data": {
      "text/plain": [
       "array([[1, 7, 9],\n",
       "       [2, 9, 8],\n",
       "       [6, 6, 5],\n",
       "       [8, 1, 5]])"
      ]
     },
     "execution_count": 159,
     "metadata": {},
     "output_type": "execute_result"
    }
   ],
   "source": [
    "num2 = np.random.randint(1,10,(4,3))\n",
    "num2"
   ]
  },
  {
   "cell_type": "code",
   "execution_count": 161,
   "id": "e4b22c43",
   "metadata": {},
   "outputs": [
    {
     "data": {
      "text/plain": [
       "array([[ 69, 120, 136],\n",
       "       [ 69, 115, 126],\n",
       "       [105, 133, 174]])"
      ]
     },
     "execution_count": 161,
     "metadata": {},
     "output_type": "execute_result"
    }
   ],
   "source": [
    "num1@num2"
   ]
  },
  {
   "cell_type": "code",
   "execution_count": 162,
   "id": "4b3af823",
   "metadata": {},
   "outputs": [
    {
     "data": {
      "text/plain": [
       "array([[ 69, 120, 136],\n",
       "       [ 69, 115, 126],\n",
       "       [105, 133, 174]])"
      ]
     },
     "execution_count": 162,
     "metadata": {},
     "output_type": "execute_result"
    }
   ],
   "source": [
    "num1.dot(num2)"
   ]
  },
  {
   "cell_type": "code",
   "execution_count": 164,
   "id": "cc6b495c",
   "metadata": {},
   "outputs": [
    {
     "data": {
      "text/plain": [
       "array([[1., 1., 1., 1.],\n",
       "       [1., 1., 1., 1.],\n",
       "       [1., 1., 1., 1.]])"
      ]
     },
     "execution_count": 164,
     "metadata": {},
     "output_type": "execute_result"
    }
   ],
   "source": [
    "num1/num1"
   ]
  },
  {
   "cell_type": "markdown",
   "id": "92c149f5",
   "metadata": {},
   "source": [
    "### Deep copy and Shallow copy"
   ]
  },
  {
   "cell_type": "code",
   "execution_count": 73,
   "id": "4e09f54b",
   "metadata": {},
   "outputs": [],
   "source": [
    "a = []\n",
    "b = []"
   ]
  },
  {
   "cell_type": "code",
   "execution_count": 74,
   "id": "9a88f672",
   "metadata": {},
   "outputs": [
    {
     "data": {
      "text/plain": [
       "True"
      ]
     },
     "execution_count": 74,
     "metadata": {},
     "output_type": "execute_result"
    }
   ],
   "source": [
    "a==b"
   ]
  },
  {
   "cell_type": "code",
   "execution_count": 75,
   "id": "fb719982",
   "metadata": {},
   "outputs": [
    {
     "data": {
      "text/plain": [
       "False"
      ]
     },
     "execution_count": 75,
     "metadata": {},
     "output_type": "execute_result"
    }
   ],
   "source": [
    "a is b"
   ]
  },
  {
   "cell_type": "code",
   "execution_count": 76,
   "id": "e74ead38",
   "metadata": {},
   "outputs": [],
   "source": [
    "a = [10,20,30,40]"
   ]
  },
  {
   "cell_type": "code",
   "execution_count": 77,
   "id": "854bde48",
   "metadata": {},
   "outputs": [],
   "source": [
    "arr = a #shallow copy"
   ]
  },
  {
   "cell_type": "code",
   "execution_count": 78,
   "id": "88f50887",
   "metadata": {},
   "outputs": [],
   "source": [
    "arr[0] = 100"
   ]
  },
  {
   "cell_type": "code",
   "execution_count": 79,
   "id": "b6023cb7",
   "metadata": {},
   "outputs": [
    {
     "data": {
      "text/plain": [
       "100"
      ]
     },
     "execution_count": 79,
     "metadata": {},
     "output_type": "execute_result"
    }
   ],
   "source": [
    "a[0]"
   ]
  },
  {
   "cell_type": "code",
   "execution_count": 80,
   "id": "17dd16e8",
   "metadata": {},
   "outputs": [
    {
     "data": {
      "text/plain": [
       "True"
      ]
     },
     "execution_count": 80,
     "metadata": {},
     "output_type": "execute_result"
    }
   ],
   "source": [
    "a is arr"
   ]
  },
  {
   "cell_type": "code",
   "execution_count": 81,
   "id": "26bd57ed",
   "metadata": {},
   "outputs": [
    {
     "data": {
      "text/plain": [
       "True"
      ]
     },
     "execution_count": 81,
     "metadata": {},
     "output_type": "execute_result"
    }
   ],
   "source": [
    "id(a) == id(arr)"
   ]
  },
  {
   "cell_type": "code",
   "execution_count": 82,
   "id": "b13163cd",
   "metadata": {},
   "outputs": [
    {
     "data": {
      "text/plain": [
       "2304403600704"
      ]
     },
     "execution_count": 82,
     "metadata": {},
     "output_type": "execute_result"
    }
   ],
   "source": [
    "id(a)"
   ]
  },
  {
   "cell_type": "code",
   "execution_count": 83,
   "id": "0749b487",
   "metadata": {},
   "outputs": [
    {
     "data": {
      "text/plain": [
       "2304403600704"
      ]
     },
     "execution_count": 83,
     "metadata": {},
     "output_type": "execute_result"
    }
   ],
   "source": [
    "id(arr)"
   ]
  },
  {
   "cell_type": "code",
   "execution_count": 84,
   "id": "c480003a",
   "metadata": {},
   "outputs": [],
   "source": [
    "b = arr.copy() # deep copy"
   ]
  },
  {
   "cell_type": "code",
   "execution_count": 85,
   "id": "002cb218",
   "metadata": {},
   "outputs": [],
   "source": [
    "b[0] = 200"
   ]
  },
  {
   "cell_type": "code",
   "execution_count": 86,
   "id": "ce4e1c23",
   "metadata": {},
   "outputs": [
    {
     "data": {
      "text/plain": [
       "100"
      ]
     },
     "execution_count": 86,
     "metadata": {},
     "output_type": "execute_result"
    }
   ],
   "source": [
    "arr[0]"
   ]
  },
  {
   "cell_type": "code",
   "execution_count": 87,
   "id": "4ed49417",
   "metadata": {},
   "outputs": [
    {
     "data": {
      "text/plain": [
       "200"
      ]
     },
     "execution_count": 87,
     "metadata": {},
     "output_type": "execute_result"
    }
   ],
   "source": [
    "b[0]"
   ]
  },
  {
   "cell_type": "code",
   "execution_count": 88,
   "id": "6042461a",
   "metadata": {},
   "outputs": [
    {
     "data": {
      "text/plain": [
       "array([[ True, False, False],\n",
       "       [False,  True, False],\n",
       "       [False, False,  True]])"
      ]
     },
     "execution_count": 88,
     "metadata": {},
     "output_type": "execute_result"
    }
   ],
   "source": [
    "np.fromfunction(lambda i,j:i==j,(3,3))"
   ]
  },
  {
   "cell_type": "code",
   "execution_count": 89,
   "id": "d950c542",
   "metadata": {},
   "outputs": [
    {
     "data": {
      "text/plain": [
       "array([[0., 0., 0.],\n",
       "       [0., 1., 2.],\n",
       "       [0., 2., 4.]])"
      ]
     },
     "execution_count": 89,
     "metadata": {},
     "output_type": "execute_result"
    }
   ],
   "source": [
    "np.fromfunction(lambda i,j:i*j,(3,3))"
   ]
  },
  {
   "cell_type": "code",
   "execution_count": 90,
   "id": "be26edc7",
   "metadata": {},
   "outputs": [
    {
     "data": {
      "text/plain": [
       "[0, 1, 4, 9, 16]"
      ]
     },
     "execution_count": 90,
     "metadata": {},
     "output_type": "execute_result"
    }
   ],
   "source": [
    "[i*i for i in range(5)]"
   ]
  },
  {
   "cell_type": "code",
   "execution_count": 91,
   "id": "7421e362",
   "metadata": {},
   "outputs": [],
   "source": [
    "iterable = (i*i for i in range(5))"
   ]
  },
  {
   "cell_type": "code",
   "execution_count": 92,
   "id": "566f6266",
   "metadata": {},
   "outputs": [
    {
     "data": {
      "text/plain": [
       "array([ 0.,  1.,  4.,  9., 16.])"
      ]
     },
     "execution_count": 92,
     "metadata": {},
     "output_type": "execute_result"
    }
   ],
   "source": [
    "np.fromiter(iterable,float)"
   ]
  },
  {
   "cell_type": "code",
   "execution_count": 93,
   "id": "aaf7af5c",
   "metadata": {},
   "outputs": [
    {
     "data": {
      "text/plain": [
       "array([23, 46, 56, 67])"
      ]
     },
     "execution_count": 93,
     "metadata": {},
     "output_type": "execute_result"
    }
   ],
   "source": [
    "np.fromstring('23 46 56 67',dtype = int,sep=' ')"
   ]
  },
  {
   "cell_type": "markdown",
   "id": "794a7f4e",
   "metadata": {},
   "source": [
    "### Broadcasting"
   ]
  },
  {
   "cell_type": "code",
   "execution_count": 168,
   "id": "9b1112b2",
   "metadata": {},
   "outputs": [],
   "source": [
    "arr = np.zeros((3,4))"
   ]
  },
  {
   "cell_type": "code",
   "execution_count": 169,
   "id": "e573c810",
   "metadata": {},
   "outputs": [
    {
     "data": {
      "text/plain": [
       "array([[5., 5., 5., 5.],\n",
       "       [5., 5., 5., 5.],\n",
       "       [5., 5., 5., 5.]])"
      ]
     },
     "execution_count": 169,
     "metadata": {},
     "output_type": "execute_result"
    }
   ],
   "source": [
    "arr +5"
   ]
  },
  {
   "cell_type": "code",
   "execution_count": 171,
   "id": "cb14340c",
   "metadata": {},
   "outputs": [
    {
     "data": {
      "text/plain": [
       "array([[1., 2., 3., 4.],\n",
       "       [1., 2., 3., 4.],\n",
       "       [1., 2., 3., 4.]])"
      ]
     },
     "execution_count": 171,
     "metadata": {},
     "output_type": "execute_result"
    }
   ],
   "source": [
    "a = np.array([1,2,3,4])\n",
    "arr + a"
   ]
  },
  {
   "cell_type": "code",
   "execution_count": 174,
   "id": "e7cc868f",
   "metadata": {},
   "outputs": [],
   "source": [
    "b = np.array([[3,4,5]])"
   ]
  },
  {
   "cell_type": "code",
   "execution_count": 178,
   "id": "44624904",
   "metadata": {},
   "outputs": [
    {
     "data": {
      "text/plain": [
       "array([[3., 3., 3., 3.],\n",
       "       [4., 4., 4., 4.],\n",
       "       [5., 5., 5., 5.]])"
      ]
     },
     "execution_count": 178,
     "metadata": {},
     "output_type": "execute_result"
    }
   ],
   "source": [
    "arr1 = arr + b.T\n",
    "arr1"
   ]
  },
  {
   "cell_type": "code",
   "execution_count": 176,
   "id": "a8c068d1",
   "metadata": {},
   "outputs": [
    {
     "data": {
      "text/plain": [
       "array([[3],\n",
       "       [4],\n",
       "       [5]])"
      ]
     },
     "execution_count": 176,
     "metadata": {},
     "output_type": "execute_result"
    }
   ],
   "source": [
    "b.T"
   ]
  },
  {
   "cell_type": "code",
   "execution_count": 179,
   "id": "9819b3e7",
   "metadata": {},
   "outputs": [
    {
     "data": {
      "text/plain": [
       "array([[1.73205081, 1.73205081, 1.73205081, 1.73205081],\n",
       "       [2.        , 2.        , 2.        , 2.        ],\n",
       "       [2.23606798, 2.23606798, 2.23606798, 2.23606798]])"
      ]
     },
     "execution_count": 179,
     "metadata": {},
     "output_type": "execute_result"
    }
   ],
   "source": [
    "np.sqrt(arr1)"
   ]
  },
  {
   "cell_type": "markdown",
   "id": "7a6f35c0",
   "metadata": {},
   "source": [
    "### Array Manipulation"
   ]
  },
  {
   "cell_type": "code",
   "execution_count": 180,
   "id": "27e30874",
   "metadata": {},
   "outputs": [],
   "source": [
    "num = np.random.randint(1,10,(4,4))"
   ]
  },
  {
   "cell_type": "code",
   "execution_count": 181,
   "id": "ac0bc0cd",
   "metadata": {},
   "outputs": [
    {
     "data": {
      "text/plain": [
       "array([[8, 4, 8, 1],\n",
       "       [5, 9, 7, 1],\n",
       "       [1, 6, 1, 2],\n",
       "       [8, 4, 7, 4]])"
      ]
     },
     "execution_count": 181,
     "metadata": {},
     "output_type": "execute_result"
    }
   ],
   "source": [
    "num"
   ]
  },
  {
   "cell_type": "code",
   "execution_count": 182,
   "id": "1ecf3171",
   "metadata": {},
   "outputs": [
    {
     "data": {
      "text/plain": [
       "array([[8, 4],\n",
       "       [8, 1],\n",
       "       [5, 9],\n",
       "       [7, 1],\n",
       "       [1, 6],\n",
       "       [1, 2],\n",
       "       [8, 4],\n",
       "       [7, 4]])"
      ]
     },
     "execution_count": 182,
     "metadata": {},
     "output_type": "execute_result"
    }
   ],
   "source": [
    "num.reshape(8,2)"
   ]
  },
  {
   "cell_type": "code",
   "execution_count": 183,
   "id": "65e266fa",
   "metadata": {},
   "outputs": [
    {
     "data": {
      "text/plain": [
       "array([[[8, 4, 8, 1],\n",
       "        [5, 9, 7, 1]],\n",
       "\n",
       "       [[1, 6, 1, 2],\n",
       "        [8, 4, 7, 4]]])"
      ]
     },
     "execution_count": 183,
     "metadata": {},
     "output_type": "execute_result"
    }
   ],
   "source": [
    "num.reshape(2,2,4)"
   ]
  },
  {
   "cell_type": "code",
   "execution_count": 184,
   "id": "d4f47a57",
   "metadata": {},
   "outputs": [
    {
     "data": {
      "text/plain": [
       "array([[8, 4, 8, 1],\n",
       "       [5, 9, 7, 1],\n",
       "       [1, 6, 1, 2],\n",
       "       [8, 4, 7, 4]])"
      ]
     },
     "execution_count": 184,
     "metadata": {},
     "output_type": "execute_result"
    }
   ],
   "source": [
    "num"
   ]
  },
  {
   "cell_type": "code",
   "execution_count": 185,
   "id": "f364c6cb",
   "metadata": {},
   "outputs": [
    {
     "data": {
      "text/plain": [
       "array([[8, 5, 1, 8],\n",
       "       [4, 9, 6, 4],\n",
       "       [8, 7, 1, 7],\n",
       "       [1, 1, 2, 4]])"
      ]
     },
     "execution_count": 185,
     "metadata": {},
     "output_type": "execute_result"
    }
   ],
   "source": [
    "num.T"
   ]
  },
  {
   "cell_type": "code",
   "execution_count": 186,
   "id": "cbaedae6",
   "metadata": {},
   "outputs": [
    {
     "data": {
      "text/plain": [
       "array([8, 4, 8, 1, 5, 9, 7, 1, 1, 6, 1, 2, 8, 4, 7, 4])"
      ]
     },
     "execution_count": 186,
     "metadata": {},
     "output_type": "execute_result"
    }
   ],
   "source": [
    "num.flatten()"
   ]
  },
  {
   "cell_type": "code",
   "execution_count": 192,
   "id": "32ed5567",
   "metadata": {},
   "outputs": [
    {
     "data": {
      "text/plain": [
       "array([[[8, 4, 8, 1]],\n",
       "\n",
       "       [[5, 9, 7, 1]],\n",
       "\n",
       "       [[1, 6, 1, 2]],\n",
       "\n",
       "       [[8, 4, 7, 4]]])"
      ]
     },
     "execution_count": 192,
     "metadata": {},
     "output_type": "execute_result"
    }
   ],
   "source": [
    "np.expand_dims(num,axis=1)"
   ]
  },
  {
   "cell_type": "code",
   "execution_count": 193,
   "id": "aeea7a3e",
   "metadata": {},
   "outputs": [
    {
     "data": {
      "text/plain": [
       "array([[[8, 4, 8, 1],\n",
       "        [5, 9, 7, 1],\n",
       "        [1, 6, 1, 2],\n",
       "        [8, 4, 7, 4]]])"
      ]
     },
     "execution_count": 193,
     "metadata": {},
     "output_type": "execute_result"
    }
   ],
   "source": [
    "np.expand_dims(num,axis=0)"
   ]
  },
  {
   "cell_type": "code",
   "execution_count": 194,
   "id": "47513a7f",
   "metadata": {},
   "outputs": [],
   "source": [
    "data = np.array([[1],[2],[3]])"
   ]
  },
  {
   "cell_type": "code",
   "execution_count": 195,
   "id": "b7e94af3",
   "metadata": {},
   "outputs": [
    {
     "data": {
      "text/plain": [
       "array([1, 2, 3])"
      ]
     },
     "execution_count": 195,
     "metadata": {},
     "output_type": "execute_result"
    }
   ],
   "source": [
    "np.squeeze(data)"
   ]
  },
  {
   "cell_type": "code",
   "execution_count": 196,
   "id": "24dd76d4",
   "metadata": {},
   "outputs": [
    {
     "data": {
      "text/plain": [
       "array([1, 1, 1, 2, 2, 2, 3, 3, 3])"
      ]
     },
     "execution_count": 196,
     "metadata": {},
     "output_type": "execute_result"
    }
   ],
   "source": [
    "np.repeat(data,3)"
   ]
  },
  {
   "cell_type": "code",
   "execution_count": 197,
   "id": "77078357",
   "metadata": {},
   "outputs": [
    {
     "data": {
      "text/plain": [
       "array([[2],\n",
       "       [3],\n",
       "       [1]])"
      ]
     },
     "execution_count": 197,
     "metadata": {},
     "output_type": "execute_result"
    }
   ],
   "source": [
    "np.roll(data,2)"
   ]
  },
  {
   "cell_type": "code",
   "execution_count": 199,
   "id": "624be20c",
   "metadata": {},
   "outputs": [
    {
     "data": {
      "text/plain": [
       "array([[1, 0, 0],\n",
       "       [0, 2, 0],\n",
       "       [0, 0, 4]])"
      ]
     },
     "execution_count": 199,
     "metadata": {},
     "output_type": "execute_result"
    }
   ],
   "source": [
    "np.diag([1,2,4])"
   ]
  },
  {
   "cell_type": "markdown",
   "id": "80487b72",
   "metadata": {},
   "source": [
    "### Binary Operators"
   ]
  },
  {
   "cell_type": "code",
   "execution_count": 201,
   "id": "cc227679",
   "metadata": {},
   "outputs": [],
   "source": [
    "ar1 = np.random.randint(1,10,(3,4))\n",
    "ar2 = np.random.randint(1,10,(3,4))"
   ]
  },
  {
   "cell_type": "code",
   "execution_count": 203,
   "id": "bc1cb362",
   "metadata": {},
   "outputs": [
    {
     "data": {
      "text/plain": [
       "array([[13,  7, 11, 10],\n",
       "       [ 6, 13,  6,  8],\n",
       "       [10, 14, 13,  3]])"
      ]
     },
     "execution_count": 203,
     "metadata": {},
     "output_type": "execute_result"
    }
   ],
   "source": [
    "ar1 + ar2"
   ]
  },
  {
   "cell_type": "code",
   "execution_count": 204,
   "id": "3b5f832d",
   "metadata": {},
   "outputs": [
    {
     "data": {
      "text/plain": [
       "array([[42, 12, 28, 24],\n",
       "       [ 5, 36,  8, 12],\n",
       "       [24, 48, 42,  2]])"
      ]
     },
     "execution_count": 204,
     "metadata": {},
     "output_type": "execute_result"
    }
   ],
   "source": [
    "ar1 * ar2"
   ]
  },
  {
   "cell_type": "code",
   "execution_count": 205,
   "id": "9af002e6",
   "metadata": {},
   "outputs": [
    {
     "data": {
      "text/plain": [
       "array([[1.16666667, 1.33333333, 0.57142857, 1.5       ],\n",
       "       [5.        , 2.25      , 2.        , 3.        ],\n",
       "       [1.5       , 0.75      , 1.16666667, 2.        ]])"
      ]
     },
     "execution_count": 205,
     "metadata": {},
     "output_type": "execute_result"
    }
   ],
   "source": [
    "ar1 / ar2"
   ]
  },
  {
   "cell_type": "code",
   "execution_count": 206,
   "id": "801bafda",
   "metadata": {},
   "outputs": [
    {
     "data": {
      "text/plain": [
       "array([[ 1,  1, -3,  2],\n",
       "       [ 4,  5,  2,  4],\n",
       "       [ 2, -2,  1,  1]])"
      ]
     },
     "execution_count": 206,
     "metadata": {},
     "output_type": "execute_result"
    }
   ],
   "source": [
    "ar1 - ar2"
   ]
  },
  {
   "cell_type": "code",
   "execution_count": 207,
   "id": "9c345e47",
   "metadata": {},
   "outputs": [
    {
     "data": {
      "text/plain": [
       "array([[1, 1, 4, 2],\n",
       "       [0, 1, 0, 0],\n",
       "       [2, 6, 1, 0]])"
      ]
     },
     "execution_count": 207,
     "metadata": {},
     "output_type": "execute_result"
    }
   ],
   "source": [
    "ar1 % ar2"
   ]
  },
  {
   "cell_type": "code",
   "execution_count": 208,
   "id": "9115786f",
   "metadata": {},
   "outputs": [
    {
     "data": {
      "text/plain": [
       "array([[1, 1, 0, 1],\n",
       "       [5, 2, 2, 3],\n",
       "       [1, 0, 1, 2]])"
      ]
     },
     "execution_count": 208,
     "metadata": {},
     "output_type": "execute_result"
    }
   ],
   "source": [
    "ar1 // ar2"
   ]
  },
  {
   "cell_type": "code",
   "execution_count": 209,
   "id": "b95591e7",
   "metadata": {},
   "outputs": [
    {
     "data": {
      "text/plain": [
       "array([[ 117649,      64,   16384,    1296],\n",
       "       [      5,    6561,      16,      36],\n",
       "       [   1296, 1679616,  117649,       2]])"
      ]
     },
     "execution_count": 209,
     "metadata": {},
     "output_type": "execute_result"
    }
   ],
   "source": [
    "ar1 ** ar2"
   ]
  },
  {
   "cell_type": "code",
   "execution_count": 210,
   "id": "c97376c9",
   "metadata": {},
   "outputs": [
    {
     "data": {
      "text/plain": [
       "array([[ -8,  -5,  -5,  -7],\n",
       "       [ -6, -10,  -5,  -7],\n",
       "       [ -7,  -7,  -8,  -3]])"
      ]
     },
     "execution_count": 210,
     "metadata": {},
     "output_type": "execute_result"
    }
   ],
   "source": [
    "~ar1"
   ]
  },
  {
   "cell_type": "code",
   "execution_count": 211,
   "id": "d0542e23",
   "metadata": {},
   "outputs": [
    {
     "data": {
      "text/plain": [
       "array([[ 1,  7,  3,  2],\n",
       "       [ 4, 13,  6,  4],\n",
       "       [ 2, 14,  1,  3]])"
      ]
     },
     "execution_count": 211,
     "metadata": {},
     "output_type": "execute_result"
    }
   ],
   "source": [
    "ar1 ^ ar2"
   ]
  },
  {
   "cell_type": "code",
   "execution_count": 212,
   "id": "2c467cb9",
   "metadata": {},
   "outputs": [
    {
     "data": {
      "text/plain": [
       "array([[6, 0, 4, 4],\n",
       "       [1, 0, 0, 2],\n",
       "       [4, 0, 6, 0]])"
      ]
     },
     "execution_count": 212,
     "metadata": {},
     "output_type": "execute_result"
    }
   ],
   "source": [
    "ar1 & ar2"
   ]
  },
  {
   "cell_type": "code",
   "execution_count": 216,
   "id": "744c0f7b",
   "metadata": {},
   "outputs": [
    {
     "data": {
      "text/plain": [
       "array([[ True,  True, False,  True],\n",
       "       [ True,  True,  True,  True],\n",
       "       [ True, False,  True,  True]])"
      ]
     },
     "execution_count": 216,
     "metadata": {},
     "output_type": "execute_result"
    }
   ],
   "source": [
    "ar1>ar2"
   ]
  },
  {
   "cell_type": "markdown",
   "id": "3123b1cf",
   "metadata": {},
   "source": [
    "### String Functions."
   ]
  },
  {
   "cell_type": "code",
   "execution_count": 218,
   "id": "8d553092",
   "metadata": {},
   "outputs": [],
   "source": [
    "names = np.array(['Ram','Jhon','Jone','Suraj'])"
   ]
  },
  {
   "cell_type": "code",
   "execution_count": 219,
   "id": "9bffcec8",
   "metadata": {},
   "outputs": [
    {
     "data": {
      "text/plain": [
       "array(['Ram', 'Jhon', 'Jone', 'Suraj'], dtype='<U5')"
      ]
     },
     "execution_count": 219,
     "metadata": {},
     "output_type": "execute_result"
    }
   ],
   "source": [
    "names"
   ]
  },
  {
   "cell_type": "code",
   "execution_count": 221,
   "id": "ed80abce",
   "metadata": {},
   "outputs": [
    {
     "data": {
      "text/plain": [
       "array(['RAM', 'JHON', 'JONE', 'SURAJ'], dtype='<U5')"
      ]
     },
     "execution_count": 221,
     "metadata": {},
     "output_type": "execute_result"
    }
   ],
   "source": [
    "np.char.upper(names)"
   ]
  },
  {
   "cell_type": "code",
   "execution_count": 228,
   "id": "71f06603",
   "metadata": {},
   "outputs": [
    {
     "data": {
      "text/plain": [
       "array(['Ram', 'Jhon', 'Jone', 'Suraj'], dtype='<U5')"
      ]
     },
     "execution_count": 228,
     "metadata": {},
     "output_type": "execute_result"
    }
   ],
   "source": [
    "np.char.capitalize(names)"
   ]
  },
  {
   "cell_type": "code",
   "execution_count": 229,
   "id": "5bc587f2",
   "metadata": {},
   "outputs": [
    {
     "data": {
      "text/plain": [
       "array(['Ram', 'Jhon', 'Jone', 'Suraj'], dtype='<U5')"
      ]
     },
     "execution_count": 229,
     "metadata": {},
     "output_type": "execute_result"
    }
   ],
   "source": [
    "np.char.title(names)"
   ]
  },
  {
   "cell_type": "markdown",
   "id": "478a8dc5",
   "metadata": {},
   "source": [
    "### Mathematical Functions"
   ]
  },
  {
   "cell_type": "code",
   "execution_count": 231,
   "id": "5a189102",
   "metadata": {},
   "outputs": [
    {
     "data": {
      "text/plain": [
       "array([[7, 4, 4, 6],\n",
       "       [5, 9, 4, 6],\n",
       "       [6, 6, 7, 2]])"
      ]
     },
     "execution_count": 231,
     "metadata": {},
     "output_type": "execute_result"
    }
   ],
   "source": [
    "ar1"
   ]
  },
  {
   "cell_type": "code",
   "execution_count": 233,
   "id": "57481e9a",
   "metadata": {},
   "outputs": [
    {
     "data": {
      "text/plain": [
       "array([[ 0.6569866 , -0.7568025 , -0.7568025 , -0.2794155 ],\n",
       "       [-0.95892427,  0.41211849, -0.7568025 , -0.2794155 ],\n",
       "       [-0.2794155 , -0.2794155 ,  0.6569866 ,  0.90929743]])"
      ]
     },
     "execution_count": 233,
     "metadata": {},
     "output_type": "execute_result"
    }
   ],
   "source": [
    "np.sin(ar1)"
   ]
  },
  {
   "cell_type": "code",
   "execution_count": 235,
   "id": "6689237b",
   "metadata": {},
   "outputs": [
    {
     "data": {
      "text/plain": [
       "array([[ 0.75390225, -0.65364362, -0.65364362,  0.96017029],\n",
       "       [ 0.28366219, -0.91113026, -0.65364362,  0.96017029],\n",
       "       [ 0.96017029,  0.96017029,  0.75390225, -0.41614684]])"
      ]
     },
     "execution_count": 235,
     "metadata": {},
     "output_type": "execute_result"
    }
   ],
   "source": [
    "np.cos(ar1)"
   ]
  },
  {
   "cell_type": "code",
   "execution_count": 236,
   "id": "e6f2d90b",
   "metadata": {},
   "outputs": [
    {
     "data": {
      "text/plain": [
       "array([[ 0.87144798,  1.15782128,  1.15782128, -0.29100619],\n",
       "       [-3.38051501, -0.45231566,  1.15782128, -0.29100619],\n",
       "       [-0.29100619, -0.29100619,  0.87144798, -2.18503986]])"
      ]
     },
     "execution_count": 236,
     "metadata": {},
     "output_type": "execute_result"
    }
   ],
   "source": [
    "np.sin(ar1) / np.cos(ar1)"
   ]
  },
  {
   "cell_type": "code",
   "execution_count": 234,
   "id": "86035c90",
   "metadata": {},
   "outputs": [
    {
     "data": {
      "text/plain": [
       "array([[ 0.87144798,  1.15782128,  1.15782128, -0.29100619],\n",
       "       [-3.38051501, -0.45231566,  1.15782128, -0.29100619],\n",
       "       [-0.29100619, -0.29100619,  0.87144798, -2.18503986]])"
      ]
     },
     "execution_count": 234,
     "metadata": {},
     "output_type": "execute_result"
    }
   ],
   "source": [
    "np.tan(ar1)"
   ]
  },
  {
   "cell_type": "code",
   "execution_count": 237,
   "id": "b183cd76",
   "metadata": {},
   "outputs": [
    {
     "data": {
      "text/plain": [
       "array([[0.84509804, 0.60205999, 0.60205999, 0.77815125],\n",
       "       [0.69897   , 0.95424251, 0.60205999, 0.77815125],\n",
       "       [0.77815125, 0.77815125, 0.84509804, 0.30103   ]])"
      ]
     },
     "execution_count": 237,
     "metadata": {},
     "output_type": "execute_result"
    }
   ],
   "source": [
    "np.log10(ar1)"
   ]
  },
  {
   "cell_type": "code",
   "execution_count": 238,
   "id": "b575cc00",
   "metadata": {},
   "outputs": [
    {
     "data": {
      "text/plain": [
       "array([[2.80735492, 2.        , 2.        , 2.5849625 ],\n",
       "       [2.32192809, 3.169925  , 2.        , 2.5849625 ],\n",
       "       [2.5849625 , 2.5849625 , 2.80735492, 1.        ]])"
      ]
     },
     "execution_count": 238,
     "metadata": {},
     "output_type": "execute_result"
    }
   ],
   "source": [
    "np.log2(ar1)"
   ]
  },
  {
   "cell_type": "code",
   "execution_count": 239,
   "id": "3e7fde48",
   "metadata": {},
   "outputs": [
    {
     "data": {
      "text/plain": [
       "array([[1.09663316e+03, 5.45981500e+01, 5.45981500e+01, 4.03428793e+02],\n",
       "       [1.48413159e+02, 8.10308393e+03, 5.45981500e+01, 4.03428793e+02],\n",
       "       [4.03428793e+02, 4.03428793e+02, 1.09663316e+03, 7.38905610e+00]])"
      ]
     },
     "execution_count": 239,
     "metadata": {},
     "output_type": "execute_result"
    }
   ],
   "source": [
    "np.exp(ar1)"
   ]
  },
  {
   "cell_type": "code",
   "execution_count": 241,
   "id": "be087a64",
   "metadata": {},
   "outputs": [
    {
     "data": {
      "text/plain": [
       "array([[128.,  16.,  16.,  64.],\n",
       "       [ 32., 512.,  16.,  64.],\n",
       "       [ 64.,  64., 128.,   4.]])"
      ]
     },
     "execution_count": 241,
     "metadata": {},
     "output_type": "execute_result"
    }
   ],
   "source": [
    "np.exp2(ar1) #Calculate 2**p for all p in the input array."
   ]
  },
  {
   "cell_type": "code",
   "execution_count": 244,
   "id": "c1ca6f0e",
   "metadata": {},
   "outputs": [
    {
     "data": {
      "text/plain": [
       "array([[49, 16, 16, 36],\n",
       "       [25, 81, 16, 36],\n",
       "       [36, 36, 49,  4]], dtype=int32)"
      ]
     },
     "execution_count": 244,
     "metadata": {},
     "output_type": "execute_result"
    }
   ],
   "source": [
    "np.power(ar1,2)"
   ]
  },
  {
   "cell_type": "code",
   "execution_count": 245,
   "id": "261f5883",
   "metadata": {},
   "outputs": [
    {
     "data": {
      "text/plain": [
       "5.5"
      ]
     },
     "execution_count": 245,
     "metadata": {},
     "output_type": "execute_result"
    }
   ],
   "source": [
    "np.mean(ar1)"
   ]
  },
  {
   "cell_type": "code",
   "execution_count": 246,
   "id": "0da4e9d1",
   "metadata": {},
   "outputs": [
    {
     "data": {
      "text/plain": [
       "6.0"
      ]
     },
     "execution_count": 246,
     "metadata": {},
     "output_type": "execute_result"
    }
   ],
   "source": [
    "np.median(ar1)"
   ]
  },
  {
   "cell_type": "code",
   "execution_count": 249,
   "id": "3f84f4d6",
   "metadata": {},
   "outputs": [
    {
     "data": {
      "text/plain": [
       "1.7559422921421233"
      ]
     },
     "execution_count": 249,
     "metadata": {},
     "output_type": "execute_result"
    }
   ],
   "source": [
    "np.std(ar1)"
   ]
  },
  {
   "cell_type": "code",
   "execution_count": 250,
   "id": "e4b27623",
   "metadata": {},
   "outputs": [
    {
     "data": {
      "text/plain": [
       "3.0833333333333335"
      ]
     },
     "execution_count": 250,
     "metadata": {},
     "output_type": "execute_result"
    }
   ],
   "source": [
    "np.var(ar1)"
   ]
  },
  {
   "cell_type": "code",
   "execution_count": 252,
   "id": "b9c658f4",
   "metadata": {},
   "outputs": [
    {
     "data": {
      "text/plain": [
       "9"
      ]
     },
     "execution_count": 252,
     "metadata": {},
     "output_type": "execute_result"
    }
   ],
   "source": [
    "np.max(ar1)"
   ]
  },
  {
   "cell_type": "code",
   "execution_count": 253,
   "id": "d28fc5cf",
   "metadata": {},
   "outputs": [
    {
     "data": {
      "text/plain": [
       "2"
      ]
     },
     "execution_count": 253,
     "metadata": {},
     "output_type": "execute_result"
    }
   ],
   "source": [
    "np.min(ar1)"
   ]
  },
  {
   "cell_type": "markdown",
   "id": "04d660c8",
   "metadata": {},
   "source": [
    "### Arithmetic Operations."
   ]
  },
  {
   "cell_type": "code",
   "execution_count": 255,
   "id": "b762560d",
   "metadata": {},
   "outputs": [
    {
     "data": {
      "text/plain": [
       "40"
      ]
     },
     "execution_count": 255,
     "metadata": {},
     "output_type": "execute_result"
    }
   ],
   "source": [
    "np.add(10,30)"
   ]
  },
  {
   "cell_type": "code",
   "execution_count": 260,
   "id": "b70a3a57",
   "metadata": {},
   "outputs": [
    {
     "data": {
      "text/plain": [
       "array([[13,  7, 11, 10],\n",
       "       [ 6, 13,  6,  8],\n",
       "       [10, 14, 13,  3]])"
      ]
     },
     "execution_count": 260,
     "metadata": {},
     "output_type": "execute_result"
    }
   ],
   "source": [
    "np.add(ar1,ar2)"
   ]
  },
  {
   "cell_type": "code",
   "execution_count": 259,
   "id": "550fe1d0",
   "metadata": {},
   "outputs": [
    {
     "data": {
      "text/plain": [
       "60"
      ]
     },
     "execution_count": 259,
     "metadata": {},
     "output_type": "execute_result"
    }
   ],
   "source": [
    "np.subtract(299,239)"
   ]
  },
  {
   "cell_type": "code",
   "execution_count": 261,
   "id": "319925a2",
   "metadata": {},
   "outputs": [
    {
     "data": {
      "text/plain": [
       "array([[ 1,  1, -3,  2],\n",
       "       [ 4,  5,  2,  4],\n",
       "       [ 2, -2,  1,  1]])"
      ]
     },
     "execution_count": 261,
     "metadata": {},
     "output_type": "execute_result"
    }
   ],
   "source": [
    "np.subtract(ar1,ar2)"
   ]
  },
  {
   "cell_type": "code",
   "execution_count": 257,
   "id": "b3530165",
   "metadata": {},
   "outputs": [
    {
     "data": {
      "text/plain": [
       "550"
      ]
     },
     "execution_count": 257,
     "metadata": {},
     "output_type": "execute_result"
    }
   ],
   "source": [
    "np.sum([10,30,230,230,30,20])"
   ]
  },
  {
   "cell_type": "code",
   "execution_count": 262,
   "id": "76a08696",
   "metadata": {},
   "outputs": [
    {
     "data": {
      "text/plain": [
       "66"
      ]
     },
     "execution_count": 262,
     "metadata": {},
     "output_type": "execute_result"
    }
   ],
   "source": [
    "np.sum(ar1)"
   ]
  },
  {
   "cell_type": "code",
   "execution_count": 263,
   "id": "8787ae6f",
   "metadata": {},
   "outputs": [
    {
     "data": {
      "text/plain": [
       "680"
      ]
     },
     "execution_count": 263,
     "metadata": {},
     "output_type": "execute_result"
    }
   ],
   "source": [
    "np.multiply(20,34)"
   ]
  },
  {
   "cell_type": "code",
   "execution_count": 264,
   "id": "bd679277",
   "metadata": {},
   "outputs": [
    {
     "data": {
      "text/plain": [
       "array([[42, 12, 28, 24],\n",
       "       [ 5, 36,  8, 12],\n",
       "       [24, 48, 42,  2]])"
      ]
     },
     "execution_count": 264,
     "metadata": {},
     "output_type": "execute_result"
    }
   ],
   "source": [
    "np.multiply(ar1,ar2)"
   ]
  },
  {
   "cell_type": "code",
   "execution_count": 266,
   "id": "1f57e96e",
   "metadata": {},
   "outputs": [
    {
     "data": {
      "text/plain": [
       "5"
      ]
     },
     "execution_count": 266,
     "metadata": {},
     "output_type": "execute_result"
    }
   ],
   "source": [
    "np.mod(243,7)"
   ]
  },
  {
   "cell_type": "code",
   "execution_count": 267,
   "id": "eb07bf73",
   "metadata": {},
   "outputs": [
    {
     "data": {
      "text/plain": [
       "array([[1, 1, 4, 2],\n",
       "       [0, 1, 0, 0],\n",
       "       [2, 6, 1, 0]])"
      ]
     },
     "execution_count": 267,
     "metadata": {},
     "output_type": "execute_result"
    }
   ],
   "source": [
    "np.mod(ar1,ar2)"
   ]
  },
  {
   "cell_type": "code",
   "execution_count": 268,
   "id": "6d90c5f2",
   "metadata": {},
   "outputs": [
    {
     "data": {
      "text/plain": [
       "array([[49, 16, 16, 36],\n",
       "       [25, 81, 16, 36],\n",
       "       [36, 36, 49,  4]])"
      ]
     },
     "execution_count": 268,
     "metadata": {},
     "output_type": "execute_result"
    }
   ],
   "source": [
    "np.square(ar1)"
   ]
  },
  {
   "cell_type": "markdown",
   "id": "bcad1a97",
   "metadata": {},
   "source": [
    "### Sort, Search & Counting Functions."
   ]
  },
  {
   "cell_type": "code",
   "execution_count": 274,
   "id": "9695a7e5",
   "metadata": {},
   "outputs": [],
   "source": [
    "data = np.array([2,5,6,3,5,7,8,9,12])"
   ]
  },
  {
   "cell_type": "code",
   "execution_count": 275,
   "id": "67bf1711",
   "metadata": {},
   "outputs": [
    {
     "data": {
      "text/plain": [
       "array([ 2,  3,  5,  5,  6,  7,  8,  9, 12])"
      ]
     },
     "execution_count": 275,
     "metadata": {},
     "output_type": "execute_result"
    }
   ],
   "source": [
    "np.sort(data)"
   ]
  },
  {
   "cell_type": "code",
   "execution_count": 276,
   "id": "85587114",
   "metadata": {},
   "outputs": [
    {
     "data": {
      "text/plain": [
       "array([ 2,  5,  6,  3,  5,  7,  8,  9, 12])"
      ]
     },
     "execution_count": 276,
     "metadata": {},
     "output_type": "execute_result"
    }
   ],
   "source": [
    "data"
   ]
  },
  {
   "cell_type": "code",
   "execution_count": 280,
   "id": "34e54ba1",
   "metadata": {},
   "outputs": [
    {
     "data": {
      "text/plain": [
       "5"
      ]
     },
     "execution_count": 280,
     "metadata": {},
     "output_type": "execute_result"
    }
   ],
   "source": [
    "np.searchsorted(data,6)"
   ]
  },
  {
   "cell_type": "code",
   "execution_count": 283,
   "id": "8f9010f2",
   "metadata": {},
   "outputs": [
    {
     "data": {
      "text/plain": [
       "11"
      ]
     },
     "execution_count": 283,
     "metadata": {},
     "output_type": "execute_result"
    }
   ],
   "source": [
    "data1 =  np.array([0,232,0,0,0,1,2,34,4,45,3])\n",
    "len(data1)"
   ]
  },
  {
   "cell_type": "code",
   "execution_count": 282,
   "id": "3d6f74b2",
   "metadata": {},
   "outputs": [
    {
     "data": {
      "text/plain": [
       "7"
      ]
     },
     "execution_count": 282,
     "metadata": {},
     "output_type": "execute_result"
    }
   ],
   "source": [
    "np.count_nonzero(data1)"
   ]
  },
  {
   "cell_type": "code",
   "execution_count": 285,
   "id": "56bdfa5e",
   "metadata": {},
   "outputs": [
    {
     "data": {
      "text/plain": [
       "(array([1, 7, 9], dtype=int64),)"
      ]
     },
     "execution_count": 285,
     "metadata": {},
     "output_type": "execute_result"
    }
   ],
   "source": [
    "np.where(data1>10)"
   ]
  },
  {
   "cell_type": "code",
   "execution_count": 289,
   "id": "4c4d2306",
   "metadata": {},
   "outputs": [
    {
     "data": {
      "text/plain": [
       "array([232,  34,   4,  45,   3])"
      ]
     },
     "execution_count": 289,
     "metadata": {},
     "output_type": "execute_result"
    }
   ],
   "source": [
    "np.extract(data1>2,data1)"
   ]
  },
  {
   "cell_type": "markdown",
   "id": "56b944e0",
   "metadata": {},
   "source": [
    "### Copies and Views"
   ]
  },
  {
   "cell_type": "code",
   "execution_count": 301,
   "id": "2957111a",
   "metadata": {},
   "outputs": [],
   "source": [
    "num = np.array([1,2,3,5,10])"
   ]
  },
  {
   "cell_type": "code",
   "execution_count": 302,
   "id": "1416f7fa",
   "metadata": {},
   "outputs": [],
   "source": [
    "t = np.copy(num)"
   ]
  },
  {
   "cell_type": "code",
   "execution_count": 303,
   "id": "dbb2a2a1",
   "metadata": {},
   "outputs": [],
   "source": [
    "t[0] = 10"
   ]
  },
  {
   "cell_type": "code",
   "execution_count": 304,
   "id": "90819ffb",
   "metadata": {},
   "outputs": [
    {
     "data": {
      "text/plain": [
       "1"
      ]
     },
     "execution_count": 304,
     "metadata": {},
     "output_type": "execute_result"
    }
   ],
   "source": [
    "num[0]"
   ]
  },
  {
   "cell_type": "code",
   "execution_count": 305,
   "id": "defd48e9",
   "metadata": {},
   "outputs": [
    {
     "data": {
      "text/plain": [
       "10"
      ]
     },
     "execution_count": 305,
     "metadata": {},
     "output_type": "execute_result"
    }
   ],
   "source": [
    "t[0]"
   ]
  },
  {
   "cell_type": "code",
   "execution_count": 306,
   "id": "7f937635",
   "metadata": {},
   "outputs": [],
   "source": [
    "u = num.view()"
   ]
  },
  {
   "cell_type": "code",
   "execution_count": 307,
   "id": "ee8b9112",
   "metadata": {},
   "outputs": [
    {
     "data": {
      "text/plain": [
       "array([ 1,  2,  3,  5, 10])"
      ]
     },
     "execution_count": 307,
     "metadata": {},
     "output_type": "execute_result"
    }
   ],
   "source": [
    "u"
   ]
  },
  {
   "cell_type": "code",
   "execution_count": 308,
   "id": "9f970922",
   "metadata": {},
   "outputs": [],
   "source": [
    "u[0] = 14"
   ]
  },
  {
   "cell_type": "code",
   "execution_count": 309,
   "id": "1480a800",
   "metadata": {},
   "outputs": [
    {
     "data": {
      "text/plain": [
       "14"
      ]
     },
     "execution_count": 309,
     "metadata": {},
     "output_type": "execute_result"
    }
   ],
   "source": [
    "u[0]"
   ]
  },
  {
   "cell_type": "code",
   "execution_count": 310,
   "id": "2d68c225",
   "metadata": {},
   "outputs": [
    {
     "data": {
      "text/plain": [
       "14"
      ]
     },
     "execution_count": 310,
     "metadata": {},
     "output_type": "execute_result"
    }
   ],
   "source": [
    "num[0]"
   ]
  },
  {
   "cell_type": "code",
   "execution_count": 314,
   "id": "c1ef6405",
   "metadata": {},
   "outputs": [
    {
     "data": {
      "text/plain": [
       "array([14,  2,  3,  5, 10])"
      ]
     },
     "execution_count": 314,
     "metadata": {},
     "output_type": "execute_result"
    }
   ],
   "source": [
    "u"
   ]
  },
  {
   "cell_type": "code",
   "execution_count": 316,
   "id": "03bec4c3",
   "metadata": {},
   "outputs": [
    {
     "data": {
      "text/plain": [
       "array([14,  2,  3,  5, 10])"
      ]
     },
     "execution_count": 316,
     "metadata": {},
     "output_type": "execute_result"
    }
   ],
   "source": [
    "num"
   ]
  },
  {
   "cell_type": "markdown",
   "id": "b2fa488b",
   "metadata": {},
   "source": [
    "### Matrix library"
   ]
  },
  {
   "cell_type": "code",
   "execution_count": 319,
   "id": "3f484924",
   "metadata": {},
   "outputs": [],
   "source": [
    "import numpy.matlib as nm"
   ]
  },
  {
   "cell_type": "code",
   "execution_count": 322,
   "id": "a6814c41",
   "metadata": {},
   "outputs": [
    {
     "data": {
      "text/plain": [
       "matrix([[0., 0., 0., 0.],\n",
       "        [0., 0., 0., 0.]])"
      ]
     },
     "execution_count": 322,
     "metadata": {},
     "output_type": "execute_result"
    }
   ],
   "source": [
    "nm.zeros((2,4))"
   ]
  },
  {
   "cell_type": "code",
   "execution_count": 321,
   "id": "b1fbf235",
   "metadata": {},
   "outputs": [
    {
     "data": {
      "text/plain": [
       "matrix([[1., 1., 1., 1., 1.],\n",
       "        [1., 1., 1., 1., 1.]])"
      ]
     },
     "execution_count": 321,
     "metadata": {},
     "output_type": "execute_result"
    }
   ],
   "source": [
    "nm.ones((2,5))"
   ]
  },
  {
   "cell_type": "code",
   "execution_count": 323,
   "id": "bd03417a",
   "metadata": {},
   "outputs": [
    {
     "data": {
      "text/plain": [
       "matrix([[1., 0., 0., 0.],\n",
       "        [0., 1., 0., 0.],\n",
       "        [0., 0., 1., 0.],\n",
       "        [0., 0., 0., 1.]])"
      ]
     },
     "execution_count": 323,
     "metadata": {},
     "output_type": "execute_result"
    }
   ],
   "source": [
    "nm.eye(4)"
   ]
  },
  {
   "cell_type": "markdown",
   "id": "b9502da4",
   "metadata": {},
   "source": [
    "### Linear Algebra"
   ]
  },
  {
   "cell_type": "code",
   "execution_count": 324,
   "id": "4787ef55",
   "metadata": {},
   "outputs": [
    {
     "data": {
      "text/plain": [
       "array([[7, 4, 4, 6],\n",
       "       [5, 9, 4, 6],\n",
       "       [6, 6, 7, 2]])"
      ]
     },
     "execution_count": 324,
     "metadata": {},
     "output_type": "execute_result"
    }
   ],
   "source": [
    "ar1"
   ]
  },
  {
   "cell_type": "code",
   "execution_count": 325,
   "id": "e80ae365",
   "metadata": {},
   "outputs": [
    {
     "data": {
      "text/plain": [
       "array([[6, 3, 7, 4],\n",
       "       [1, 4, 2, 2],\n",
       "       [4, 8, 6, 1]])"
      ]
     },
     "execution_count": 325,
     "metadata": {},
     "output_type": "execute_result"
    }
   ],
   "source": [
    "ar2"
   ]
  },
  {
   "cell_type": "code",
   "execution_count": 327,
   "id": "19c84de9",
   "metadata": {},
   "outputs": [
    {
     "data": {
      "text/plain": [
       "array([[106,  43,  90],\n",
       "       [109,  61, 122],\n",
       "       [111,  48, 116]])"
      ]
     },
     "execution_count": 327,
     "metadata": {},
     "output_type": "execute_result"
    }
   ],
   "source": [
    "ar1.dot(ar2.T)"
   ]
  },
  {
   "cell_type": "code",
   "execution_count": null,
   "id": "621db182",
   "metadata": {},
   "outputs": [],
   "source": []
  }
 ],
 "metadata": {
  "kernelspec": {
   "display_name": "Python 3 (ipykernel)",
   "language": "python",
   "name": "python3"
  },
  "language_info": {
   "codemirror_mode": {
    "name": "ipython",
    "version": 3
   },
   "file_extension": ".py",
   "mimetype": "text/x-python",
   "name": "python",
   "nbconvert_exporter": "python",
   "pygments_lexer": "ipython3",
   "version": "3.9.6"
  },
  "vscode": {
   "interpreter": {
    "hash": "214a1b4baf8e4e72188062362ce9ab53ab0ccc0f208ac78bad7fac87ad6a46ed"
   }
  }
 },
 "nbformat": 4,
 "nbformat_minor": 5
}
