{
 "cells": [
  {
   "cell_type": "markdown",
   "id": "f5616763",
   "metadata": {},
   "source": [
    "# Numpy array vs Python List"
   ]
  },
  {
   "cell_type": "code",
   "execution_count": 1,
   "id": "f2c953d1",
   "metadata": {},
   "outputs": [
    {
     "name": "stdout",
     "output_type": "stream",
     "text": [
      "1.7592837810516357\n"
     ]
    }
   ],
   "source": [
    "# time\n",
    "list1 = [i for i in range(10000000)]\n",
    "list2 = [i for i in range(10000000)]\n",
    "\n",
    "list3 = []\n",
    "import time \n",
    "start = time.time()\n",
    "for i in range(len(list1)):\n",
    "    list3.append(list1[i] + list2[i])\n",
    "print(time.time() - start)"
   ]
  },
  {
   "cell_type": "markdown",
   "id": "363b5ff9",
   "metadata": {},
   "source": [
    "# Numpy"
   ]
  },
  {
   "cell_type": "code",
   "execution_count": 2,
   "id": "8b801d00",
   "metadata": {},
   "outputs": [],
   "source": [
    "import numpy as np"
   ]
  },
  {
   "cell_type": "markdown",
   "id": "331e153b",
   "metadata": {},
   "source": [
    "### comparisiom on the base of Time"
   ]
  },
  {
   "cell_type": "code",
   "execution_count": 3,
   "id": "4441ab79",
   "metadata": {},
   "outputs": [
    {
     "name": "stdout",
     "output_type": "stream",
     "text": [
      "0.1751091480255127\n"
     ]
    }
   ],
   "source": [
    "list1 = np.arange(10000000)\n",
    "list2 = np.arange(10000000,20000000)\n",
    "\n",
    "start = time.time()\n",
    "list3 = list1 + list2\n",
    "print(time.time() - start)"
   ]
  },
  {
   "cell_type": "code",
   "execution_count": 4,
   "id": "9d03ad21",
   "metadata": {},
   "outputs": [
    {
     "data": {
      "text/plain": [
       "13.285714285714285"
      ]
     },
     "execution_count": 4,
     "metadata": {},
     "output_type": "execute_result"
    }
   ],
   "source": [
    "1.86/0.14"
   ]
  },
  {
   "cell_type": "markdown",
   "id": "31eb786c",
   "metadata": {},
   "source": [
    "### comparisiom on the base of Memory"
   ]
  },
  {
   "cell_type": "code",
   "execution_count": 5,
   "id": "b20be926",
   "metadata": {},
   "outputs": [
    {
     "data": {
      "text/plain": [
       "89095160"
      ]
     },
     "execution_count": 5,
     "metadata": {},
     "output_type": "execute_result"
    }
   ],
   "source": [
    "# Python list\n",
    "list1 = [i for i in range(10000000)]\n",
    "import sys\n",
    "sys.getsizeof(list1)"
   ]
  },
  {
   "cell_type": "code",
   "execution_count": 6,
   "id": "95646148",
   "metadata": {},
   "outputs": [
    {
     "data": {
      "text/plain": [
       "10000112"
      ]
     },
     "execution_count": 6,
     "metadata": {},
     "output_type": "execute_result"
    }
   ],
   "source": [
    "# numpy \n",
    "list1 = np.arange(10000000,dtype=np.int8)\n",
    "sys.getsizeof(list1)"
   ]
  },
  {
   "cell_type": "markdown",
   "id": "b8447133",
   "metadata": {},
   "source": [
    "### comparisiom on the base of convenience\n",
    "- Numpy is more convenient that typically python lis-"
   ]
  },
  {
   "cell_type": "markdown",
   "id": "f95ede46",
   "metadata": {},
   "source": [
    "# Advanced Indexing"
   ]
  },
  {
   "cell_type": "markdown",
   "id": "6af843c4",
   "metadata": {},
   "source": [
    "### Normal Indexing and slicing"
   ]
  },
  {
   "cell_type": "code",
   "execution_count": 7,
   "id": "8cf33238",
   "metadata": {},
   "outputs": [
    {
     "data": {
      "text/plain": [
       "array([[ 0,  1,  2,  3],\n",
       "       [ 4,  5,  6,  7],\n",
       "       [ 8,  9, 10, 11],\n",
       "       [12, 13, 14, 15],\n",
       "       [16, 17, 18, 19],\n",
       "       [20, 21, 22, 23]])"
      ]
     },
     "execution_count": 7,
     "metadata": {},
     "output_type": "execute_result"
    }
   ],
   "source": [
    "\n",
    "arr = np.arange(24).reshape(6,4)\n",
    "arr"
   ]
  },
  {
   "cell_type": "code",
   "execution_count": 8,
   "id": "ccd628df",
   "metadata": {},
   "outputs": [
    {
     "data": {
      "text/plain": [
       "array([ 8,  9, 10, 11])"
      ]
     },
     "execution_count": 8,
     "metadata": {},
     "output_type": "execute_result"
    }
   ],
   "source": [
    "arr[2,:]"
   ]
  },
  {
   "cell_type": "markdown",
   "id": "b9bf449d",
   "metadata": {},
   "source": [
    "### Fancy Indexing"
   ]
  },
  {
   "cell_type": "code",
   "execution_count": 9,
   "id": "8b409a28",
   "metadata": {},
   "outputs": [
    {
     "data": {
      "text/plain": [
       "array([[ 0,  1,  2,  3],\n",
       "       [ 8,  9, 10, 11],\n",
       "       [12, 13, 14, 15],\n",
       "       [20, 21, 22, 23]])"
      ]
     },
     "execution_count": 9,
     "metadata": {},
     "output_type": "execute_result"
    }
   ],
   "source": [
    "arr[[0,2,3,5]]"
   ]
  },
  {
   "cell_type": "code",
   "execution_count": 10,
   "id": "dceb9a4b",
   "metadata": {},
   "outputs": [
    {
     "data": {
      "text/plain": [
       "array([[ 0,  2,  3],\n",
       "       [ 4,  6,  7],\n",
       "       [ 8, 10, 11],\n",
       "       [12, 14, 15],\n",
       "       [16, 18, 19],\n",
       "       [20, 22, 23]])"
      ]
     },
     "execution_count": 10,
     "metadata": {},
     "output_type": "execute_result"
    }
   ],
   "source": [
    "arr[:,[0,2,3]]"
   ]
  },
  {
   "cell_type": "markdown",
   "id": "700a530c",
   "metadata": {},
   "source": [
    "### Boolean Indexeing"
   ]
  },
  {
   "cell_type": "code",
   "execution_count": 11,
   "id": "5a56e5c2",
   "metadata": {},
   "outputs": [
    {
     "data": {
      "text/plain": [
       "array([[61, 98, 89, 89],\n",
       "       [44, 67, 77, 61],\n",
       "       [77, 64, 43, 69],\n",
       "       [18,  9, 20, 32],\n",
       "       [42, 30,  1, 82],\n",
       "       [ 9, 94, 12, 30]])"
      ]
     },
     "execution_count": 11,
     "metadata": {},
     "output_type": "execute_result"
    }
   ],
   "source": [
    "arr = np.random.randint(1,100,24).reshape(6,4)\n",
    "arr"
   ]
  },
  {
   "cell_type": "code",
   "execution_count": 12,
   "id": "07c6fdad",
   "metadata": {},
   "outputs": [
    {
     "data": {
      "text/plain": [
       "array([61, 98, 89, 89, 67, 77, 61, 77, 64, 69, 82, 94])"
      ]
     },
     "execution_count": 12,
     "metadata": {},
     "output_type": "execute_result"
    }
   ],
   "source": [
    "# Find all the numbers greater than 50\n",
    "arr > 50\n",
    "arr[arr > 50]"
   ]
  },
  {
   "cell_type": "code",
   "execution_count": 14,
   "id": "42029800",
   "metadata": {},
   "outputs": [
    {
     "data": {
      "text/plain": [
       "array([98, 44, 64, 18, 20, 32, 42, 30, 82, 94, 12, 30])"
      ]
     },
     "execution_count": 14,
     "metadata": {},
     "output_type": "execute_result"
    }
   ],
   "source": [
    "# Find all the numbers that are even\n",
    "arr % 2 ==0\n",
    "arr[arr % 2 ==0]"
   ]
  },
  {
   "cell_type": "code",
   "execution_count": 18,
   "id": "9c32444c",
   "metadata": {},
   "outputs": [
    {
     "data": {
      "text/plain": [
       "array([98, 64, 82, 94])"
      ]
     },
     "execution_count": 18,
     "metadata": {},
     "output_type": "execute_result"
    }
   ],
   "source": [
    "# Find all the numbers that are even as well as greater than \n",
    "(arr>50) & (arr % 2 == 0)\n",
    "arr[(arr>50) & (arr % 2 == 0)]"
   ]
  },
  {
   "cell_type": "code",
   "execution_count": 24,
   "id": "3bb8c3bf",
   "metadata": {},
   "outputs": [
    {
     "data": {
      "text/plain": [
       "array([98, 77, 77, 42])"
      ]
     },
     "execution_count": 24,
     "metadata": {},
     "output_type": "execute_result"
    }
   ],
   "source": [
    "# Find all the numbers that are divisible by 7\n",
    "arr[arr%7==0]"
   ]
  },
  {
   "cell_type": "code",
   "execution_count": 26,
   "id": "dc8cd97e",
   "metadata": {},
   "outputs": [
    {
     "data": {
      "text/plain": [
       "array([61, 89, 89, 44, 67, 61, 64, 43, 69, 18,  9, 20, 32, 30,  1, 82,  9,\n",
       "       94, 12, 30])"
      ]
     },
     "execution_count": 26,
     "metadata": {},
     "output_type": "execute_result"
    }
   ],
   "source": [
    "# Find all the numbers that are not divisible by 7\n",
    "#arr[arr%7!=0]\n",
    "arr[~(arr%7==0)]"
   ]
  },
  {
   "cell_type": "markdown",
   "id": "0a5b5162",
   "metadata": {},
   "source": [
    "# Broadcasting\n",
    "The term broadcasting describes how NumPy treats arrays with different shapes during arithmetic operations.\n",
    "\n",
    "The smaller array is “broadcast” across the larger array so that they have compatible shapes."
   ]
  },
  {
   "cell_type": "code",
   "execution_count": 34,
   "id": "2e0a7a5f",
   "metadata": {},
   "outputs": [
    {
     "name": "stdout",
     "output_type": "stream",
     "text": [
      "[[0 1 2]\n",
      " [3 4 5]]\n",
      "[[0 1 2]]\n",
      "[[0 2 4]\n",
      " [3 5 7]]\n"
     ]
    }
   ],
   "source": [
    "arr1 = np.arange(6).reshape(2,3)\n",
    "arr2 = np.arange(3).reshape(1,3)\n",
    "print(arr1)\n",
    "print(arr2)\n",
    "print(arr1+arr2)"
   ]
  },
  {
   "cell_type": "markdown",
   "id": "520e044d",
   "metadata": {},
   "source": [
    "# Broadcasting Rules\n",
    "1. Make the two arrays have the same number of dimensions.\n",
    "\n",
    "- If the numbers of dimensions of the two arrays are different, add new dimensions with size 1 to the head of the array with the smaller dimension.\n",
    "\n",
    "2. Make each dimension of the two arrays the same size.\n",
    "\n",
    "- If the sizes of each dimension of the two arrays do not match, dimensions with size 1 are stretched to the size of the other array.\n",
    "- If there is a dimension whose size is not 1 in either of the two arrays, it cannot be broadcasted, and an error is raised."
   ]
  },
  {
   "cell_type": "code",
   "execution_count": 36,
   "id": "6520b49a",
   "metadata": {},
   "outputs": [
    {
     "name": "stdout",
     "output_type": "stream",
     "text": [
      "[[ 0  1  2]\n",
      " [ 3  4  5]\n",
      " [ 6  7  8]\n",
      " [ 9 10 11]]\n",
      "[0 1 2]\n",
      "[[ 0  2  4]\n",
      " [ 3  5  7]\n",
      " [ 6  8 10]\n",
      " [ 9 11 13]]\n"
     ]
    }
   ],
   "source": [
    "# Examples\n",
    "arr1  = np.arange(12).reshape(4,3)\n",
    "arr2  = np.arange(3)\n",
    "print(arr1)\n",
    "print(arr2)\n",
    "\n",
    "\n",
    "print(arr1 + arr2)"
   ]
  },
  {
   "cell_type": "code",
   "execution_count": 38,
   "id": "b6ec6685",
   "metadata": {},
   "outputs": [
    {
     "name": "stdout",
     "output_type": "stream",
     "text": [
      "[[ 0  1  2  3]\n",
      " [ 4  5  6  7]\n",
      " [ 8  9 10 11]]\n",
      "[0 1 2 3]\n",
      "[[ 0  2  4  6]\n",
      " [ 4  6  8 10]\n",
      " [ 8 10 12 14]]\n"
     ]
    }
   ],
   "source": [
    "arr1  = np.arange(12).reshape(3,4)\n",
    "arr2  = np.arange(4)\n",
    "print(arr1)\n",
    "print(arr2)\n",
    "print(arr1 + arr2)"
   ]
  },
  {
   "cell_type": "code",
   "execution_count": 39,
   "id": "d6d01d05",
   "metadata": {},
   "outputs": [
    {
     "name": "stdout",
     "output_type": "stream",
     "text": [
      "[[0 1 2]]\n",
      "[[0]\n",
      " [1]\n",
      " [2]]\n",
      "[[0 1 2]\n",
      " [1 2 3]\n",
      " [2 3 4]]\n"
     ]
    }
   ],
   "source": [
    "arr1  = np.arange(3).reshape(1,3)\n",
    "arr2  = np.arange(3).reshape(3,1)\n",
    "print(arr1)\n",
    "print(arr2)\n",
    "print(arr1 + arr2)"
   ]
  },
  {
   "cell_type": "code",
   "execution_count": 40,
   "id": "b2ab7b69",
   "metadata": {},
   "outputs": [
    {
     "name": "stdout",
     "output_type": "stream",
     "text": [
      "[[0 1 2]]\n",
      "[[0]\n",
      " [1]\n",
      " [2]\n",
      " [3]]\n",
      "[[0 1 2]\n",
      " [1 2 3]\n",
      " [2 3 4]\n",
      " [3 4 5]]\n"
     ]
    }
   ],
   "source": [
    "arr1  = np.arange(3).reshape(1,3)\n",
    "arr2  = np.arange(4).reshape(4,1)\n",
    "print(arr1)\n",
    "print(arr2)\n",
    "print(arr1 + arr2)"
   ]
  },
  {
   "cell_type": "code",
   "execution_count": 42,
   "id": "0ff116a0",
   "metadata": {},
   "outputs": [
    {
     "name": "stdout",
     "output_type": "stream",
     "text": [
      "[1]\n",
      "[[0 1]\n",
      " [2 3]]\n",
      "[[1 2]\n",
      " [3 4]]\n"
     ]
    }
   ],
   "source": [
    "arr1 = np.array([1])\n",
    "arr2 = np.arange(4).reshape(2,2)\n",
    "print(arr1)\n",
    "print(arr2)\n",
    "print(arr1+arr2)"
   ]
  },
  {
   "cell_type": "code",
   "execution_count": 43,
   "id": "42d53e6f",
   "metadata": {},
   "outputs": [
    {
     "name": "stdout",
     "output_type": "stream",
     "text": [
      "[[ 0  1  2  3]\n",
      " [ 4  5  6  7]\n",
      " [ 8  9 10 11]]\n",
      "[[ 0  1  2]\n",
      " [ 3  4  5]\n",
      " [ 6  7  8]\n",
      " [ 9 10 11]]\n"
     ]
    },
    {
     "ename": "ValueError",
     "evalue": "operands could not be broadcast together with shapes (3,4) (4,3) ",
     "output_type": "error",
     "traceback": [
      "\u001b[1;31m---------------------------------------------------------------------------\u001b[0m",
      "\u001b[1;31mValueError\u001b[0m                                Traceback (most recent call last)",
      "\u001b[1;32mC:\\Users\\RISHAB~1\\AppData\\Local\\Temp/ipykernel_20532/2464559736.py\u001b[0m in \u001b[0;36m<module>\u001b[1;34m\u001b[0m\n\u001b[0;32m      3\u001b[0m \u001b[0mprint\u001b[0m\u001b[1;33m(\u001b[0m\u001b[0marr1\u001b[0m\u001b[1;33m)\u001b[0m\u001b[1;33m\u001b[0m\u001b[1;33m\u001b[0m\u001b[0m\n\u001b[0;32m      4\u001b[0m \u001b[0mprint\u001b[0m\u001b[1;33m(\u001b[0m\u001b[0marr2\u001b[0m\u001b[1;33m)\u001b[0m\u001b[1;33m\u001b[0m\u001b[1;33m\u001b[0m\u001b[0m\n\u001b[1;32m----> 5\u001b[1;33m \u001b[0mprint\u001b[0m\u001b[1;33m(\u001b[0m\u001b[0marr1\u001b[0m \u001b[1;33m+\u001b[0m \u001b[0marr2\u001b[0m\u001b[1;33m)\u001b[0m\u001b[1;33m\u001b[0m\u001b[1;33m\u001b[0m\u001b[0m\n\u001b[0m",
      "\u001b[1;31mValueError\u001b[0m: operands could not be broadcast together with shapes (3,4) (4,3) "
     ]
    }
   ],
   "source": [
    "arr1  = np.arange(12).reshape(3,4)\n",
    "arr2  = np.arange(12).reshape(4,3)\n",
    "print(arr1)\n",
    "print(arr2)\n",
    "print(arr1 + arr2)"
   ]
  },
  {
   "cell_type": "code",
   "execution_count": 46,
   "id": "7b9dc098",
   "metadata": {},
   "outputs": [
    {
     "name": "stdout",
     "output_type": "stream",
     "text": [
      "[[ 0  1  2  3]\n",
      " [ 4  5  6  7]\n",
      " [ 8  9 10 11]\n",
      " [12 13 14 15]]\n",
      "[[0 1 2 3]]\n",
      "[[ 0  2  4  6]\n",
      " [ 4  6  8 10]\n",
      " [ 8 10 12 14]\n",
      " [12 14 16 18]]\n"
     ]
    }
   ],
   "source": [
    "arr1  = np.arange(16).reshape(4,4)\n",
    "arr2  = np.arange(4).reshape(1,4)\n",
    "print(arr1)\n",
    "print(arr2)\n",
    "print(arr1 + arr2)"
   ]
  },
  {
   "cell_type": "markdown",
   "id": "b67f4957",
   "metadata": {},
   "source": [
    "# Mathematical Formulas"
   ]
  },
  {
   "cell_type": "code",
   "execution_count": null,
   "id": "df3c4334",
   "metadata": {},
   "outputs": [],
   "source": [
    "1:04:11"
   ]
  }
 ],
 "metadata": {
  "kernelspec": {
   "display_name": "Python 3 (ipykernel)",
   "language": "python",
   "name": "python3"
  },
  "language_info": {
   "codemirror_mode": {
    "name": "ipython",
    "version": 3
   },
   "file_extension": ".py",
   "mimetype": "text/x-python",
   "name": "python",
   "nbconvert_exporter": "python",
   "pygments_lexer": "ipython3",
   "version": "3.9.6"
  }
 },
 "nbformat": 4,
 "nbformat_minor": 5
}
