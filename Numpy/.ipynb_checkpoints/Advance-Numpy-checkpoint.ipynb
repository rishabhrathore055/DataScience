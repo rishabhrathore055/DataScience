{
 "cells": [
  {
   "cell_type": "markdown",
   "id": "f5616763",
   "metadata": {},
   "source": [
    "# Numpy array vs Python List"
   ]
  },
  {
   "cell_type": "code",
   "execution_count": 1,
   "id": "f2c953d1",
   "metadata": {},
   "outputs": [
    {
     "name": "stdout",
     "output_type": "stream",
     "text": [
      "4.7354795932769775\n"
     ]
    }
   ],
   "source": [
    "# time\n",
    "list1 = [i for i in range(10000000)]\n",
    "list2 = [i for i in range(10000000)]\n",
    "\n",
    "list3 = []\n",
    "import time \n",
    "start = time.time()\n",
    "for i in range(len(list1)):\n",
    "    list3.append(list1[i] + list2[i])\n",
    "print(time.time() - start)"
   ]
  },
  {
   "cell_type": "markdown",
   "id": "363b5ff9",
   "metadata": {},
   "source": [
    "# Numpy"
   ]
  },
  {
   "cell_type": "code",
   "execution_count": 2,
   "id": "8b801d00",
   "metadata": {},
   "outputs": [],
   "source": [
    "import numpy as np"
   ]
  },
  {
   "cell_type": "markdown",
   "id": "331e153b",
   "metadata": {},
   "source": [
    "### comparisiom on the base of Time"
   ]
  },
  {
   "cell_type": "code",
   "execution_count": 3,
   "id": "4441ab79",
   "metadata": {},
   "outputs": [
    {
     "name": "stdout",
     "output_type": "stream",
     "text": [
      "0.18614912033081055\n"
     ]
    }
   ],
   "source": [
    "list1 = np.arange(10000000)\n",
    "list2 = np.arange(10000000,20000000)\n",
    "\n",
    "start = time.time()\n",
    "list3 = list1 + list2\n",
    "print(time.time() - start)"
   ]
  },
  {
   "cell_type": "code",
   "execution_count": 4,
   "id": "9d03ad21",
   "metadata": {},
   "outputs": [
    {
     "data": {
      "text/plain": [
       "13.285714285714285"
      ]
     },
     "execution_count": 4,
     "metadata": {},
     "output_type": "execute_result"
    }
   ],
   "source": [
    "1.86/0.14"
   ]
  },
  {
   "cell_type": "markdown",
   "id": "31eb786c",
   "metadata": {},
   "source": [
    "### comparisiom on the base of Memory"
   ]
  },
  {
   "cell_type": "code",
   "execution_count": 5,
   "id": "b20be926",
   "metadata": {},
   "outputs": [
    {
     "data": {
      "text/plain": [
       "89095160"
      ]
     },
     "execution_count": 5,
     "metadata": {},
     "output_type": "execute_result"
    }
   ],
   "source": [
    "# Python list\n",
    "list1 = [i for i in range(10000000)]\n",
    "import sys\n",
    "sys.getsizeof(list1)"
   ]
  },
  {
   "cell_type": "code",
   "execution_count": 6,
   "id": "95646148",
   "metadata": {},
   "outputs": [
    {
     "data": {
      "text/plain": [
       "10000112"
      ]
     },
     "execution_count": 6,
     "metadata": {},
     "output_type": "execute_result"
    }
   ],
   "source": [
    "# numpy \n",
    "list1 = np.arange(10000000,dtype=np.int8)\n",
    "sys.getsizeof(list1)"
   ]
  },
  {
   "cell_type": "markdown",
   "id": "b8447133",
   "metadata": {},
   "source": [
    "### comparisiom on the base of convenience\n",
    "- Numpy is more convenient that typically python lis-"
   ]
  },
  {
   "cell_type": "markdown",
   "id": "f95ede46",
   "metadata": {},
   "source": [
    "# Advanced Indexing"
   ]
  },
  {
   "cell_type": "markdown",
   "id": "6af843c4",
   "metadata": {},
   "source": [
    "### Normal Indexing and slicing"
   ]
  },
  {
   "cell_type": "code",
   "execution_count": 7,
   "id": "8cf33238",
   "metadata": {},
   "outputs": [
    {
     "data": {
      "text/plain": [
       "array([[ 0,  1,  2,  3],\n",
       "       [ 4,  5,  6,  7],\n",
       "       [ 8,  9, 10, 11],\n",
       "       [12, 13, 14, 15],\n",
       "       [16, 17, 18, 19],\n",
       "       [20, 21, 22, 23]])"
      ]
     },
     "execution_count": 7,
     "metadata": {},
     "output_type": "execute_result"
    }
   ],
   "source": [
    "\n",
    "arr = np.arange(24).reshape(6,4)\n",
    "arr"
   ]
  },
  {
   "cell_type": "code",
   "execution_count": 8,
   "id": "ccd628df",
   "metadata": {},
   "outputs": [
    {
     "data": {
      "text/plain": [
       "array([ 8,  9, 10, 11])"
      ]
     },
     "execution_count": 8,
     "metadata": {},
     "output_type": "execute_result"
    }
   ],
   "source": [
    "arr[2,:]"
   ]
  },
  {
   "cell_type": "markdown",
   "id": "b9bf449d",
   "metadata": {},
   "source": [
    "### Fancy Indexing"
   ]
  },
  {
   "cell_type": "code",
   "execution_count": 9,
   "id": "8b409a28",
   "metadata": {},
   "outputs": [
    {
     "data": {
      "text/plain": [
       "array([[ 0,  1,  2,  3],\n",
       "       [ 8,  9, 10, 11],\n",
       "       [12, 13, 14, 15],\n",
       "       [20, 21, 22, 23]])"
      ]
     },
     "execution_count": 9,
     "metadata": {},
     "output_type": "execute_result"
    }
   ],
   "source": [
    "arr[[0,2,3,5]]"
   ]
  },
  {
   "cell_type": "code",
   "execution_count": 10,
   "id": "dceb9a4b",
   "metadata": {},
   "outputs": [
    {
     "data": {
      "text/plain": [
       "array([[ 0,  2,  3],\n",
       "       [ 4,  6,  7],\n",
       "       [ 8, 10, 11],\n",
       "       [12, 14, 15],\n",
       "       [16, 18, 19],\n",
       "       [20, 22, 23]])"
      ]
     },
     "execution_count": 10,
     "metadata": {},
     "output_type": "execute_result"
    }
   ],
   "source": [
    "arr[:,[0,2,3]]"
   ]
  },
  {
   "cell_type": "markdown",
   "id": "700a530c",
   "metadata": {},
   "source": [
    "### Boolean Indexeing"
   ]
  },
  {
   "cell_type": "code",
   "execution_count": 11,
   "id": "5a56e5c2",
   "metadata": {},
   "outputs": [
    {
     "data": {
      "text/plain": [
       "array([[93, 95, 96, 91],\n",
       "       [12, 59, 39, 82],\n",
       "       [93,  6, 21, 71],\n",
       "       [28, 25, 34,  8],\n",
       "       [11, 24, 36,  2],\n",
       "       [42, 77, 48, 90]])"
      ]
     },
     "execution_count": 11,
     "metadata": {},
     "output_type": "execute_result"
    }
   ],
   "source": [
    "arr = np.random.randint(1,100,24).reshape(6,4)\n",
    "arr"
   ]
  },
  {
   "cell_type": "code",
   "execution_count": 12,
   "id": "07c6fdad",
   "metadata": {},
   "outputs": [
    {
     "data": {
      "text/plain": [
       "array([93, 95, 96, 91, 59, 82, 93, 71, 77, 90])"
      ]
     },
     "execution_count": 12,
     "metadata": {},
     "output_type": "execute_result"
    }
   ],
   "source": [
    "# Find all the numbers greater than 50\n",
    "arr > 50\n",
    "arr[arr > 50]"
   ]
  },
  {
   "cell_type": "code",
   "execution_count": 13,
   "id": "42029800",
   "metadata": {},
   "outputs": [
    {
     "data": {
      "text/plain": [
       "array([96, 12, 82,  6, 28, 34,  8, 24, 36,  2, 42, 48, 90])"
      ]
     },
     "execution_count": 13,
     "metadata": {},
     "output_type": "execute_result"
    }
   ],
   "source": [
    "# Find all the numbers that are even\n",
    "arr % 2 ==0\n",
    "arr[arr % 2 ==0]"
   ]
  },
  {
   "cell_type": "code",
   "execution_count": 14,
   "id": "9c32444c",
   "metadata": {},
   "outputs": [
    {
     "data": {
      "text/plain": [
       "array([96, 82, 90])"
      ]
     },
     "execution_count": 14,
     "metadata": {},
     "output_type": "execute_result"
    }
   ],
   "source": [
    "# Find all the numbers that are even as well as greater than \n",
    "(arr>50) & (arr % 2 == 0)\n",
    "arr[(arr>50) & (arr % 2 == 0)]"
   ]
  },
  {
   "cell_type": "code",
   "execution_count": 15,
   "id": "3bb8c3bf",
   "metadata": {},
   "outputs": [
    {
     "data": {
      "text/plain": [
       "array([91, 21, 28, 42, 77])"
      ]
     },
     "execution_count": 15,
     "metadata": {},
     "output_type": "execute_result"
    }
   ],
   "source": [
    "# Find all the numbers that are divisible by 7\n",
    "arr[arr%7==0]"
   ]
  },
  {
   "cell_type": "code",
   "execution_count": 16,
   "id": "dc8cd97e",
   "metadata": {},
   "outputs": [
    {
     "data": {
      "text/plain": [
       "array([93, 95, 96, 12, 59, 39, 82, 93,  6, 71, 25, 34,  8, 11, 24, 36,  2,\n",
       "       48, 90])"
      ]
     },
     "execution_count": 16,
     "metadata": {},
     "output_type": "execute_result"
    }
   ],
   "source": [
    "# Find all the numbers that are not divisible by 7\n",
    "#arr[arr%7!=0]\n",
    "arr[~(arr%7==0)]"
   ]
  },
  {
   "cell_type": "markdown",
   "id": "0a5b5162",
   "metadata": {},
   "source": [
    "# Broadcasting\n",
    "The term broadcasting describes how NumPy treats arrays with different shapes during arithmetic operations.\n",
    "\n",
    "The smaller array is “broadcast” across the larger array so that they have compatible shapes."
   ]
  },
  {
   "cell_type": "code",
   "execution_count": 17,
   "id": "2e0a7a5f",
   "metadata": {},
   "outputs": [
    {
     "name": "stdout",
     "output_type": "stream",
     "text": [
      "[[0 1 2]\n",
      " [3 4 5]]\n",
      "[[0 1 2]]\n",
      "[[0 2 4]\n",
      " [3 5 7]]\n"
     ]
    }
   ],
   "source": [
    "arr1 = np.arange(6).reshape(2,3)\n",
    "arr2 = np.arange(3).reshape(1,3)\n",
    "print(arr1)\n",
    "print(arr2)\n",
    "print(arr1+arr2)"
   ]
  },
  {
   "cell_type": "markdown",
   "id": "520e044d",
   "metadata": {},
   "source": [
    "# Broadcasting Rules\n",
    "1. Make the two arrays have the same number of dimensions.\n",
    "\n",
    "- If the numbers of dimensions of the two arrays are different, add new dimensions with size 1 to the head of the array with the smaller dimension.\n",
    "\n",
    "2. Make each dimension of the two arrays the same size.\n",
    "\n",
    "- If the sizes of each dimension of the two arrays do not match, dimensions with size 1 are stretched to the size of the other array.\n",
    "- If there is a dimension whose size is not 1 in either of the two arrays, it cannot be broadcasted, and an error is raised."
   ]
  },
  {
   "cell_type": "code",
   "execution_count": 18,
   "id": "6520b49a",
   "metadata": {},
   "outputs": [
    {
     "name": "stdout",
     "output_type": "stream",
     "text": [
      "[[ 0  1  2]\n",
      " [ 3  4  5]\n",
      " [ 6  7  8]\n",
      " [ 9 10 11]]\n",
      "[0 1 2]\n",
      "[[ 0  2  4]\n",
      " [ 3  5  7]\n",
      " [ 6  8 10]\n",
      " [ 9 11 13]]\n"
     ]
    }
   ],
   "source": [
    "# Examples\n",
    "arr1  = np.arange(12).reshape(4,3)\n",
    "arr2  = np.arange(3)\n",
    "print(arr1)\n",
    "print(arr2)\n",
    "print(arr1 + arr2)"
   ]
  },
  {
   "cell_type": "code",
   "execution_count": 35,
   "id": "b6ec6685",
   "metadata": {},
   "outputs": [
    {
     "name": "stdout",
     "output_type": "stream",
     "text": [
      "[[ 0  1  2  3]\n",
      " [ 4  5  6  7]\n",
      " [ 8  9 10 11]]\n",
      "[0 1 2 3]\n",
      "[[ 0  2  4  6]\n",
      " [ 4  6  8 10]\n",
      " [ 8 10 12 14]]\n"
     ]
    }
   ],
   "source": [
    "arr1  = np.arange(12).reshape(3,4)\n",
    "arr2  = np.arange(4)\n",
    "print(arr1)\n",
    "print(arr2)\n",
    "\n",
    "print(arr1 + arr2)"
   ]
  },
  {
   "cell_type": "code",
   "execution_count": 38,
   "id": "b0e1d5ba",
   "metadata": {},
   "outputs": [
    {
     "name": "stdout",
     "output_type": "stream",
     "text": [
      "[[ 0  1  2  3]\n",
      " [ 4  5  6  7]\n",
      " [ 8  9 10 11]\n",
      " [12 13 14 15]]\n",
      "[[0]\n",
      " [1]\n",
      " [2]\n",
      " [3]]\n",
      "[[ 0  1  2  3]\n",
      " [ 5  6  7  8]\n",
      " [10 11 12 13]\n",
      " [15 16 17 18]]\n"
     ]
    }
   ],
   "source": [
    "arr1  = np.arange(16).reshape(4,4)\n",
    "arr2  = np.arange(4)\n",
    "print(arr1)\n",
    "print(arr2)\n",
    "\n",
    "print(arr1 + arr2)"
   ]
  },
  {
   "cell_type": "code",
   "execution_count": 20,
   "id": "d6d01d05",
   "metadata": {},
   "outputs": [
    {
     "name": "stdout",
     "output_type": "stream",
     "text": [
      "[[0 1 2]]\n",
      "[[0]\n",
      " [1]\n",
      " [2]]\n",
      "[[0 1 2]\n",
      " [1 2 3]\n",
      " [2 3 4]]\n"
     ]
    }
   ],
   "source": [
    "arr1  = np.arange(3).reshape(1,3)\n",
    "arr2  = np.arange(3).reshape(3,1)\n",
    "print(arr1)\n",
    "print(arr2)\n",
    "print(arr1 + arr2)"
   ]
  },
  {
   "cell_type": "code",
   "execution_count": 21,
   "id": "b2ab7b69",
   "metadata": {},
   "outputs": [
    {
     "name": "stdout",
     "output_type": "stream",
     "text": [
      "[[0 1 2]]\n",
      "[[0]\n",
      " [1]\n",
      " [2]\n",
      " [3]]\n",
      "[[0 1 2]\n",
      " [1 2 3]\n",
      " [2 3 4]\n",
      " [3 4 5]]\n"
     ]
    }
   ],
   "source": [
    "arr1  = np.arange(3).reshape(1,3)\n",
    "arr2  = np.arange(4).reshape(4,1)\n",
    "print(arr1)\n",
    "print(arr2)\n",
    "print(arr1 + arr2)"
   ]
  },
  {
   "cell_type": "code",
   "execution_count": 22,
   "id": "0ff116a0",
   "metadata": {},
   "outputs": [
    {
     "name": "stdout",
     "output_type": "stream",
     "text": [
      "[1]\n",
      "[[0 1]\n",
      " [2 3]]\n",
      "[[1 2]\n",
      " [3 4]]\n"
     ]
    }
   ],
   "source": [
    "arr1 = np.array([1])\n",
    "arr2 = np.arange(4).reshape(2,2)\n",
    "print(arr1)\n",
    "print(arr2)\n",
    "print(arr1+arr2)"
   ]
  },
  {
   "cell_type": "code",
   "execution_count": 41,
   "id": "42d53e6f",
   "metadata": {},
   "outputs": [
    {
     "name": "stdout",
     "output_type": "stream",
     "text": [
      "[[0 1 2]]\n",
      "[[0]\n",
      " [1]\n",
      " [2]\n",
      " [3]]\n",
      "[[0 1 2]\n",
      " [1 2 3]\n",
      " [2 3 4]\n",
      " [3 4 5]]\n"
     ]
    }
   ],
   "source": [
    "arr1  = np.arange(3).reshape(1,3)\n",
    "arr2  = np.arange(4).reshape(4,1)\n",
    "print(arr1)\n",
    "print(arr2)\n",
    "print(arr1 + arr2)"
   ]
  },
  {
   "cell_type": "code",
   "execution_count": 31,
   "id": "52b845dd",
   "metadata": {},
   "outputs": [
    {
     "name": "stdout",
     "output_type": "stream",
     "text": [
      "[[0 1 2]\n",
      " [3 4 5]\n",
      " [6 7 8]]\n",
      "[0 1 2]\n",
      "[[ 0  2  4]\n",
      " [ 3  5  7]\n",
      " [ 6  8 10]]\n"
     ]
    }
   ],
   "source": [
    "arr1  = np.arange(9).reshape(3,3)\n",
    "arr2  = np.arange(3)\n",
    "print(arr1)\n",
    "print(arr2)\n",
    "print(arr1 + arr2)"
   ]
  },
  {
   "cell_type": "code",
   "execution_count": 44,
   "id": "7b9dc098",
   "metadata": {},
   "outputs": [
    {
     "name": "stdout",
     "output_type": "stream",
     "text": [
      "[[ 0  1  2  3]\n",
      " [ 4  5  6  7]\n",
      " [ 8  9 10 11]\n",
      " [12 13 14 15]]\n",
      "[[0]\n",
      " [1]\n",
      " [2]\n",
      " [3]]\n",
      "[[ 0  1  2  3]\n",
      " [ 5  6  7  8]\n",
      " [10 11 12 13]\n",
      " [15 16 17 18]]\n"
     ]
    }
   ],
   "source": [
    "arr1  = np.arange(16).reshape(4,4)\n",
    "arr2  = np.arange(4).reshape(4,1)\n",
    "print(arr1)\n",
    "print(arr2)\n",
    "print(arr1 + arr2)"
   ]
  },
  {
   "cell_type": "markdown",
   "id": "b67f4957",
   "metadata": {},
   "source": [
    "# Mathematical Formulas"
   ]
  },
  {
   "cell_type": "code",
   "execution_count": 49,
   "id": "df3c4334",
   "metadata": {},
   "outputs": [
    {
     "data": {
      "text/plain": [
       "array([ 1,  3,  5,  7,  9, 11, 13, 15, 17, 19, 21, 23])"
      ]
     },
     "execution_count": 49,
     "metadata": {},
     "output_type": "execute_result"
    }
   ],
   "source": [
    "nums = np.arange(1,25,2)\n",
    "nums"
   ]
  },
  {
   "cell_type": "code",
   "execution_count": 51,
   "id": "83983b00",
   "metadata": {},
   "outputs": [
    {
     "data": {
      "text/plain": [
       "array([ 0.84147098,  0.14112001, -0.95892427,  0.6569866 ,  0.41211849,\n",
       "       -0.99999021,  0.42016704,  0.65028784, -0.96139749,  0.14987721,\n",
       "        0.83665564, -0.8462204 ])"
      ]
     },
     "execution_count": 51,
     "metadata": {},
     "output_type": "execute_result"
    }
   ],
   "source": [
    "#sin\n",
    "np.sin(nums)"
   ]
  },
  {
   "cell_type": "code",
   "execution_count": 53,
   "id": "b0a06f93",
   "metadata": {},
   "outputs": [
    {
     "data": {
      "text/plain": [
       "array([ 0.54030231, -0.9899925 ,  0.28366219,  0.75390225, -0.91113026,\n",
       "        0.0044257 ,  0.90744678, -0.75968791, -0.27516334,  0.98870462,\n",
       "       -0.54772926, -0.53283302])"
      ]
     },
     "execution_count": 53,
     "metadata": {},
     "output_type": "execute_result"
    }
   ],
   "source": [
    "# cos\n",
    "np.cos(nums)"
   ]
  },
  {
   "cell_type": "code",
   "execution_count": 74,
   "id": "260fa5dd",
   "metadata": {},
   "outputs": [
    {
     "data": {
      "text/plain": [
       "array([ 1.55740772e+00, -1.42546543e-01, -3.38051501e+00,  8.71447983e-01,\n",
       "       -4.52315659e-01, -2.25950846e+02,  4.63021133e-01, -8.55993401e-01])"
      ]
     },
     "execution_count": 74,
     "metadata": {},
     "output_type": "execute_result"
    }
   ],
   "source": [
    "# tan\n",
    "np.tan(nums)"
   ]
  },
  {
   "cell_type": "code",
   "execution_count": 75,
   "id": "014d32b7",
   "metadata": {},
   "outputs": [
    {
     "data": {
      "text/plain": [
       "array([ 1.55740772e+00, -1.42546543e-01, -3.38051501e+00,  8.71447983e-01,\n",
       "       -4.52315659e-01, -2.25950846e+02,  4.63021133e-01, -8.55993401e-01])"
      ]
     },
     "execution_count": 75,
     "metadata": {},
     "output_type": "execute_result"
    }
   ],
   "source": [
    "def Tan(nums):\n",
    "    return (np.sin(nums)/(np.cos(nums)))\n",
    "Tan(nums)"
   ]
  },
  {
   "attachments": {
    "image.png": {
     "image/png": "[encoded data removed]"
    }
   },
   "cell_type": "markdown",
   "id": "bbba980c",
   "metadata": {},
   "source": [
    "### Sigmoid\n",
    "![image.png](attachment:image.png)"
   ]
  },
  {
   "cell_type": "code",
   "execution_count": 85,
   "id": "67bc0273",
   "metadata": {},
   "outputs": [
    {
     "data": {
      "text/plain": [
       "array([0.5       , 0.73105858, 0.88079708, 0.95257413, 0.98201379,\n",
       "       0.99330715, 0.99752738, 0.99908895, 0.99966465, 0.99987661,\n",
       "       0.9999546 , 0.9999833 , 0.99999386, 0.99999774, 0.99999917,\n",
       "       0.99999969, 0.99999989, 0.99999996, 0.99999998, 0.99999999,\n",
       "       1.        , 1.        , 1.        , 1.        , 1.        ,\n",
       "       1.        , 1.        , 1.        , 1.        , 1.        ,\n",
       "       1.        , 1.        , 1.        , 1.        , 1.        ,\n",
       "       1.        , 1.        , 1.        , 1.        , 1.        ,\n",
       "       1.        , 1.        , 1.        , 1.        , 1.        ,\n",
       "       1.        , 1.        , 1.        , 1.        , 1.        ])"
      ]
     },
     "execution_count": 85,
     "metadata": {},
     "output_type": "execute_result"
    }
   ],
   "source": [
    "# sigmoid\n",
    "arr = np.arange(50)\n",
    "def sigmoid(x):\n",
    "    return 1/ (1 + np.exp(-(x)))\n",
    "sigmoid(arr)"
   ]
  },
  {
   "cell_type": "code",
   "execution_count": 72,
   "id": "6f85b4f7",
   "metadata": {},
   "outputs": [
    {
     "data": {
      "text/plain": [
       "[1, 3, 5, 7, 9, 11, 13, 15]"
      ]
     },
     "execution_count": 72,
     "metadata": {},
     "output_type": "execute_result"
    }
   ],
   "source": [
    "nums = [i for i in range(15+1) if i%2!=0]\n",
    "nums"
   ]
  },
  {
   "attachments": {
    "image.png": {
     "image/png": "[encoded data removed]"
    }
   },
   "cell_type": "markdown",
   "id": "924c2821",
   "metadata": {},
   "source": [
    "### Mean Squared error\n",
    "![image.png](attachment:image.png)"
   ]
  },
  {
   "cell_type": "code",
   "execution_count": 89,
   "id": "8e31281d",
   "metadata": {},
   "outputs": [],
   "source": [
    "# Mean squared error\n",
    "\n",
    "actual = np.random.randint(1,60,25)\n",
    "predicted = np.random.randint(1,60,25)"
   ]
  },
  {
   "cell_type": "code",
   "execution_count": 90,
   "id": "cb24b89a",
   "metadata": {},
   "outputs": [
    {
     "data": {
      "text/plain": [
       "array([27, 33, 50, 54, 13, 32, 57, 59, 59, 38, 48, 36, 50, 55, 25, 37,  3,\n",
       "       55, 18,  4, 19,  6,  8, 36, 49])"
      ]
     },
     "execution_count": 90,
     "metadata": {},
     "output_type": "execute_result"
    }
   ],
   "source": [
    "actual"
   ]
  },
  {
   "cell_type": "code",
   "execution_count": 91,
   "id": "b04c24ab",
   "metadata": {},
   "outputs": [
    {
     "data": {
      "text/plain": [
       "array([59, 54, 28,  8, 43, 18, 10, 55, 37, 24, 17, 25, 15, 47, 51, 44, 38,\n",
       "       34, 22, 19, 46, 57, 45, 38, 48])"
      ]
     },
     "execution_count": 91,
     "metadata": {},
     "output_type": "execute_result"
    }
   ],
   "source": [
    "predicted"
   ]
  },
  {
   "cell_type": "code",
   "execution_count": 97,
   "id": "eb9fc101",
   "metadata": {},
   "outputs": [
    {
     "data": {
      "text/plain": [
       "710.92"
      ]
     },
     "execution_count": 97,
     "metadata": {},
     "output_type": "execute_result"
    }
   ],
   "source": [
    "#  Mean squared error\n",
    "def mse(actual,predicted):\n",
    "    return np.mean((actual - predicted)**2)\n",
    "mse(actual,predicted)"
   ]
  },
  {
   "attachments": {
    "image.png": {
     "image/png": "[encoded data removed]"
    }
   },
   "cell_type": "markdown",
   "id": "235b51f2",
   "metadata": {},
   "source": [
    "### Binary Cross Entropy loss\n",
    "![image.png](attachment:image.png)"
   ]
  },
  {
   "cell_type": "code",
   "execution_count": 101,
   "id": "a3343219",
   "metadata": {},
   "outputs": [
    {
     "name": "stderr",
     "output_type": "stream",
     "text": [
      "C:\\Users\\RISHAB~1\\AppData\\Local\\Temp/ipykernel_11456/3701441718.py:2: RuntimeWarning: invalid value encountered in log\n",
      "  return  -(actual * np.log(predicted) + (1 - actual) * np.log(1 - predicted)).mean()\n"
     ]
    },
    {
     "data": {
      "text/plain": [
       "nan"
      ]
     },
     "execution_count": 101,
     "metadata": {},
     "output_type": "execute_result"
    }
   ],
   "source": [
    "def cross_entropy_loss(actual, predicted):\n",
    "    return  -(actual * np.log(predicted) + (1 - actual) * np.log(1 - predicted)).mean()\n",
    "cross_entropy_loss(actual,predicted)"
   ]
  },
  {
   "cell_type": "markdown",
   "id": "42611eed",
   "metadata": {},
   "source": [
    "### Handling missing values"
   ]
  },
  {
   "cell_type": "code",
   "execution_count": 104,
   "id": "6ef74bfb",
   "metadata": {},
   "outputs": [
    {
     "data": {
      "text/plain": [
       "array([ 1.,  2.,  3.,  4.,  5.,  6.,  7., nan,  8.,  9.])"
      ]
     },
     "execution_count": 104,
     "metadata": {},
     "output_type": "execute_result"
    }
   ],
   "source": [
    "arr = np.array([1,2,3,4,5,6,7,np.nan,8,9])\n",
    "arr"
   ]
  },
  {
   "cell_type": "code",
   "execution_count": 110,
   "id": "58164348",
   "metadata": {},
   "outputs": [
    {
     "data": {
      "text/plain": [
       "array([1., 2., 3., 4., 5., 6., 7., 8., 9.])"
      ]
     },
     "execution_count": 110,
     "metadata": {},
     "output_type": "execute_result"
    }
   ],
   "source": [
    "arr[~np.isnan(arr)]"
   ]
  },
  {
   "cell_type": "markdown",
   "id": "e7b1e96a",
   "metadata": {},
   "source": [
    "### Ploting Graphs"
   ]
  },
  {
   "cell_type": "code",
   "execution_count": 112,
   "id": "3e9a44ef",
   "metadata": {},
   "outputs": [
    {
     "data": {
      "text/plain": [
       "[<matplotlib.lines.Line2D at 0x20a01f75310>]"
      ]
     },
     "execution_count": 112,
     "metadata": {},
     "output_type": "execute_result"
    },
    {
     "data": {
      "image/png": "[encoded data removed]",
      "text/plain": [
       "<Figure size 432x288 with 1 Axes>"
      ]
     },
     "metadata": {
      "needs_background": "light"
     },
     "output_type": "display_data"
    }
   ],
   "source": [
    "# x = y (identity function )\n",
    "x = np.linspace(-10,10,100)\n",
    "y = x\n",
    "\n",
    "import matplotlib.pyplot as plt\n",
    "plt.plot(x,y)"
   ]
  },
  {
   "cell_type": "code",
   "execution_count": 113,
   "id": "7fb308b6",
   "metadata": {},
   "outputs": [
    {
     "data": {
      "text/plain": [
       "[<matplotlib.lines.Line2D at 0x20a055c1790>]"
      ]
     },
     "execution_count": 113,
     "metadata": {},
     "output_type": "execute_result"
    },
    {
     "data": {
      "image/png": "[encoded data removed]",
      "text/plain": [
       "<Figure size 432x288 with 1 Axes>"
      ]
     },
     "metadata": {
      "needs_background": "light"
     },
     "output_type": "display_data"
    }
   ],
   "source": [
    "#  y = x^2 (parabola)\n",
    "x = np.linspace(-10,10,100)\n",
    "y = x**2\n",
    "\n",
    "plt.plot(x,y)"
   ]
  },
  {
   "cell_type": "code",
   "execution_count": 114,
   "id": "986bbe4a",
   "metadata": {},
   "outputs": [
    {
     "data": {
      "text/plain": [
       "[<matplotlib.lines.Line2D at 0x20a0562ed60>]"
      ]
     },
     "execution_count": 114,
     "metadata": {},
     "output_type": "execute_result"
    },
    {
     "data": {
      "image/png": "[encoded data removed]",
      "text/plain": [
       "<Figure size 432x288 with 1 Axes>"
      ]
     },
     "metadata": {
      "needs_background": "light"
     },
     "output_type": "display_data"
    }
   ],
   "source": [
    "#  y = x^3 (cubic polynomial)\n",
    "x = np.linspace(-10,10,100)\n",
    "y = x**3\n",
    "\n",
    "plt.plot(x,y)"
   ]
  },
  {
   "cell_type": "code",
   "execution_count": null,
   "id": "65f8f17a",
   "metadata": {},
   "outputs": [],
   "source": []
  }
 ],
 "metadata": {
  "kernelspec": {
   "display_name": "Python 3 (ipykernel)",
   "language": "python",
   "name": "python3"
  },
  "language_info": {
   "codemirror_mode": {
    "name": "ipython",
    "version": 3
   },
   "file_extension": ".py",
   "mimetype": "text/x-python",
   "name": "python",
   "nbconvert_exporter": "python",
   "pygments_lexer": "ipython3",
   "version": "3.9.6"
  }
 },
 "nbformat": 4,
 "nbformat_minor": 5
}
