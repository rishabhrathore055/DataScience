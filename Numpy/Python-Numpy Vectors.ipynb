{
 "cells": [
  {
   "cell_type": "code",
   "execution_count": 2,
   "id": "ad72b8b1",
   "metadata": {},
   "outputs": [],
   "source": [
    "import numpy as np\n",
    "a = np.random.randn(5)"
   ]
  },
  {
   "cell_type": "code",
   "execution_count": 3,
   "id": "446eb51a",
   "metadata": {},
   "outputs": [
    {
     "name": "stdout",
     "output_type": "stream",
     "text": [
      "[ 0.22961009  1.31571161  0.23891587  0.73646241 -0.8609066 ]\n"
     ]
    }
   ],
   "source": [
    "print(a)"
   ]
  },
  {
   "cell_type": "code",
   "execution_count": 5,
   "id": "82a037ef",
   "metadata": {},
   "outputs": [
    {
     "name": "stdout",
     "output_type": "stream",
     "text": [
      "(5,)\n"
     ]
    }
   ],
   "source": [
    "print(a.shape)"
   ]
  },
  {
   "cell_type": "code",
   "execution_count": 7,
   "id": "481e4669",
   "metadata": {},
   "outputs": [
    {
     "name": "stdout",
     "output_type": "stream",
     "text": [
      "[ 0.22961009  1.31571161  0.23891587  0.73646241 -0.8609066 ]\n"
     ]
    }
   ],
   "source": [
    "print(a.T)"
   ]
  },
  {
   "cell_type": "code",
   "execution_count": 8,
   "id": "2f7e3d40",
   "metadata": {},
   "outputs": [
    {
     "name": "stdout",
     "output_type": "stream",
     "text": [
      "3.124435685755074\n"
     ]
    }
   ],
   "source": [
    "print(np.dot(a,a.T))"
   ]
  },
  {
   "cell_type": "code",
   "execution_count": 10,
   "id": "91d42287",
   "metadata": {},
   "outputs": [
    {
     "name": "stdout",
     "output_type": "stream",
     "text": [
      "[[-0.34715147]\n",
      " [-0.66955478]\n",
      " [ 1.58095415]\n",
      " [-2.59776877]\n",
      " [-0.25703226]]\n"
     ]
    }
   ],
   "source": [
    "a = np.random.randn(5,1)\n",
    "print(a)"
   ]
  },
  {
   "cell_type": "code",
   "execution_count": 11,
   "id": "ff9b7abe",
   "metadata": {},
   "outputs": [
    {
     "name": "stdout",
     "output_type": "stream",
     "text": [
      "[[-0.34715147 -0.66955478  1.58095415 -2.59776877 -0.25703226]]\n"
     ]
    }
   ],
   "source": [
    "print(a.T)"
   ]
  },
  {
   "cell_type": "code",
   "execution_count": 13,
   "id": "57346b4c",
   "metadata": {},
   "outputs": [
    {
     "name": "stdout",
     "output_type": "stream",
     "text": [
      "[[ 0.12051414  0.23243693 -0.54883056  0.90181925  0.08922913]\n",
      " [ 0.23243693  0.44830361 -1.05853541  1.73934851  0.17209718]\n",
      " [-0.54883056 -1.05853541  2.49941601 -4.10695331 -0.40635622]\n",
      " [ 0.90181925  1.73934851 -4.10695331  6.74840258  0.66771038]\n",
      " [ 0.08922913  0.17209718 -0.40635622  0.66771038  0.06606558]]\n"
     ]
    }
   ],
   "source": [
    "print(np.dot(a,a.T))"
   ]
  },
  {
   "cell_type": "code",
   "execution_count": 14,
   "id": "8b8f4ffe",
   "metadata": {},
   "outputs": [
    {
     "name": "stdout",
     "output_type": "stream",
     "text": [
      "[[-0.4004549   1.24761211 -0.74526007 -0.81310308 -1.96621297]]\n"
     ]
    }
   ],
   "source": [
    "a = np.random.randn(1,5)\n",
    "print(a)"
   ]
  },
  {
   "cell_type": "code",
   "execution_count": 15,
   "id": "4ae48abf",
   "metadata": {},
   "outputs": [
    {
     "name": "stdout",
     "output_type": "stream",
     "text": [
      "[[ 0.06185247 -0.36644479  0.21760156]\n",
      " [ 0.27737995 -0.21912652  0.57989636]]\n"
     ]
    }
   ],
   "source": [
    "a = np.random.randn(2,3)\n",
    "print(a)"
   ]
  },
  {
   "cell_type": "code",
   "execution_count": 16,
   "id": "71f4b987",
   "metadata": {},
   "outputs": [
    {
     "name": "stdout",
     "output_type": "stream",
     "text": [
      "[[ 0.06185247  0.27737995]\n",
      " [-0.36644479 -0.21912652]\n",
      " [ 0.21760156  0.57989636]]\n"
     ]
    }
   ],
   "source": [
    "print(a.T)"
   ]
  },
  {
   "cell_type": "code",
   "execution_count": 24,
   "id": "0ac425a1",
   "metadata": {},
   "outputs": [
    {
     "ename": "ValueError",
     "evalue": "shapes (2,3) and (2,1) not aligned: 3 (dim 1) != 2 (dim 0)",
     "output_type": "error",
     "traceback": [
      "\u001b[1;31m---------------------------------------------------------------------------\u001b[0m",
      "\u001b[1;31mValueError\u001b[0m                                Traceback (most recent call last)",
      "\u001b[1;32mC:\\Users\\RISHAB~1\\AppData\\Local\\Temp/ipykernel_14456/3918839250.py\u001b[0m in \u001b[0;36m<module>\u001b[1;34m\u001b[0m\n\u001b[0;32m      4\u001b[0m \u001b[0mc\u001b[0m \u001b[1;33m=\u001b[0m \u001b[0ma\u001b[0m \u001b[1;33m+\u001b[0m \u001b[0mb\u001b[0m\u001b[1;33m\u001b[0m\u001b[1;33m\u001b[0m\u001b[0m\n\u001b[0;32m      5\u001b[0m \u001b[1;31m# c=a+b\u001b[0m\u001b[1;33m\u001b[0m\u001b[1;33m\u001b[0m\u001b[1;33m\u001b[0m\u001b[0m\n\u001b[1;32m----> 6\u001b[1;33m \u001b[0md\u001b[0m \u001b[1;33m=\u001b[0m \u001b[0mnp\u001b[0m\u001b[1;33m.\u001b[0m\u001b[0mdot\u001b[0m\u001b[1;33m(\u001b[0m\u001b[0ma\u001b[0m\u001b[1;33m,\u001b[0m\u001b[0mb\u001b[0m\u001b[1;33m)\u001b[0m\u001b[1;33m\u001b[0m\u001b[1;33m\u001b[0m\u001b[0m\n\u001b[0m\u001b[0;32m      7\u001b[0m \u001b[1;33m\u001b[0m\u001b[0m\n\u001b[0;32m      8\u001b[0m \u001b[1;31m# print(c.shape)\u001b[0m\u001b[1;33m\u001b[0m\u001b[1;33m\u001b[0m\u001b[1;33m\u001b[0m\u001b[0m\n",
      "\u001b[1;32m<__array_function__ internals>\u001b[0m in \u001b[0;36mdot\u001b[1;34m(*args, **kwargs)\u001b[0m\n",
      "\u001b[1;31mValueError\u001b[0m: shapes (2,3) and (2,1) not aligned: 3 (dim 1) != 2 (dim 0)"
     ]
    }
   ],
   "source": [
    "a=np.random.randn(2,3) # a.shape = (2, 3)a.shape=(2,3)\n",
    "b=np.random.randn(2,1) #  b.shape = (2, 1)b.shape=(2,1)\n",
    "\n",
    "c = a + b \n",
    "# c=a+b\n",
    "d = np.dot(a,b)\n",
    "\n",
    "# print(c.shape)\n",
    "print(d.shape)"
   ]
  },
  {
   "cell_type": "code",
   "execution_count": 28,
   "id": "e73bc927",
   "metadata": {},
   "outputs": [
    {
     "name": "stdout",
     "output_type": "stream",
     "text": [
      "(12288, 45)\n"
     ]
    }
   ],
   "source": [
    "a=np.random.randn(12288,150) # a.shape = (12288, 150)a.shape=(12288,150)\n",
    "b = np.random.randn(150, 45)\n",
    "b =np.random.randn(150,45) # b.shape = (150, 45)$$\n",
    "\n",
    "c = np.dot(a,b)\n",
    "c=np.dot(a,b) \n",
    "print(c.shape)"
   ]
  },
  {
   "cell_type": "code",
   "execution_count": 32,
   "id": "b47a5b2f",
   "metadata": {},
   "outputs": [
    {
     "ename": "SyntaxError",
     "evalue": "invalid character '∗' (U+2217) (Temp/ipykernel_14456/736712677.py, line 7)",
     "output_type": "error",
     "traceback": [
      "\u001b[1;36m  File \u001b[1;32m\"C:\\Users\\RISHAB~1\\AppData\\Local\\Temp/ipykernel_14456/736712677.py\"\u001b[1;36m, line \u001b[1;32m7\u001b[0m\n\u001b[1;33m    c=a∗b\u001b[0m\n\u001b[1;37m       ^\u001b[0m\n\u001b[1;31mSyntaxError\u001b[0m\u001b[1;31m:\u001b[0m invalid character '∗' (U+2217)\n"
     ]
    }
   ],
   "source": [
    "a=np.random.randn(3,3)\n",
    "\n",
    "b = np.random.randn(3, 1)\n",
    "b=np.random.randn(3,1)\n",
    "\n",
    "c = a*b\n",
    "c=a∗b "
   ]
  },
  {
   "cell_type": "code",
   "execution_count": null,
   "id": "aae79ee9",
   "metadata": {},
   "outputs": [],
   "source": []
  }
 ],
 "metadata": {
  "kernelspec": {
   "display_name": "Python 3 (ipykernel)",
   "language": "python",
   "name": "python3"
  },
  "language_info": {
   "codemirror_mode": {
    "name": "ipython",
    "version": 3
   },
   "file_extension": ".py",
   "mimetype": "text/x-python",
   "name": "python",
   "nbconvert_exporter": "python",
   "pygments_lexer": "ipython3",
   "version": "3.9.6"
  }
 },
 "nbformat": 4,
 "nbformat_minor": 5
}
