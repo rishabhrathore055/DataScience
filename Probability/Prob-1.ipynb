{
 "cells": [
  {
   "cell_type": "markdown",
   "id": "5bb9d1cd-daa9-4919-9ac7-ac3712233f9b",
   "metadata": {},
   "source": [
    "## Background \n",
    "You along with your friend went to casino at Las Vegas. There was a game called cups and money, \n",
    "\n",
    "- In variant 1, there are 2 cups. In one cup there is $10 hidden, in the other cup there is nothing\n",
    "\n",
    "- In variarit 2, there are 100 cups, Out of all there is just one cup where there is $10 hidden, and rest all have nothing. \n",
    "\n",
    "## Q-Which variant of the game would you like to play and why? \n",
    "### Motivation \n",
    "### Q-What is the probability? \n",
    "- Users are spending more than 10 mins on your website or less than 1 minute? \n",
    "### Probability? \n",
    "-  Experiment \n",
    "- Event, Non-Event \n",
    "- Space \n",
    "### How to calculate probability? \n",
    "- Classical \n",
    "- Frequency(observed)"
   ]
  },
  {
   "cell_type": "markdown",
   "id": "e15e92d4-4de3-4d3c-8396-e0d345d7f675",
   "metadata": {},
   "source": [
    "## Laws of Probability \n",
    "# Marginal Probability P(A) \n",
    "### Example Casino Vegas Game 2 \n",
    "#### You and your friend want to play another game at casino. \n",
    "\n",
    "This game involves rolling a die and if the die shows the number of your choice you win $10. Now, you want to crack the code for the game To take the estimates you started asking everyone who played the game, whether they won or lose \n",
    "After 2 hours of asking 100, you came to know that only 18 people won that game \n",
    "Hence the probablity is \n",
    "But a fair die has a probabilty of 1/6-0.166 \n",
    "But since, this is a proability and hence you dont have any certainity that you will only get 0.166 probability, as the sample size is very small But if you perform the experiment for the infinite time you will get very close to 0.166 \n",
    "#### Question 1: You are Playing a game where 50% of the time you win, and you played it 10 times \n",
    "- what is the probability of winning the game?"
   ]
  },
  {
   "cell_type": "code",
   "execution_count": 1,
   "id": "50fbea3d-d9c1-4175-85c4-8349c9df27df",
   "metadata": {},
   "outputs": [],
   "source": [
    "import random"
   ]
  },
  {
   "cell_type": "code",
   "execution_count": 13,
   "id": "062c89a3-aa56-4bed-8add-561289af0118",
   "metadata": {},
   "outputs": [
    {
     "name": "stdout",
     "output_type": "stream",
     "text": [
      "Out of 1000 Matches you win 474 times Probability: 0.474\n"
     ]
    }
   ],
   "source": [
    "win =  0\n",
    "games = 1000\n",
    "for i in range(games):\n",
    "    win += random.randint(0,1)\n",
    "print(\"Out of {} Matches you win {} times Probability: {}\".format(games,win,win/games))"
   ]
  },
  {
   "cell_type": "markdown",
   "id": "240c2e58-0e52-437a-8d92-d52cd1a95a37",
   "metadata": {},
   "source": [
    "Note: This will change everytime we run the above piece of code as we using a random number generator \n",
    "## Joint Probability P(A and B) \n",
    "- The probability of event A and event 8-occurring \n",
    "### Example - Casino Vegas Game 3 \n",
    "At the casino, you want to play another game, which involves cards. They pick one cand out of the deck. You can either place your bet on Face Cards, Color card, number card, odd number or even number cards \n",
    "\n",
    "You somehow got to know that the card they picked is not a face card. What are the chances of wirining if you prefer to go for an even number card"
   ]
  },
  {
   "cell_type": "code",
   "execution_count": null,
   "id": "555a6413-766d-4f75-a571-e350d02a4507",
   "metadata": {},
   "outputs": [],
   "source": []
  }
 ],
 "metadata": {
  "kernelspec": {
   "display_name": "Python 3 (ipykernel)",
   "language": "python",
   "name": "python3"
  },
  "language_info": {
   "codemirror_mode": {
    "name": "ipython",
    "version": 3
   },
   "file_extension": ".py",
   "mimetype": "text/x-python",
   "name": "python",
   "nbconvert_exporter": "python",
   "pygments_lexer": "ipython3",
   "version": "3.10.8"
  }
 },
 "nbformat": 4,
 "nbformat_minor": 5
}
