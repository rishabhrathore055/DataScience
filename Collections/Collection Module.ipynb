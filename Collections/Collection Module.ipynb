{
 "cells": [
  {
   "cell_type": "markdown",
   "id": "a17412f5",
   "metadata": {},
   "source": [
    "###  Namedtuple"
   ]
  },
  {
   "cell_type": "code",
   "execution_count": 1,
   "id": "563e7c93",
   "metadata": {},
   "outputs": [],
   "source": [
    "from collections import namedtuple"
   ]
  },
  {
   "cell_type": "code",
   "execution_count": 2,
   "id": "fcd8929d",
   "metadata": {},
   "outputs": [
    {
     "name": "stdout",
     "output_type": "stream",
     "text": [
      "Courses(name='Data Science', technology='Python')\n"
     ]
    }
   ],
   "source": [
    "x = namedtuple('Courses','name technology')\n",
    "t = x('Data Science','Python')\n",
    "print(t)"
   ]
  },
  {
   "cell_type": "code",
   "execution_count": 3,
   "id": "9feacd63",
   "metadata": {},
   "outputs": [
    {
     "data": {
      "text/plain": [
       "{'name': 'Data Science', 'technology': 'Python'}"
      ]
     },
     "execution_count": 3,
     "metadata": {},
     "output_type": "execute_result"
    }
   ],
   "source": [
    "t._asdict()"
   ]
  },
  {
   "cell_type": "code",
   "execution_count": 4,
   "id": "525d7f44",
   "metadata": {},
   "outputs": [
    {
     "data": {
      "text/plain": [
       "Courses(name='Data Science', language='Python')"
      ]
     },
     "execution_count": 4,
     "metadata": {},
     "output_type": "execute_result"
    }
   ],
   "source": [
    "x = namedtuple('Courses','name language')\n",
    "t = x('Data Science','Python')\n",
    "t"
   ]
  },
  {
   "cell_type": "code",
   "execution_count": 5,
   "id": "857d9072",
   "metadata": {},
   "outputs": [],
   "source": [
    "x = namedtuple('Courses','name technology')"
   ]
  },
  {
   "cell_type": "code",
   "execution_count": 6,
   "id": "f716aa2e",
   "metadata": {},
   "outputs": [
    {
     "name": "stdout",
     "output_type": "stream",
     "text": [
      "Courses(name='Web Developement', technology='MERN/MEAN')\n"
     ]
    }
   ],
   "source": [
    "li = ['Web Developement','MERN/MEAN']\n",
    "print(x._make(li))"
   ]
  },
  {
   "cell_type": "markdown",
   "id": "65892289",
   "metadata": {},
   "source": [
    "### deque"
   ]
  },
  {
   "cell_type": "code",
   "execution_count": 7,
   "id": "2597de75",
   "metadata": {},
   "outputs": [],
   "source": [
    "from collections import deque"
   ]
  },
  {
   "cell_type": "code",
   "execution_count": 8,
   "id": "4bc0810b",
   "metadata": {},
   "outputs": [
    {
     "data": {
      "text/plain": [
       "deque(['i', 'i', 's', 't', 'i', 'n', 'd', 'M', 'P'])"
      ]
     },
     "execution_count": 8,
     "metadata": {},
     "output_type": "execute_result"
    }
   ],
   "source": [
    "clg = deque(['i','i','s','t','i','n','d'])\n",
    "clg.append('M')\n",
    "clg.append('P')\n",
    "clg"
   ]
  },
  {
   "cell_type": "code",
   "execution_count": 9,
   "id": "c3ff7f54",
   "metadata": {},
   "outputs": [
    {
     "data": {
      "text/plain": [
       "deque(['i', 'i', 'i', 's', 't', 'i', 'n', 'd', 'M', 'P'])"
      ]
     },
     "execution_count": 9,
     "metadata": {},
     "output_type": "execute_result"
    }
   ],
   "source": [
    "clg.appendleft('i')\n",
    "clg"
   ]
  },
  {
   "cell_type": "code",
   "execution_count": 10,
   "id": "d4ce921e",
   "metadata": {},
   "outputs": [
    {
     "data": {
      "text/plain": [
       "deque([])"
      ]
     },
     "execution_count": 10,
     "metadata": {},
     "output_type": "execute_result"
    }
   ],
   "source": [
    "xyz = deque(['i','i','n','f'])\n",
    "xyz.clear()\n",
    "xyz"
   ]
  },
  {
   "cell_type": "code",
   "execution_count": 11,
   "id": "cd67627d",
   "metadata": {},
   "outputs": [
    {
     "data": {
      "text/plain": [
       "deque(['i', 'i', 'n', 'f'])"
      ]
     },
     "execution_count": 11,
     "metadata": {},
     "output_type": "execute_result"
    }
   ],
   "source": [
    "hii = deque(['i','i','n','f'])\n",
    "hla= hii.copy()\n",
    "hla"
   ]
  },
  {
   "cell_type": "code",
   "execution_count": 12,
   "id": "b01a01a3",
   "metadata": {},
   "outputs": [
    {
     "data": {
      "text/plain": [
       "3"
      ]
     },
     "execution_count": 12,
     "metadata": {},
     "output_type": "execute_result"
    }
   ],
   "source": [
    "clg = deque(['i','i','s','t','i','n','d'])\n",
    "clg.count(\"i\")"
   ]
  },
  {
   "cell_type": "code",
   "execution_count": 13,
   "id": "20bebb58",
   "metadata": {},
   "outputs": [
    {
     "name": "stdout",
     "output_type": "stream",
     "text": [
      "deque(['x', 'i', 's', 't', 'i', 'n'])\n",
      "deque(['i', 's', 't', 'i', 'n'])\n"
     ]
    }
   ],
   "source": [
    "clg = deque(['x','i','s','t','i','n','d'])\n",
    "clg.pop() # \n",
    "print(clg)\n",
    "clg.popleft()\n",
    "print(clg)"
   ]
  },
  {
   "cell_type": "code",
   "execution_count": 14,
   "id": "9747696f",
   "metadata": {},
   "outputs": [
    {
     "name": "stdout",
     "output_type": "stream",
     "text": [
      "deque(['i', 's', 't', 'i', 'n', 'o', 'i'])\n",
      "deque(['c', 'b', 'a', 'i', 's', 't', 'i', 'n', 'o', 'i'])\n"
     ]
    }
   ],
   "source": [
    "clg.extend('oi')\n",
    "print(clg)\n",
    "clg.extendleft('abc')\n",
    "print(clg)"
   ]
  },
  {
   "cell_type": "code",
   "execution_count": 15,
   "id": "a4319035",
   "metadata": {},
   "outputs": [
    {
     "data": {
      "text/plain": [
       "deque(['c', 'b', 'i', 's', 't', 'i', 'n', 'o', 'i'])"
      ]
     },
     "execution_count": 15,
     "metadata": {},
     "output_type": "execute_result"
    }
   ],
   "source": [
    "clg.remove('a')\n",
    "clg"
   ]
  },
  {
   "cell_type": "code",
   "execution_count": 16,
   "id": "60c4a8e6",
   "metadata": {},
   "outputs": [
    {
     "data": {
      "text/plain": [
       "deque(['i', 'o', 'n', 'i', 't', 's', 'i', 'b', 'c'])"
      ]
     },
     "execution_count": 16,
     "metadata": {},
     "output_type": "execute_result"
    }
   ],
   "source": [
    "clg.reverse()\n",
    "clg"
   ]
  },
  {
   "cell_type": "markdown",
   "id": "e0c84820",
   "metadata": {},
   "source": [
    "### ChainMap"
   ]
  },
  {
   "cell_type": "code",
   "execution_count": 19,
   "id": "01ff2e17",
   "metadata": {},
   "outputs": [],
   "source": [
    "from collections import ChainMap"
   ]
  },
  {
   "cell_type": "code",
   "execution_count": 25,
   "id": "33243526",
   "metadata": {},
   "outputs": [
    {
     "data": {
      "text/plain": [
       "['music', 'art', 'opera']"
      ]
     },
     "execution_count": 25,
     "metadata": {},
     "output_type": "execute_result"
    }
   ],
   "source": [
    "baseline = {'music': 'bach', 'art': 'rembrandt'}\n",
    "adjustments = {'art': 'van gogh', 'opera': 'carmen'}\n",
    "list(ChainMap(adjustments, baseline))"
   ]
  },
  {
   "cell_type": "markdown",
   "id": "045bf453",
   "metadata": {},
   "source": [
    "### Counter "
   ]
  },
  {
   "cell_type": "code",
   "execution_count": 29,
   "id": "c7b32847",
   "metadata": {},
   "outputs": [],
   "source": [
    "from collections import Counter"
   ]
  },
  {
   "cell_type": "code",
   "execution_count": 31,
   "id": "a5dfcec3",
   "metadata": {},
   "outputs": [
    {
     "data": {
      "text/plain": [
       "Counter({'A': 3, 'B': 3, 'D': 2, 'C': 1, 'E': 1})"
      ]
     },
     "execution_count": 31,
     "metadata": {},
     "output_type": "execute_result"
    }
   ],
   "source": [
    "cnt = Counter()\n",
    "Grades = ['A','B','D',\"A\",'C','E','B','D','B','A']\n",
    "for grade in Grades:\n",
    "    cnt[grade]+=1\n",
    "cnt"
   ]
  },
  {
   "cell_type": "code",
   "execution_count": 45,
   "id": "a72e7be1",
   "metadata": {},
   "outputs": [
    {
     "name": "stdout",
     "output_type": "stream",
     "text": [
      "dict_items([('J', 5), ('A', 2), ('V', 2), ('-', 4), ('R', 1), ('E', 1), ('M', 1), ('D', 2), ('B', 1), ('C', 1)])\n",
      "dict_keys(['J', 'A', 'V', '-', 'R', 'E', 'M', 'D', 'B', 'C'])\n",
      "dict_values([5, 2, 2, 4, 1, 1, 1, 2, 1, 1])\n",
      "[('J', 5), ('-', 4), ('A', 2), ('V', 2), ('D', 2), ('R', 1), ('E', 1), ('M', 1), ('B', 1), ('C', 1)]\n"
     ]
    }
   ],
   "source": [
    "Java = Counter('JAVA-JRE-JVM-JDBC-JD')\n",
    "Java\n",
    "print(Java.items())\n",
    "print(Java.keys())\n",
    "print(Java.values())\n",
    "print(Java.most_common())"
   ]
  },
  {
   "cell_type": "markdown",
   "id": "da762d69",
   "metadata": {},
   "source": [
    "### OrderedDict\n",
    "dict subclass that remembers the order entries were added"
   ]
  },
  {
   "cell_type": "code",
   "execution_count": 46,
   "id": "47e30e8e",
   "metadata": {},
   "outputs": [],
   "source": [
    "from collections import OrderedDict"
   ]
  },
  {
   "cell_type": "code",
   "execution_count": 52,
   "id": "4cbf1830",
   "metadata": {},
   "outputs": [
    {
     "name": "stdout",
     "output_type": "stream",
     "text": [
      "odict_keys([1, 2, 3, 4])\n",
      "odict_values(['i', 'i', 's', 't'])\n"
     ]
    }
   ],
   "source": [
    "d  = OrderedDict()\n",
    "d[1] = 'i'\n",
    "d[2] = 'i'\n",
    "d[3] = 's'\n",
    "d[4] = 't'\n",
    "d[1] = 'i'\n",
    "print(d.keys())\n",
    "print(d.values())"
   ]
  },
  {
   "cell_type": "markdown",
   "id": "5c9c755d",
   "metadata": {},
   "source": [
    "### defaultdict\n",
    "\n",
    "dict subclass that calls a factory function to supply missing values"
   ]
  },
  {
   "cell_type": "code",
   "execution_count": 64,
   "id": "513c7a88",
   "metadata": {},
   "outputs": [],
   "source": [
    "from collections import defaultdict"
   ]
  },
  {
   "cell_type": "code",
   "execution_count": 66,
   "id": "596295aa",
   "metadata": {},
   "outputs": [
    {
     "data": {
      "text/plain": [
       "defaultdict(list, {'yellow': [1, 3], 'blue': [2, 4], 'red': [1]})"
      ]
     },
     "execution_count": 66,
     "metadata": {},
     "output_type": "execute_result"
    }
   ],
   "source": [
    "s = [('yellow', 1), ('blue', 2), ('yellow', 3), ('blue', 4), ('red', 1)]\n",
    "d = defaultdict(list)\n",
    "for k, v in s:\n",
    "    d[k].append(v)\n",
    "d"
   ]
  },
  {
   "cell_type": "code",
   "execution_count": null,
   "id": "a43cdc69",
   "metadata": {},
   "outputs": [],
   "source": []
  }
 ],
 "metadata": {
  "kernelspec": {
   "display_name": "Python 3 (ipykernel)",
   "language": "python",
   "name": "python3"
  },
  "language_info": {
   "codemirror_mode": {
    "name": "ipython",
    "version": 3
   },
   "file_extension": ".py",
   "mimetype": "text/x-python",
   "name": "python",
   "nbconvert_exporter": "python",
   "pygments_lexer": "ipython3",
   "version": "3.9.6"
  }
 },
 "nbformat": 4,
 "nbformat_minor": 5
}
