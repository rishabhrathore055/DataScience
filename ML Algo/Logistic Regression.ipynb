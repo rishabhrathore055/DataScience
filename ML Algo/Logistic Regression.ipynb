{
 "cells": [
  {
   "cell_type": "code",
   "execution_count": 1,
   "id": "746c6fe1",
   "metadata": {},
   "outputs": [],
   "source": [
    "import numpy as np\n",
    "import seaborn as sns\n",
    "import pandas as pd"
   ]
  },
  {
   "cell_type": "markdown",
   "id": "2b428136",
   "metadata": {},
   "source": [
    "### Sigmoid function"
   ]
  },
  {
   "cell_type": "code",
   "execution_count": 2,
   "id": "9c37692d",
   "metadata": {},
   "outputs": [],
   "source": [
    "def sigmoid(x):\n",
    "    z =  np.exp(-x)\n",
    "    return 1 / (1 + z)"
   ]
  },
  {
   "cell_type": "code",
   "execution_count": 3,
   "id": "640982fa",
   "metadata": {},
   "outputs": [],
   "source": [
    "def compute_cost(Y,Yhat): # real/actual value and the predicted value\n",
    "    m = len(Y)\n",
    "    return -1 / m * np.sum(Y * np.log(Yhat) + ( 1 - Y) * np.log(1-Yhat))"
   ]
  },
  {
   "cell_type": "code",
   "execution_count": 4,
   "id": "0f230323",
   "metadata": {},
   "outputs": [],
   "source": [
    "class LogisticRegression:\n",
    "    def __init__(self,learning_rate = 0.1,num_iterations=100):\n",
    "        self.learning_rate =  learning_rate\n",
    "        self.num_iterations = num_iterations\n",
    "        self.W = None\n",
    "        self.b = None\n",
    "    def sigmoid(self,z):\n",
    "        return 1/ (1+ np.exp(-z))\n",
    "    def compute_cost(self,Y,Yhat):\n",
    "        m = len(Y)\n",
    "        return -1/ m * np.sum(Y * np.log(Yhat) + (1 - Y) * np.log(1 - Yhat))\n",
    "    \n",
    "    def fit(self,X,Y):\n",
    "        m,n = X.shape\n",
    "        self.W = np.zeros(n)\n",
    "        self.b = 0\n",
    "        \n",
    "        for i in range(self.num_iterations):\n",
    "            Yhat = self.sigmoid(np.dot(X,self.W) + self.b)\n",
    "            gradient = np.dot(X.T,(Yhat - Y)) / m\n",
    "            self.W -= self.learning_rate * gradient\n",
    "            self.b -= self.learning_rate * np.sum(Yhat - Y) /m\n",
    "            \n",
    "            cost = self.compute_cost(Y,Yhat)\n",
    "            if i % 10000 == 0:\n",
    "                print(\"Iteration {i}: Cost = {cost:.4f}\")\n",
    "    def predict(self,X):\n",
    "        Yhat = self.sigmoid(np.dot(X,self.W) + self.b)\n",
    "        return (Yhat > 0.5).astype(int)"
   ]
  },
  {
   "cell_type": "code",
   "execution_count": 5,
   "id": "c78150e7",
   "metadata": {},
   "outputs": [],
   "source": [
    "data = pd.read_csv('placement.csv')"
   ]
  },
  {
   "cell_type": "code",
   "execution_count": 6,
   "id": "0ff294a5",
   "metadata": {},
   "outputs": [
    {
     "data": {
      "text/html": [
       "<div>\n",
       "<style scoped>\n",
       "    .dataframe tbody tr th:only-of-type {\n",
       "        vertical-align: middle;\n",
       "    }\n",
       "\n",
       "    .dataframe tbody tr th {\n",
       "        vertical-align: top;\n",
       "    }\n",
       "\n",
       "    .dataframe thead th {\n",
       "        text-align: right;\n",
       "    }\n",
       "</style>\n",
       "<table border=\"1\" class=\"dataframe\">\n",
       "  <thead>\n",
       "    <tr style=\"text-align: right;\">\n",
       "      <th></th>\n",
       "      <th>Unnamed: 0</th>\n",
       "      <th>cgpa</th>\n",
       "      <th>iq</th>\n",
       "      <th>placement</th>\n",
       "    </tr>\n",
       "  </thead>\n",
       "  <tbody>\n",
       "    <tr>\n",
       "      <th>0</th>\n",
       "      <td>0</td>\n",
       "      <td>6.8</td>\n",
       "      <td>123.0</td>\n",
       "      <td>1</td>\n",
       "    </tr>\n",
       "    <tr>\n",
       "      <th>1</th>\n",
       "      <td>1</td>\n",
       "      <td>5.9</td>\n",
       "      <td>106.0</td>\n",
       "      <td>0</td>\n",
       "    </tr>\n",
       "    <tr>\n",
       "      <th>2</th>\n",
       "      <td>2</td>\n",
       "      <td>5.3</td>\n",
       "      <td>121.0</td>\n",
       "      <td>0</td>\n",
       "    </tr>\n",
       "    <tr>\n",
       "      <th>3</th>\n",
       "      <td>3</td>\n",
       "      <td>7.4</td>\n",
       "      <td>132.0</td>\n",
       "      <td>1</td>\n",
       "    </tr>\n",
       "    <tr>\n",
       "      <th>4</th>\n",
       "      <td>4</td>\n",
       "      <td>5.8</td>\n",
       "      <td>142.0</td>\n",
       "      <td>0</td>\n",
       "    </tr>\n",
       "  </tbody>\n",
       "</table>\n",
       "</div>"
      ],
      "text/plain": [
       "   Unnamed: 0  cgpa     iq  placement\n",
       "0           0   6.8  123.0          1\n",
       "1           1   5.9  106.0          0\n",
       "2           2   5.3  121.0          0\n",
       "3           3   7.4  132.0          1\n",
       "4           4   5.8  142.0          0"
      ]
     },
     "execution_count": 6,
     "metadata": {},
     "output_type": "execute_result"
    }
   ],
   "source": [
    "data.head()"
   ]
  },
  {
   "cell_type": "code",
   "execution_count": 7,
   "id": "b1626cd8",
   "metadata": {},
   "outputs": [],
   "source": [
    "data = data.iloc[:,1:]"
   ]
  },
  {
   "cell_type": "code",
   "execution_count": 8,
   "id": "f7af8ef2",
   "metadata": {},
   "outputs": [
    {
     "data": {
      "text/html": [
       "<div>\n",
       "<style scoped>\n",
       "    .dataframe tbody tr th:only-of-type {\n",
       "        vertical-align: middle;\n",
       "    }\n",
       "\n",
       "    .dataframe tbody tr th {\n",
       "        vertical-align: top;\n",
       "    }\n",
       "\n",
       "    .dataframe thead th {\n",
       "        text-align: right;\n",
       "    }\n",
       "</style>\n",
       "<table border=\"1\" class=\"dataframe\">\n",
       "  <thead>\n",
       "    <tr style=\"text-align: right;\">\n",
       "      <th></th>\n",
       "      <th>cgpa</th>\n",
       "      <th>iq</th>\n",
       "      <th>placement</th>\n",
       "    </tr>\n",
       "  </thead>\n",
       "  <tbody>\n",
       "    <tr>\n",
       "      <th>0</th>\n",
       "      <td>6.8</td>\n",
       "      <td>123.0</td>\n",
       "      <td>1</td>\n",
       "    </tr>\n",
       "    <tr>\n",
       "      <th>1</th>\n",
       "      <td>5.9</td>\n",
       "      <td>106.0</td>\n",
       "      <td>0</td>\n",
       "    </tr>\n",
       "    <tr>\n",
       "      <th>2</th>\n",
       "      <td>5.3</td>\n",
       "      <td>121.0</td>\n",
       "      <td>0</td>\n",
       "    </tr>\n",
       "    <tr>\n",
       "      <th>3</th>\n",
       "      <td>7.4</td>\n",
       "      <td>132.0</td>\n",
       "      <td>1</td>\n",
       "    </tr>\n",
       "    <tr>\n",
       "      <th>4</th>\n",
       "      <td>5.8</td>\n",
       "      <td>142.0</td>\n",
       "      <td>0</td>\n",
       "    </tr>\n",
       "  </tbody>\n",
       "</table>\n",
       "</div>"
      ],
      "text/plain": [
       "   cgpa     iq  placement\n",
       "0   6.8  123.0          1\n",
       "1   5.9  106.0          0\n",
       "2   5.3  121.0          0\n",
       "3   7.4  132.0          1\n",
       "4   5.8  142.0          0"
      ]
     },
     "execution_count": 8,
     "metadata": {},
     "output_type": "execute_result"
    }
   ],
   "source": [
    "data.head()"
   ]
  },
  {
   "cell_type": "code",
   "execution_count": 9,
   "id": "dd2dde02",
   "metadata": {},
   "outputs": [],
   "source": [
    "X = data.iloc[:,0:2]\n",
    "y = data.iloc[:,-1]"
   ]
  },
  {
   "cell_type": "code",
   "execution_count": 10,
   "id": "9e12bca3",
   "metadata": {},
   "outputs": [
    {
     "data": {
      "text/html": [
       "<div>\n",
       "<style scoped>\n",
       "    .dataframe tbody tr th:only-of-type {\n",
       "        vertical-align: middle;\n",
       "    }\n",
       "\n",
       "    .dataframe tbody tr th {\n",
       "        vertical-align: top;\n",
       "    }\n",
       "\n",
       "    .dataframe thead th {\n",
       "        text-align: right;\n",
       "    }\n",
       "</style>\n",
       "<table border=\"1\" class=\"dataframe\">\n",
       "  <thead>\n",
       "    <tr style=\"text-align: right;\">\n",
       "      <th></th>\n",
       "      <th>cgpa</th>\n",
       "      <th>iq</th>\n",
       "    </tr>\n",
       "  </thead>\n",
       "  <tbody>\n",
       "    <tr>\n",
       "      <th>0</th>\n",
       "      <td>6.8</td>\n",
       "      <td>123.0</td>\n",
       "    </tr>\n",
       "    <tr>\n",
       "      <th>1</th>\n",
       "      <td>5.9</td>\n",
       "      <td>106.0</td>\n",
       "    </tr>\n",
       "  </tbody>\n",
       "</table>\n",
       "</div>"
      ],
      "text/plain": [
       "   cgpa     iq\n",
       "0   6.8  123.0\n",
       "1   5.9  106.0"
      ]
     },
     "execution_count": 10,
     "metadata": {},
     "output_type": "execute_result"
    }
   ],
   "source": [
    "X.head(2)"
   ]
  },
  {
   "cell_type": "code",
   "execution_count": 11,
   "id": "6272a0a4",
   "metadata": {},
   "outputs": [
    {
     "data": {
      "text/plain": [
       "0    1\n",
       "1    0\n",
       "Name: placement, dtype: int64"
      ]
     },
     "execution_count": 11,
     "metadata": {},
     "output_type": "execute_result"
    }
   ],
   "source": [
    "y.head(2)"
   ]
  },
  {
   "cell_type": "code",
   "execution_count": 12,
   "id": "65bffa88",
   "metadata": {},
   "outputs": [],
   "source": [
    "from sklearn.model_selection import train_test_split\n",
    "\n",
    "X_train,X_test,y_train,y_test = train_test_split(X,y,test_size=0.23)"
   ]
  },
  {
   "cell_type": "code",
   "execution_count": 13,
   "id": "5cd20bdb",
   "metadata": {},
   "outputs": [],
   "source": [
    "lr = LogisticRegression()"
   ]
  },
  {
   "cell_type": "code",
   "execution_count": 14,
   "id": "eed412d5",
   "metadata": {},
   "outputs": [
    {
     "name": "stdout",
     "output_type": "stream",
     "text": [
      "Iteration {i}: Cost = {cost:.4f}\n"
     ]
    },
    {
     "name": "stderr",
     "output_type": "stream",
     "text": [
      "C:\\Users\\RISHAB~1\\AppData\\Local\\Temp/ipykernel_23272/2705673322.py:11: RuntimeWarning: divide by zero encountered in log\n",
      "  return -1/ m * np.sum(Y * np.log(Yhat) + (1 - Y) * np.log(1 - Yhat))\n",
      "C:\\Users\\RISHAB~1\\AppData\\Local\\Temp/ipykernel_23272/2705673322.py:11: RuntimeWarning: divide by zero encountered in log\n",
      "  return -1/ m * np.sum(Y * np.log(Yhat) + (1 - Y) * np.log(1 - Yhat))\n",
      "C:\\Users\\RISHAB~1\\AppData\\Local\\Temp/ipykernel_23272/2705673322.py:11: RuntimeWarning: divide by zero encountered in log\n",
      "  return -1/ m * np.sum(Y * np.log(Yhat) + (1 - Y) * np.log(1 - Yhat))\n",
      "C:\\Users\\RISHAB~1\\AppData\\Local\\Temp/ipykernel_23272/2705673322.py:11: RuntimeWarning: divide by zero encountered in log\n",
      "  return -1/ m * np.sum(Y * np.log(Yhat) + (1 - Y) * np.log(1 - Yhat))\n",
      "C:\\Users\\RISHAB~1\\AppData\\Local\\Temp/ipykernel_23272/2705673322.py:11: RuntimeWarning: divide by zero encountered in log\n",
      "  return -1/ m * np.sum(Y * np.log(Yhat) + (1 - Y) * np.log(1 - Yhat))\n",
      "C:\\Users\\RISHAB~1\\AppData\\Local\\Temp/ipykernel_23272/2705673322.py:11: RuntimeWarning: divide by zero encountered in log\n",
      "  return -1/ m * np.sum(Y * np.log(Yhat) + (1 - Y) * np.log(1 - Yhat))\n",
      "C:\\Users\\RISHAB~1\\AppData\\Local\\Temp/ipykernel_23272/2705673322.py:11: RuntimeWarning: divide by zero encountered in log\n",
      "  return -1/ m * np.sum(Y * np.log(Yhat) + (1 - Y) * np.log(1 - Yhat))\n",
      "C:\\Users\\RISHAB~1\\AppData\\Local\\Temp/ipykernel_23272/2705673322.py:11: RuntimeWarning: divide by zero encountered in log\n",
      "  return -1/ m * np.sum(Y * np.log(Yhat) + (1 - Y) * np.log(1 - Yhat))\n",
      "C:\\Users\\RISHAB~1\\AppData\\Local\\Temp/ipykernel_23272/2705673322.py:11: RuntimeWarning: divide by zero encountered in log\n",
      "  return -1/ m * np.sum(Y * np.log(Yhat) + (1 - Y) * np.log(1 - Yhat))\n",
      "C:\\Users\\RISHAB~1\\AppData\\Local\\Temp/ipykernel_23272/2705673322.py:11: RuntimeWarning: divide by zero encountered in log\n",
      "  return -1/ m * np.sum(Y * np.log(Yhat) + (1 - Y) * np.log(1 - Yhat))\n",
      "C:\\Users\\RISHAB~1\\AppData\\Local\\Temp/ipykernel_23272/2705673322.py:11: RuntimeWarning: divide by zero encountered in log\n",
      "  return -1/ m * np.sum(Y * np.log(Yhat) + (1 - Y) * np.log(1 - Yhat))\n",
      "C:\\Users\\RISHAB~1\\AppData\\Local\\Temp/ipykernel_23272/2705673322.py:11: RuntimeWarning: divide by zero encountered in log\n",
      "  return -1/ m * np.sum(Y * np.log(Yhat) + (1 - Y) * np.log(1 - Yhat))\n",
      "C:\\Users\\RISHAB~1\\AppData\\Local\\Temp/ipykernel_23272/2705673322.py:11: RuntimeWarning: divide by zero encountered in log\n",
      "  return -1/ m * np.sum(Y * np.log(Yhat) + (1 - Y) * np.log(1 - Yhat))\n",
      "C:\\Users\\RISHAB~1\\AppData\\Local\\Temp/ipykernel_23272/2705673322.py:11: RuntimeWarning: divide by zero encountered in log\n",
      "  return -1/ m * np.sum(Y * np.log(Yhat) + (1 - Y) * np.log(1 - Yhat))\n",
      "C:\\Users\\RISHAB~1\\AppData\\Local\\Temp/ipykernel_23272/2705673322.py:11: RuntimeWarning: divide by zero encountered in log\n",
      "  return -1/ m * np.sum(Y * np.log(Yhat) + (1 - Y) * np.log(1 - Yhat))\n",
      "C:\\Users\\RISHAB~1\\AppData\\Local\\Temp/ipykernel_23272/2705673322.py:8: RuntimeWarning: overflow encountered in exp\n",
      "  return 1/ (1+ np.exp(-z))\n",
      "C:\\Users\\RISHAB~1\\AppData\\Local\\Temp/ipykernel_23272/2705673322.py:11: RuntimeWarning: divide by zero encountered in log\n",
      "  return -1/ m * np.sum(Y * np.log(Yhat) + (1 - Y) * np.log(1 - Yhat))\n",
      "C:\\Users\\RISHAB~1\\AppData\\Local\\Temp/ipykernel_23272/2705673322.py:11: RuntimeWarning: divide by zero encountered in log\n",
      "  return -1/ m * np.sum(Y * np.log(Yhat) + (1 - Y) * np.log(1 - Yhat))\n",
      "C:\\Users\\RISHAB~1\\AppData\\Local\\Temp/ipykernel_23272/2705673322.py:8: RuntimeWarning: overflow encountered in exp\n",
      "  return 1/ (1+ np.exp(-z))\n",
      "C:\\Users\\RISHAB~1\\AppData\\Local\\Temp/ipykernel_23272/2705673322.py:11: RuntimeWarning: divide by zero encountered in log\n",
      "  return -1/ m * np.sum(Y * np.log(Yhat) + (1 - Y) * np.log(1 - Yhat))\n",
      "C:\\Users\\RISHAB~1\\AppData\\Local\\Temp/ipykernel_23272/2705673322.py:11: RuntimeWarning: divide by zero encountered in log\n",
      "  return -1/ m * np.sum(Y * np.log(Yhat) + (1 - Y) * np.log(1 - Yhat))\n",
      "C:\\Users\\RISHAB~1\\AppData\\Local\\Temp/ipykernel_23272/2705673322.py:8: RuntimeWarning: overflow encountered in exp\n",
      "  return 1/ (1+ np.exp(-z))\n",
      "C:\\Users\\RISHAB~1\\AppData\\Local\\Temp/ipykernel_23272/2705673322.py:11: RuntimeWarning: divide by zero encountered in log\n",
      "  return -1/ m * np.sum(Y * np.log(Yhat) + (1 - Y) * np.log(1 - Yhat))\n",
      "C:\\Users\\RISHAB~1\\AppData\\Local\\Temp/ipykernel_23272/2705673322.py:11: RuntimeWarning: divide by zero encountered in log\n",
      "  return -1/ m * np.sum(Y * np.log(Yhat) + (1 - Y) * np.log(1 - Yhat))\n",
      "C:\\Users\\RISHAB~1\\AppData\\Local\\Temp/ipykernel_23272/2705673322.py:8: RuntimeWarning: overflow encountered in exp\n",
      "  return 1/ (1+ np.exp(-z))\n",
      "C:\\Users\\RISHAB~1\\AppData\\Local\\Temp/ipykernel_23272/2705673322.py:11: RuntimeWarning: divide by zero encountered in log\n",
      "  return -1/ m * np.sum(Y * np.log(Yhat) + (1 - Y) * np.log(1 - Yhat))\n",
      "C:\\Users\\RISHAB~1\\AppData\\Local\\Temp/ipykernel_23272/2705673322.py:11: RuntimeWarning: divide by zero encountered in log\n",
      "  return -1/ m * np.sum(Y * np.log(Yhat) + (1 - Y) * np.log(1 - Yhat))\n",
      "C:\\Users\\RISHAB~1\\AppData\\Local\\Temp/ipykernel_23272/2705673322.py:8: RuntimeWarning: overflow encountered in exp\n",
      "  return 1/ (1+ np.exp(-z))\n",
      "C:\\Users\\RISHAB~1\\AppData\\Local\\Temp/ipykernel_23272/2705673322.py:11: RuntimeWarning: divide by zero encountered in log\n",
      "  return -1/ m * np.sum(Y * np.log(Yhat) + (1 - Y) * np.log(1 - Yhat))\n",
      "C:\\Users\\RISHAB~1\\AppData\\Local\\Temp/ipykernel_23272/2705673322.py:11: RuntimeWarning: divide by zero encountered in log\n",
      "  return -1/ m * np.sum(Y * np.log(Yhat) + (1 - Y) * np.log(1 - Yhat))\n",
      "C:\\Users\\RISHAB~1\\AppData\\Local\\Temp/ipykernel_23272/2705673322.py:8: RuntimeWarning: overflow encountered in exp\n",
      "  return 1/ (1+ np.exp(-z))\n",
      "C:\\Users\\RISHAB~1\\AppData\\Local\\Temp/ipykernel_23272/2705673322.py:11: RuntimeWarning: divide by zero encountered in log\n",
      "  return -1/ m * np.sum(Y * np.log(Yhat) + (1 - Y) * np.log(1 - Yhat))\n",
      "C:\\Users\\RISHAB~1\\AppData\\Local\\Temp/ipykernel_23272/2705673322.py:11: RuntimeWarning: divide by zero encountered in log\n",
      "  return -1/ m * np.sum(Y * np.log(Yhat) + (1 - Y) * np.log(1 - Yhat))\n",
      "C:\\Users\\RISHAB~1\\AppData\\Local\\Temp/ipykernel_23272/2705673322.py:8: RuntimeWarning: overflow encountered in exp\n",
      "  return 1/ (1+ np.exp(-z))\n",
      "C:\\Users\\RISHAB~1\\AppData\\Local\\Temp/ipykernel_23272/2705673322.py:11: RuntimeWarning: divide by zero encountered in log\n",
      "  return -1/ m * np.sum(Y * np.log(Yhat) + (1 - Y) * np.log(1 - Yhat))\n",
      "C:\\Users\\RISHAB~1\\AppData\\Local\\Temp/ipykernel_23272/2705673322.py:11: RuntimeWarning: divide by zero encountered in log\n",
      "  return -1/ m * np.sum(Y * np.log(Yhat) + (1 - Y) * np.log(1 - Yhat))\n",
      "C:\\Users\\RISHAB~1\\AppData\\Local\\Temp/ipykernel_23272/2705673322.py:8: RuntimeWarning: overflow encountered in exp\n",
      "  return 1/ (1+ np.exp(-z))\n",
      "C:\\Users\\RISHAB~1\\AppData\\Local\\Temp/ipykernel_23272/2705673322.py:11: RuntimeWarning: divide by zero encountered in log\n",
      "  return -1/ m * np.sum(Y * np.log(Yhat) + (1 - Y) * np.log(1 - Yhat))\n",
      "C:\\Users\\RISHAB~1\\AppData\\Local\\Temp/ipykernel_23272/2705673322.py:11: RuntimeWarning: divide by zero encountered in log\n",
      "  return -1/ m * np.sum(Y * np.log(Yhat) + (1 - Y) * np.log(1 - Yhat))\n",
      "C:\\Users\\RISHAB~1\\AppData\\Local\\Temp/ipykernel_23272/2705673322.py:8: RuntimeWarning: overflow encountered in exp\n",
      "  return 1/ (1+ np.exp(-z))\n",
      "C:\\Users\\RISHAB~1\\AppData\\Local\\Temp/ipykernel_23272/2705673322.py:11: RuntimeWarning: divide by zero encountered in log\n",
      "  return -1/ m * np.sum(Y * np.log(Yhat) + (1 - Y) * np.log(1 - Yhat))\n",
      "C:\\Users\\RISHAB~1\\AppData\\Local\\Temp/ipykernel_23272/2705673322.py:11: RuntimeWarning: divide by zero encountered in log\n",
      "  return -1/ m * np.sum(Y * np.log(Yhat) + (1 - Y) * np.log(1 - Yhat))\n",
      "C:\\Users\\RISHAB~1\\AppData\\Local\\Temp/ipykernel_23272/2705673322.py:8: RuntimeWarning: overflow encountered in exp\n",
      "  return 1/ (1+ np.exp(-z))\n",
      "C:\\Users\\RISHAB~1\\AppData\\Local\\Temp/ipykernel_23272/2705673322.py:11: RuntimeWarning: divide by zero encountered in log\n",
      "  return -1/ m * np.sum(Y * np.log(Yhat) + (1 - Y) * np.log(1 - Yhat))\n",
      "C:\\Users\\RISHAB~1\\AppData\\Local\\Temp/ipykernel_23272/2705673322.py:11: RuntimeWarning: divide by zero encountered in log\n",
      "  return -1/ m * np.sum(Y * np.log(Yhat) + (1 - Y) * np.log(1 - Yhat))\n",
      "C:\\Users\\RISHAB~1\\AppData\\Local\\Temp/ipykernel_23272/2705673322.py:8: RuntimeWarning: overflow encountered in exp\n",
      "  return 1/ (1+ np.exp(-z))\n",
      "C:\\Users\\RISHAB~1\\AppData\\Local\\Temp/ipykernel_23272/2705673322.py:11: RuntimeWarning: divide by zero encountered in log\n",
      "  return -1/ m * np.sum(Y * np.log(Yhat) + (1 - Y) * np.log(1 - Yhat))\n",
      "C:\\Users\\RISHAB~1\\AppData\\Local\\Temp/ipykernel_23272/2705673322.py:11: RuntimeWarning: divide by zero encountered in log\n",
      "  return -1/ m * np.sum(Y * np.log(Yhat) + (1 - Y) * np.log(1 - Yhat))\n",
      "C:\\Users\\RISHAB~1\\AppData\\Local\\Temp/ipykernel_23272/2705673322.py:8: RuntimeWarning: overflow encountered in exp\n",
      "  return 1/ (1+ np.exp(-z))\n",
      "C:\\Users\\RISHAB~1\\AppData\\Local\\Temp/ipykernel_23272/2705673322.py:11: RuntimeWarning: divide by zero encountered in log\n",
      "  return -1/ m * np.sum(Y * np.log(Yhat) + (1 - Y) * np.log(1 - Yhat))\n",
      "C:\\Users\\RISHAB~1\\AppData\\Local\\Temp/ipykernel_23272/2705673322.py:11: RuntimeWarning: divide by zero encountered in log\n",
      "  return -1/ m * np.sum(Y * np.log(Yhat) + (1 - Y) * np.log(1 - Yhat))\n",
      "C:\\Users\\RISHAB~1\\AppData\\Local\\Temp/ipykernel_23272/2705673322.py:8: RuntimeWarning: overflow encountered in exp\n",
      "  return 1/ (1+ np.exp(-z))\n",
      "C:\\Users\\RISHAB~1\\AppData\\Local\\Temp/ipykernel_23272/2705673322.py:11: RuntimeWarning: divide by zero encountered in log\n",
      "  return -1/ m * np.sum(Y * np.log(Yhat) + (1 - Y) * np.log(1 - Yhat))\n",
      "C:\\Users\\RISHAB~1\\AppData\\Local\\Temp/ipykernel_23272/2705673322.py:11: RuntimeWarning: divide by zero encountered in log\n",
      "  return -1/ m * np.sum(Y * np.log(Yhat) + (1 - Y) * np.log(1 - Yhat))\n",
      "C:\\Users\\RISHAB~1\\AppData\\Local\\Temp/ipykernel_23272/2705673322.py:8: RuntimeWarning: overflow encountered in exp\n",
      "  return 1/ (1+ np.exp(-z))\n",
      "C:\\Users\\RISHAB~1\\AppData\\Local\\Temp/ipykernel_23272/2705673322.py:11: RuntimeWarning: divide by zero encountered in log\n",
      "  return -1/ m * np.sum(Y * np.log(Yhat) + (1 - Y) * np.log(1 - Yhat))\n",
      "C:\\Users\\RISHAB~1\\AppData\\Local\\Temp/ipykernel_23272/2705673322.py:11: RuntimeWarning: divide by zero encountered in log\n",
      "  return -1/ m * np.sum(Y * np.log(Yhat) + (1 - Y) * np.log(1 - Yhat))\n",
      "C:\\Users\\RISHAB~1\\AppData\\Local\\Temp/ipykernel_23272/2705673322.py:8: RuntimeWarning: overflow encountered in exp\n",
      "  return 1/ (1+ np.exp(-z))\n",
      "C:\\Users\\RISHAB~1\\AppData\\Local\\Temp/ipykernel_23272/2705673322.py:11: RuntimeWarning: divide by zero encountered in log\n",
      "  return -1/ m * np.sum(Y * np.log(Yhat) + (1 - Y) * np.log(1 - Yhat))\n",
      "C:\\Users\\RISHAB~1\\AppData\\Local\\Temp/ipykernel_23272/2705673322.py:8: RuntimeWarning: overflow encountered in exp\n",
      "  return 1/ (1+ np.exp(-z))\n",
      "C:\\Users\\RISHAB~1\\AppData\\Local\\Temp/ipykernel_23272/2705673322.py:11: RuntimeWarning: divide by zero encountered in log\n",
      "  return -1/ m * np.sum(Y * np.log(Yhat) + (1 - Y) * np.log(1 - Yhat))\n",
      "C:\\Users\\RISHAB~1\\AppData\\Local\\Temp/ipykernel_23272/2705673322.py:11: RuntimeWarning: divide by zero encountered in log\n",
      "  return -1/ m * np.sum(Y * np.log(Yhat) + (1 - Y) * np.log(1 - Yhat))\n",
      "C:\\Users\\RISHAB~1\\AppData\\Local\\Temp/ipykernel_23272/2705673322.py:11: RuntimeWarning: divide by zero encountered in log\n",
      "  return -1/ m * np.sum(Y * np.log(Yhat) + (1 - Y) * np.log(1 - Yhat))\n",
      "C:\\Users\\RISHAB~1\\AppData\\Local\\Temp/ipykernel_23272/2705673322.py:11: RuntimeWarning: divide by zero encountered in log\n",
      "  return -1/ m * np.sum(Y * np.log(Yhat) + (1 - Y) * np.log(1 - Yhat))\n",
      "C:\\Users\\RISHAB~1\\AppData\\Local\\Temp/ipykernel_23272/2705673322.py:8: RuntimeWarning: overflow encountered in exp\n",
      "  return 1/ (1+ np.exp(-z))\n",
      "C:\\Users\\RISHAB~1\\AppData\\Local\\Temp/ipykernel_23272/2705673322.py:11: RuntimeWarning: divide by zero encountered in log\n",
      "  return -1/ m * np.sum(Y * np.log(Yhat) + (1 - Y) * np.log(1 - Yhat))\n",
      "C:\\Users\\RISHAB~1\\AppData\\Local\\Temp/ipykernel_23272/2705673322.py:11: RuntimeWarning: divide by zero encountered in log\n",
      "  return -1/ m * np.sum(Y * np.log(Yhat) + (1 - Y) * np.log(1 - Yhat))\n",
      "C:\\Users\\RISHAB~1\\AppData\\Local\\Temp/ipykernel_23272/2705673322.py:8: RuntimeWarning: overflow encountered in exp\n",
      "  return 1/ (1+ np.exp(-z))\n",
      "C:\\Users\\RISHAB~1\\AppData\\Local\\Temp/ipykernel_23272/2705673322.py:11: RuntimeWarning: divide by zero encountered in log\n",
      "  return -1/ m * np.sum(Y * np.log(Yhat) + (1 - Y) * np.log(1 - Yhat))\n",
      "C:\\Users\\RISHAB~1\\AppData\\Local\\Temp/ipykernel_23272/2705673322.py:11: RuntimeWarning: divide by zero encountered in log\n",
      "  return -1/ m * np.sum(Y * np.log(Yhat) + (1 - Y) * np.log(1 - Yhat))\n",
      "C:\\Users\\RISHAB~1\\AppData\\Local\\Temp/ipykernel_23272/2705673322.py:8: RuntimeWarning: overflow encountered in exp\n",
      "  return 1/ (1+ np.exp(-z))\n",
      "C:\\Users\\RISHAB~1\\AppData\\Local\\Temp/ipykernel_23272/2705673322.py:11: RuntimeWarning: divide by zero encountered in log\n",
      "  return -1/ m * np.sum(Y * np.log(Yhat) + (1 - Y) * np.log(1 - Yhat))\n",
      "C:\\Users\\RISHAB~1\\AppData\\Local\\Temp/ipykernel_23272/2705673322.py:11: RuntimeWarning: divide by zero encountered in log\n",
      "  return -1/ m * np.sum(Y * np.log(Yhat) + (1 - Y) * np.log(1 - Yhat))\n",
      "C:\\Users\\RISHAB~1\\AppData\\Local\\Temp/ipykernel_23272/2705673322.py:8: RuntimeWarning: overflow encountered in exp\n",
      "  return 1/ (1+ np.exp(-z))\n",
      "C:\\Users\\RISHAB~1\\AppData\\Local\\Temp/ipykernel_23272/2705673322.py:11: RuntimeWarning: divide by zero encountered in log\n",
      "  return -1/ m * np.sum(Y * np.log(Yhat) + (1 - Y) * np.log(1 - Yhat))\n",
      "C:\\Users\\RISHAB~1\\AppData\\Local\\Temp/ipykernel_23272/2705673322.py:11: RuntimeWarning: divide by zero encountered in log\n",
      "  return -1/ m * np.sum(Y * np.log(Yhat) + (1 - Y) * np.log(1 - Yhat))\n",
      "C:\\Users\\RISHAB~1\\AppData\\Local\\Temp/ipykernel_23272/2705673322.py:8: RuntimeWarning: overflow encountered in exp\n",
      "  return 1/ (1+ np.exp(-z))\n",
      "C:\\Users\\RISHAB~1\\AppData\\Local\\Temp/ipykernel_23272/2705673322.py:11: RuntimeWarning: divide by zero encountered in log\n",
      "  return -1/ m * np.sum(Y * np.log(Yhat) + (1 - Y) * np.log(1 - Yhat))\n",
      "C:\\Users\\RISHAB~1\\AppData\\Local\\Temp/ipykernel_23272/2705673322.py:11: RuntimeWarning: divide by zero encountered in log\n",
      "  return -1/ m * np.sum(Y * np.log(Yhat) + (1 - Y) * np.log(1 - Yhat))\n",
      "C:\\Users\\RISHAB~1\\AppData\\Local\\Temp/ipykernel_23272/2705673322.py:8: RuntimeWarning: overflow encountered in exp\n",
      "  return 1/ (1+ np.exp(-z))\n",
      "C:\\Users\\RISHAB~1\\AppData\\Local\\Temp/ipykernel_23272/2705673322.py:11: RuntimeWarning: divide by zero encountered in log\n",
      "  return -1/ m * np.sum(Y * np.log(Yhat) + (1 - Y) * np.log(1 - Yhat))\n",
      "C:\\Users\\RISHAB~1\\AppData\\Local\\Temp/ipykernel_23272/2705673322.py:11: RuntimeWarning: divide by zero encountered in log\n",
      "  return -1/ m * np.sum(Y * np.log(Yhat) + (1 - Y) * np.log(1 - Yhat))\n",
      "C:\\Users\\RISHAB~1\\AppData\\Local\\Temp/ipykernel_23272/2705673322.py:8: RuntimeWarning: overflow encountered in exp\n",
      "  return 1/ (1+ np.exp(-z))\n",
      "C:\\Users\\RISHAB~1\\AppData\\Local\\Temp/ipykernel_23272/2705673322.py:11: RuntimeWarning: divide by zero encountered in log\n",
      "  return -1/ m * np.sum(Y * np.log(Yhat) + (1 - Y) * np.log(1 - Yhat))\n",
      "C:\\Users\\RISHAB~1\\AppData\\Local\\Temp/ipykernel_23272/2705673322.py:11: RuntimeWarning: divide by zero encountered in log\n",
      "  return -1/ m * np.sum(Y * np.log(Yhat) + (1 - Y) * np.log(1 - Yhat))\n",
      "C:\\Users\\RISHAB~1\\AppData\\Local\\Temp/ipykernel_23272/2705673322.py:8: RuntimeWarning: overflow encountered in exp\n",
      "  return 1/ (1+ np.exp(-z))\n",
      "C:\\Users\\RISHAB~1\\AppData\\Local\\Temp/ipykernel_23272/2705673322.py:11: RuntimeWarning: divide by zero encountered in log\n",
      "  return -1/ m * np.sum(Y * np.log(Yhat) + (1 - Y) * np.log(1 - Yhat))\n",
      "C:\\Users\\RISHAB~1\\AppData\\Local\\Temp/ipykernel_23272/2705673322.py:11: RuntimeWarning: divide by zero encountered in log\n",
      "  return -1/ m * np.sum(Y * np.log(Yhat) + (1 - Y) * np.log(1 - Yhat))\n",
      "C:\\Users\\RISHAB~1\\AppData\\Local\\Temp/ipykernel_23272/2705673322.py:8: RuntimeWarning: overflow encountered in exp\n",
      "  return 1/ (1+ np.exp(-z))\n",
      "C:\\Users\\RISHAB~1\\AppData\\Local\\Temp/ipykernel_23272/2705673322.py:11: RuntimeWarning: divide by zero encountered in log\n",
      "  return -1/ m * np.sum(Y * np.log(Yhat) + (1 - Y) * np.log(1 - Yhat))\n",
      "C:\\Users\\RISHAB~1\\AppData\\Local\\Temp/ipykernel_23272/2705673322.py:11: RuntimeWarning: divide by zero encountered in log\n",
      "  return -1/ m * np.sum(Y * np.log(Yhat) + (1 - Y) * np.log(1 - Yhat))\n",
      "C:\\Users\\RISHAB~1\\AppData\\Local\\Temp/ipykernel_23272/2705673322.py:8: RuntimeWarning: overflow encountered in exp\n",
      "  return 1/ (1+ np.exp(-z))\n",
      "C:\\Users\\RISHAB~1\\AppData\\Local\\Temp/ipykernel_23272/2705673322.py:11: RuntimeWarning: divide by zero encountered in log\n",
      "  return -1/ m * np.sum(Y * np.log(Yhat) + (1 - Y) * np.log(1 - Yhat))\n",
      "C:\\Users\\RISHAB~1\\AppData\\Local\\Temp/ipykernel_23272/2705673322.py:11: RuntimeWarning: divide by zero encountered in log\n",
      "  return -1/ m * np.sum(Y * np.log(Yhat) + (1 - Y) * np.log(1 - Yhat))\n",
      "C:\\Users\\RISHAB~1\\AppData\\Local\\Temp/ipykernel_23272/2705673322.py:8: RuntimeWarning: overflow encountered in exp\n",
      "  return 1/ (1+ np.exp(-z))\n",
      "C:\\Users\\RISHAB~1\\AppData\\Local\\Temp/ipykernel_23272/2705673322.py:11: RuntimeWarning: divide by zero encountered in log\n",
      "  return -1/ m * np.sum(Y * np.log(Yhat) + (1 - Y) * np.log(1 - Yhat))\n",
      "C:\\Users\\RISHAB~1\\AppData\\Local\\Temp/ipykernel_23272/2705673322.py:11: RuntimeWarning: divide by zero encountered in log\n",
      "  return -1/ m * np.sum(Y * np.log(Yhat) + (1 - Y) * np.log(1 - Yhat))\n",
      "C:\\Users\\RISHAB~1\\AppData\\Local\\Temp/ipykernel_23272/2705673322.py:8: RuntimeWarning: overflow encountered in exp\n",
      "  return 1/ (1+ np.exp(-z))\n",
      "C:\\Users\\RISHAB~1\\AppData\\Local\\Temp/ipykernel_23272/2705673322.py:11: RuntimeWarning: divide by zero encountered in log\n",
      "  return -1/ m * np.sum(Y * np.log(Yhat) + (1 - Y) * np.log(1 - Yhat))\n",
      "C:\\Users\\RISHAB~1\\AppData\\Local\\Temp/ipykernel_23272/2705673322.py:11: RuntimeWarning: divide by zero encountered in log\n",
      "  return -1/ m * np.sum(Y * np.log(Yhat) + (1 - Y) * np.log(1 - Yhat))\n",
      "C:\\Users\\RISHAB~1\\AppData\\Local\\Temp/ipykernel_23272/2705673322.py:8: RuntimeWarning: overflow encountered in exp\n",
      "  return 1/ (1+ np.exp(-z))\n",
      "C:\\Users\\RISHAB~1\\AppData\\Local\\Temp/ipykernel_23272/2705673322.py:11: RuntimeWarning: divide by zero encountered in log\n",
      "  return -1/ m * np.sum(Y * np.log(Yhat) + (1 - Y) * np.log(1 - Yhat))\n",
      "C:\\Users\\RISHAB~1\\AppData\\Local\\Temp/ipykernel_23272/2705673322.py:11: RuntimeWarning: divide by zero encountered in log\n",
      "  return -1/ m * np.sum(Y * np.log(Yhat) + (1 - Y) * np.log(1 - Yhat))\n",
      "C:\\Users\\RISHAB~1\\AppData\\Local\\Temp/ipykernel_23272/2705673322.py:8: RuntimeWarning: overflow encountered in exp\n",
      "  return 1/ (1+ np.exp(-z))\n",
      "C:\\Users\\RISHAB~1\\AppData\\Local\\Temp/ipykernel_23272/2705673322.py:11: RuntimeWarning: divide by zero encountered in log\n",
      "  return -1/ m * np.sum(Y * np.log(Yhat) + (1 - Y) * np.log(1 - Yhat))\n",
      "C:\\Users\\RISHAB~1\\AppData\\Local\\Temp/ipykernel_23272/2705673322.py:11: RuntimeWarning: divide by zero encountered in log\n",
      "  return -1/ m * np.sum(Y * np.log(Yhat) + (1 - Y) * np.log(1 - Yhat))\n",
      "C:\\Users\\RISHAB~1\\AppData\\Local\\Temp/ipykernel_23272/2705673322.py:8: RuntimeWarning: overflow encountered in exp\n",
      "  return 1/ (1+ np.exp(-z))\n",
      "C:\\Users\\RISHAB~1\\AppData\\Local\\Temp/ipykernel_23272/2705673322.py:11: RuntimeWarning: divide by zero encountered in log\n",
      "  return -1/ m * np.sum(Y * np.log(Yhat) + (1 - Y) * np.log(1 - Yhat))\n",
      "C:\\Users\\RISHAB~1\\AppData\\Local\\Temp/ipykernel_23272/2705673322.py:11: RuntimeWarning: divide by zero encountered in log\n",
      "  return -1/ m * np.sum(Y * np.log(Yhat) + (1 - Y) * np.log(1 - Yhat))\n"
     ]
    }
   ],
   "source": [
    "lr.fit(X_train,y_train)"
   ]
  },
  {
   "cell_type": "code",
   "execution_count": 15,
   "id": "ac7143d8",
   "metadata": {},
   "outputs": [],
   "source": [
    "y_pred = lr.predict(X_test)"
   ]
  },
  {
   "cell_type": "code",
   "execution_count": 16,
   "id": "b9f4127f",
   "metadata": {},
   "outputs": [
    {
     "data": {
      "text/plain": [
       "99    1\n",
       "26    1\n",
       "14    0\n",
       "76    0\n",
       "68    0\n",
       "52    1\n",
       "46    0\n",
       "50    0\n",
       "53    1\n",
       "73    0\n",
       "4     0\n",
       "60    1\n",
       "10    1\n",
       "33    0\n",
       "74    1\n",
       "82    1\n",
       "7     0\n",
       "1     0\n",
       "3     1\n",
       "56    0\n",
       "28    0\n",
       "25    0\n",
       "72    1\n",
       "Name: placement, dtype: int64"
      ]
     },
     "execution_count": 16,
     "metadata": {},
     "output_type": "execute_result"
    }
   ],
   "source": [
    "y_test"
   ]
  },
  {
   "cell_type": "code",
   "execution_count": 17,
   "id": "838d1984",
   "metadata": {},
   "outputs": [],
   "source": [
    "from sklearn.metrics import accuracy_score"
   ]
  },
  {
   "cell_type": "code",
   "execution_count": 18,
   "id": "4e017fd4",
   "metadata": {},
   "outputs": [
    {
     "data": {
      "text/plain": [
       "0.5652173913043478"
      ]
     },
     "execution_count": 18,
     "metadata": {},
     "output_type": "execute_result"
    }
   ],
   "source": [
    "accuracy_score(y_test,y_pred)"
   ]
  },
  {
   "cell_type": "code",
   "execution_count": null,
   "id": "0c38ce4e",
   "metadata": {},
   "outputs": [],
   "source": []
  }
 ],
 "metadata": {
  "kernelspec": {
   "display_name": "Python 3 (ipykernel)",
   "language": "python",
   "name": "python3"
  },
  "language_info": {
   "codemirror_mode": {
    "name": "ipython",
    "version": 3
   },
   "file_extension": ".py",
   "mimetype": "text/x-python",
   "name": "python",
   "nbconvert_exporter": "python",
   "pygments_lexer": "ipython3",
   "version": "3.9.6"
  }
 },
 "nbformat": 4,
 "nbformat_minor": 5
}
