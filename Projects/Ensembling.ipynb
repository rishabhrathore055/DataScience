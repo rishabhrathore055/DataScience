{
 "cells": [
  {
   "cell_type": "markdown",
   "id": "9c0be90b",
   "metadata": {},
   "source": [
    "# Ensembling"
   ]
  },
  {
   "cell_type": "code",
   "execution_count": 1,
   "id": "d7475966",
   "metadata": {},
   "outputs": [],
   "source": [
    "import numpy as np"
   ]
  },
  {
   "cell_type": "code",
   "execution_count": 2,
   "id": "27bb01ab",
   "metadata": {},
   "outputs": [],
   "source": [
    "np.random.seed(12345)"
   ]
  },
  {
   "cell_type": "code",
   "execution_count": 3,
   "id": "0e034fee",
   "metadata": {},
   "outputs": [],
   "source": [
    "mod1 =  np.random.rand(1000)\n",
    "mod2 =  np.random.rand(1000)\n",
    "mod3 =  np.random.rand(1000)\n",
    "mod4 =  np.random.rand(1000)\n",
    "mod5 =  np.random.rand(1000)"
   ]
  },
  {
   "cell_type": "code",
   "execution_count": 5,
   "id": "ec02107b",
   "metadata": {},
   "outputs": [],
   "source": [
    "preds1 = np.where(mod1> 0.3,1,0)\n",
    "preds2 = np.where(mod2> 0.3,1,0)\n",
    "preds3 = np.where(mod3> 0.3,1,0)\n",
    "preds4 = np.where(mod4> 0.3,1,0)\n",
    "preds5 = np.where(mod5> 0.3,1,0)"
   ]
  },
  {
   "cell_type": "code",
   "execution_count": 6,
   "id": "619a6390",
   "metadata": {},
   "outputs": [
    {
     "data": {
      "text/plain": [
       "0.699"
      ]
     },
     "execution_count": 6,
     "metadata": {},
     "output_type": "execute_result"
    }
   ],
   "source": [
    "preds1.mean()"
   ]
  },
  {
   "cell_type": "code",
   "execution_count": 7,
   "id": "a801defa",
   "metadata": {},
   "outputs": [
    {
     "data": {
      "text/plain": [
       "0.698"
      ]
     },
     "execution_count": 7,
     "metadata": {},
     "output_type": "execute_result"
    }
   ],
   "source": [
    "preds2.mean()"
   ]
  },
  {
   "cell_type": "code",
   "execution_count": 8,
   "id": "823f0ec3",
   "metadata": {},
   "outputs": [
    {
     "data": {
      "text/plain": [
       "0.71"
      ]
     },
     "execution_count": 8,
     "metadata": {},
     "output_type": "execute_result"
    }
   ],
   "source": [
    "preds3.mean()"
   ]
  },
  {
   "cell_type": "code",
   "execution_count": 9,
   "id": "8bb5b9d5",
   "metadata": {},
   "outputs": [
    {
     "data": {
      "text/plain": [
       "0.699"
      ]
     },
     "execution_count": 9,
     "metadata": {},
     "output_type": "execute_result"
    }
   ],
   "source": [
    "preds4.mean()"
   ]
  },
  {
   "cell_type": "code",
   "execution_count": 10,
   "id": "690e81be",
   "metadata": {},
   "outputs": [
    {
     "data": {
      "text/plain": [
       "0.685"
      ]
     },
     "execution_count": 10,
     "metadata": {},
     "output_type": "execute_result"
    }
   ],
   "source": [
    "preds5.mean()"
   ]
  },
  {
   "cell_type": "code",
   "execution_count": 15,
   "id": "9666ff10",
   "metadata": {},
   "outputs": [
    {
     "data": {
      "text/plain": [
       "0.83"
      ]
     },
     "execution_count": 15,
     "metadata": {},
     "output_type": "execute_result"
    }
   ],
   "source": [
    "ensemble_pred = np.round((preds1 +preds2+preds3+preds4+preds5)/5.0)\n",
    "ensemble_pred.astype(int)\n",
    "ensemble_pred.mean()"
   ]
  },
  {
   "cell_type": "code",
   "execution_count": null,
   "id": "fed0c0c4",
   "metadata": {},
   "outputs": [],
   "source": []
  }
 ],
 "metadata": {
  "kernelspec": {
   "display_name": "Python 3 (ipykernel)",
   "language": "python",
   "name": "python3"
  },
  "language_info": {
   "codemirror_mode": {
    "name": "ipython",
    "version": 3
   },
   "file_extension": ".py",
   "mimetype": "text/x-python",
   "name": "python",
   "nbconvert_exporter": "python",
   "pygments_lexer": "ipython3",
   "version": "3.9.6"
  }
 },
 "nbformat": 4,
 "nbformat_minor": 5
}
