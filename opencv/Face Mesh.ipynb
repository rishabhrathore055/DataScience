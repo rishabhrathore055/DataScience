{
 "cells": [
  {
   "cell_type": "code",
   "execution_count": 2,
   "id": "7aeb1d5d",
   "metadata": {},
   "outputs": [],
   "source": [
    "# !pip install mediapipe opencv-python numpy"
   ]
  },
  {
   "cell_type": "code",
   "execution_count": 6,
   "id": "47b1c99c",
   "metadata": {},
   "outputs": [],
   "source": [
    "import mediapipe as mp\n",
    "import cv2\n",
    "import numpy as np"
   ]
  },
  {
   "cell_type": "code",
   "execution_count": 22,
   "id": "c07e6463",
   "metadata": {},
   "outputs": [],
   "source": [
    "facemesh = mp.solutions.face_mesh\n",
    "face = facemesh.FaceMesh(static_image_mode=True,min_detection_confidence=0.6,min_tracking_confidence=0.6)\n",
    "drawing = mp.solutions.drawing_utils"
   ]
  },
  {
   "cell_type": "code",
   "execution_count": 23,
   "id": "ce0eb920",
   "metadata": {},
   "outputs": [],
   "source": [
    "cap = cv2.VideoCapture(0)\n",
    "while True:\n",
    "    ret,frame = cap.read()\n",
    "    # recolor Feed\n",
    "    img = cv2.cvtColor(frame,cv2.COLOR_BGR2RGB)\n",
    "    # make detections\n",
    "    results = face.process(frame)\n",
    "    \n",
    "    # Recolor image back to BGR for rendering\n",
    "    img = cv2.cvtColor(img,cv2.COLOR_RGB2BGR)\n",
    "#     print(results.multi_face_landmarks)\n",
    "    # Draw face landmarks\n",
    "    if results.multi_face_landmarks:\n",
    "        for i in results.multi_face_landmarks:\n",
    "            drawing.draw_landmarks(frame,i,facemesh.FACEMESH_TESSELATION,landmark_drawing_spec=drawing.DrawingSpec(color=(0,250,250),thickness=1,circle_radius=1))\n",
    "\n",
    "    cv2.imshow('Window',frame)\n",
    "    if cv2.waitKey(1) & 0xFF == ord('q'):\n",
    "        cap.release()\n",
    "        cv2.destroyAllWindows()\n",
    "        break"
   ]
  },
  {
   "cell_type": "code",
   "execution_count": null,
   "id": "6c5539c8",
   "metadata": {},
   "outputs": [],
   "source": []
  },
  {
   "cell_type": "code",
   "execution_count": null,
   "id": "53dc31fd",
   "metadata": {},
   "outputs": [],
   "source": []
  }
 ],
 "metadata": {
  "kernelspec": {
   "display_name": "Python 3 (ipykernel)",
   "language": "python",
   "name": "python3"
  },
  "language_info": {
   "codemirror_mode": {
    "name": "ipython",
    "version": 3
   },
   "file_extension": ".py",
   "mimetype": "text/x-python",
   "name": "python",
   "nbconvert_exporter": "python",
   "pygments_lexer": "ipython3",
   "version": "3.9.6"
  }
 },
 "nbformat": 4,
 "nbformat_minor": 5
}
