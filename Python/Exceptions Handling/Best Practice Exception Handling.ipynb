{
 "cells": [
  {
   "cell_type": "code",
   "execution_count": 3,
   "id": "3729928d",
   "metadata": {},
   "outputs": [
    {
     "name": "stdout",
     "output_type": "stream",
     "text": [
      "division by zero\n"
     ]
    }
   ],
   "source": [
    "# use always a specific exception\n",
    "try :\n",
    "    10/0\n",
    "except ZeroDivisionError as e :\n",
    "    print(e)"
   ]
  },
  {
   "cell_type": "code",
   "execution_count": 6,
   "id": "e7209c4a",
   "metadata": {},
   "outputs": [
    {
     "name": "stdout",
     "output_type": "stream",
     "text": [
      "This is my zero Division Error division by zero\n"
     ]
    }
   ],
   "source": [
    "# print always a valid msg\n",
    "try :\n",
    "    10/0\n",
    "except ZeroDivisionError as e :\n",
    "    print(\"This is my zero Division Error\",e)\n",
    "    "
   ]
  },
  {
   "cell_type": "code",
   "execution_count": 7,
   "id": "5f11cd86",
   "metadata": {},
   "outputs": [],
   "source": [
    "# always try to log\n",
    "import logging\n",
    "logging.basicConfig(filename='error.log',level=logging.ERROR)"
   ]
  },
  {
   "cell_type": "code",
   "execution_count": 10,
   "id": "13aff8fe",
   "metadata": {},
   "outputs": [],
   "source": [
    "try :\n",
    "    10/0\n",
    "except ZeroDivisionError as e :\n",
    "    logging.error(\"This is my zero Division Error {}\".format(e))"
   ]
  },
  {
   "cell_type": "code",
   "execution_count": 11,
   "id": "ef639616",
   "metadata": {},
   "outputs": [],
   "source": [
    "# always avoid to write a multiple exception handling\n",
    "try :\n",
    "    open(\"data1.txt\",'r') as f:\n",
    "        f.read()\n",
    "except FileNotFoundError as e :\n",
    "    logging.error(\"This is file not found {}\".format(e))\n",
    "except AttributeError as e:\n",
    "    logging.error(\"This is a attribute error {}\".format(e))"
   ]
  },
  {
   "cell_type": "code",
   "execution_count": 12,
   "id": "acfeef9d",
   "metadata": {},
   "outputs": [],
   "source": [
    "# prepare a proper documentation"
   ]
  },
  {
   "cell_type": "code",
   "execution_count": 14,
   "id": "0b53157d",
   "metadata": {},
   "outputs": [],
   "source": [
    "# cleanup all the resources\n",
    "try :\n",
    "    with open('test.txt','w') as f :\n",
    "        f.write('This is a msg')\n",
    "except FileNotFoundError as e :\n",
    "    logging.error(\"This is file not found {}\".format(e))\n",
    "finally :\n",
    "    f.close()"
   ]
  },
  {
   "cell_type": "code",
   "execution_count": null,
   "id": "6c55a184",
   "metadata": {},
   "outputs": [],
   "source": []
  }
 ],
 "metadata": {
  "kernelspec": {
   "display_name": "Python 3 (ipykernel)",
   "language": "python",
   "name": "python3"
  },
  "language_info": {
   "codemirror_mode": {
    "name": "ipython",
    "version": 3
   },
   "file_extension": ".py",
   "mimetype": "text/x-python",
   "name": "python",
   "nbconvert_exporter": "python",
   "pygments_lexer": "ipython3",
   "version": "3.9.6"
  }
 },
 "nbformat": 4,
 "nbformat_minor": 5
}
