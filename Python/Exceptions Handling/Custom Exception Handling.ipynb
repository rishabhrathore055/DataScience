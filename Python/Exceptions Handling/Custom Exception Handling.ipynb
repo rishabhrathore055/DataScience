{
 "cells": [
  {
   "cell_type": "code",
   "execution_count": 1,
   "id": "15df63bd",
   "metadata": {},
   "outputs": [
    {
     "name": "stdout",
     "output_type": "stream",
     "text": [
      "Enter you age : 20\n"
     ]
    }
   ],
   "source": [
    "age = int(input(\"Enter you age : \"))"
   ]
  },
  {
   "cell_type": "code",
   "execution_count": 11,
   "id": "8e827b31",
   "metadata": {},
   "outputs": [],
   "source": [
    "class validateage(Exception):\n",
    "    def __init__(self,msg):\n",
    "        self.msg = msg"
   ]
  },
  {
   "cell_type": "code",
   "execution_count": 15,
   "id": "7bedac25",
   "metadata": {},
   "outputs": [],
   "source": [
    "def vaildate_age(age):\n",
    "    if age < 0:\n",
    "        raise validateage(\"Age should not be lesser than zero \")\n",
    "    elif age > 200:\n",
    "        raise validateage(\"Age is too high\")\n",
    "        \n",
    "    else:\n",
    "        print(\"age is valid\")"
   ]
  },
  {
   "cell_type": "code",
   "execution_count": 18,
   "id": "f4c7068a",
   "metadata": {},
   "outputs": [
    {
     "name": "stdout",
     "output_type": "stream",
     "text": [
      "Enter you age : -299\n",
      "Age should not be lesser than zero \n"
     ]
    }
   ],
   "source": [
    "try :\n",
    "    age = int(input(\"Enter you age : \"))\n",
    "    vaildate_age(age)\n",
    "except validateage as e:\n",
    "    print(e)"
   ]
  },
  {
   "cell_type": "code",
   "execution_count": null,
   "id": "56056dcd",
   "metadata": {},
   "outputs": [],
   "source": []
  }
 ],
 "metadata": {
  "kernelspec": {
   "display_name": "Python 3 (ipykernel)",
   "language": "python",
   "name": "python3"
  },
  "language_info": {
   "codemirror_mode": {
    "name": "ipython",
    "version": 3
   },
   "file_extension": ".py",
   "mimetype": "text/x-python",
   "name": "python",
   "nbconvert_exporter": "python",
   "pygments_lexer": "ipython3",
   "version": "3.9.6"
  }
 },
 "nbformat": 4,
 "nbformat_minor": 5
}
