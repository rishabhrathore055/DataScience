{
 "cells": [
  {
   "cell_type": "markdown",
   "id": "b036c4bd",
   "metadata": {},
   "source": [
    "# Object-oriented programming"
   ]
  },
  {
   "cell_type": "code",
   "execution_count": 1,
   "id": "127396ff",
   "metadata": {},
   "outputs": [],
   "source": [
    "a = 1"
   ]
  },
  {
   "cell_type": "code",
   "execution_count": 2,
   "id": "e52e4a30",
   "metadata": {},
   "outputs": [
    {
     "name": "stdout",
     "output_type": "stream",
     "text": [
      "<class 'int'>\n"
     ]
    }
   ],
   "source": [
    "print(type(a))"
   ]
  },
  {
   "cell_type": "code",
   "execution_count": 3,
   "id": "9be32d1f",
   "metadata": {},
   "outputs": [
    {
     "name": "stdout",
     "output_type": "stream",
     "text": [
      "<class 'str'>\n"
     ]
    }
   ],
   "source": [
    "print(type(\"Rishabh\"))"
   ]
  },
  {
   "cell_type": "markdown",
   "id": "55fed74b",
   "metadata": {},
   "source": [
    "### A Class is like an object constructor, or a \"blueprint\" or a \"template\" for creating objects."
   ]
  },
  {
   "cell_type": "code",
   "execution_count": 4,
   "id": "ac13056c",
   "metadata": {},
   "outputs": [],
   "source": [
    "class test:\n",
    "    pass"
   ]
  },
  {
   "cell_type": "code",
   "execution_count": 5,
   "id": "eec05b6b",
   "metadata": {},
   "outputs": [],
   "source": [
    "b = test()"
   ]
  },
  {
   "cell_type": "code",
   "execution_count": 6,
   "id": "b57efebd",
   "metadata": {},
   "outputs": [
    {
     "data": {
      "text/plain": [
       "__main__.test"
      ]
     },
     "execution_count": 6,
     "metadata": {},
     "output_type": "execute_result"
    }
   ],
   "source": [
    "type(b)"
   ]
  },
  {
   "cell_type": "code",
   "execution_count": 7,
   "id": "8ff3c582",
   "metadata": {},
   "outputs": [],
   "source": [
    "class greet:\n",
    "    \n",
    "    def GM(self):\n",
    "        print(\"Good Morning\")"
   ]
  },
  {
   "cell_type": "code",
   "execution_count": 8,
   "id": "711e6ac4",
   "metadata": {},
   "outputs": [],
   "source": [
    "p1 = greet()"
   ]
  },
  {
   "cell_type": "code",
   "execution_count": 9,
   "id": "eb23be7d",
   "metadata": {},
   "outputs": [
    {
     "name": "stdout",
     "output_type": "stream",
     "text": [
      "Good Morning\n"
     ]
    }
   ],
   "source": [
    "p1.GM()"
   ]
  },
  {
   "cell_type": "code",
   "execution_count": 10,
   "id": "8b3956df",
   "metadata": {},
   "outputs": [],
   "source": [
    "p2 = greet()"
   ]
  },
  {
   "cell_type": "code",
   "execution_count": 11,
   "id": "a5b3c12c",
   "metadata": {},
   "outputs": [
    {
     "name": "stdout",
     "output_type": "stream",
     "text": [
      "Good Morning\n"
     ]
    }
   ],
   "source": [
    "p2.GM()"
   ]
  },
  {
   "cell_type": "code",
   "execution_count": 12,
   "id": "3dd17f53",
   "metadata": {},
   "outputs": [],
   "source": [
    "class Teacher:\n",
    "    \"\"\"This is my class template\"\"\"\n",
    "    def  __init__(self):\n",
    "        self.name = \"Ram\"\n",
    "        self.age = 22\n",
    "    def display(self):\n",
    "        print(self.name,self.age)"
   ]
  },
  {
   "cell_type": "code",
   "execution_count": 13,
   "id": "bba7959f",
   "metadata": {},
   "outputs": [],
   "source": [
    "Ram = Teacher()"
   ]
  },
  {
   "cell_type": "code",
   "execution_count": 14,
   "id": "2619d8b1",
   "metadata": {},
   "outputs": [
    {
     "name": "stdout",
     "output_type": "stream",
     "text": [
      "Ram 22\n"
     ]
    }
   ],
   "source": [
    "Ram.display()"
   ]
  },
  {
   "cell_type": "markdown",
   "id": "b7d7e4c9",
   "metadata": {},
   "source": [
    "### A constructor in Python is a special type of method that is used to initialize the state of an object. It is called automatically when an object is created.\n",
    "### The constructor is defined using the\n",
    "``\n",
    "__init__()\n",
    "`` method"
   ]
  },
  {
   "cell_type": "code",
   "execution_count": 15,
   "id": "8d416329",
   "metadata": {},
   "outputs": [],
   "source": [
    "class Person:\n",
    "    def __init__(self, name, age):\n",
    "        self.name = name\n",
    "        self.age = age\n",
    "        print(\"Constructor is executed\")"
   ]
  },
  {
   "cell_type": "code",
   "execution_count": 16,
   "id": "de7d5530",
   "metadata": {},
   "outputs": [
    {
     "name": "stdout",
     "output_type": "stream",
     "text": [
      "Constructor is executed\n"
     ]
    }
   ],
   "source": [
    "# Create a new Person object\n",
    "person = Person(\"Alice\", 25)"
   ]
  },
  {
   "cell_type": "markdown",
   "id": "69ba00c9",
   "metadata": {},
   "source": [
    "**Self refer to the current object**"
   ]
  },
  {
   "cell_type": "code",
   "execution_count": 17,
   "id": "b4fcdf12",
   "metadata": {},
   "outputs": [
    {
     "name": "stdout",
     "output_type": "stream",
     "text": [
      "Alice\n",
      "25\n"
     ]
    }
   ],
   "source": [
    "# Print the person's name and age\n",
    "print(person.name)\n",
    "print(person.age)"
   ]
  },
  {
   "cell_type": "markdown",
   "id": "c5a2a4b2",
   "metadata": {},
   "source": [
    "### 3 Types of variables\n",
    "1. Instance variable\n",
    "2. Static variable(Class Level)\n",
    "3. Local variable "
   ]
  },
  {
   "cell_type": "code",
   "execution_count": 18,
   "id": "87aeb8bc",
   "metadata": {},
   "outputs": [],
   "source": [
    "class Teacher:\n",
    "    Institute = \"IIM\"\n",
    "    def  __init__(self):\n",
    "        self.name = \"Ram\"\n",
    "        self.age = 22"
   ]
  },
  {
   "cell_type": "code",
   "execution_count": 19,
   "id": "6fce041e",
   "metadata": {},
   "outputs": [
    {
     "name": "stdout",
     "output_type": "stream",
     "text": [
      "IIM\n"
     ]
    }
   ],
   "source": [
    "print(Teacher.Institute) # This is better classname.static_variable"
   ]
  },
  {
   "cell_type": "code",
   "execution_count": 20,
   "id": "b8d16e76",
   "metadata": {},
   "outputs": [
    {
     "name": "stdout",
     "output_type": "stream",
     "text": [
      "IIM\n"
     ]
    }
   ],
   "source": [
    "t = Teacher()\n",
    "print(t.Institute)"
   ]
  },
  {
   "cell_type": "markdown",
   "id": "fc544806",
   "metadata": {},
   "source": [
    "### 3 Types of Methods\n",
    "1. Instance Method\n",
    "2. Class Method(@classmethod->cls)\n",
    "3. Static Method - Genral Purpose Method"
   ]
  },
  {
   "cell_type": "code",
   "execution_count": 21,
   "id": "69c2330f",
   "metadata": {},
   "outputs": [],
   "source": [
    "class Teacher:\n",
    "    @classmethod\n",
    "    def fun(cls):\n",
    "        print(id(cls)) # class level object refrence"
   ]
  },
  {
   "cell_type": "code",
   "execution_count": 22,
   "id": "71bf5383",
   "metadata": {},
   "outputs": [
    {
     "name": "stdout",
     "output_type": "stream",
     "text": [
      "2401686281056\n"
     ]
    }
   ],
   "source": [
    "print(id(Teacher))"
   ]
  },
  {
   "cell_type": "code",
   "execution_count": 23,
   "id": "7fb80838",
   "metadata": {},
   "outputs": [
    {
     "name": "stdout",
     "output_type": "stream",
     "text": [
      "2401686281056\n"
     ]
    }
   ],
   "source": [
    "# fun ====> Class method\n",
    "Teacher.fun()"
   ]
  },
  {
   "cell_type": "code",
   "execution_count": 24,
   "id": "510bd7b2",
   "metadata": {},
   "outputs": [],
   "source": [
    "class test:\n",
    "    def __init__(self,pNo,email,enroll):\n",
    "        self.pNo = pNo\n",
    "        self.email=email\n",
    "        self.enroll = enroll\n",
    "    def return_details(self):\n",
    "        return self.pNo,self.email,self.enroll\n",
    "        "
   ]
  },
  {
   "cell_type": "code",
   "execution_count": 25,
   "id": "6c53fcec",
   "metadata": {},
   "outputs": [],
   "source": [
    "s1 = test(9988998800,\"xyz@gmail.com\",1)"
   ]
  },
  {
   "cell_type": "code",
   "execution_count": 26,
   "id": "0d5f922a",
   "metadata": {},
   "outputs": [
    {
     "data": {
      "text/plain": [
       "'xyz@gmail.com'"
      ]
     },
     "execution_count": 26,
     "metadata": {},
     "output_type": "execute_result"
    }
   ],
   "source": [
    "s1.email"
   ]
  },
  {
   "cell_type": "code",
   "execution_count": 27,
   "id": "a7cea4d8",
   "metadata": {},
   "outputs": [
    {
     "data": {
      "text/plain": [
       "9988998800"
      ]
     },
     "execution_count": 27,
     "metadata": {},
     "output_type": "execute_result"
    }
   ],
   "source": [
    "s1.pNo"
   ]
  },
  {
   "cell_type": "code",
   "execution_count": 28,
   "id": "3c90ac36",
   "metadata": {},
   "outputs": [
    {
     "data": {
      "text/plain": [
       "1"
      ]
     },
     "execution_count": 28,
     "metadata": {},
     "output_type": "execute_result"
    }
   ],
   "source": [
    "s1.enroll"
   ]
  },
  {
   "cell_type": "code",
   "execution_count": 29,
   "id": "9b26c9a1",
   "metadata": {},
   "outputs": [
    {
     "data": {
      "text/plain": [
       "(9988998800, 'xyz@gmail.com', 1)"
      ]
     },
     "execution_count": 29,
     "metadata": {},
     "output_type": "execute_result"
    }
   ],
   "source": [
    "s1.return_details()"
   ]
  },
  {
   "cell_type": "code",
   "execution_count": 30,
   "id": "a035f5b6",
   "metadata": {},
   "outputs": [],
   "source": [
    "s2 = test(9282837465,\"abc@gmail.com\",2)"
   ]
  },
  {
   "cell_type": "code",
   "execution_count": 31,
   "id": "3dffb4d8",
   "metadata": {},
   "outputs": [
    {
     "data": {
      "text/plain": [
       "(9282837465, 'abc@gmail.com', 2)"
      ]
     },
     "execution_count": 31,
     "metadata": {},
     "output_type": "execute_result"
    }
   ],
   "source": [
    "s2.return_details()"
   ]
  },
  {
   "cell_type": "markdown",
   "id": "49e15721",
   "metadata": {},
   "source": [
    "### Polymorphism\n",
    "In Python, polymorphism can be achieved through method overriding, operator overloading, and duck typing."
   ]
  },
  {
   "cell_type": "code",
   "execution_count": 32,
   "id": "5ad4f033",
   "metadata": {},
   "outputs": [],
   "source": [
    "def t(a,b):\n",
    "    return a+b"
   ]
  },
  {
   "cell_type": "code",
   "execution_count": 33,
   "id": "b68af834",
   "metadata": {},
   "outputs": [
    {
     "data": {
      "text/plain": [
       "30"
      ]
     },
     "execution_count": 33,
     "metadata": {},
     "output_type": "execute_result"
    }
   ],
   "source": [
    "t(10,20)"
   ]
  },
  {
   "cell_type": "code",
   "execution_count": 34,
   "id": "293ce227",
   "metadata": {},
   "outputs": [
    {
     "data": {
      "text/plain": [
       "'Hello World'"
      ]
     },
     "execution_count": 34,
     "metadata": {},
     "output_type": "execute_result"
    }
   ],
   "source": [
    "t(\"Hello \",\"World\")"
   ]
  },
  {
   "cell_type": "code",
   "execution_count": 35,
   "id": "54c0eea7",
   "metadata": {},
   "outputs": [
    {
     "data": {
      "text/plain": [
       "[1, 2, 3, 4, 5, 6]"
      ]
     },
     "execution_count": 35,
     "metadata": {},
     "output_type": "execute_result"
    }
   ],
   "source": [
    "t([1,2,3],[4,5,6])"
   ]
  },
  {
   "cell_type": "code",
   "execution_count": 36,
   "id": "f9eba14a",
   "metadata": {},
   "outputs": [],
   "source": [
    "class DataScience:\n",
    "    def syllabus(self):\n",
    "        print(\"This is my method for data science syllabus\")"
   ]
  },
  {
   "cell_type": "code",
   "execution_count": 37,
   "id": "9f834865",
   "metadata": {},
   "outputs": [],
   "source": [
    "class WebDev:\n",
    "    def syllabus(self):\n",
    "        print(\"This is my method for Web dev\")"
   ]
  },
  {
   "cell_type": "code",
   "execution_count": 38,
   "id": "2ef2adf6",
   "metadata": {},
   "outputs": [],
   "source": [
    "def class_parser(class_obj):\n",
    "    for i in class_obj:\n",
    "        i.syllabus()"
   ]
  },
  {
   "cell_type": "code",
   "execution_count": 39,
   "id": "f6f3e643",
   "metadata": {},
   "outputs": [],
   "source": [
    "obj_ds = DataScience()"
   ]
  },
  {
   "cell_type": "code",
   "execution_count": 40,
   "id": "d371b6cd",
   "metadata": {},
   "outputs": [],
   "source": [
    "obj_wd = WebDev()"
   ]
  },
  {
   "cell_type": "code",
   "execution_count": 41,
   "id": "739af871",
   "metadata": {},
   "outputs": [],
   "source": [
    "class_obj = [obj_ds,obj_wd]"
   ]
  },
  {
   "cell_type": "code",
   "execution_count": 42,
   "id": "d54f2b56",
   "metadata": {},
   "outputs": [
    {
     "name": "stdout",
     "output_type": "stream",
     "text": [
      "This is my method for data science syllabus\n",
      "This is my method for Web dev\n"
     ]
    }
   ],
   "source": [
    "class_parser(class_obj)"
   ]
  },
  {
   "cell_type": "markdown",
   "id": "49175b0f",
   "metadata": {},
   "source": [
    "## Encapsulation\n",
    "Encapsulation is one of the fundamental concepts in object-oriented programming (OOP). It describes the idea of wrapping data and the methods that work on data within one unit."
   ]
  },
  {
   "cell_type": "code",
   "execution_count": 43,
   "id": "41edcdb1",
   "metadata": {},
   "outputs": [],
   "source": [
    "class  test:\n",
    "    def __init__(self,a,b):\n",
    "        self.a = a\n",
    "        self.b = b"
   ]
  },
  {
   "cell_type": "code",
   "execution_count": 44,
   "id": "ec6578bd",
   "metadata": {},
   "outputs": [],
   "source": [
    "t1 = test(20,30)"
   ]
  },
  {
   "cell_type": "code",
   "execution_count": 45,
   "id": "bdceb141",
   "metadata": {},
   "outputs": [
    {
     "data": {
      "text/plain": [
       "20"
      ]
     },
     "execution_count": 45,
     "metadata": {},
     "output_type": "execute_result"
    }
   ],
   "source": [
    "t1.a"
   ]
  },
  {
   "cell_type": "code",
   "execution_count": 46,
   "id": "40ec781a",
   "metadata": {},
   "outputs": [
    {
     "data": {
      "text/plain": [
       "30"
      ]
     },
     "execution_count": 46,
     "metadata": {},
     "output_type": "execute_result"
    }
   ],
   "source": [
    "t1.b"
   ]
  },
  {
   "cell_type": "code",
   "execution_count": 47,
   "id": "d7ebe4a1",
   "metadata": {},
   "outputs": [],
   "source": [
    "t1.a = 60"
   ]
  },
  {
   "cell_type": "code",
   "execution_count": 48,
   "id": "2074e83e",
   "metadata": {},
   "outputs": [
    {
     "data": {
      "text/plain": [
       "30"
      ]
     },
     "execution_count": 48,
     "metadata": {},
     "output_type": "execute_result"
    }
   ],
   "source": [
    "t1.b"
   ]
  },
  {
   "cell_type": "code",
   "execution_count": 57,
   "id": "3e7c88cb",
   "metadata": {},
   "outputs": [],
   "source": [
    "class car :\n",
    "    \"\"\" This is the class of a car\"\"\"\n",
    "    def __init__(self,year,make,model,speed):\n",
    "        self.__year = year\n",
    "        self.__make = make\n",
    "        self.__model = model\n",
    "        self.__speed = 0\n",
    "    def set_speed(self,speed):\n",
    "        self.__speed = 0 if speed<0 else speed\n",
    "    def get_speed(self):\n",
    "        return self.__speed"
   ]
  },
  {
   "cell_type": "code",
   "execution_count": 50,
   "id": "2675af0c",
   "metadata": {},
   "outputs": [
    {
     "name": "stdout",
     "output_type": "stream",
     "text": [
      " This is the class of a car\n"
     ]
    }
   ],
   "source": [
    "print(car.__doc__) # to access the doc string"
   ]
  },
  {
   "cell_type": "code",
   "execution_count": 58,
   "id": "e07ebcf8",
   "metadata": {},
   "outputs": [],
   "source": [
    "c1 = car(2021,'Toyota','Innova',12)"
   ]
  },
  {
   "cell_type": "code",
   "execution_count": 59,
   "id": "7032fdbb",
   "metadata": {},
   "outputs": [
    {
     "data": {
      "text/plain": [
       "2021"
      ]
     },
     "execution_count": 59,
     "metadata": {},
     "output_type": "execute_result"
    }
   ],
   "source": [
    "c1._car__year"
   ]
  },
  {
   "cell_type": "code",
   "execution_count": 60,
   "id": "2a7e0d9b",
   "metadata": {},
   "outputs": [
    {
     "data": {
      "text/plain": [
       "0"
      ]
     },
     "execution_count": 60,
     "metadata": {},
     "output_type": "execute_result"
    }
   ],
   "source": [
    "c1.get_speed()"
   ]
  },
  {
   "cell_type": "code",
   "execution_count": 61,
   "id": "1cc6cc90",
   "metadata": {},
   "outputs": [],
   "source": [
    "c1.set_speed(20)"
   ]
  },
  {
   "cell_type": "code",
   "execution_count": 62,
   "id": "9f35129e",
   "metadata": {},
   "outputs": [
    {
     "data": {
      "text/plain": [
       "20"
      ]
     },
     "execution_count": 62,
     "metadata": {},
     "output_type": "execute_result"
    }
   ],
   "source": [
    "c1.get_speed()"
   ]
  },
  {
   "cell_type": "code",
   "execution_count": 71,
   "id": "76ee358f",
   "metadata": {},
   "outputs": [],
   "source": [
    "class Bank_account:\n",
    "    def __init__(self,balance):\n",
    "        self.__balance = balance\n",
    "    def deposit(self,amount):\n",
    "        self.__balance  = self.__balance  + amount\n",
    "    def withdrawal(self,amount):\n",
    "        if self.__balance >= amount:\n",
    "            self.__balance  = self.__balance   - amount\n",
    "            return True\n",
    "        else:\n",
    "            return False\n",
    "    def get_balance(self):\n",
    "        return self.__balance"
   ]
  },
  {
   "cell_type": "code",
   "execution_count": 72,
   "id": "97d41069",
   "metadata": {},
   "outputs": [],
   "source": [
    "User1 = Bank_account(10000)"
   ]
  },
  {
   "cell_type": "code",
   "execution_count": 73,
   "id": "ca582ecd",
   "metadata": {},
   "outputs": [
    {
     "data": {
      "text/plain": [
       "10000"
      ]
     },
     "execution_count": 73,
     "metadata": {},
     "output_type": "execute_result"
    }
   ],
   "source": [
    "User1.get_balance()"
   ]
  },
  {
   "cell_type": "code",
   "execution_count": 74,
   "id": "4125a01b",
   "metadata": {},
   "outputs": [],
   "source": [
    "User1.deposit(1123)"
   ]
  },
  {
   "cell_type": "code",
   "execution_count": 75,
   "id": "d242e387",
   "metadata": {},
   "outputs": [
    {
     "data": {
      "text/plain": [
       "11123"
      ]
     },
     "execution_count": 75,
     "metadata": {},
     "output_type": "execute_result"
    }
   ],
   "source": [
    "User1.get_balance()"
   ]
  },
  {
   "cell_type": "code",
   "execution_count": 76,
   "id": "21febdd6",
   "metadata": {},
   "outputs": [
    {
     "data": {
      "text/plain": [
       "False"
      ]
     },
     "execution_count": 76,
     "metadata": {},
     "output_type": "execute_result"
    }
   ],
   "source": [
    "User1.withdrawal(20000)"
   ]
  },
  {
   "cell_type": "code",
   "execution_count": 77,
   "id": "ddeae14c",
   "metadata": {},
   "outputs": [
    {
     "data": {
      "text/plain": [
       "True"
      ]
     },
     "execution_count": 77,
     "metadata": {},
     "output_type": "execute_result"
    }
   ],
   "source": [
    "User1.withdrawal(2000)"
   ]
  },
  {
   "cell_type": "code",
   "execution_count": 78,
   "id": "5ac8abcb",
   "metadata": {},
   "outputs": [
    {
     "data": {
      "text/plain": [
       "9123"
      ]
     },
     "execution_count": 78,
     "metadata": {},
     "output_type": "execute_result"
    }
   ],
   "source": [
    "User1.get_balance()"
   ]
  },
  {
   "cell_type": "markdown",
   "id": "ec305ae3",
   "metadata": {},
   "source": [
    "## Inheritance\n",
    "Inheritance allows us to define a class that inherits all the methods and properties from another class"
   ]
  },
  {
   "cell_type": "code",
   "execution_count": 79,
   "id": "3ac00d2f",
   "metadata": {},
   "outputs": [],
   "source": [
    "class parent:\n",
    "    def test_presnt(self):\n",
    "        print(\"This is my parent class\")"
   ]
  },
  {
   "cell_type": "code",
   "execution_count": 80,
   "id": "a3eed9d5",
   "metadata": {},
   "outputs": [],
   "source": [
    "class child(parent):\n",
    "    pass"
   ]
  },
  {
   "cell_type": "code",
   "execution_count": 82,
   "id": "e04b4a87",
   "metadata": {},
   "outputs": [],
   "source": [
    "c1 = child()"
   ]
  },
  {
   "cell_type": "code",
   "execution_count": 83,
   "id": "0a4f9f51",
   "metadata": {},
   "outputs": [
    {
     "name": "stdout",
     "output_type": "stream",
     "text": [
      "This is my parent class\n"
     ]
    }
   ],
   "source": [
    "c1.test_presnt()"
   ]
  },
  {
   "cell_type": "markdown",
   "id": "17cf2074",
   "metadata": {},
   "source": [
    "#### Multi level Inheritance"
   ]
  },
  {
   "cell_type": "code",
   "execution_count": 84,
   "id": "585f4aaa",
   "metadata": {},
   "outputs": [],
   "source": [
    "class c1:\n",
    "    def hello(self):\n",
    "        print(\"Hello from class-1\")"
   ]
  },
  {
   "cell_type": "code",
   "execution_count": 86,
   "id": "5fb836ca",
   "metadata": {},
   "outputs": [],
   "source": [
    "class c2(c1):\n",
    "    def greet(self):\n",
    "        print(\"Good Morning from class-2\")"
   ]
  },
  {
   "cell_type": "code",
   "execution_count": 87,
   "id": "78931f75",
   "metadata": {},
   "outputs": [],
   "source": [
    "class c3(c2):\n",
    "    def bye(self):\n",
    "        print(\"Bye from class-3\")"
   ]
  },
  {
   "cell_type": "code",
   "execution_count": 88,
   "id": "1851b76a",
   "metadata": {},
   "outputs": [],
   "source": [
    "obj_c3 = c3()"
   ]
  },
  {
   "cell_type": "code",
   "execution_count": 89,
   "id": "23a8609e",
   "metadata": {},
   "outputs": [
    {
     "name": "stdout",
     "output_type": "stream",
     "text": [
      "Hello from class-1\n"
     ]
    }
   ],
   "source": [
    "obj_c3.hello()"
   ]
  },
  {
   "cell_type": "code",
   "execution_count": 90,
   "id": "303f35a6",
   "metadata": {},
   "outputs": [
    {
     "name": "stdout",
     "output_type": "stream",
     "text": [
      "Good Morning from class-2\n"
     ]
    }
   ],
   "source": [
    "obj_c3.greet()"
   ]
  },
  {
   "cell_type": "code",
   "execution_count": 91,
   "id": "439fb638",
   "metadata": {},
   "outputs": [
    {
     "name": "stdout",
     "output_type": "stream",
     "text": [
      "Bye from class-3\n"
     ]
    }
   ],
   "source": [
    "obj_c3.bye()"
   ]
  },
  {
   "cell_type": "markdown",
   "id": "e73d7a01",
   "metadata": {},
   "source": [
    "#### Multiple Inheritance"
   ]
  },
  {
   "cell_type": "code",
   "execution_count": 99,
   "id": "fb50c8b3",
   "metadata": {},
   "outputs": [],
   "source": [
    "class A:\n",
    "    def tata_power(self):\n",
    "        print(\"Tata Power\")"
   ]
  },
  {
   "cell_type": "code",
   "execution_count": 100,
   "id": "6664de22",
   "metadata": {},
   "outputs": [],
   "source": [
    "class B:\n",
    "    def Tata_steel(self):\n",
    "        print(\"Tata steel\")"
   ]
  },
  {
   "cell_type": "code",
   "execution_count": 101,
   "id": "ab92b6f3",
   "metadata": {},
   "outputs": [],
   "source": [
    "class Tata(A,B):\n",
    "    def Tata_main(self):\n",
    "        print(\"Welcome to Tata\")"
   ]
  },
  {
   "cell_type": "code",
   "execution_count": 102,
   "id": "76233a94",
   "metadata": {},
   "outputs": [],
   "source": [
    "t1 = Tata()"
   ]
  },
  {
   "cell_type": "code",
   "execution_count": 103,
   "id": "732452cf",
   "metadata": {},
   "outputs": [
    {
     "name": "stdout",
     "output_type": "stream",
     "text": [
      "Tata Power\n"
     ]
    }
   ],
   "source": [
    "t1.tata_power()"
   ]
  },
  {
   "cell_type": "code",
   "execution_count": 104,
   "id": "77ea430c",
   "metadata": {},
   "outputs": [
    {
     "name": "stdout",
     "output_type": "stream",
     "text": [
      "Tata steel\n"
     ]
    }
   ],
   "source": [
    "t1.Tata_steel()"
   ]
  },
  {
   "cell_type": "markdown",
   "id": "23fa1e6d",
   "metadata": {},
   "source": [
    "### Abstraction"
   ]
  },
  {
   "cell_type": "code",
   "execution_count": 108,
   "id": "aff61460",
   "metadata": {},
   "outputs": [],
   "source": [
    "import abc\n",
    "class info:\n",
    "    @abc.abstractmethod\n",
    "    def details(self):\n",
    "        pass\n",
    "    @abc.abstractmethod\n",
    "    def assignment(self):\n",
    "        pass\n",
    "    @abc.abstractmethod\n",
    "    def marks(self):\n",
    "        pass"
   ]
  },
  {
   "cell_type": "code",
   "execution_count": 110,
   "id": "2018c7a4",
   "metadata": {},
   "outputs": [],
   "source": [
    "class IIB(info):\n",
    "    def details(self):\n",
    "        return \"From IT department\"\n",
    "    def assignment(self):\n",
    "        return \"Have to complate the andriod lab\"       "
   ]
  },
  {
   "cell_type": "code",
   "execution_count": 111,
   "id": "95fa3a20",
   "metadata": {},
   "outputs": [],
   "source": [
    "class IIA(info):\n",
    "    def details(self):\n",
    "        return \"From AI.ML department\"\n",
    "    def assignment(self):\n",
    "        return \"Have to complate the DL-Lab\"       "
   ]
  },
  {
   "cell_type": "code",
   "execution_count": 112,
   "id": "cd1b4e0b",
   "metadata": {},
   "outputs": [],
   "source": [
    "iib = IIB()"
   ]
  },
  {
   "cell_type": "code",
   "execution_count": 115,
   "id": "aed77166",
   "metadata": {},
   "outputs": [
    {
     "name": "stdout",
     "output_type": "stream",
     "text": [
      "From IT department\n",
      "Have to complate the andriod lab\n"
     ]
    }
   ],
   "source": [
    "print(iib.details())\n",
    "print(iib.assignment())"
   ]
  },
  {
   "cell_type": "code",
   "execution_count": 116,
   "id": "2cd31b2c",
   "metadata": {},
   "outputs": [],
   "source": [
    "iia = IIA()"
   ]
  },
  {
   "cell_type": "code",
   "execution_count": 117,
   "id": "e3a14650",
   "metadata": {},
   "outputs": [
    {
     "name": "stdout",
     "output_type": "stream",
     "text": [
      "From AI.ML department\n",
      "Have to complate the DL-Lab\n"
     ]
    }
   ],
   "source": [
    "print(iia.details())\n",
    "print(iia.assignment())"
   ]
  },
  {
   "cell_type": "markdown",
   "id": "08c46868",
   "metadata": {},
   "source": [
    "### Decorators"
   ]
  },
  {
   "cell_type": "code",
   "execution_count": 120,
   "id": "b4bd0020",
   "metadata": {},
   "outputs": [],
   "source": [
    "def test():\n",
    "    print(\"Start\")\n",
    "    print(10+30)\n",
    "    print(\"End\")"
   ]
  },
  {
   "cell_type": "code",
   "execution_count": 121,
   "id": "5dbaa748",
   "metadata": {},
   "outputs": [
    {
     "name": "stdout",
     "output_type": "stream",
     "text": [
      "Start\n",
      "40\n",
      "End\n"
     ]
    }
   ],
   "source": [
    "test()"
   ]
  },
  {
   "cell_type": "code",
   "execution_count": 123,
   "id": "5a14cae9",
   "metadata": {},
   "outputs": [],
   "source": [
    "def deco(func):\n",
    "    def inner_deco():\n",
    "        print(\"Start\")\n",
    "        func()\n",
    "        print(\"End\")\n",
    "    return inner_deco"
   ]
  },
  {
   "cell_type": "code",
   "execution_count": 125,
   "id": "fd9c7511",
   "metadata": {},
   "outputs": [],
   "source": [
    "@deco\n",
    "def test1():\n",
    "    print(4+4)"
   ]
  },
  {
   "cell_type": "code",
   "execution_count": 126,
   "id": "72843c5d",
   "metadata": {},
   "outputs": [
    {
     "name": "stdout",
     "output_type": "stream",
     "text": [
      "Start\n",
      "8\n",
      "End\n"
     ]
    }
   ],
   "source": [
    "test1()"
   ]
  },
  {
   "cell_type": "code",
   "execution_count": 127,
   "id": "44419404",
   "metadata": {},
   "outputs": [],
   "source": [
    "import time\n",
    "def timer_test(func):\n",
    "    def timer_test_inner():\n",
    "        start = time.time()\n",
    "        func()\n",
    "        end = time.time()\n",
    "        print(end-start)\n",
    "    return timer_test_inner"
   ]
  },
  {
   "cell_type": "code",
   "execution_count": 145,
   "id": "8765edcc",
   "metadata": {},
   "outputs": [],
   "source": [
    "@timer_test\n",
    "def test():\n",
    "    print(13+34)"
   ]
  },
  {
   "cell_type": "code",
   "execution_count": 146,
   "id": "40d3505b",
   "metadata": {},
   "outputs": [
    {
     "name": "stdout",
     "output_type": "stream",
     "text": [
      "47\n",
      "0.0\n"
     ]
    }
   ],
   "source": [
    "test()"
   ]
  },
  {
   "cell_type": "code",
   "execution_count": null,
   "id": "3fb1ed11",
   "metadata": {},
   "outputs": [],
   "source": [
    "@timer_test\n",
    "def test2():\n",
    "    for i in range(10000):\n",
    "        pass"
   ]
  },
  {
   "cell_type": "code",
   "execution_count": null,
   "id": "a6cff95c",
   "metadata": {},
   "outputs": [],
   "source": [
    "test2()"
   ]
  },
  {
   "cell_type": "markdown",
   "id": "cf7a00c0",
   "metadata": {},
   "source": [
    "### Class Methods"
   ]
  },
  {
   "cell_type": "code",
   "execution_count": null,
   "id": "36ee94e6",
   "metadata": {},
   "outputs": [],
   "source": []
  }
 ],
 "metadata": {
  "kernelspec": {
   "display_name": "Python 3 (ipykernel)",
   "language": "python",
   "name": "python3"
  },
  "language_info": {
   "codemirror_mode": {
    "name": "ipython",
    "version": 3
   },
   "file_extension": ".py",
   "mimetype": "text/x-python",
   "name": "python",
   "nbconvert_exporter": "python",
   "pygments_lexer": "ipython3",
   "version": "3.9.6"
  }
 },
 "nbformat": 4,
 "nbformat_minor": 5
}
