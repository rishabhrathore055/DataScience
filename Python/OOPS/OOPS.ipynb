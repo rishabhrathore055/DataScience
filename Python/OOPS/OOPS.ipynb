{
 "cells": [
  {
   "cell_type": "markdown",
   "id": "b036c4bd",
   "metadata": {},
   "source": [
    "# Object-oriented programming"
   ]
  },
  {
   "cell_type": "code",
   "execution_count": 1,
   "id": "127396ff",
   "metadata": {},
   "outputs": [],
   "source": [
    "a = 1"
   ]
  },
  {
   "cell_type": "code",
   "execution_count": 2,
   "id": "e52e4a30",
   "metadata": {},
   "outputs": [
    {
     "name": "stdout",
     "output_type": "stream",
     "text": [
      "<class 'int'>\n"
     ]
    }
   ],
   "source": [
    "print(type(a))"
   ]
  },
  {
   "cell_type": "code",
   "execution_count": 3,
   "id": "9be32d1f",
   "metadata": {},
   "outputs": [
    {
     "name": "stdout",
     "output_type": "stream",
     "text": [
      "<class 'str'>\n"
     ]
    }
   ],
   "source": [
    "print(type(\"Rishabh\"))"
   ]
  },
  {
   "cell_type": "markdown",
   "id": "55fed74b",
   "metadata": {},
   "source": [
    "### A Class is like an object constructor, or a \"blueprint\" or a \"template\" for creating objects."
   ]
  },
  {
   "cell_type": "code",
   "execution_count": 4,
   "id": "ac13056c",
   "metadata": {},
   "outputs": [],
   "source": [
    "class test:\n",
    "    pass"
   ]
  },
  {
   "cell_type": "code",
   "execution_count": 5,
   "id": "eec05b6b",
   "metadata": {},
   "outputs": [],
   "source": [
    "b = test()"
   ]
  },
  {
   "cell_type": "code",
   "execution_count": 6,
   "id": "b57efebd",
   "metadata": {},
   "outputs": [
    {
     "data": {
      "text/plain": [
       "__main__.test"
      ]
     },
     "execution_count": 6,
     "metadata": {},
     "output_type": "execute_result"
    }
   ],
   "source": [
    "type(b)"
   ]
  },
  {
   "cell_type": "code",
   "execution_count": 7,
   "id": "8ff3c582",
   "metadata": {},
   "outputs": [],
   "source": [
    "class greet:\n",
    "    \n",
    "    def GM(self):\n",
    "        print(\"Good Morning\")"
   ]
  },
  {
   "cell_type": "code",
   "execution_count": 8,
   "id": "711e6ac4",
   "metadata": {},
   "outputs": [],
   "source": [
    "p1 = greet()"
   ]
  },
  {
   "cell_type": "code",
   "execution_count": 9,
   "id": "eb23be7d",
   "metadata": {},
   "outputs": [
    {
     "name": "stdout",
     "output_type": "stream",
     "text": [
      "Good Morning\n"
     ]
    }
   ],
   "source": [
    "p1.GM()"
   ]
  },
  {
   "cell_type": "code",
   "execution_count": 10,
   "id": "8b3956df",
   "metadata": {},
   "outputs": [],
   "source": [
    "p2 = greet()"
   ]
  },
  {
   "cell_type": "code",
   "execution_count": 11,
   "id": "a5b3c12c",
   "metadata": {},
   "outputs": [
    {
     "name": "stdout",
     "output_type": "stream",
     "text": [
      "Good Morning\n"
     ]
    }
   ],
   "source": [
    "p2.GM()"
   ]
  },
  {
   "cell_type": "code",
   "execution_count": 12,
   "id": "3dd17f53",
   "metadata": {},
   "outputs": [],
   "source": [
    "class Teacher:\n",
    "    \"\"\"This is my class template\"\"\"\n",
    "    def  __init__(self):\n",
    "        self.name = \"Ram\"\n",
    "        self.age = 22\n",
    "    def display(self):\n",
    "        print(self.name,self.age)"
   ]
  },
  {
   "cell_type": "code",
   "execution_count": 13,
   "id": "bba7959f",
   "metadata": {},
   "outputs": [],
   "source": [
    "Ram = Teacher()"
   ]
  },
  {
   "cell_type": "code",
   "execution_count": 14,
   "id": "2619d8b1",
   "metadata": {},
   "outputs": [
    {
     "name": "stdout",
     "output_type": "stream",
     "text": [
      "Ram 22\n"
     ]
    }
   ],
   "source": [
    "Ram.display()"
   ]
  },
  {
   "cell_type": "markdown",
   "id": "b7d7e4c9",
   "metadata": {},
   "source": [
    "### A constructor in Python is a special type of method that is used to initialize the state of an object. It is called automatically when an object is created.\n",
    "### The constructor is defined using the\n",
    "``\n",
    "__init__()\n",
    "`` method"
   ]
  },
  {
   "cell_type": "code",
   "execution_count": 15,
   "id": "8d416329",
   "metadata": {},
   "outputs": [],
   "source": [
    "class Person:\n",
    "    def __init__(self, name, age):\n",
    "        self.name = name\n",
    "        self.age = age\n",
    "        print(\"Constructor is executed\")"
   ]
  },
  {
   "cell_type": "code",
   "execution_count": 16,
   "id": "de7d5530",
   "metadata": {},
   "outputs": [
    {
     "name": "stdout",
     "output_type": "stream",
     "text": [
      "Constructor is executed\n"
     ]
    }
   ],
   "source": [
    "# Create a new Person object\n",
    "person = Person(\"Alice\", 25)"
   ]
  },
  {
   "cell_type": "markdown",
   "id": "69ba00c9",
   "metadata": {},
   "source": [
    "**Self refer to the current object**"
   ]
  },
  {
   "cell_type": "code",
   "execution_count": 17,
   "id": "b4fcdf12",
   "metadata": {},
   "outputs": [
    {
     "name": "stdout",
     "output_type": "stream",
     "text": [
      "Alice\n",
      "25\n"
     ]
    }
   ],
   "source": [
    "# Print the person's name and age\n",
    "print(person.name)\n",
    "print(person.age)"
   ]
  },
  {
   "cell_type": "markdown",
   "id": "c5a2a4b2",
   "metadata": {},
   "source": [
    "### 3 Types of variables\n",
    "1. Instance variable\n",
    "2. Static variable(Class Level)\n",
    "3. Local variable "
   ]
  },
  {
   "cell_type": "code",
   "execution_count": 18,
   "id": "87aeb8bc",
   "metadata": {},
   "outputs": [],
   "source": [
    "class Teacher:\n",
    "    Institute = \"IIM\"\n",
    "    def  __init__(self):\n",
    "        self.name = \"Ram\"\n",
    "        self.age = 22"
   ]
  },
  {
   "cell_type": "code",
   "execution_count": 19,
   "id": "6fce041e",
   "metadata": {},
   "outputs": [
    {
     "name": "stdout",
     "output_type": "stream",
     "text": [
      "IIM\n"
     ]
    }
   ],
   "source": [
    "print(Teacher.Institute) # This is better classname.static_variable"
   ]
  },
  {
   "cell_type": "code",
   "execution_count": 20,
   "id": "b8d16e76",
   "metadata": {},
   "outputs": [
    {
     "name": "stdout",
     "output_type": "stream",
     "text": [
      "IIM\n"
     ]
    }
   ],
   "source": [
    "t = Teacher()\n",
    "print(t.Institute)"
   ]
  },
  {
   "cell_type": "markdown",
   "id": "fc544806",
   "metadata": {},
   "source": [
    "### 3 Types of Methods\n",
    "1. Instance Method\n",
    "2. Class Method(@classmethod->cls)\n",
    "3. Static Method - Genral Purpose Method"
   ]
  },
  {
   "cell_type": "code",
   "execution_count": 21,
   "id": "69c2330f",
   "metadata": {},
   "outputs": [],
   "source": [
    "class Teacher:\n",
    "    @classmethod\n",
    "    def fun(cls):\n",
    "        print(id(cls)) # class level object refrence"
   ]
  },
  {
   "cell_type": "code",
   "execution_count": 22,
   "id": "71bf5383",
   "metadata": {},
   "outputs": [
    {
     "name": "stdout",
     "output_type": "stream",
     "text": [
      "1800420840272\n"
     ]
    }
   ],
   "source": [
    "print(id(Teacher))"
   ]
  },
  {
   "cell_type": "code",
   "execution_count": 23,
   "id": "7fb80838",
   "metadata": {},
   "outputs": [
    {
     "name": "stdout",
     "output_type": "stream",
     "text": [
      "1800420840272\n"
     ]
    }
   ],
   "source": [
    "# fun ====> Class method\n",
    "Teacher.fun()"
   ]
  },
  {
   "cell_type": "code",
   "execution_count": 24,
   "id": "510bd7b2",
   "metadata": {},
   "outputs": [],
   "source": [
    "class test:\n",
    "    def __init__(self,pNo,email,enroll):\n",
    "        self.pNo = pNo\n",
    "        self.email=email\n",
    "        self.enroll = enroll\n",
    "    def return_details(self):\n",
    "        return self.pNo,self.email,self.enroll\n",
    "        "
   ]
  },
  {
   "cell_type": "code",
   "execution_count": 25,
   "id": "6c53fcec",
   "metadata": {},
   "outputs": [],
   "source": [
    "s1 = test(9988998800,\"xyz@gmail.com\",1)"
   ]
  },
  {
   "cell_type": "code",
   "execution_count": 26,
   "id": "0d5f922a",
   "metadata": {},
   "outputs": [
    {
     "data": {
      "text/plain": [
       "'xyz@gmail.com'"
      ]
     },
     "execution_count": 26,
     "metadata": {},
     "output_type": "execute_result"
    }
   ],
   "source": [
    "s1.email"
   ]
  },
  {
   "cell_type": "code",
   "execution_count": 27,
   "id": "a7cea4d8",
   "metadata": {},
   "outputs": [
    {
     "data": {
      "text/plain": [
       "9988998800"
      ]
     },
     "execution_count": 27,
     "metadata": {},
     "output_type": "execute_result"
    }
   ],
   "source": [
    "s1.pNo"
   ]
  },
  {
   "cell_type": "code",
   "execution_count": 28,
   "id": "3c90ac36",
   "metadata": {},
   "outputs": [
    {
     "data": {
      "text/plain": [
       "1"
      ]
     },
     "execution_count": 28,
     "metadata": {},
     "output_type": "execute_result"
    }
   ],
   "source": [
    "s1.enroll"
   ]
  },
  {
   "cell_type": "code",
   "execution_count": 29,
   "id": "9b26c9a1",
   "metadata": {},
   "outputs": [
    {
     "data": {
      "text/plain": [
       "(9988998800, 'xyz@gmail.com', 1)"
      ]
     },
     "execution_count": 29,
     "metadata": {},
     "output_type": "execute_result"
    }
   ],
   "source": [
    "s1.return_details()"
   ]
  },
  {
   "cell_type": "code",
   "execution_count": 30,
   "id": "a035f5b6",
   "metadata": {},
   "outputs": [],
   "source": [
    "s2 = test(9282837465,\"abc@gmail.com\",2)"
   ]
  },
  {
   "cell_type": "code",
   "execution_count": 31,
   "id": "3dffb4d8",
   "metadata": {},
   "outputs": [
    {
     "data": {
      "text/plain": [
       "(9282837465, 'abc@gmail.com', 2)"
      ]
     },
     "execution_count": 31,
     "metadata": {},
     "output_type": "execute_result"
    }
   ],
   "source": [
    "s2.return_details()"
   ]
  },
  {
   "cell_type": "markdown",
   "id": "49e15721",
   "metadata": {},
   "source": [
    "### Polymorphism\n",
    "In Python, polymorphism can be achieved through method overriding, operator overloading, and duck typing."
   ]
  },
  {
   "cell_type": "code",
   "execution_count": 32,
   "id": "5ad4f033",
   "metadata": {},
   "outputs": [],
   "source": [
    "def t(a,b):\n",
    "    return a+b"
   ]
  },
  {
   "cell_type": "code",
   "execution_count": 33,
   "id": "b68af834",
   "metadata": {},
   "outputs": [
    {
     "data": {
      "text/plain": [
       "30"
      ]
     },
     "execution_count": 33,
     "metadata": {},
     "output_type": "execute_result"
    }
   ],
   "source": [
    "t(10,20)"
   ]
  },
  {
   "cell_type": "code",
   "execution_count": 34,
   "id": "293ce227",
   "metadata": {},
   "outputs": [
    {
     "data": {
      "text/plain": [
       "'Hello World'"
      ]
     },
     "execution_count": 34,
     "metadata": {},
     "output_type": "execute_result"
    }
   ],
   "source": [
    "t(\"Hello \",\"World\")"
   ]
  },
  {
   "cell_type": "code",
   "execution_count": 35,
   "id": "54c0eea7",
   "metadata": {},
   "outputs": [
    {
     "data": {
      "text/plain": [
       "[1, 2, 3, 4, 5, 6]"
      ]
     },
     "execution_count": 35,
     "metadata": {},
     "output_type": "execute_result"
    }
   ],
   "source": [
    "t([1,2,3],[4,5,6])"
   ]
  },
  {
   "cell_type": "code",
   "execution_count": 36,
   "id": "f9eba14a",
   "metadata": {},
   "outputs": [],
   "source": [
    "class DataScience:\n",
    "    def syllabus(self):\n",
    "        print(\"This is my method for data science syllabus\")"
   ]
  },
  {
   "cell_type": "code",
   "execution_count": 37,
   "id": "9f834865",
   "metadata": {},
   "outputs": [],
   "source": [
    "class WebDev:\n",
    "    def syllabus(self):\n",
    "        print(\"This is my method for Web dev\")"
   ]
  },
  {
   "cell_type": "code",
   "execution_count": 38,
   "id": "2ef2adf6",
   "metadata": {},
   "outputs": [],
   "source": [
    "def class_parser(class_obj):\n",
    "    for i in class_obj:\n",
    "        i.syllabus()"
   ]
  },
  {
   "cell_type": "code",
   "execution_count": 39,
   "id": "f6f3e643",
   "metadata": {},
   "outputs": [],
   "source": [
    "obj_ds = DataScience()"
   ]
  },
  {
   "cell_type": "code",
   "execution_count": 40,
   "id": "d371b6cd",
   "metadata": {},
   "outputs": [],
   "source": [
    "obj_wd = WebDev()"
   ]
  },
  {
   "cell_type": "code",
   "execution_count": 41,
   "id": "739af871",
   "metadata": {},
   "outputs": [],
   "source": [
    "class_obj = [obj_ds,obj_wd]"
   ]
  },
  {
   "cell_type": "code",
   "execution_count": 42,
   "id": "d54f2b56",
   "metadata": {},
   "outputs": [
    {
     "name": "stdout",
     "output_type": "stream",
     "text": [
      "This is my method for data science syllabus\n",
      "This is my method for Web dev\n"
     ]
    }
   ],
   "source": [
    "class_parser(class_obj)"
   ]
  },
  {
   "cell_type": "markdown",
   "id": "49175b0f",
   "metadata": {},
   "source": [
    "## Encapsulation\n",
    "Encapsulation is one of the fundamental concepts in object-oriented programming (OOP). It describes the idea of wrapping data and the methods that work on data within one unit."
   ]
  },
  {
   "cell_type": "code",
   "execution_count": 43,
   "id": "41edcdb1",
   "metadata": {},
   "outputs": [],
   "source": [
    "class  test:\n",
    "    def __init__(self,a,b):\n",
    "        self.a = a\n",
    "        self.b = b"
   ]
  },
  {
   "cell_type": "code",
   "execution_count": 44,
   "id": "ec6578bd",
   "metadata": {},
   "outputs": [],
   "source": [
    "t1 = test(20,30)"
   ]
  },
  {
   "cell_type": "code",
   "execution_count": 45,
   "id": "bdceb141",
   "metadata": {},
   "outputs": [
    {
     "data": {
      "text/plain": [
       "20"
      ]
     },
     "execution_count": 45,
     "metadata": {},
     "output_type": "execute_result"
    }
   ],
   "source": [
    "t1.a"
   ]
  },
  {
   "cell_type": "code",
   "execution_count": 46,
   "id": "40ec781a",
   "metadata": {},
   "outputs": [
    {
     "data": {
      "text/plain": [
       "30"
      ]
     },
     "execution_count": 46,
     "metadata": {},
     "output_type": "execute_result"
    }
   ],
   "source": [
    "t1.b"
   ]
  },
  {
   "cell_type": "code",
   "execution_count": 47,
   "id": "d7ebe4a1",
   "metadata": {},
   "outputs": [],
   "source": [
    "t1.a = 60"
   ]
  },
  {
   "cell_type": "code",
   "execution_count": 48,
   "id": "2074e83e",
   "metadata": {},
   "outputs": [
    {
     "data": {
      "text/plain": [
       "30"
      ]
     },
     "execution_count": 48,
     "metadata": {},
     "output_type": "execute_result"
    }
   ],
   "source": [
    "t1.b"
   ]
  },
  {
   "cell_type": "code",
   "execution_count": 49,
   "id": "3e7c88cb",
   "metadata": {},
   "outputs": [],
   "source": [
    "class car :\n",
    "    \"\"\" This is the class of a car\"\"\"\n",
    "    def __init__(self,year,make,model,speed):\n",
    "        self.__year = year\n",
    "        self.__make = make\n",
    "        self.__model = model\n",
    "        self.__speed = 0\n",
    "    def set_speed(self,speed):\n",
    "        self.__speed = 0 if speed<0 else speed\n",
    "    def get_speed(self):\n",
    "        return self.__speed"
   ]
  },
  {
   "cell_type": "code",
   "execution_count": 50,
   "id": "2675af0c",
   "metadata": {},
   "outputs": [
    {
     "name": "stdout",
     "output_type": "stream",
     "text": [
      " This is the class of a car\n"
     ]
    }
   ],
   "source": [
    "print(car.__doc__) # to access the doc string"
   ]
  },
  {
   "cell_type": "code",
   "execution_count": 51,
   "id": "e07ebcf8",
   "metadata": {},
   "outputs": [],
   "source": [
    "c1 = car(2021,'Toyota','Innova',12)"
   ]
  },
  {
   "cell_type": "code",
   "execution_count": 52,
   "id": "7032fdbb",
   "metadata": {},
   "outputs": [
    {
     "data": {
      "text/plain": [
       "2021"
      ]
     },
     "execution_count": 52,
     "metadata": {},
     "output_type": "execute_result"
    }
   ],
   "source": [
    "c1._car__year"
   ]
  },
  {
   "cell_type": "code",
   "execution_count": 53,
   "id": "2a7e0d9b",
   "metadata": {},
   "outputs": [
    {
     "data": {
      "text/plain": [
       "0"
      ]
     },
     "execution_count": 53,
     "metadata": {},
     "output_type": "execute_result"
    }
   ],
   "source": [
    "c1.get_speed()"
   ]
  },
  {
   "cell_type": "code",
   "execution_count": 54,
   "id": "1cc6cc90",
   "metadata": {},
   "outputs": [],
   "source": [
    "c1.set_speed(20)"
   ]
  },
  {
   "cell_type": "code",
   "execution_count": 55,
   "id": "9f35129e",
   "metadata": {},
   "outputs": [
    {
     "data": {
      "text/plain": [
       "20"
      ]
     },
     "execution_count": 55,
     "metadata": {},
     "output_type": "execute_result"
    }
   ],
   "source": [
    "c1.get_speed()"
   ]
  },
  {
   "cell_type": "code",
   "execution_count": 56,
   "id": "76ee358f",
   "metadata": {},
   "outputs": [],
   "source": [
    "class Bank_account:\n",
    "    def __init__(self,balance):\n",
    "        self.__balance = balance\n",
    "    def deposit(self,amount):\n",
    "        self.__balance  = self.__balance  + amount\n",
    "    def withdrawal(self,amount):\n",
    "        if self.__balance >= amount:\n",
    "            self.__balance  = self.__balance   - amount\n",
    "            return True\n",
    "        else:\n",
    "            return False\n",
    "    def get_balance(self):\n",
    "        return self.__balance"
   ]
  },
  {
   "cell_type": "code",
   "execution_count": 57,
   "id": "97d41069",
   "metadata": {},
   "outputs": [],
   "source": [
    "User1 = Bank_account(10000)"
   ]
  },
  {
   "cell_type": "code",
   "execution_count": 58,
   "id": "ca582ecd",
   "metadata": {},
   "outputs": [
    {
     "data": {
      "text/plain": [
       "10000"
      ]
     },
     "execution_count": 58,
     "metadata": {},
     "output_type": "execute_result"
    }
   ],
   "source": [
    "User1.get_balance()"
   ]
  },
  {
   "cell_type": "code",
   "execution_count": 59,
   "id": "4125a01b",
   "metadata": {},
   "outputs": [],
   "source": [
    "User1.deposit(1123)"
   ]
  },
  {
   "cell_type": "code",
   "execution_count": 60,
   "id": "d242e387",
   "metadata": {},
   "outputs": [
    {
     "data": {
      "text/plain": [
       "11123"
      ]
     },
     "execution_count": 60,
     "metadata": {},
     "output_type": "execute_result"
    }
   ],
   "source": [
    "User1.get_balance()"
   ]
  },
  {
   "cell_type": "code",
   "execution_count": 61,
   "id": "21febdd6",
   "metadata": {},
   "outputs": [
    {
     "data": {
      "text/plain": [
       "False"
      ]
     },
     "execution_count": 61,
     "metadata": {},
     "output_type": "execute_result"
    }
   ],
   "source": [
    "User1.withdrawal(20000)"
   ]
  },
  {
   "cell_type": "code",
   "execution_count": 62,
   "id": "ddeae14c",
   "metadata": {},
   "outputs": [
    {
     "data": {
      "text/plain": [
       "True"
      ]
     },
     "execution_count": 62,
     "metadata": {},
     "output_type": "execute_result"
    }
   ],
   "source": [
    "User1.withdrawal(2000)"
   ]
  },
  {
   "cell_type": "code",
   "execution_count": 63,
   "id": "5ac8abcb",
   "metadata": {},
   "outputs": [
    {
     "data": {
      "text/plain": [
       "9123"
      ]
     },
     "execution_count": 63,
     "metadata": {},
     "output_type": "execute_result"
    }
   ],
   "source": [
    "User1.get_balance()"
   ]
  },
  {
   "cell_type": "markdown",
   "id": "ec305ae3",
   "metadata": {},
   "source": [
    "## Inheritance\n",
    "Inheritance allows us to define a class that inherits all the methods and properties from another class"
   ]
  },
  {
   "cell_type": "code",
   "execution_count": 64,
   "id": "3ac00d2f",
   "metadata": {},
   "outputs": [],
   "source": [
    "class parent:\n",
    "    def test_presnt(self):\n",
    "        print(\"This is my parent class\")"
   ]
  },
  {
   "cell_type": "code",
   "execution_count": 65,
   "id": "a3eed9d5",
   "metadata": {},
   "outputs": [],
   "source": [
    "class child(parent):\n",
    "    pass"
   ]
  },
  {
   "cell_type": "code",
   "execution_count": 66,
   "id": "e04b4a87",
   "metadata": {},
   "outputs": [],
   "source": [
    "c1 = child()"
   ]
  },
  {
   "cell_type": "code",
   "execution_count": 67,
   "id": "0a4f9f51",
   "metadata": {},
   "outputs": [
    {
     "name": "stdout",
     "output_type": "stream",
     "text": [
      "This is my parent class\n"
     ]
    }
   ],
   "source": [
    "c1.test_presnt()"
   ]
  },
  {
   "cell_type": "markdown",
   "id": "17cf2074",
   "metadata": {},
   "source": [
    "#### Multi level Inheritance"
   ]
  },
  {
   "cell_type": "code",
   "execution_count": 68,
   "id": "585f4aaa",
   "metadata": {},
   "outputs": [],
   "source": [
    "class c1:\n",
    "    def hello(self):\n",
    "        print(\"Hello from class-1\")"
   ]
  },
  {
   "cell_type": "code",
   "execution_count": 69,
   "id": "5fb836ca",
   "metadata": {},
   "outputs": [],
   "source": [
    "class c2(c1):\n",
    "    def greet(self):\n",
    "        print(\"Good Morning from class-2\")"
   ]
  },
  {
   "cell_type": "code",
   "execution_count": 70,
   "id": "78931f75",
   "metadata": {},
   "outputs": [],
   "source": [
    "class c3(c2):\n",
    "    def bye(self):\n",
    "        print(\"Bye from class-3\")"
   ]
  },
  {
   "cell_type": "code",
   "execution_count": 71,
   "id": "1851b76a",
   "metadata": {},
   "outputs": [],
   "source": [
    "obj_c3 = c3()"
   ]
  },
  {
   "cell_type": "code",
   "execution_count": 72,
   "id": "23a8609e",
   "metadata": {},
   "outputs": [
    {
     "name": "stdout",
     "output_type": "stream",
     "text": [
      "Hello from class-1\n"
     ]
    }
   ],
   "source": [
    "obj_c3.hello()"
   ]
  },
  {
   "cell_type": "code",
   "execution_count": 73,
   "id": "303f35a6",
   "metadata": {},
   "outputs": [
    {
     "name": "stdout",
     "output_type": "stream",
     "text": [
      "Good Morning from class-2\n"
     ]
    }
   ],
   "source": [
    "obj_c3.greet()"
   ]
  },
  {
   "cell_type": "code",
   "execution_count": 74,
   "id": "439fb638",
   "metadata": {},
   "outputs": [
    {
     "name": "stdout",
     "output_type": "stream",
     "text": [
      "Bye from class-3\n"
     ]
    }
   ],
   "source": [
    "obj_c3.bye()"
   ]
  },
  {
   "cell_type": "markdown",
   "id": "e73d7a01",
   "metadata": {},
   "source": [
    "#### Multiple Inheritance"
   ]
  },
  {
   "cell_type": "code",
   "execution_count": 75,
   "id": "fb50c8b3",
   "metadata": {},
   "outputs": [],
   "source": [
    "class A:\n",
    "    def tata_power(self):\n",
    "        print(\"Tata Power\")"
   ]
  },
  {
   "cell_type": "code",
   "execution_count": 76,
   "id": "6664de22",
   "metadata": {},
   "outputs": [],
   "source": [
    "class B:\n",
    "    def Tata_steel(self):\n",
    "        print(\"Tata steel\")"
   ]
  },
  {
   "cell_type": "code",
   "execution_count": 77,
   "id": "ab92b6f3",
   "metadata": {},
   "outputs": [],
   "source": [
    "class Tata(A,B):\n",
    "    def Tata_main(self):\n",
    "        print(\"Welcome to Tata\")"
   ]
  },
  {
   "cell_type": "code",
   "execution_count": 78,
   "id": "76233a94",
   "metadata": {},
   "outputs": [],
   "source": [
    "t1 = Tata()"
   ]
  },
  {
   "cell_type": "code",
   "execution_count": 79,
   "id": "732452cf",
   "metadata": {},
   "outputs": [
    {
     "name": "stdout",
     "output_type": "stream",
     "text": [
      "Tata Power\n"
     ]
    }
   ],
   "source": [
    "t1.tata_power()"
   ]
  },
  {
   "cell_type": "code",
   "execution_count": 80,
   "id": "77ea430c",
   "metadata": {},
   "outputs": [
    {
     "name": "stdout",
     "output_type": "stream",
     "text": [
      "Tata steel\n"
     ]
    }
   ],
   "source": [
    "t1.Tata_steel()"
   ]
  },
  {
   "cell_type": "markdown",
   "id": "23fa1e6d",
   "metadata": {},
   "source": [
    "### Abstraction"
   ]
  },
  {
   "cell_type": "code",
   "execution_count": 81,
   "id": "aff61460",
   "metadata": {},
   "outputs": [],
   "source": [
    "import abc\n",
    "class info:\n",
    "    @abc.abstractmethod\n",
    "    def details(self):\n",
    "        pass\n",
    "    @abc.abstractmethod\n",
    "    def assignment(self):\n",
    "        pass\n",
    "    @abc.abstractmethod\n",
    "    def marks(self):\n",
    "        pass"
   ]
  },
  {
   "cell_type": "code",
   "execution_count": 82,
   "id": "2018c7a4",
   "metadata": {},
   "outputs": [],
   "source": [
    "class IIB(info):\n",
    "    def details(self):\n",
    "        return \"From IT department\"\n",
    "    def assignment(self):\n",
    "        return \"Have to complate the andriod lab\"       "
   ]
  },
  {
   "cell_type": "code",
   "execution_count": 83,
   "id": "95fa3a20",
   "metadata": {},
   "outputs": [],
   "source": [
    "class IIA(info):\n",
    "    def details(self):\n",
    "        return \"From AI.ML department\"\n",
    "    def assignment(self):\n",
    "        return \"Have to complate the DL-Lab\"       "
   ]
  },
  {
   "cell_type": "code",
   "execution_count": 84,
   "id": "cd1b4e0b",
   "metadata": {},
   "outputs": [],
   "source": [
    "iib = IIB()"
   ]
  },
  {
   "cell_type": "code",
   "execution_count": 85,
   "id": "aed77166",
   "metadata": {},
   "outputs": [
    {
     "name": "stdout",
     "output_type": "stream",
     "text": [
      "From IT department\n",
      "Have to complate the andriod lab\n"
     ]
    }
   ],
   "source": [
    "print(iib.details())\n",
    "print(iib.assignment())"
   ]
  },
  {
   "cell_type": "code",
   "execution_count": 86,
   "id": "2cd31b2c",
   "metadata": {},
   "outputs": [],
   "source": [
    "iia = IIA()"
   ]
  },
  {
   "cell_type": "code",
   "execution_count": 87,
   "id": "e3a14650",
   "metadata": {},
   "outputs": [
    {
     "name": "stdout",
     "output_type": "stream",
     "text": [
      "From AI.ML department\n",
      "Have to complate the DL-Lab\n"
     ]
    }
   ],
   "source": [
    "print(iia.details())\n",
    "print(iia.assignment())"
   ]
  },
  {
   "cell_type": "markdown",
   "id": "08c46868",
   "metadata": {},
   "source": [
    "### Decorators"
   ]
  },
  {
   "cell_type": "code",
   "execution_count": 88,
   "id": "b4bd0020",
   "metadata": {},
   "outputs": [],
   "source": [
    "def test():\n",
    "    print(\"Start\")\n",
    "    print(10+30)\n",
    "    print(\"End\")"
   ]
  },
  {
   "cell_type": "code",
   "execution_count": 89,
   "id": "5dbaa748",
   "metadata": {},
   "outputs": [
    {
     "name": "stdout",
     "output_type": "stream",
     "text": [
      "Start\n",
      "40\n",
      "End\n"
     ]
    }
   ],
   "source": [
    "test()"
   ]
  },
  {
   "cell_type": "code",
   "execution_count": 90,
   "id": "5a14cae9",
   "metadata": {},
   "outputs": [],
   "source": [
    "def deco(func):\n",
    "    def inner_deco():\n",
    "        print(\"Start\")\n",
    "        func()\n",
    "        print(\"End\")\n",
    "    return inner_deco"
   ]
  },
  {
   "cell_type": "code",
   "execution_count": 91,
   "id": "fd9c7511",
   "metadata": {},
   "outputs": [],
   "source": [
    "@deco\n",
    "def test1():\n",
    "    print(4+4)"
   ]
  },
  {
   "cell_type": "code",
   "execution_count": 92,
   "id": "72843c5d",
   "metadata": {},
   "outputs": [
    {
     "name": "stdout",
     "output_type": "stream",
     "text": [
      "Start\n",
      "8\n",
      "End\n"
     ]
    }
   ],
   "source": [
    "test1()"
   ]
  },
  {
   "cell_type": "code",
   "execution_count": 93,
   "id": "44419404",
   "metadata": {},
   "outputs": [],
   "source": [
    "import time\n",
    "def timer_test(func):\n",
    "    def timer_test_inner():\n",
    "        start = time.time()\n",
    "        func()\n",
    "        end = time.time()\n",
    "        print(end-start)\n",
    "    return timer_test_inner"
   ]
  },
  {
   "cell_type": "code",
   "execution_count": 94,
   "id": "8765edcc",
   "metadata": {},
   "outputs": [],
   "source": [
    "@timer_test\n",
    "def test():\n",
    "    print(13+34)"
   ]
  },
  {
   "cell_type": "code",
   "execution_count": 95,
   "id": "40d3505b",
   "metadata": {},
   "outputs": [
    {
     "name": "stdout",
     "output_type": "stream",
     "text": [
      "47\n",
      "0.0\n"
     ]
    }
   ],
   "source": [
    "test()"
   ]
  },
  {
   "cell_type": "code",
   "execution_count": 96,
   "id": "3fb1ed11",
   "metadata": {},
   "outputs": [],
   "source": [
    "@timer_test\n",
    "def test2():\n",
    "    for i in range(10000):\n",
    "        pass"
   ]
  },
  {
   "cell_type": "code",
   "execution_count": 97,
   "id": "a6cff95c",
   "metadata": {},
   "outputs": [
    {
     "name": "stdout",
     "output_type": "stream",
     "text": [
      "0.0\n"
     ]
    }
   ],
   "source": [
    "test2()"
   ]
  },
  {
   "cell_type": "markdown",
   "id": "cf7a00c0",
   "metadata": {},
   "source": [
    "### Class Methods"
   ]
  },
  {
   "cell_type": "code",
   "execution_count": 98,
   "id": "9c69cdc7",
   "metadata": {},
   "outputs": [],
   "source": [
    "class Student:\n",
    "    def __init__(self,name,enroll):\n",
    "        self.name = name\n",
    "        self.enroll = enroll\n",
    "    def student_details(self):\n",
    "        return self.name,self.enroll"
   ]
  },
  {
   "cell_type": "code",
   "execution_count": 99,
   "id": "bc21b6b7",
   "metadata": {},
   "outputs": [],
   "source": [
    "s1 = Student(\"Ram\",53)"
   ]
  },
  {
   "cell_type": "code",
   "execution_count": 100,
   "id": "e33b6fcf",
   "metadata": {},
   "outputs": [
    {
     "data": {
      "text/plain": [
       "'Ram'"
      ]
     },
     "execution_count": 100,
     "metadata": {},
     "output_type": "execute_result"
    }
   ],
   "source": [
    "s1.name"
   ]
  },
  {
   "cell_type": "code",
   "execution_count": 101,
   "id": "6bb89ef7",
   "metadata": {},
   "outputs": [
    {
     "data": {
      "text/plain": [
       "53"
      ]
     },
     "execution_count": 101,
     "metadata": {},
     "output_type": "execute_result"
    }
   ],
   "source": [
    "s1.enroll"
   ]
  },
  {
   "cell_type": "code",
   "execution_count": 102,
   "id": "31fff25a",
   "metadata": {},
   "outputs": [
    {
     "data": {
      "text/plain": [
       "('Ram', 53)"
      ]
     },
     "execution_count": 102,
     "metadata": {},
     "output_type": "execute_result"
    }
   ],
   "source": [
    "s1.student_details()"
   ]
  },
  {
   "cell_type": "code",
   "execution_count": 103,
   "id": "686c9ee5",
   "metadata": {},
   "outputs": [],
   "source": [
    "class Student1:\n",
    "    def __init__(self,name,enroll):\n",
    "        self.name = name\n",
    "        self.enroll = enroll\n",
    "    @classmethod\n",
    "    def details(cls,name,enroll):\n",
    "        return cls(name,enroll)\n",
    "    def student_details(self):\n",
    "        return self.name,self.enroll"
   ]
  },
  {
   "cell_type": "code",
   "execution_count": 104,
   "id": "af188a6f",
   "metadata": {},
   "outputs": [
    {
     "name": "stdout",
     "output_type": "stream",
     "text": [
      "<__main__.Student1 object at 0x000001A33257CE20>\n"
     ]
    }
   ],
   "source": [
    "print(Student1.details('ashish',13))\n",
    "s1 = Student1.details('ashish',13)"
   ]
  },
  {
   "cell_type": "code",
   "execution_count": 105,
   "id": "dd02d841",
   "metadata": {},
   "outputs": [
    {
     "data": {
      "text/plain": [
       "'ashish'"
      ]
     },
     "execution_count": 105,
     "metadata": {},
     "output_type": "execute_result"
    }
   ],
   "source": [
    "s1.name"
   ]
  },
  {
   "cell_type": "code",
   "execution_count": 106,
   "id": "be9eb65f",
   "metadata": {},
   "outputs": [
    {
     "data": {
      "text/plain": [
       "('ashish', 13)"
      ]
     },
     "execution_count": 106,
     "metadata": {},
     "output_type": "execute_result"
    }
   ],
   "source": [
    "s1.student_details()"
   ]
  },
  {
   "cell_type": "code",
   "execution_count": 107,
   "id": "5d4a57ff",
   "metadata": {},
   "outputs": [],
   "source": [
    "class Student2:\n",
    "    institute = \"IIST\"\n",
    "    def __init__(self,name,enroll):\n",
    "        self.name = name\n",
    "        self.enroll = enroll\n",
    "    @classmethod\n",
    "    def change_institute(cls,institute):\n",
    "        Student2.institute = institute\n",
    "    @classmethod\n",
    "    def details(cls,name,enroll):\n",
    "        return cls(name,enroll)\n",
    "    \n",
    "    def student_details(self):\n",
    "        return self.name,self.enroll, Student2.institute"
   ]
  },
  {
   "cell_type": "code",
   "execution_count": 108,
   "id": "18d76fdf",
   "metadata": {},
   "outputs": [
    {
     "data": {
      "text/plain": [
       "'IIST'"
      ]
     },
     "execution_count": 108,
     "metadata": {},
     "output_type": "execute_result"
    }
   ],
   "source": [
    "Student2.institute # Class variable --> We can access with the help of class name, without even create any object"
   ]
  },
  {
   "cell_type": "code",
   "execution_count": 109,
   "id": "7a8864d9",
   "metadata": {},
   "outputs": [],
   "source": [
    "s2 = Student2(\"Arun\",\"D01\")"
   ]
  },
  {
   "cell_type": "code",
   "execution_count": 110,
   "id": "9352d0ba",
   "metadata": {},
   "outputs": [
    {
     "data": {
      "text/plain": [
       "('Arun', 'D01', 'IIST')"
      ]
     },
     "execution_count": 110,
     "metadata": {},
     "output_type": "execute_result"
    }
   ],
   "source": [
    "s2.student_details()"
   ]
  },
  {
   "cell_type": "code",
   "execution_count": 111,
   "id": "bb7f5cc4",
   "metadata": {},
   "outputs": [
    {
     "data": {
      "text/plain": [
       "'IIST'"
      ]
     },
     "execution_count": 111,
     "metadata": {},
     "output_type": "execute_result"
    }
   ],
   "source": [
    "s2.institute "
   ]
  },
  {
   "cell_type": "code",
   "execution_count": 112,
   "id": "2496fd5d",
   "metadata": {},
   "outputs": [],
   "source": [
    "s2.change_institute(\"IIM\")\n",
    "Student2.change_institute(\"IIM\") # You can use it in both ways"
   ]
  },
  {
   "cell_type": "code",
   "execution_count": 113,
   "id": "ef9b2d27",
   "metadata": {},
   "outputs": [
    {
     "data": {
      "text/plain": [
       "'IIM'"
      ]
     },
     "execution_count": 113,
     "metadata": {},
     "output_type": "execute_result"
    }
   ],
   "source": [
    "s2.institute"
   ]
  },
  {
   "cell_type": "code",
   "execution_count": 114,
   "id": "42610c78",
   "metadata": {},
   "outputs": [],
   "source": [
    "# Addition of some external methods that you want to add later on\n",
    "class Student3:\n",
    "    institute = \"IIST\"\n",
    "    def __init__(self,name,enroll):\n",
    "        self.name = name\n",
    "        self.enroll = enroll\n",
    "    @classmethod\n",
    "    def change_institute(cls,institute):\n",
    "        Student2.institute = institute\n",
    "    @classmethod\n",
    "    def details(cls,name,enroll):\n",
    "        return cls(name,enroll)\n",
    "    \n",
    "    def student_details(self):\n",
    "        return self.name,self.enroll, Student2.institute"
   ]
  },
  {
   "cell_type": "code",
   "execution_count": 115,
   "id": "53b97f11",
   "metadata": {},
   "outputs": [],
   "source": [
    "def course(cls,course_name):\n",
    "    print(\"Course Details \",course_name) #enternal function"
   ]
  },
  {
   "cell_type": "code",
   "execution_count": 116,
   "id": "afaee39a",
   "metadata": {},
   "outputs": [],
   "source": [
    "Student3.course = classmethod(course)"
   ]
  },
  {
   "cell_type": "code",
   "execution_count": 117,
   "id": "3923e252",
   "metadata": {},
   "outputs": [
    {
     "name": "stdout",
     "output_type": "stream",
     "text": [
      "Course Details  B.Tech\n"
     ]
    }
   ],
   "source": [
    "Student3.course(\"B.Tech\")"
   ]
  },
  {
   "cell_type": "code",
   "execution_count": 118,
   "id": "da1a3493",
   "metadata": {},
   "outputs": [],
   "source": [
    "S1 = Student3(\"Rishu\",55)"
   ]
  },
  {
   "cell_type": "code",
   "execution_count": 119,
   "id": "7fc199f1",
   "metadata": {},
   "outputs": [
    {
     "name": "stdout",
     "output_type": "stream",
     "text": [
      "Course Details  B.Tech\n"
     ]
    }
   ],
   "source": [
    "S1.course(\"B.Tech\") "
   ]
  },
  {
   "cell_type": "code",
   "execution_count": 120,
   "id": "6059ae28",
   "metadata": {},
   "outputs": [],
   "source": [
    "# Deletion of some external methods that you want to Delete later on\n",
    "class Student4:\n",
    "    institute = \"IIST\"\n",
    "    def __init__(self,name,enroll):\n",
    "        self.name = name\n",
    "        self.enroll = enroll\n",
    "    @classmethod\n",
    "    def change_institute(cls,institute):\n",
    "        Student2.institute = institute\n",
    "    @classmethod\n",
    "    def details(cls,name,enroll):\n",
    "        return cls(name,enroll)\n",
    "    def student_details(self):\n",
    "        return self.name,self.enroll, Student2.institute"
   ]
  },
  {
   "cell_type": "code",
   "execution_count": 121,
   "id": "ffdda289",
   "metadata": {},
   "outputs": [],
   "source": [
    "del Student4.change_institute"
   ]
  },
  {
   "cell_type": "code",
   "execution_count": 122,
   "id": "26c14fa9",
   "metadata": {},
   "outputs": [
    {
     "ename": "AttributeError",
     "evalue": "type object 'Student4' has no attribute 'change_institute'",
     "output_type": "error",
     "traceback": [
      "\u001b[1;31m---------------------------------------------------------------------------\u001b[0m",
      "\u001b[1;31mAttributeError\u001b[0m                            Traceback (most recent call last)",
      "\u001b[1;32mC:\\Users\\RISHAB~1\\AppData\\Local\\Temp/ipykernel_9860/2785595977.py\u001b[0m in \u001b[0;36m<module>\u001b[1;34m\u001b[0m\n\u001b[1;32m----> 1\u001b[1;33m \u001b[0mStudent4\u001b[0m\u001b[1;33m.\u001b[0m\u001b[0mchange_institute\u001b[0m\u001b[1;33m\u001b[0m\u001b[1;33m\u001b[0m\u001b[0m\n\u001b[0m",
      "\u001b[1;31mAttributeError\u001b[0m: type object 'Student4' has no attribute 'change_institute'"
     ]
    }
   ],
   "source": [
    "Student4.change_institute"
   ]
  },
  {
   "cell_type": "code",
   "execution_count": 123,
   "id": "516c18fc",
   "metadata": {},
   "outputs": [
    {
     "data": {
      "text/plain": [
       "'IIST'"
      ]
     },
     "execution_count": 123,
     "metadata": {},
     "output_type": "execute_result"
    }
   ],
   "source": [
    "Student4.institute"
   ]
  },
  {
   "cell_type": "code",
   "execution_count": 124,
   "id": "e5173150",
   "metadata": {},
   "outputs": [],
   "source": [
    "delattr(Student4,\"institute\")"
   ]
  },
  {
   "cell_type": "code",
   "execution_count": 125,
   "id": "bddc5a68",
   "metadata": {},
   "outputs": [
    {
     "ename": "AttributeError",
     "evalue": "type object 'Student4' has no attribute 'institute'",
     "output_type": "error",
     "traceback": [
      "\u001b[1;31m---------------------------------------------------------------------------\u001b[0m",
      "\u001b[1;31mAttributeError\u001b[0m                            Traceback (most recent call last)",
      "\u001b[1;32mC:\\Users\\RISHAB~1\\AppData\\Local\\Temp/ipykernel_9860/3870835968.py\u001b[0m in \u001b[0;36m<module>\u001b[1;34m\u001b[0m\n\u001b[1;32m----> 1\u001b[1;33m \u001b[0mStudent4\u001b[0m\u001b[1;33m.\u001b[0m\u001b[0minstitute\u001b[0m\u001b[1;33m\u001b[0m\u001b[1;33m\u001b[0m\u001b[0m\n\u001b[0m",
      "\u001b[1;31mAttributeError\u001b[0m: type object 'Student4' has no attribute 'institute'"
     ]
    }
   ],
   "source": [
    "Student4.institute"
   ]
  },
  {
   "cell_type": "code",
   "execution_count": 126,
   "id": "780b2ec7",
   "metadata": {},
   "outputs": [],
   "source": [
    "# Delete instance methods\n",
    "delattr(Student4,\"student_details\")"
   ]
  },
  {
   "cell_type": "code",
   "execution_count": 127,
   "id": "c9f4d62c",
   "metadata": {},
   "outputs": [
    {
     "ename": "AttributeError",
     "evalue": "type object 'Student4' has no attribute 'student_details'",
     "output_type": "error",
     "traceback": [
      "\u001b[1;31m---------------------------------------------------------------------------\u001b[0m",
      "\u001b[1;31mAttributeError\u001b[0m                            Traceback (most recent call last)",
      "\u001b[1;32mC:\\Users\\RISHAB~1\\AppData\\Local\\Temp/ipykernel_9860/2132532689.py\u001b[0m in \u001b[0;36m<module>\u001b[1;34m\u001b[0m\n\u001b[1;32m----> 1\u001b[1;33m \u001b[0mStudent4\u001b[0m\u001b[1;33m.\u001b[0m\u001b[0mstudent_details\u001b[0m\u001b[1;33m\u001b[0m\u001b[1;33m\u001b[0m\u001b[0m\n\u001b[0m",
      "\u001b[1;31mAttributeError\u001b[0m: type object 'Student4' has no attribute 'student_details'"
     ]
    }
   ],
   "source": [
    "Student4.student_details"
   ]
  },
  {
   "cell_type": "markdown",
   "id": "6ad8f748",
   "metadata": {},
   "source": [
    "### Static Methods"
   ]
  },
  {
   "cell_type": "code",
   "execution_count": 128,
   "id": "36ee94e6",
   "metadata": {},
   "outputs": [],
   "source": [
    "class abc:\n",
    "    def student_details(self,name,mail,enroll):\n",
    "        print(name,mail,enroll)"
   ]
  },
  {
   "cell_type": "code",
   "execution_count": 129,
   "id": "c7d99968",
   "metadata": {},
   "outputs": [],
   "source": [
    "a = abc()"
   ]
  },
  {
   "cell_type": "code",
   "execution_count": 130,
   "id": "aaf9ac7e",
   "metadata": {},
   "outputs": [
    {
     "name": "stdout",
     "output_type": "stream",
     "text": [
      "Rishi rishi@gmail.com 55\n"
     ]
    }
   ],
   "source": [
    "a.student_details('Rishi','rishi@gmail.com',55)"
   ]
  },
  {
   "cell_type": "code",
   "execution_count": 131,
   "id": "2df59590",
   "metadata": {},
   "outputs": [],
   "source": [
    "class abc1:\n",
    "    def student_details(self,name,mail,enroll):\n",
    "        print(name,mail,enroll)\n",
    "    @staticmethod\n",
    "    def mentor_list(list_mentor):\n",
    "        print(list_mentor)\n",
    "    def mentor(self,list_mentor):\n",
    "        print(list_mentor)"
   ]
  },
  {
   "cell_type": "code",
   "execution_count": 132,
   "id": "bfaa0e72",
   "metadata": {},
   "outputs": [
    {
     "name": "stdout",
     "output_type": "stream",
     "text": [
      "['ram', 'shyam']\n"
     ]
    }
   ],
   "source": [
    "abc1.mentor_list(['ram','shyam'])"
   ]
  },
  {
   "cell_type": "code",
   "execution_count": 133,
   "id": "ac936f10",
   "metadata": {},
   "outputs": [],
   "source": [
    "b = abc1()"
   ]
  },
  {
   "cell_type": "code",
   "execution_count": 134,
   "id": "e25306bd",
   "metadata": {},
   "outputs": [
    {
     "name": "stdout",
     "output_type": "stream",
     "text": [
      "['Aman', 'Mohan']\n"
     ]
    }
   ],
   "source": [
    "b.mentor(['Aman','Mohan'])"
   ]
  },
  {
   "cell_type": "code",
   "execution_count": 135,
   "id": "9db7c54e",
   "metadata": {},
   "outputs": [],
   "source": [
    "class abc1:\n",
    "    def student_details(self,name,mail,enroll):\n",
    "        print(name,mail,enroll)\n",
    "    @staticmethod\n",
    "    def mentor_mail_id(mail_id):\n",
    "        print(mail_id)\n",
    "        \n",
    "    @staticmethod\n",
    "    def mentor_list(list_mentor):\n",
    "        print(list_mentor)\n",
    "    @classmethod\n",
    "    def class_name(cls,class_name):\n",
    "        cls.mentor_list(['Hi'])\n",
    "    \n",
    "    def mentor(self,list_mentor):\n",
    "        print(list_mentor)\n",
    "        self.mentor_list(['ram'])"
   ]
  },
  {
   "cell_type": "code",
   "execution_count": 136,
   "id": "0fc5a433",
   "metadata": {},
   "outputs": [],
   "source": [
    "c = abc1()"
   ]
  },
  {
   "cell_type": "code",
   "execution_count": 137,
   "id": "6632eaec",
   "metadata": {},
   "outputs": [
    {
     "name": "stdout",
     "output_type": "stream",
     "text": [
      "Anurag XZY@gmail.com 123\n"
     ]
    }
   ],
   "source": [
    "c.student_details(\"Anurag\",\"XZY@gmail.com\",123)"
   ]
  },
  {
   "cell_type": "code",
   "execution_count": 138,
   "id": "bd27d5c1",
   "metadata": {},
   "outputs": [
    {
     "name": "stdout",
     "output_type": "stream",
     "text": [
      "xyz123@gmail.com\n"
     ]
    }
   ],
   "source": [
    "c.mentor_mail_id('xyz123@gmail.com')"
   ]
  },
  {
   "cell_type": "code",
   "execution_count": 139,
   "id": "9de1c4b1",
   "metadata": {},
   "outputs": [
    {
     "name": "stdout",
     "output_type": "stream",
     "text": [
      "['Hi']\n"
     ]
    }
   ],
   "source": [
    "c.class_name([])"
   ]
  },
  {
   "cell_type": "code",
   "execution_count": 140,
   "id": "9b9aaf48",
   "metadata": {},
   "outputs": [
    {
     "name": "stdout",
     "output_type": "stream",
     "text": [
      "['h']\n"
     ]
    }
   ],
   "source": [
    "c.mentor_mail_id(['h'])"
   ]
  },
  {
   "cell_type": "markdown",
   "id": "60c3b84d",
   "metadata": {},
   "source": [
    "### Magic/Dunder Methods"
   ]
  },
  {
   "cell_type": "code",
   "execution_count": 141,
   "id": "b0722c55",
   "metadata": {},
   "outputs": [
    {
     "data": {
      "text/plain": [
       "['__abs__',\n",
       " '__add__',\n",
       " '__and__',\n",
       " '__bool__',\n",
       " '__ceil__',\n",
       " '__class__',\n",
       " '__delattr__',\n",
       " '__dir__',\n",
       " '__divmod__',\n",
       " '__doc__',\n",
       " '__eq__',\n",
       " '__float__',\n",
       " '__floor__',\n",
       " '__floordiv__',\n",
       " '__format__',\n",
       " '__ge__',\n",
       " '__getattribute__',\n",
       " '__getnewargs__',\n",
       " '__gt__',\n",
       " '__hash__',\n",
       " '__index__',\n",
       " '__init__',\n",
       " '__init_subclass__',\n",
       " '__int__',\n",
       " '__invert__',\n",
       " '__le__',\n",
       " '__lshift__',\n",
       " '__lt__',\n",
       " '__mod__',\n",
       " '__mul__',\n",
       " '__ne__',\n",
       " '__neg__',\n",
       " '__new__',\n",
       " '__or__',\n",
       " '__pos__',\n",
       " '__pow__',\n",
       " '__radd__',\n",
       " '__rand__',\n",
       " '__rdivmod__',\n",
       " '__reduce__',\n",
       " '__reduce_ex__',\n",
       " '__repr__',\n",
       " '__rfloordiv__',\n",
       " '__rlshift__',\n",
       " '__rmod__',\n",
       " '__rmul__',\n",
       " '__ror__',\n",
       " '__round__',\n",
       " '__rpow__',\n",
       " '__rrshift__',\n",
       " '__rshift__',\n",
       " '__rsub__',\n",
       " '__rtruediv__',\n",
       " '__rxor__',\n",
       " '__setattr__',\n",
       " '__sizeof__',\n",
       " '__str__',\n",
       " '__sub__',\n",
       " '__subclasshook__',\n",
       " '__truediv__',\n",
       " '__trunc__',\n",
       " '__xor__',\n",
       " 'as_integer_ratio',\n",
       " 'bit_length',\n",
       " 'conjugate',\n",
       " 'denominator',\n",
       " 'from_bytes',\n",
       " 'imag',\n",
       " 'numerator',\n",
       " 'real',\n",
       " 'to_bytes']"
      ]
     },
     "execution_count": 141,
     "metadata": {},
     "output_type": "execute_result"
    }
   ],
   "source": [
    "dir(int)"
   ]
  },
  {
   "cell_type": "code",
   "execution_count": 142,
   "id": "787a6546",
   "metadata": {},
   "outputs": [],
   "source": [
    "a = 10"
   ]
  },
  {
   "cell_type": "code",
   "execution_count": 143,
   "id": "aa046ba9",
   "metadata": {},
   "outputs": [
    {
     "data": {
      "text/plain": [
       "16"
      ]
     },
     "execution_count": 143,
     "metadata": {},
     "output_type": "execute_result"
    }
   ],
   "source": [
    "a + 6"
   ]
  },
  {
   "cell_type": "code",
   "execution_count": 144,
   "id": "6ad3efba",
   "metadata": {},
   "outputs": [
    {
     "data": {
      "text/plain": [
       "16"
      ]
     },
     "execution_count": 144,
     "metadata": {},
     "output_type": "execute_result"
    }
   ],
   "source": [
    "a.__add__(6)"
   ]
  },
  {
   "cell_type": "code",
   "execution_count": 145,
   "id": "22dd40c5",
   "metadata": {},
   "outputs": [
    {
     "data": {
      "text/plain": [
       "['__add__',\n",
       " '__class__',\n",
       " '__contains__',\n",
       " '__delattr__',\n",
       " '__dir__',\n",
       " '__doc__',\n",
       " '__eq__',\n",
       " '__format__',\n",
       " '__ge__',\n",
       " '__getattribute__',\n",
       " '__getitem__',\n",
       " '__getnewargs__',\n",
       " '__gt__',\n",
       " '__hash__',\n",
       " '__init__',\n",
       " '__init_subclass__',\n",
       " '__iter__',\n",
       " '__le__',\n",
       " '__len__',\n",
       " '__lt__',\n",
       " '__mod__',\n",
       " '__mul__',\n",
       " '__ne__',\n",
       " '__new__',\n",
       " '__reduce__',\n",
       " '__reduce_ex__',\n",
       " '__repr__',\n",
       " '__rmod__',\n",
       " '__rmul__',\n",
       " '__setattr__',\n",
       " '__sizeof__',\n",
       " '__str__',\n",
       " '__subclasshook__',\n",
       " 'capitalize',\n",
       " 'casefold',\n",
       " 'center',\n",
       " 'count',\n",
       " 'encode',\n",
       " 'endswith',\n",
       " 'expandtabs',\n",
       " 'find',\n",
       " 'format',\n",
       " 'format_map',\n",
       " 'index',\n",
       " 'isalnum',\n",
       " 'isalpha',\n",
       " 'isascii',\n",
       " 'isdecimal',\n",
       " 'isdigit',\n",
       " 'isidentifier',\n",
       " 'islower',\n",
       " 'isnumeric',\n",
       " 'isprintable',\n",
       " 'isspace',\n",
       " 'istitle',\n",
       " 'isupper',\n",
       " 'join',\n",
       " 'ljust',\n",
       " 'lower',\n",
       " 'lstrip',\n",
       " 'maketrans',\n",
       " 'partition',\n",
       " 'removeprefix',\n",
       " 'removesuffix',\n",
       " 'replace',\n",
       " 'rfind',\n",
       " 'rindex',\n",
       " 'rjust',\n",
       " 'rpartition',\n",
       " 'rsplit',\n",
       " 'rstrip',\n",
       " 'split',\n",
       " 'splitlines',\n",
       " 'startswith',\n",
       " 'strip',\n",
       " 'swapcase',\n",
       " 'title',\n",
       " 'translate',\n",
       " 'upper',\n",
       " 'zfill']"
      ]
     },
     "execution_count": 145,
     "metadata": {},
     "output_type": "execute_result"
    }
   ],
   "source": [
    "dir(str)"
   ]
  },
  {
   "cell_type": "code",
   "execution_count": 148,
   "id": "27e21f1c",
   "metadata": {},
   "outputs": [],
   "source": [
    "class xyz:\n",
    "    def __new__(cls):\n",
    "        print(\"This is my new\")\n",
    "    def __init__(self):\n",
    "        print(\"Hello from xyz class\")"
   ]
  },
  {
   "cell_type": "code",
   "execution_count": 147,
   "id": "27e2ea58",
   "metadata": {},
   "outputs": [
    {
     "name": "stdout",
     "output_type": "stream",
     "text": [
      "Hello from xyz class\n"
     ]
    }
   ],
   "source": [
    "x = xyz()"
   ]
  },
  {
   "cell_type": "code",
   "execution_count": 149,
   "id": "eda1ef82",
   "metadata": {},
   "outputs": [
    {
     "name": "stdout",
     "output_type": "stream",
     "text": [
      "This is my new\n"
     ]
    }
   ],
   "source": [
    "y = xyz()"
   ]
  },
  {
   "cell_type": "code",
   "execution_count": 150,
   "id": "92aeb52e",
   "metadata": {},
   "outputs": [],
   "source": [
    "class test:\n",
    "    def __init__(self):\n",
    "        self.age = 20"
   ]
  },
  {
   "cell_type": "code",
   "execution_count": 151,
   "id": "87bafe16",
   "metadata": {},
   "outputs": [],
   "source": [
    "t = test()"
   ]
  },
  {
   "cell_type": "code",
   "execution_count": 152,
   "id": "6766c324",
   "metadata": {},
   "outputs": [
    {
     "data": {
      "text/plain": [
       "<__main__.test at 0x1a33257c130>"
      ]
     },
     "execution_count": 152,
     "metadata": {},
     "output_type": "execute_result"
    }
   ],
   "source": [
    "t"
   ]
  },
  {
   "cell_type": "code",
   "execution_count": 153,
   "id": "1986e640",
   "metadata": {},
   "outputs": [],
   "source": [
    "class test:\n",
    "    def __init__(self):\n",
    "        self.age = 20\n",
    "    def __str__(self):\n",
    "        return \"This is the magic method which will print something for object\""
   ]
  },
  {
   "cell_type": "code",
   "execution_count": 155,
   "id": "9475f5a6",
   "metadata": {},
   "outputs": [],
   "source": [
    "t1 = test()"
   ]
  },
  {
   "cell_type": "code",
   "execution_count": 157,
   "id": "70dac122",
   "metadata": {},
   "outputs": [
    {
     "name": "stdout",
     "output_type": "stream",
     "text": [
      "This is the magic method which will print something for object\n"
     ]
    }
   ],
   "source": [
    "print(t1)"
   ]
  },
  {
   "cell_type": "code",
   "execution_count": 160,
   "id": "e9f06b0f",
   "metadata": {},
   "outputs": [
    {
     "data": {
      "text/plain": [
       "['__and__',\n",
       " '__class__',\n",
       " '__class_getitem__',\n",
       " '__contains__',\n",
       " '__delattr__',\n",
       " '__dir__',\n",
       " '__doc__',\n",
       " '__eq__',\n",
       " '__format__',\n",
       " '__ge__',\n",
       " '__getattribute__',\n",
       " '__gt__',\n",
       " '__hash__',\n",
       " '__iand__',\n",
       " '__init__',\n",
       " '__init_subclass__',\n",
       " '__ior__',\n",
       " '__isub__',\n",
       " '__iter__',\n",
       " '__ixor__',\n",
       " '__le__',\n",
       " '__len__',\n",
       " '__lt__',\n",
       " '__ne__',\n",
       " '__new__',\n",
       " '__or__',\n",
       " '__rand__',\n",
       " '__reduce__',\n",
       " '__reduce_ex__',\n",
       " '__repr__',\n",
       " '__ror__',\n",
       " '__rsub__',\n",
       " '__rxor__',\n",
       " '__setattr__',\n",
       " '__sizeof__',\n",
       " '__str__',\n",
       " '__sub__',\n",
       " '__subclasshook__',\n",
       " '__xor__',\n",
       " 'add',\n",
       " 'clear',\n",
       " 'copy',\n",
       " 'difference',\n",
       " 'difference_update',\n",
       " 'discard',\n",
       " 'intersection',\n",
       " 'intersection_update',\n",
       " 'isdisjoint',\n",
       " 'issubset',\n",
       " 'issuperset',\n",
       " 'pop',\n",
       " 'remove',\n",
       " 'symmetric_difference',\n",
       " 'symmetric_difference_update',\n",
       " 'union',\n",
       " 'update']"
      ]
     },
     "execution_count": 160,
     "metadata": {},
     "output_type": "execute_result"
    }
   ],
   "source": [
    "dir(set)"
   ]
  },
  {
   "cell_type": "markdown",
   "id": "f8c68160",
   "metadata": {},
   "source": [
    "###  Property Decorators Getters, Setters, And Deletes"
   ]
  },
  {
   "cell_type": "code",
   "execution_count": 213,
   "id": "043882e7",
   "metadata": {},
   "outputs": [],
   "source": [
    "class std:\n",
    "    def __init__(self,course_price,course_duration,course_name):\n",
    "        self.__course_price = course_price\n",
    "        self.course_name = course_name\n",
    "        self.course_duration = course_duration\n",
    "        \n",
    "    @property\n",
    "    def course_price_access(self):\n",
    "        return self.__course_price\n",
    "    \n",
    "    @course_price_access.setter\n",
    "    def course_price_set(self,price):\n",
    "        if price <= 65000:\n",
    "            pass\n",
    "        else:\n",
    "            self.__course_price = price\n",
    "            \n",
    "    @course_price_access.deleter\n",
    "    def course_price_delete(self):\n",
    "        del self.__course_price"
   ]
  },
  {
   "cell_type": "code",
   "execution_count": 214,
   "id": "a238a3bf",
   "metadata": {},
   "outputs": [],
   "source": [
    "c = std(65000,4,\"B.Tech\")"
   ]
  },
  {
   "cell_type": "code",
   "execution_count": 215,
   "id": "a6b1215e",
   "metadata": {},
   "outputs": [
    {
     "data": {
      "text/plain": [
       "'B.Tech'"
      ]
     },
     "execution_count": 215,
     "metadata": {},
     "output_type": "execute_result"
    }
   ],
   "source": [
    "c.course_name"
   ]
  },
  {
   "cell_type": "code",
   "execution_count": 216,
   "id": "63664500",
   "metadata": {},
   "outputs": [
    {
     "data": {
      "text/plain": [
       "65000"
      ]
     },
     "execution_count": 216,
     "metadata": {},
     "output_type": "execute_result"
    }
   ],
   "source": [
    "c._std__course_price"
   ]
  },
  {
   "cell_type": "code",
   "execution_count": 217,
   "id": "b7a3133a",
   "metadata": {},
   "outputs": [
    {
     "data": {
      "text/plain": [
       "65000"
      ]
     },
     "execution_count": 217,
     "metadata": {},
     "output_type": "execute_result"
    }
   ],
   "source": [
    "c.course_price_access"
   ]
  },
  {
   "cell_type": "code",
   "execution_count": 218,
   "id": "69aa619f",
   "metadata": {},
   "outputs": [],
   "source": [
    "c.course_price_set = 200000"
   ]
  },
  {
   "cell_type": "code",
   "execution_count": 219,
   "id": "c9668c5d",
   "metadata": {},
   "outputs": [
    {
     "data": {
      "text/plain": [
       "200000"
      ]
     },
     "execution_count": 219,
     "metadata": {},
     "output_type": "execute_result"
    }
   ],
   "source": [
    "c.course_price_access"
   ]
  },
  {
   "cell_type": "code",
   "execution_count": 222,
   "id": "d3d2d445",
   "metadata": {},
   "outputs": [],
   "source": [
    "del c.course_price_delete"
   ]
  },
  {
   "cell_type": "code",
   "execution_count": 223,
   "id": "f15083f4",
   "metadata": {},
   "outputs": [
    {
     "ename": "AttributeError",
     "evalue": "'std' object has no attribute '_std__course_price'",
     "output_type": "error",
     "traceback": [
      "\u001b[1;31m---------------------------------------------------------------------------\u001b[0m",
      "\u001b[1;31mAttributeError\u001b[0m                            Traceback (most recent call last)",
      "\u001b[1;32mC:\\Users\\RISHAB~1\\AppData\\Local\\Temp/ipykernel_9860/2627521774.py\u001b[0m in \u001b[0;36m<module>\u001b[1;34m\u001b[0m\n\u001b[1;32m----> 1\u001b[1;33m \u001b[0mc\u001b[0m\u001b[1;33m.\u001b[0m\u001b[0mcourse_price_access\u001b[0m\u001b[1;33m\u001b[0m\u001b[1;33m\u001b[0m\u001b[0m\n\u001b[0m",
      "\u001b[1;32mC:\\Users\\RISHAB~1\\AppData\\Local\\Temp/ipykernel_9860/2475197653.py\u001b[0m in \u001b[0;36mcourse_price_access\u001b[1;34m(self)\u001b[0m\n\u001b[0;32m      7\u001b[0m     \u001b[1;33m@\u001b[0m\u001b[0mproperty\u001b[0m\u001b[1;33m\u001b[0m\u001b[1;33m\u001b[0m\u001b[0m\n\u001b[0;32m      8\u001b[0m     \u001b[1;32mdef\u001b[0m \u001b[0mcourse_price_access\u001b[0m\u001b[1;33m(\u001b[0m\u001b[0mself\u001b[0m\u001b[1;33m)\u001b[0m\u001b[1;33m:\u001b[0m\u001b[1;33m\u001b[0m\u001b[1;33m\u001b[0m\u001b[0m\n\u001b[1;32m----> 9\u001b[1;33m         \u001b[1;32mreturn\u001b[0m \u001b[0mself\u001b[0m\u001b[1;33m.\u001b[0m\u001b[0m__course_price\u001b[0m\u001b[1;33m\u001b[0m\u001b[1;33m\u001b[0m\u001b[0m\n\u001b[0m\u001b[0;32m     10\u001b[0m \u001b[1;33m\u001b[0m\u001b[0m\n\u001b[0;32m     11\u001b[0m     \u001b[1;33m@\u001b[0m\u001b[0mcourse_price_access\u001b[0m\u001b[1;33m.\u001b[0m\u001b[0msetter\u001b[0m\u001b[1;33m\u001b[0m\u001b[1;33m\u001b[0m\u001b[0m\n",
      "\u001b[1;31mAttributeError\u001b[0m: 'std' object has no attribute '_std__course_price'"
     ]
    }
   ],
   "source": [
    "c.course_price_access"
   ]
  },
  {
   "cell_type": "code",
   "execution_count": null,
   "id": "2d9a5763",
   "metadata": {},
   "outputs": [],
   "source": []
  }
 ],
 "metadata": {
  "kernelspec": {
   "display_name": "Python 3 (ipykernel)",
   "language": "python",
   "name": "python3"
  },
  "language_info": {
   "codemirror_mode": {
    "name": "ipython",
    "version": 3
   },
   "file_extension": ".py",
   "mimetype": "text/x-python",
   "name": "python",
   "nbconvert_exporter": "python",
   "pygments_lexer": "ipython3",
   "version": "3.9.6"
  }
 },
 "nbformat": 4,
 "nbformat_minor": 5
}
