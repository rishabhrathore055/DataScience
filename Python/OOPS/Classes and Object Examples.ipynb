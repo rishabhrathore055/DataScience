{
 "cells": [
  {
   "cell_type": "markdown",
   "id": "3428f6da-c5cd-4bad-963b-03c2f58500b3",
   "metadata": {},
   "source": [
    "### Creating a Bank Account"
   ]
  },
  {
   "cell_type": "code",
   "execution_count": 2,
   "id": "44263ae2-e09b-4cc4-b6ef-acbe67088c88",
   "metadata": {},
   "outputs": [],
   "source": [
    "class BankAccount:\n",
    "    def __init__(self,owner,balance =0):\n",
    "        self.owner = owner\n",
    "        self.balance = balance\n",
    "    def deposit(self,amount):\n",
    "        self.balance+= amount\n",
    "        print(f\"{amount} is deposited. New balance is {self.balance}\")\n",
    "    def withdraw(self,amount):\n",
    "        if amount> self.balance:\n",
    "            print(\"Insufficient funds\")\n",
    "        else:\n",
    "            self.balance-= amount\n",
    "            print(f\"{amount} is withdrawn. New balance is {self.balance}\")\n",
    "    def get_balance(self):\n",
    "        return self.balance"
   ]
  },
  {
   "cell_type": "code",
   "execution_count": 3,
   "id": "f159b6aa-6d1f-44f9-aecf-27f5bd87e9d8",
   "metadata": {},
   "outputs": [],
   "source": [
    "p1 = BankAccount(\"Ram\",1000)"
   ]
  },
  {
   "cell_type": "code",
   "execution_count": 5,
   "id": "6d2efad9-08bc-49e8-93d6-181ade02e140",
   "metadata": {},
   "outputs": [
    {
     "name": "stdout",
     "output_type": "stream",
     "text": [
      "1024 is deposited. New balance is 2034\n"
     ]
    }
   ],
   "source": [
    "p1.deposit(1024)"
   ]
  },
  {
   "cell_type": "code",
   "execution_count": 6,
   "id": "d31838d4-34c1-47a6-a74d-dd14122e9da0",
   "metadata": {},
   "outputs": [
    {
     "name": "stdout",
     "output_type": "stream",
     "text": [
      "Insufficient funds\n"
     ]
    }
   ],
   "source": [
    "p1.withdraw(3000)"
   ]
  },
  {
   "cell_type": "code",
   "execution_count": 7,
   "id": "07485d6e-08a9-4cf4-803b-c09a098bbce7",
   "metadata": {},
   "outputs": [
    {
     "name": "stdout",
     "output_type": "stream",
     "text": [
      "300 is withdrawn. New balance is 1734\n"
     ]
    }
   ],
   "source": [
    "p1.withdraw(300)"
   ]
  },
  {
   "cell_type": "code",
   "execution_count": 8,
   "id": "68fe6fa4-02ff-4d74-986a-62d1d9b24bf6",
   "metadata": {},
   "outputs": [
    {
     "data": {
      "text/plain": [
       "1734"
      ]
     },
     "execution_count": 8,
     "metadata": {},
     "output_type": "execute_result"
    }
   ],
   "source": [
    "p1.get_balance()"
   ]
  },
  {
   "cell_type": "markdown",
   "id": "a757269a-34df-4010-97c8-14429cc0e19b",
   "metadata": {},
   "source": [
    "### Inheritance"
   ]
  },
  {
   "cell_type": "code",
   "execution_count": 10,
   "id": "5d363229-83a0-4429-87e0-cdcd5dd72b82",
   "metadata": {},
   "outputs": [],
   "source": [
    "class Car:\n",
    "    def __init__(self,windows,doors,enginetype):\n",
    "        self.windows = windows\n",
    "        self.doors = doors\n",
    "        self.enginetype = enginetype\n",
    "    def drive(self):\n",
    "        print(f\"The person will drive the {self.enginetype} car\")"
   ]
  },
  {
   "cell_type": "code",
   "execution_count": 12,
   "id": "7088237d-4915-4bfb-b921-26d62916ce75",
   "metadata": {},
   "outputs": [],
   "source": [
    "c1 = Car(4,4,\"Petrol\")"
   ]
  },
  {
   "cell_type": "code",
   "execution_count": 13,
   "id": "e9844f02-f0bc-48fa-848d-6b82ed5d0ea5",
   "metadata": {},
   "outputs": [
    {
     "name": "stdout",
     "output_type": "stream",
     "text": [
      "The person will drive the Petrol car\n"
     ]
    }
   ],
   "source": [
    "c1.drive()"
   ]
  },
  {
   "cell_type": "code",
   "execution_count": 24,
   "id": "70769429-fd9c-414d-ac01-88a09a20fc72",
   "metadata": {},
   "outputs": [],
   "source": [
    "class Tesla(Car):\n",
    "    def __init__(self,windows,doors,enginetype,is_selfdriving):\n",
    "        super().__init__(windows,doors,enginetype)\n",
    "        self.is_selfdriving = is_selfdriving\n",
    "    def selfdriving(self):\n",
    "        print(f\"Tesla supports self driving : {self.is_selfdriving}\")"
   ]
  },
  {
   "cell_type": "code",
   "execution_count": 25,
   "id": "a8da47cd-94d7-489f-88bf-9f606555108d",
   "metadata": {},
   "outputs": [],
   "source": [
    "tesla1 = Tesla(4,4,\"Ev\",True)"
   ]
  },
  {
   "cell_type": "code",
   "execution_count": 27,
   "id": "03d9d452-9f8b-4fed-b95c-66aa6072a73b",
   "metadata": {},
   "outputs": [
    {
     "name": "stdout",
     "output_type": "stream",
     "text": [
      "Tesla supports self driving : True\n"
     ]
    }
   ],
   "source": [
    "tesla1.selfdriving()"
   ]
  },
  {
   "cell_type": "code",
   "execution_count": null,
   "id": "e67e4b86-2b91-4c09-90bc-dc2f5cd3ea39",
   "metadata": {},
   "outputs": [],
   "source": []
  }
 ],
 "metadata": {
  "kernelspec": {
   "display_name": "Python 3 (ipykernel)",
   "language": "python",
   "name": "python3"
  },
  "language_info": {
   "codemirror_mode": {
    "name": "ipython",
    "version": 3
   },
   "file_extension": ".py",
   "mimetype": "text/x-python",
   "name": "python",
   "nbconvert_exporter": "python",
   "pygments_lexer": "ipython3",
   "version": "3.10.8"
  }
 },
 "nbformat": 4,
 "nbformat_minor": 5
}
