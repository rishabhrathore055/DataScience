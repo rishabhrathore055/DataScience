{
 "cells": [
  {
   "cell_type": "markdown",
   "id": "c4e8e3e6",
   "metadata": {},
   "source": [
    "### Counters : \n",
    "A counter is a sub-class of the dictionary. It is used to keep the count of the elements in an iterable in the form of an unordered dictionary where the key represents the element in the iterable and value represents the count of that element in the iterable."
   ]
  },
  {
   "cell_type": "code",
   "execution_count": 4,
   "id": "5407824e",
   "metadata": {},
   "outputs": [
    {
     "name": "stdout",
     "output_type": "stream",
     "text": [
      "Counter({'C': 4, 'A': 2, 'D': 2, 'B': 2})\n",
      "Counter({'B': 5, 'A': 3, 'C': 2})\n",
      "Counter({'B': 5, 'A': 3, 'C': 2})\n",
      "Counter({'B': 5, 'A': 3, 'C': 2})\n"
     ]
    }
   ],
   "source": [
    "from collections import Counter\n",
    "\n",
    "count = Counter(['C','A','D','C','C','D','B',\n",
    "               'B','A','C'])\n",
    "print(count)\n",
    "\n",
    "# With sequence of items  \n",
    "print(Counter(['B','B','A','B','C','A','B',\n",
    "               'B','A','C']))\n",
    "    \n",
    "# with dictionary \n",
    "print(Counter({'A':3, 'B':5, 'C':2}))\n",
    "    \n",
    "# with keyword arguments \n",
    "print(Counter(A=3, B=5, C=2))"
   ]
  },
  {
   "cell_type": "markdown",
   "id": "c0e44ac7",
   "metadata": {},
   "source": [
    "### OrderedDict\n",
    "An OrderedDict is also a sub-class of dictionary but unlike dictionary, it remembers the order in which the keys were inserted. "
   ]
  },
  {
   "cell_type": "code",
   "execution_count": 6,
   "id": "c2c10364",
   "metadata": {},
   "outputs": [
    {
     "name": "stdout",
     "output_type": "stream",
     "text": [
      "This is a Dict:\n",
      "\n",
      "A 3\n",
      "B 2\n",
      "C 2\n",
      "\n",
      "This is an Ordered Dict:\n",
      "\n",
      "B 2\n",
      "C 2\n",
      "A 3\n",
      "D 1\n"
     ]
    }
   ],
   "source": [
    "from collections import OrderedDict\n",
    "\n",
    "print(\"This is a Dict:\\n\") \n",
    "d1 = {'A':3,'B':2,'C':2}\n",
    "\n",
    "for k,v in d1.items():\n",
    "    print(k,v)\n",
    "    \n",
    "print(\"\\nThis is an Ordered Dict:\\n\") \n",
    "od = OrderedDict() \n",
    "od = {'B':2,'C':2,'A':3,'D':1}\n",
    "\n",
    "for k,v in od.items():\n",
    "    print(k,v)"
   ]
  },
  {
   "cell_type": "markdown",
   "id": "0aed43b8",
   "metadata": {},
   "source": [
    "### DefaultDict\n",
    "A DefaultDict is also a sub-class to dictionary. It is used to provide some default values for the key that does not exist and never raises a KeyError."
   ]
  },
  {
   "cell_type": "code",
   "execution_count": 9,
   "id": "48189bd8",
   "metadata": {},
   "outputs": [
    {
     "name": "stdout",
     "output_type": "stream",
     "text": [
      "defaultdict(<class 'int'>, {'A': 1, 'C': 1, 'D': 1})\n"
     ]
    }
   ],
   "source": [
    "from collections import defaultdict \n",
    "     \n",
    "     \n",
    "# Defining the dict \n",
    "d = defaultdict(int) \n",
    "     \n",
    "List = ['A','C','D'] \n",
    "\n",
    "for i in List: \n",
    "    d[i] += 1\n",
    "         \n",
    "print(d)"
   ]
  },
  {
   "cell_type": "markdown",
   "id": "09c48eda",
   "metadata": {},
   "source": [
    "### ChainMap\n",
    "A ChainMap encapsulates many dictionaries into a single unit and returns a list of dictionaries."
   ]
  },
  {
   "cell_type": "code",
   "execution_count": 14,
   "id": "18503533",
   "metadata": {},
   "outputs": [
    {
     "name": "stdout",
     "output_type": "stream",
     "text": [
      "ChainMap({'B': 5, 'A': 3, 'C': 2}, {'A': 5, 'B': 2, 'C': 2}, {'A': 1, 'C': 1, 'D': 1})\n"
     ]
    }
   ],
   "source": [
    "from collections import ChainMap\n",
    "\n",
    "d1 = {'B': 5, 'A': 3, 'C': 2}\n",
    "d2 = {'A':5,'B':2,'C':2}\n",
    "d3 = {'A': 1, 'C': 1, 'D': 1}\n",
    "c = ChainMap(d1,d2,d3)\n",
    "print(c)"
   ]
  },
  {
   "cell_type": "code",
   "execution_count": 17,
   "id": "19c600d6",
   "metadata": {},
   "outputs": [
    {
     "name": "stdout",
     "output_type": "stream",
     "text": [
      "3\n"
     ]
    }
   ],
   "source": [
    "# Accessing Values using key name\n",
    "print(c['A'])"
   ]
  },
  {
   "cell_type": "code",
   "execution_count": 19,
   "id": "019c2a84",
   "metadata": {},
   "outputs": [
    {
     "name": "stdout",
     "output_type": "stream",
     "text": [
      "ValuesView(ChainMap({'B': 5, 'A': 3, 'C': 2}, {'A': 5, 'B': 2, 'C': 2}, {'A': 1, 'C': 1, 'D': 1}))\n"
     ]
    }
   ],
   "source": [
    "# Accessing values using values() method\n",
    "print(c.values())"
   ]
  },
  {
   "cell_type": "code",
   "execution_count": 20,
   "id": "292b968b",
   "metadata": {},
   "outputs": [
    {
     "name": "stdout",
     "output_type": "stream",
     "text": [
      "KeysView(ChainMap({'B': 5, 'A': 3, 'C': 2}, {'A': 5, 'B': 2, 'C': 2}, {'A': 1, 'C': 1, 'D': 1}))\n"
     ]
    }
   ],
   "source": [
    "# Accessing keys using keys() method\n",
    "print(c.keys())"
   ]
  },
  {
   "cell_type": "markdown",
   "id": "209cce91",
   "metadata": {},
   "source": [
    "### NamedTuple\n",
    "A NamedTuple returns a tuple object with names for each position which the ordinary tuples lack"
   ]
  },
  {
   "cell_type": "code",
   "execution_count": 24,
   "id": "20c7b3e9",
   "metadata": {},
   "outputs": [
    {
     "name": "stdout",
     "output_type": "stream",
     "text": [
      "The Student age using index is : 108\n",
      "The Student name using keyname is : Radhe\n"
     ]
    }
   ],
   "source": [
    "from collections import namedtuple\n",
    "\n",
    "# Declaring namedtuple() \n",
    "Student = namedtuple('Student',['name','age','DOB']) \n",
    "    \n",
    "# Adding values \n",
    "S = Student('Radhe','108','010101') \n",
    "    \n",
    "# Access using index \n",
    "print (\"The Student age using index is : \",end =\"\") \n",
    "print (S[1]) \n",
    "    \n",
    "# Access using name  \n",
    "print (\"The Student name using keyname is : \",end =\"\") \n",
    "print (S.name)"
   ]
  },
  {
   "cell_type": "markdown",
   "id": "75e3a3c3",
   "metadata": {},
   "source": [
    "### Deque\n",
    "Deque (Doubly Ended Queue) is the optimized list for quicker append and pop operations from both sides of the container. It provides O(1) time complexity for append and pop operations as compared to list with O(n) time complexity."
   ]
  },
  {
   "cell_type": "code",
   "execution_count": 30,
   "id": "387194e1",
   "metadata": {},
   "outputs": [
    {
     "name": "stdout",
     "output_type": "stream",
     "text": [
      "deque(['name', 'age', 'DOB', 'Adress'])\n",
      "deque(['ID', 'name', 'age', 'DOB', 'Adress'])\n"
     ]
    }
   ],
   "source": [
    "from collections import deque\n",
    "    \n",
    "# Declaring deque\n",
    "queue = deque(['name','age','DOB']) \n",
    "\n",
    "# using append() to insert element at right end   \n",
    "queue.append(\"Adress\") \n",
    "print(queue)\n",
    "\n",
    "\n",
    "# using appendleft() to insert element at left end  \n",
    "queue.appendleft(\"ID\") \n",
    "print(queue)"
   ]
  },
  {
   "cell_type": "code",
   "execution_count": 32,
   "id": "b80f429e",
   "metadata": {},
   "outputs": [
    {
     "name": "stdout",
     "output_type": "stream",
     "text": [
      "deque([6, 1, 2, 3])\n",
      "deque([1, 2, 3])\n"
     ]
    }
   ],
   "source": [
    "# Removing Elements\n",
    "de = deque([6, 1, 2, 3, 4])\n",
    "\n",
    "# using pop() to delete element from right end  \n",
    "de.pop() \n",
    "print(de)\n",
    "\n",
    "de.popleft()\n",
    "print(de)"
   ]
  },
  {
   "cell_type": "markdown",
   "id": "a9225fed",
   "metadata": {},
   "source": [
    "### Map Functions\n",
    "map() function returns a map object(which is an iterator) of the results after applying the given function to each item of a given iterable (list, tuple etc.)"
   ]
  },
  {
   "cell_type": "code",
   "execution_count": 34,
   "id": "003fb27c",
   "metadata": {},
   "outputs": [
    {
     "name": "stdout",
     "output_type": "stream",
     "text": [
      "Enter 5 numbers: 10 20 30 40 50 \n",
      "['10', '20', '30', '40', '50', '']\n"
     ]
    }
   ],
   "source": [
    "num = list(input(\"Enter 5 numbers: \").split(\" \"))\n",
    "print(num)"
   ]
  },
  {
   "cell_type": "code",
   "execution_count": 42,
   "id": "869ddc89",
   "metadata": {},
   "outputs": [
    {
     "name": "stdout",
     "output_type": "stream",
     "text": [
      "[1, 4, 9, 16, 25, 36]\n"
     ]
    }
   ],
   "source": [
    "def square(n):\n",
    "    return n * n\n",
    "nums = [1,2,3,4,5,6]\n",
    "ans = map(square,nums)\n",
    "ans = [x for x in ans]\n",
    "print(ans)"
   ]
  },
  {
   "cell_type": "code",
   "execution_count": null,
   "id": "3c61e4ec",
   "metadata": {},
   "outputs": [],
   "source": []
  }
 ],
 "metadata": {
  "kernelspec": {
   "display_name": "Python 3 (ipykernel)",
   "language": "python",
   "name": "python3"
  },
  "language_info": {
   "codemirror_mode": {
    "name": "ipython",
    "version": 3
   },
   "file_extension": ".py",
   "mimetype": "text/x-python",
   "name": "python",
   "nbconvert_exporter": "python",
   "pygments_lexer": "ipython3",
   "version": "3.9.6"
  }
 },
 "nbformat": 4,
 "nbformat_minor": 5
}
