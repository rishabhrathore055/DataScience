{
 "cells": [
  {
   "cell_type": "code",
   "execution_count": 1,
   "id": "48b3ede6",
   "metadata": {},
   "outputs": [
    {
     "name": "stdout",
     "output_type": "stream",
     "text": [
      "Hello Python programmer\n"
     ]
    }
   ],
   "source": [
    "print(\"Hello Python programmer\")"
   ]
  },
  {
   "cell_type": "code",
   "execution_count": 2,
   "id": "25d98318",
   "metadata": {},
   "outputs": [
    {
     "name": "stdout",
     "output_type": "stream",
     "text": [
      "6\n"
     ]
    }
   ],
   "source": [
    "# int\n",
    "print(2 + 4)"
   ]
  },
  {
   "cell_type": "code",
   "execution_count": 3,
   "id": "c2fdcd0e",
   "metadata": {},
   "outputs": [
    {
     "name": "stdout",
     "output_type": "stream",
     "text": [
      "22.099999999999998\n"
     ]
    }
   ],
   "source": [
    "# float\n",
    "print(20.9 + 1.2)"
   ]
  },
  {
   "cell_type": "code",
   "execution_count": 4,
   "id": "5f424095",
   "metadata": {},
   "outputs": [
    {
     "data": {
      "text/plain": [
       "True"
      ]
     },
     "execution_count": 4,
     "metadata": {},
     "output_type": "execute_result"
    }
   ],
   "source": [
    "#bool\n",
    "True"
   ]
  },
  {
   "cell_type": "code",
   "execution_count": 5,
   "id": "e8a0a6b1",
   "metadata": {},
   "outputs": [
    {
     "data": {
      "text/plain": [
       "False"
      ]
     },
     "execution_count": 5,
     "metadata": {},
     "output_type": "execute_result"
    }
   ],
   "source": [
    "False"
   ]
  },
  {
   "cell_type": "code",
   "execution_count": 6,
   "id": "ded9ed6e",
   "metadata": {},
   "outputs": [
    {
     "data": {
      "text/plain": [
       "10"
      ]
     },
     "execution_count": 6,
     "metadata": {},
     "output_type": "execute_result"
    }
   ],
   "source": [
    "# assignment\n",
    "x = 10\n",
    "x"
   ]
  },
  {
   "cell_type": "code",
   "execution_count": 7,
   "id": "55a52eb5",
   "metadata": {},
   "outputs": [
    {
     "data": {
      "text/plain": [
       "'Python'"
      ]
     },
     "execution_count": 7,
     "metadata": {},
     "output_type": "execute_result"
    }
   ],
   "source": [
    "x = \"Python\"\n",
    "x\n",
    "# we can reassign as well later on"
   ]
  },
  {
   "cell_type": "code",
   "execution_count": 8,
   "id": "025faa61",
   "metadata": {},
   "outputs": [
    {
     "name": "stdout",
     "output_type": "stream",
     "text": [
      "3.3333333333333335\n"
     ]
    }
   ],
   "source": [
    "print(10/3) #float"
   ]
  },
  {
   "cell_type": "code",
   "execution_count": 9,
   "id": "5c8692b7",
   "metadata": {},
   "outputs": [
    {
     "name": "stdout",
     "output_type": "stream",
     "text": [
      "2\n"
     ]
    }
   ],
   "source": [
    "print(8//3) #int"
   ]
  },
  {
   "cell_type": "code",
   "execution_count": 10,
   "id": "e8f79427",
   "metadata": {},
   "outputs": [
    {
     "name": "stdout",
     "output_type": "stream",
     "text": [
      "-3\n"
     ]
    }
   ],
   "source": [
    "print(-8//3)"
   ]
  },
  {
   "cell_type": "code",
   "execution_count": 11,
   "id": "3e75dbd8",
   "metadata": {},
   "outputs": [
    {
     "data": {
      "text/plain": [
       "1"
      ]
     },
     "execution_count": 11,
     "metadata": {},
     "output_type": "execute_result"
    }
   ],
   "source": [
    " 5 % 2"
   ]
  },
  {
   "cell_type": "code",
   "execution_count": 12,
   "id": "bf1e0159",
   "metadata": {},
   "outputs": [
    {
     "name": "stdout",
     "output_type": "stream",
     "text": [
      "27\n"
     ]
    }
   ],
   "source": [
    "print(3**3) # power"
   ]
  },
  {
   "cell_type": "code",
   "execution_count": 13,
   "id": "ea9de7cc",
   "metadata": {},
   "outputs": [],
   "source": [
    "# control flow"
   ]
  },
  {
   "cell_type": "code",
   "execution_count": 14,
   "id": "a2a8fd6a",
   "metadata": {},
   "outputs": [
    {
     "name": "stdout",
     "output_type": "stream",
     "text": [
      "Not able to vote\n"
     ]
    }
   ],
   "source": [
    "age = 2\n",
    "\n",
    "if age>=18:\n",
    "    print(\"Vote\")\n",
    "else:\n",
    "    print(\"Not able to vote\")"
   ]
  },
  {
   "cell_type": "code",
   "execution_count": 15,
   "id": "5e56c03f",
   "metadata": {},
   "outputs": [
    {
     "name": "stdout",
     "output_type": "stream",
     "text": [
      "vote\n"
     ]
    }
   ],
   "source": [
    "age = 20\n",
    "print(\"vote\") if age >=18 else print(\"note\")"
   ]
  },
  {
   "cell_type": "code",
   "execution_count": 16,
   "id": "8a9a935e",
   "metadata": {},
   "outputs": [
    {
     "name": "stdout",
     "output_type": "stream",
     "text": [
      "stop\n"
     ]
    }
   ],
   "source": [
    "signal = \"red\"\n",
    "action = \"stop\" if signal ==\"red\" else \"go\"\n",
    "print(action)"
   ]
  },
  {
   "cell_type": "code",
   "execution_count": 17,
   "id": "841ca159",
   "metadata": {},
   "outputs": [
    {
     "name": "stdout",
     "output_type": "stream",
     "text": [
      "1 2 3 4 5 "
     ]
    }
   ],
   "source": [
    "#loops\n",
    "for i in range(1,6):\n",
    "    print(i,end = \" \")\n",
    "    "
   ]
  },
  {
   "cell_type": "code",
   "execution_count": 18,
   "id": "c78af5a4",
   "metadata": {},
   "outputs": [
    {
     "name": "stdout",
     "output_type": "stream",
     "text": [
      "10 9 8 7 6 5 4 3 2 1 "
     ]
    }
   ],
   "source": [
    "# reverse loop\n",
    "for i in range(10,0,-1):\n",
    "    print(i,end=\" \")"
   ]
  },
  {
   "cell_type": "code",
   "execution_count": 19,
   "id": "2a4a0e98",
   "metadata": {},
   "outputs": [
    {
     "name": "stdout",
     "output_type": "stream",
     "text": [
      "0 1 2 3 4 5 6 7 8 9 "
     ]
    }
   ],
   "source": [
    "# while\n",
    "cmd = 10\n",
    "i=0\n",
    "while i!=cmd:\n",
    "    print(i,end=\" \")\n",
    "    i+=1"
   ]
  },
  {
   "cell_type": "code",
   "execution_count": 20,
   "id": "75fb6947",
   "metadata": {},
   "outputs": [
    {
     "data": {
      "text/plain": [
       "True"
      ]
     },
     "execution_count": 20,
     "metadata": {},
     "output_type": "execute_result"
    }
   ],
   "source": [
    "# function\n",
    "def isEven(num):\n",
    "    return num%2==0\n",
    "isEven(6)"
   ]
  },
  {
   "cell_type": "code",
   "execution_count": 21,
   "id": "c7fd31bd",
   "metadata": {},
   "outputs": [],
   "source": [
    "def hcf(a,b):\n",
    "    while a!=0 and b!=0:\n",
    "        if a > b :\n",
    "            a = a%b\n",
    "        else:\n",
    "            b = b % a\n",
    "    return a+b"
   ]
  },
  {
   "cell_type": "code",
   "execution_count": 22,
   "id": "d6dce230",
   "metadata": {},
   "outputs": [
    {
     "data": {
      "text/plain": [
       "3"
      ]
     },
     "execution_count": 22,
     "metadata": {},
     "output_type": "execute_result"
    }
   ],
   "source": [
    "hcf(12,15)"
   ]
  },
  {
   "cell_type": "code",
   "execution_count": 23,
   "id": "6d0e6d0d",
   "metadata": {},
   "outputs": [
    {
     "name": "stdout",
     "output_type": "stream",
     "text": [
      "[90, 70, 80, 95, 100]\n"
     ]
    }
   ],
   "source": [
    "# lists\n",
    "marks  = [90,70,80,95,100]\n",
    "print(marks)"
   ]
  },
  {
   "cell_type": "code",
   "execution_count": 24,
   "id": "5dd1df60",
   "metadata": {},
   "outputs": [
    {
     "data": {
      "text/plain": [
       "90"
      ]
     },
     "execution_count": 24,
     "metadata": {},
     "output_type": "execute_result"
    }
   ],
   "source": [
    "marks[0]"
   ]
  },
  {
   "cell_type": "code",
   "execution_count": 25,
   "id": "cb9473b3",
   "metadata": {},
   "outputs": [
    {
     "data": {
      "text/plain": [
       "[100, 95, 80, 70, 90]"
      ]
     },
     "execution_count": 25,
     "metadata": {},
     "output_type": "execute_result"
    }
   ],
   "source": [
    "marks[::-1] # reverse"
   ]
  },
  {
   "cell_type": "code",
   "execution_count": 26,
   "id": "ca5278e5",
   "metadata": {},
   "outputs": [
    {
     "data": {
      "text/plain": [
       "[80, 95, 100]"
      ]
     },
     "execution_count": 26,
     "metadata": {},
     "output_type": "execute_result"
    }
   ],
   "source": [
    "# slicing\n",
    "marks[2:5]"
   ]
  },
  {
   "cell_type": "code",
   "execution_count": 27,
   "id": "9f9cc580",
   "metadata": {},
   "outputs": [
    {
     "data": {
      "text/plain": [
       "5"
      ]
     },
     "execution_count": 27,
     "metadata": {},
     "output_type": "execute_result"
    }
   ],
   "source": [
    "len(marks)"
   ]
  },
  {
   "cell_type": "code",
   "execution_count": 28,
   "id": "1bff63e6",
   "metadata": {},
   "outputs": [
    {
     "data": {
      "text/plain": [
       "100"
      ]
     },
     "execution_count": 28,
     "metadata": {},
     "output_type": "execute_result"
    }
   ],
   "source": [
    "max(marks)"
   ]
  },
  {
   "cell_type": "code",
   "execution_count": 29,
   "id": "698d3913",
   "metadata": {},
   "outputs": [
    {
     "data": {
      "text/plain": [
       "70"
      ]
     },
     "execution_count": 29,
     "metadata": {},
     "output_type": "execute_result"
    }
   ],
   "source": [
    "min(marks)"
   ]
  },
  {
   "cell_type": "code",
   "execution_count": 30,
   "id": "085bad11",
   "metadata": {},
   "outputs": [
    {
     "data": {
      "text/plain": [
       "435"
      ]
     },
     "execution_count": 30,
     "metadata": {},
     "output_type": "execute_result"
    }
   ],
   "source": [
    "sum(marks)"
   ]
  },
  {
   "cell_type": "code",
   "execution_count": 31,
   "id": "f9a24700",
   "metadata": {},
   "outputs": [
    {
     "data": {
      "text/plain": [
       "[1, 2, 3, 5, 6]"
      ]
     },
     "execution_count": 31,
     "metadata": {},
     "output_type": "execute_result"
    }
   ],
   "source": [
    "[1,2,3] + [5,6]"
   ]
  },
  {
   "cell_type": "code",
   "execution_count": 32,
   "id": "41c91dd7",
   "metadata": {},
   "outputs": [
    {
     "name": "stdout",
     "output_type": "stream",
     "text": [
      "90\n",
      "70\n",
      "80\n",
      "95\n",
      "100\n"
     ]
    }
   ],
   "source": [
    "for mark in marks:\n",
    "    print(mark)"
   ]
  },
  {
   "cell_type": "code",
   "execution_count": 33,
   "id": "1b8f2e80",
   "metadata": {},
   "outputs": [
    {
     "name": "stdout",
     "output_type": "stream",
     "text": [
      "0 90\n",
      "1 70\n",
      "2 80\n",
      "3 95\n",
      "4 100\n"
     ]
    }
   ],
   "source": [
    "for i,mark in enumerate(marks):\n",
    "    print(i,mark)"
   ]
  },
  {
   "cell_type": "markdown",
   "id": "ad7d63e8",
   "metadata": {},
   "source": [
    "# Functions"
   ]
  },
  {
   "cell_type": "code",
   "execution_count": 34,
   "id": "f7762e9c",
   "metadata": {},
   "outputs": [],
   "source": [
    "def great():\n",
    "    print(\"Good morning\")"
   ]
  },
  {
   "cell_type": "code",
   "execution_count": 35,
   "id": "a0549786",
   "metadata": {},
   "outputs": [
    {
     "name": "stdout",
     "output_type": "stream",
     "text": [
      "Good morning\n"
     ]
    }
   ],
   "source": [
    "great()"
   ]
  },
  {
   "cell_type": "code",
   "execution_count": 36,
   "id": "9c2f41dc",
   "metadata": {},
   "outputs": [
    {
     "name": "stdout",
     "output_type": "stream",
     "text": [
      "Good morning\n"
     ]
    },
    {
     "ename": "TypeError",
     "evalue": "unsupported operand type(s) for +: 'NoneType' and 'str'",
     "output_type": "error",
     "traceback": [
      "\u001b[1;31m---------------------------------------------------------------------------\u001b[0m",
      "\u001b[1;31mTypeError\u001b[0m                                 Traceback (most recent call last)",
      "\u001b[1;32mC:\\Users\\RISHAB~1\\AppData\\Local\\Temp/ipykernel_20376/1882126856.py\u001b[0m in \u001b[0;36m<module>\u001b[1;34m\u001b[0m\n\u001b[1;32m----> 1\u001b[1;33m \u001b[0mgreat\u001b[0m\u001b[1;33m(\u001b[0m\u001b[1;33m)\u001b[0m \u001b[1;33m+\u001b[0m \u001b[1;34m\"Hello\"\u001b[0m\u001b[1;33m\u001b[0m\u001b[1;33m\u001b[0m\u001b[0m\n\u001b[0m",
      "\u001b[1;31mTypeError\u001b[0m: unsupported operand type(s) for +: 'NoneType' and 'str'"
     ]
    }
   ],
   "source": [
    "great() + \"Hello\""
   ]
  },
  {
   "cell_type": "code",
   "execution_count": null,
   "id": "d30f2b1a",
   "metadata": {},
   "outputs": [],
   "source": [
    "def test1():\n",
    "    return 1,\"Hello\",[1,2,3,4,5]"
   ]
  },
  {
   "cell_type": "code",
   "execution_count": null,
   "id": "3d4523eb",
   "metadata": {},
   "outputs": [],
   "source": [
    "test1()"
   ]
  },
  {
   "cell_type": "code",
   "execution_count": null,
   "id": "9643334c",
   "metadata": {},
   "outputs": [],
   "source": [
    "test1()[1]"
   ]
  },
  {
   "cell_type": "code",
   "execution_count": null,
   "id": "80678eec",
   "metadata": {},
   "outputs": [],
   "source": [
    "test1()[2]"
   ]
  },
  {
   "cell_type": "code",
   "execution_count": null,
   "id": "33adfc8e",
   "metadata": {},
   "outputs": [],
   "source": [
    "def Sum(a,b):\n",
    "    return a+b"
   ]
  },
  {
   "cell_type": "code",
   "execution_count": null,
   "id": "cd993525",
   "metadata": {},
   "outputs": [],
   "source": [
    "Sum(10,20)"
   ]
  },
  {
   "cell_type": "code",
   "execution_count": null,
   "id": "c39dff10",
   "metadata": {},
   "outputs": [],
   "source": [
    "heights = 10,12,14,24"
   ]
  },
  {
   "cell_type": "code",
   "execution_count": null,
   "id": "72f85771",
   "metadata": {},
   "outputs": [],
   "source": [
    "heights"
   ]
  },
  {
   "cell_type": "code",
   "execution_count": null,
   "id": "21d67660",
   "metadata": {},
   "outputs": [],
   "source": [
    "type(heights)"
   ]
  },
  {
   "cell_type": "code",
   "execution_count": null,
   "id": "2b868ddd",
   "metadata": {},
   "outputs": [],
   "source": [
    "l = [1,2,3,4,5,10,20,30,40,100,\"datascience\",\"DataAnalytics\",\"ML\",[1,2,3,4],20.0,230.0]"
   ]
  },
  {
   "cell_type": "markdown",
   "id": "6dbaca5f",
   "metadata": {},
   "source": [
    "### Create a function which will take list as a input and give me a final list with all the numberic value"
   ]
  },
  {
   "cell_type": "code",
   "execution_count": null,
   "id": "3ab368a9",
   "metadata": {},
   "outputs": [],
   "source": [
    "def onlyNumeric(l):\n",
    "    res = []\n",
    "    for i in l:\n",
    "        if type(i)==int or type(i)==float:\n",
    "            res.append(i)\n",
    "    return res"
   ]
  },
  {
   "cell_type": "code",
   "execution_count": null,
   "id": "53c1f91b",
   "metadata": {},
   "outputs": [],
   "source": [
    "onlyNumeric(l)"
   ]
  },
  {
   "cell_type": "code",
   "execution_count": null,
   "id": "2ec2dc32",
   "metadata": {},
   "outputs": [],
   "source": [
    "def onlyNumWithList(l):\n",
    "    res = []\n",
    "    for i in l:\n",
    "        if type(i)==list:\n",
    "            for j in i:\n",
    "                if type(j)==int or type(j)==float:\n",
    "                    res.append(j)\n",
    "        if type(i)==int or type(i)==float:\n",
    "            res.append(i)\n",
    "    return res"
   ]
  },
  {
   "cell_type": "code",
   "execution_count": null,
   "id": "1a59ce9d",
   "metadata": {},
   "outputs": [],
   "source": [
    "onlyNumWithList(l)"
   ]
  },
  {
   "cell_type": "code",
   "execution_count": null,
   "id": "1286576b",
   "metadata": {},
   "outputs": [],
   "source": [
    "def Analysis(a,b,c,d,e):\n",
    "    pass"
   ]
  },
  {
   "cell_type": "code",
   "execution_count": null,
   "id": "9500b998",
   "metadata": {},
   "outputs": [],
   "source": [
    "def Data(*args):\n",
    "    return args"
   ]
  },
  {
   "cell_type": "code",
   "execution_count": null,
   "id": "3be20c5a",
   "metadata": {},
   "outputs": [],
   "source": [
    "Data(1)"
   ]
  },
  {
   "cell_type": "code",
   "execution_count": null,
   "id": "f8b6c42b",
   "metadata": {},
   "outputs": [],
   "source": [
    "Data(1,2)"
   ]
  },
  {
   "cell_type": "code",
   "execution_count": null,
   "id": "e6c39de6",
   "metadata": {},
   "outputs": [],
   "source": [
    "Data(1,2,3,4)"
   ]
  },
  {
   "cell_type": "code",
   "execution_count": null,
   "id": "678e277a",
   "metadata": {},
   "outputs": [],
   "source": [
    "def Data1(*args,a):\n",
    "    return args,a"
   ]
  },
  {
   "cell_type": "code",
   "execution_count": null,
   "id": "40caf8fb",
   "metadata": {},
   "outputs": [],
   "source": [
    "Data1(1,2,3,4)"
   ]
  },
  {
   "cell_type": "code",
   "execution_count": null,
   "id": "4457431b",
   "metadata": {},
   "outputs": [],
   "source": [
    "Data1(1,2,3,4,a=\"DL\")"
   ]
  },
  {
   "cell_type": "code",
   "execution_count": null,
   "id": "31dd424b",
   "metadata": {},
   "outputs": [],
   "source": [
    "def test2(**kwargs):\n",
    "    return kwargs"
   ]
  },
  {
   "cell_type": "code",
   "execution_count": null,
   "id": "44683e31",
   "metadata": {},
   "outputs": [],
   "source": [
    "test2()"
   ]
  },
  {
   "cell_type": "code",
   "execution_count": null,
   "id": "060cfffa",
   "metadata": {},
   "outputs": [],
   "source": [
    "type(test2())"
   ]
  },
  {
   "cell_type": "code",
   "execution_count": null,
   "id": "961cee03",
   "metadata": {},
   "outputs": [],
   "source": [
    "test2(i=20,j=23,k=[10,20,30,40],d=('ml','dl'))"
   ]
  },
  {
   "cell_type": "markdown",
   "id": "df290cee",
   "metadata": {},
   "source": [
    "## Generator Functions"
   ]
  },
  {
   "cell_type": "code",
   "execution_count": null,
   "id": "12b4b0ac",
   "metadata": {},
   "outputs": [],
   "source": [
    "range(1,10)"
   ]
  },
  {
   "cell_type": "code",
   "execution_count": null,
   "id": "d187f417",
   "metadata": {},
   "outputs": [],
   "source": [
    "for i in range(1,10):\n",
    "    print(i)"
   ]
  },
  {
   "cell_type": "code",
   "execution_count": null,
   "id": "3099cb4a",
   "metadata": {},
   "outputs": [],
   "source": [
    "lst = [10,20,30,50,70,\"Facebook\",\"Insta\"]"
   ]
  },
  {
   "cell_type": "code",
   "execution_count": null,
   "id": "39d00765",
   "metadata": {},
   "outputs": [],
   "source": [
    "def onlyNumeric(l):\n",
    "    res = []\n",
    "    for i in l:\n",
    "        if type(i)==int or type(i)==float:\n",
    "            res.append(i)\n",
    "    return res"
   ]
  },
  {
   "cell_type": "code",
   "execution_count": null,
   "id": "2d488ce8",
   "metadata": {},
   "outputs": [],
   "source": [
    "onlyNumeric(lst)"
   ]
  },
  {
   "cell_type": "code",
   "execution_count": null,
   "id": "fcc53dda",
   "metadata": {},
   "outputs": [],
   "source": [
    "def fib(n):\n",
    "    a,b=0,1\n",
    "    for i in range(n):\n",
    "        yield a\n",
    "        a,b = b,a+b"
   ]
  },
  {
   "cell_type": "code",
   "execution_count": null,
   "id": "43da6a0c",
   "metadata": {},
   "outputs": [],
   "source": [
    "fib(10)"
   ]
  },
  {
   "cell_type": "code",
   "execution_count": null,
   "id": "9d985fe4",
   "metadata": {},
   "outputs": [],
   "source": [
    "for i in fib(10):\n",
    "    print(i)"
   ]
  },
  {
   "cell_type": "markdown",
   "id": "24ca1fcf",
   "metadata": {},
   "source": [
    "## Lambda Function"
   ]
  },
  {
   "cell_type": "code",
   "execution_count": 37,
   "id": "55a9f331",
   "metadata": {},
   "outputs": [],
   "source": [
    "def Pow(a,b):\n",
    "    return a**b"
   ]
  },
  {
   "cell_type": "code",
   "execution_count": 38,
   "id": "914b1a87",
   "metadata": {},
   "outputs": [
    {
     "data": {
      "text/plain": [
       "100"
      ]
     },
     "execution_count": 38,
     "metadata": {},
     "output_type": "execute_result"
    }
   ],
   "source": [
    "Pow(10,2)"
   ]
  },
  {
   "cell_type": "code",
   "execution_count": 41,
   "id": "ce2fb3c9",
   "metadata": {},
   "outputs": [],
   "source": [
    "a = lambda n,p : n**p"
   ]
  },
  {
   "cell_type": "code",
   "execution_count": 43,
   "id": "0dc840b5",
   "metadata": {},
   "outputs": [
    {
     "data": {
      "text/plain": [
       "100"
      ]
     },
     "execution_count": 43,
     "metadata": {},
     "output_type": "execute_result"
    }
   ],
   "source": [
    "a(10,2)"
   ]
  },
  {
   "cell_type": "code",
   "execution_count": 44,
   "id": "af72550f",
   "metadata": {},
   "outputs": [
    {
     "data": {
      "text/plain": [
       "function"
      ]
     },
     "execution_count": 44,
     "metadata": {},
     "output_type": "execute_result"
    }
   ],
   "source": [
    "type(a)"
   ]
  },
  {
   "cell_type": "code",
   "execution_count": 45,
   "id": "83370a41",
   "metadata": {},
   "outputs": [],
   "source": [
    "add = lambda x,y :x+y"
   ]
  },
  {
   "cell_type": "code",
   "execution_count": 46,
   "id": "cc7d4d7c",
   "metadata": {},
   "outputs": [
    {
     "data": {
      "text/plain": [
       "40"
      ]
     },
     "execution_count": 46,
     "metadata": {},
     "output_type": "execute_result"
    }
   ],
   "source": [
    "add(10,30)"
   ]
  },
  {
   "cell_type": "code",
   "execution_count": 47,
   "id": "53446e10",
   "metadata": {},
   "outputs": [],
   "source": [
    "c_to_f = lambda c:(9/5)*c+32"
   ]
  },
  {
   "cell_type": "code",
   "execution_count": 49,
   "id": "a46d0583",
   "metadata": {},
   "outputs": [
    {
     "data": {
      "text/plain": [
       "98.60000000000001"
      ]
     },
     "execution_count": 49,
     "metadata": {},
     "output_type": "execute_result"
    }
   ],
   "source": [
    "c_to_f(37)"
   ]
  },
  {
   "cell_type": "code",
   "execution_count": 50,
   "id": "07957bd1",
   "metadata": {},
   "outputs": [],
   "source": [
    "max_2 = lambda x,y : x if x>y else y"
   ]
  },
  {
   "cell_type": "code",
   "execution_count": 51,
   "id": "383ae328",
   "metadata": {},
   "outputs": [
    {
     "data": {
      "text/plain": [
       "20"
      ]
     },
     "execution_count": 51,
     "metadata": {},
     "output_type": "execute_result"
    }
   ],
   "source": [
    "max_2(10,20)"
   ]
  },
  {
   "cell_type": "markdown",
   "id": "99dba028",
   "metadata": {},
   "source": [
    "## Map, Reduce, and Filter"
   ]
  },
  {
   "cell_type": "code",
   "execution_count": 52,
   "id": "1a17ed38",
   "metadata": {},
   "outputs": [],
   "source": [
    "l = [1,2,3,4,5,6]"
   ]
  },
  {
   "cell_type": "code",
   "execution_count": 53,
   "id": "5918aee9",
   "metadata": {},
   "outputs": [],
   "source": [
    "def sq(l):\n",
    "    l1 = []\n",
    "    for i in l:\n",
    "        l1.append(i**2)\n",
    "    return l1"
   ]
  },
  {
   "cell_type": "code",
   "execution_count": 54,
   "id": "e4ebd6a5",
   "metadata": {},
   "outputs": [
    {
     "data": {
      "text/plain": [
       "[1, 4, 9, 16, 25, 36]"
      ]
     },
     "execution_count": 54,
     "metadata": {},
     "output_type": "execute_result"
    }
   ],
   "source": [
    "sq(l)"
   ]
  },
  {
   "cell_type": "code",
   "execution_count": 58,
   "id": "709fcdbb",
   "metadata": {},
   "outputs": [],
   "source": [
    "def sq(x):\n",
    "    return x**2"
   ]
  },
  {
   "cell_type": "code",
   "execution_count": 76,
   "id": "ea5168f0",
   "metadata": {},
   "outputs": [
    {
     "data": {
      "text/plain": [
       "[1, 4, 9, 16, 25, 36]"
      ]
     },
     "execution_count": 76,
     "metadata": {},
     "output_type": "execute_result"
    }
   ],
   "source": [
    "#map\n",
    "list(map(sq,l))"
   ]
  },
  {
   "cell_type": "code",
   "execution_count": 61,
   "id": "033c3920",
   "metadata": {},
   "outputs": [
    {
     "data": {
      "text/plain": [
       "[1, 4, 9, 16, 25, 36]"
      ]
     },
     "execution_count": 61,
     "metadata": {},
     "output_type": "execute_result"
    }
   ],
   "source": [
    "list(map(lambda x :x*x,l))"
   ]
  },
  {
   "cell_type": "code",
   "execution_count": 62,
   "id": "958a9c81",
   "metadata": {},
   "outputs": [
    {
     "data": {
      "text/plain": [
       "[21, 22, 23, 24, 25, 26]"
      ]
     },
     "execution_count": 62,
     "metadata": {},
     "output_type": "execute_result"
    }
   ],
   "source": [
    "list(map(lambda x :x+20,l))"
   ]
  },
  {
   "cell_type": "code",
   "execution_count": 66,
   "id": "ea210add",
   "metadata": {},
   "outputs": [
    {
     "data": {
      "text/plain": [
       "[3, 7, 11, 15, 19]"
      ]
     },
     "execution_count": 66,
     "metadata": {},
     "output_type": "execute_result"
    }
   ],
   "source": [
    "l1 = [1,3,5,7,9]\n",
    "l2 = [2,4,6,8,10]\n",
    "list(map(lambda x,y:x+y,l1,l2))"
   ]
  },
  {
   "cell_type": "code",
   "execution_count": 67,
   "id": "67b527ca",
   "metadata": {},
   "outputs": [],
   "source": [
    "Titlle = \"Data science\""
   ]
  },
  {
   "cell_type": "code",
   "execution_count": 75,
   "id": "dc8b83c6",
   "metadata": {},
   "outputs": [
    {
     "data": {
      "text/plain": [
       "['D', 'A', 'T', 'A', ' ', 'S', 'C', 'I', 'E', 'N', 'C', 'E']"
      ]
     },
     "execution_count": 75,
     "metadata": {},
     "output_type": "execute_result"
    }
   ],
   "source": [
    "list(map(lambda x: x.upper(),Titlle))"
   ]
  },
  {
   "cell_type": "markdown",
   "id": "2eeffbea",
   "metadata": {},
   "source": [
    "### Reduce"
   ]
  },
  {
   "cell_type": "code",
   "execution_count": 77,
   "id": "beefa6aa",
   "metadata": {},
   "outputs": [],
   "source": [
    "from functools import reduce"
   ]
  },
  {
   "cell_type": "code",
   "execution_count": 78,
   "id": "9823bc28",
   "metadata": {},
   "outputs": [],
   "source": [
    "l3 = [5,6,7,8,9,10]"
   ]
  },
  {
   "cell_type": "code",
   "execution_count": 87,
   "id": "8c757688",
   "metadata": {},
   "outputs": [
    {
     "data": {
      "text/plain": [
       "45"
      ]
     },
     "execution_count": 87,
     "metadata": {},
     "output_type": "execute_result"
    }
   ],
   "source": [
    "reduce(lambda x,y:x+y,l3)"
   ]
  },
  {
   "cell_type": "code",
   "execution_count": 85,
   "id": "63977b21",
   "metadata": {},
   "outputs": [],
   "source": [
    "def add(x,y):\n",
    "    return x+y"
   ]
  },
  {
   "cell_type": "code",
   "execution_count": 86,
   "id": "189f643d",
   "metadata": {},
   "outputs": [
    {
     "data": {
      "text/plain": [
       "45"
      ]
     },
     "execution_count": 86,
     "metadata": {},
     "output_type": "execute_result"
    }
   ],
   "source": [
    "reduce(add,l3)"
   ]
  },
  {
   "cell_type": "code",
   "execution_count": 88,
   "id": "affce41b",
   "metadata": {},
   "outputs": [
    {
     "ename": "TypeError",
     "evalue": "<lambda>() missing 1 required positional argument: 'z'",
     "output_type": "error",
     "traceback": [
      "\u001b[1;31m---------------------------------------------------------------------------\u001b[0m",
      "\u001b[1;31mTypeError\u001b[0m                                 Traceback (most recent call last)",
      "\u001b[1;32mC:\\Users\\RISHAB~1\\AppData\\Local\\Temp/ipykernel_20376/1756782469.py\u001b[0m in \u001b[0;36m<module>\u001b[1;34m\u001b[0m\n\u001b[1;32m----> 1\u001b[1;33m \u001b[0mreduce\u001b[0m\u001b[1;33m(\u001b[0m\u001b[1;32mlambda\u001b[0m \u001b[0mx\u001b[0m\u001b[1;33m,\u001b[0m\u001b[0my\u001b[0m\u001b[1;33m,\u001b[0m\u001b[0mz\u001b[0m\u001b[1;33m:\u001b[0m\u001b[0mx\u001b[0m\u001b[1;33m+\u001b[0m\u001b[0my\u001b[0m\u001b[1;33m+\u001b[0m\u001b[0mz\u001b[0m\u001b[1;33m,\u001b[0m\u001b[0ml3\u001b[0m\u001b[1;33m)\u001b[0m\u001b[1;33m\u001b[0m\u001b[1;33m\u001b[0m\u001b[0m\n\u001b[0m",
      "\u001b[1;31mTypeError\u001b[0m: <lambda>() missing 1 required positional argument: 'z'"
     ]
    }
   ],
   "source": [
    "reduce(lambda x,y,z:x+y+z,l3)"
   ]
  },
  {
   "cell_type": "code",
   "execution_count": 89,
   "id": "38cd3d3c",
   "metadata": {},
   "outputs": [
    {
     "ename": "TypeError",
     "evalue": "reduce() of empty sequence with no initial value",
     "output_type": "error",
     "traceback": [
      "\u001b[1;31m---------------------------------------------------------------------------\u001b[0m",
      "\u001b[1;31mTypeError\u001b[0m                                 Traceback (most recent call last)",
      "\u001b[1;32mC:\\Users\\RISHAB~1\\AppData\\Local\\Temp/ipykernel_20376/3589772442.py\u001b[0m in \u001b[0;36m<module>\u001b[1;34m\u001b[0m\n\u001b[1;32m----> 1\u001b[1;33m \u001b[0mreduce\u001b[0m\u001b[1;33m(\u001b[0m\u001b[1;32mlambda\u001b[0m \u001b[0mx\u001b[0m\u001b[1;33m,\u001b[0m\u001b[0my\u001b[0m\u001b[1;33m:\u001b[0m\u001b[0mx\u001b[0m\u001b[1;33m+\u001b[0m\u001b[0my\u001b[0m\u001b[1;33m,\u001b[0m\u001b[1;33m[\u001b[0m\u001b[1;33m]\u001b[0m\u001b[1;33m)\u001b[0m\u001b[1;33m\u001b[0m\u001b[1;33m\u001b[0m\u001b[0m\n\u001b[0m",
      "\u001b[1;31mTypeError\u001b[0m: reduce() of empty sequence with no initial value"
     ]
    }
   ],
   "source": [
    "reduce(lambda x,y:x+y,[])"
   ]
  },
  {
   "cell_type": "code",
   "execution_count": 91,
   "id": "4d4483bd",
   "metadata": {},
   "outputs": [
    {
     "data": {
      "text/plain": [
       "10"
      ]
     },
     "execution_count": 91,
     "metadata": {},
     "output_type": "execute_result"
    }
   ],
   "source": [
    "reduce(lambda x,y:x+y,[10])"
   ]
  },
  {
   "cell_type": "code",
   "execution_count": 92,
   "id": "d4cd6037",
   "metadata": {},
   "outputs": [],
   "source": [
    "l4 = [20,23,234,2342,23,232,123]"
   ]
  },
  {
   "cell_type": "code",
   "execution_count": 93,
   "id": "92dd4b51",
   "metadata": {},
   "outputs": [
    {
     "data": {
      "text/plain": [
       "2342"
      ]
     },
     "execution_count": 93,
     "metadata": {},
     "output_type": "execute_result"
    }
   ],
   "source": [
    "reduce(lambda x,y : x if x > y else y,l4)"
   ]
  },
  {
   "cell_type": "code",
   "execution_count": 94,
   "id": "952b194d",
   "metadata": {},
   "outputs": [],
   "source": [
    "l5 = [1,2,3,4,5,6,7,8,9,10]"
   ]
  },
  {
   "cell_type": "code",
   "execution_count": 95,
   "id": "b3c6f11e",
   "metadata": {},
   "outputs": [
    {
     "data": {
      "text/plain": [
       "[2, 4, 6, 8, 10]"
      ]
     },
     "execution_count": 95,
     "metadata": {},
     "output_type": "execute_result"
    }
   ],
   "source": [
    "list(filter(lambda x : x%2==0,l5))"
   ]
  },
  {
   "cell_type": "code",
   "execution_count": null,
   "id": "b00786b3",
   "metadata": {},
   "outputs": [],
   "source": []
  }
 ],
 "metadata": {
  "kernelspec": {
   "display_name": "Python 3 (ipykernel)",
   "language": "python",
   "name": "python3"
  },
  "language_info": {
   "codemirror_mode": {
    "name": "ipython",
    "version": 3
   },
   "file_extension": ".py",
   "mimetype": "text/x-python",
   "name": "python",
   "nbconvert_exporter": "python",
   "pygments_lexer": "ipython3",
   "version": "3.9.6"
  }
 },
 "nbformat": 4,
 "nbformat_minor": 5
}
