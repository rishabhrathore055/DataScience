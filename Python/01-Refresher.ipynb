{
 "cells": [
  {
   "cell_type": "code",
   "execution_count": 1,
   "id": "48b3ede6",
   "metadata": {},
   "outputs": [
    {
     "name": "stdout",
     "output_type": "stream",
     "text": [
      "Hello Python programmer\n"
     ]
    }
   ],
   "source": [
    "print(\"Hello Python programmer\")"
   ]
  },
  {
   "cell_type": "code",
   "execution_count": 10,
   "id": "25d98318",
   "metadata": {},
   "outputs": [
    {
     "name": "stdout",
     "output_type": "stream",
     "text": [
      "6\n"
     ]
    }
   ],
   "source": [
    "# int\n",
    "print(2 + 4)"
   ]
  },
  {
   "cell_type": "code",
   "execution_count": 13,
   "id": "c2fdcd0e",
   "metadata": {},
   "outputs": [
    {
     "name": "stdout",
     "output_type": "stream",
     "text": [
      "22.099999999999998\n"
     ]
    }
   ],
   "source": [
    "# float\n",
    "print(20.9 + 1.2)"
   ]
  },
  {
   "cell_type": "code",
   "execution_count": 5,
   "id": "5f424095",
   "metadata": {},
   "outputs": [
    {
     "data": {
      "text/plain": [
       "True"
      ]
     },
     "execution_count": 5,
     "metadata": {},
     "output_type": "execute_result"
    }
   ],
   "source": [
    "#bool\n",
    "True"
   ]
  },
  {
   "cell_type": "code",
   "execution_count": 6,
   "id": "e8a0a6b1",
   "metadata": {},
   "outputs": [
    {
     "data": {
      "text/plain": [
       "False"
      ]
     },
     "execution_count": 6,
     "metadata": {},
     "output_type": "execute_result"
    }
   ],
   "source": [
    "False"
   ]
  },
  {
   "cell_type": "code",
   "execution_count": 17,
   "id": "ded9ed6e",
   "metadata": {},
   "outputs": [
    {
     "data": {
      "text/plain": [
       "10"
      ]
     },
     "execution_count": 17,
     "metadata": {},
     "output_type": "execute_result"
    }
   ],
   "source": [
    "# assignment\n",
    "x = 10\n",
    "x"
   ]
  },
  {
   "cell_type": "code",
   "execution_count": 19,
   "id": "55a52eb5",
   "metadata": {},
   "outputs": [
    {
     "data": {
      "text/plain": [
       "'Python'"
      ]
     },
     "execution_count": 19,
     "metadata": {},
     "output_type": "execute_result"
    }
   ],
   "source": [
    "x = \"Python\"\n",
    "x\n",
    "# we can reassign as well later on"
   ]
  },
  {
   "cell_type": "code",
   "execution_count": 22,
   "id": "025faa61",
   "metadata": {},
   "outputs": [
    {
     "name": "stdout",
     "output_type": "stream",
     "text": [
      "3.3333333333333335\n"
     ]
    }
   ],
   "source": [
    "print(10/3) #float"
   ]
  },
  {
   "cell_type": "code",
   "execution_count": 25,
   "id": "5c8692b7",
   "metadata": {},
   "outputs": [
    {
     "name": "stdout",
     "output_type": "stream",
     "text": [
      "2\n"
     ]
    }
   ],
   "source": [
    "print(8//3) #int"
   ]
  },
  {
   "cell_type": "code",
   "execution_count": 27,
   "id": "e8f79427",
   "metadata": {},
   "outputs": [
    {
     "name": "stdout",
     "output_type": "stream",
     "text": [
      "-3\n"
     ]
    }
   ],
   "source": [
    "print(-8//3)"
   ]
  },
  {
   "cell_type": "code",
   "execution_count": 29,
   "id": "3e75dbd8",
   "metadata": {},
   "outputs": [
    {
     "data": {
      "text/plain": [
       "1"
      ]
     },
     "execution_count": 29,
     "metadata": {},
     "output_type": "execute_result"
    }
   ],
   "source": [
    " 5 % 2"
   ]
  },
  {
   "cell_type": "code",
   "execution_count": 31,
   "id": "bf1e0159",
   "metadata": {},
   "outputs": [
    {
     "name": "stdout",
     "output_type": "stream",
     "text": [
      "27\n"
     ]
    }
   ],
   "source": [
    "print(3**3) # power"
   ]
  },
  {
   "cell_type": "code",
   "execution_count": 32,
   "id": "ea9de7cc",
   "metadata": {},
   "outputs": [],
   "source": [
    "# control flow"
   ]
  },
  {
   "cell_type": "code",
   "execution_count": 36,
   "id": "a2a8fd6a",
   "metadata": {},
   "outputs": [
    {
     "name": "stdout",
     "output_type": "stream",
     "text": [
      "Not able to vote\n"
     ]
    }
   ],
   "source": [
    "age = 2\n",
    "\n",
    "if age>=18:\n",
    "    print(\"Vote\")\n",
    "else:\n",
    "    print(\"Not able to vote\")"
   ]
  },
  {
   "cell_type": "code",
   "execution_count": 39,
   "id": "5e56c03f",
   "metadata": {},
   "outputs": [
    {
     "name": "stdout",
     "output_type": "stream",
     "text": [
      "vote\n"
     ]
    }
   ],
   "source": [
    "age = 20\n",
    "print(\"vote\") if age >=18 else print(\"note\")"
   ]
  },
  {
   "cell_type": "code",
   "execution_count": 40,
   "id": "8a9a935e",
   "metadata": {},
   "outputs": [
    {
     "name": "stdout",
     "output_type": "stream",
     "text": [
      "stop\n"
     ]
    }
   ],
   "source": [
    "signal = \"red\"\n",
    "action = \"stop\" if signal ==\"red\" else \"go\"\n",
    "print(action)"
   ]
  },
  {
   "cell_type": "code",
   "execution_count": 42,
   "id": "841ca159",
   "metadata": {},
   "outputs": [
    {
     "name": "stdout",
     "output_type": "stream",
     "text": [
      "1 2 3 4 5 "
     ]
    }
   ],
   "source": [
    "#loops\n",
    "for i in range(1,6):\n",
    "    print(i,end = \" \")\n",
    "    "
   ]
  },
  {
   "cell_type": "code",
   "execution_count": 48,
   "id": "c78af5a4",
   "metadata": {},
   "outputs": [
    {
     "name": "stdout",
     "output_type": "stream",
     "text": [
      "10 9 8 7 6 5 4 3 2 1 "
     ]
    }
   ],
   "source": [
    "# reverse loop\n",
    "for i in range(10,0,-1):\n",
    "    print(i,end=\" \")"
   ]
  },
  {
   "cell_type": "code",
   "execution_count": 51,
   "id": "2a4a0e98",
   "metadata": {},
   "outputs": [
    {
     "name": "stdout",
     "output_type": "stream",
     "text": [
      "0 1 2 3 4 5 6 7 8 9 "
     ]
    }
   ],
   "source": [
    "# while\n",
    "cmd = 10\n",
    "i=0\n",
    "while i!=cmd:\n",
    "    print(i,end=\" \")\n",
    "    i+=1"
   ]
  },
  {
   "cell_type": "code",
   "execution_count": 53,
   "id": "75fb6947",
   "metadata": {},
   "outputs": [
    {
     "data": {
      "text/plain": [
       "True"
      ]
     },
     "execution_count": 53,
     "metadata": {},
     "output_type": "execute_result"
    }
   ],
   "source": [
    "# function\n",
    "def isEven(num):\n",
    "    return num%2==0\n",
    "isEven(6)"
   ]
  },
  {
   "cell_type": "code",
   "execution_count": 58,
   "id": "c7fd31bd",
   "metadata": {},
   "outputs": [],
   "source": [
    "def hcf(a,b):\n",
    "    while a!=0 and b!=0:\n",
    "        if a > b :\n",
    "            a = a%b\n",
    "        else:\n",
    "            b = b % a\n",
    "    return a+b"
   ]
  },
  {
   "cell_type": "code",
   "execution_count": 59,
   "id": "d6dce230",
   "metadata": {},
   "outputs": [
    {
     "data": {
      "text/plain": [
       "3"
      ]
     },
     "execution_count": 59,
     "metadata": {},
     "output_type": "execute_result"
    }
   ],
   "source": [
    "hcf(12,15)"
   ]
  },
  {
   "cell_type": "code",
   "execution_count": 75,
   "id": "6d0e6d0d",
   "metadata": {},
   "outputs": [
    {
     "name": "stdout",
     "output_type": "stream",
     "text": [
      "[90, 70, 80, 95, 100]\n"
     ]
    }
   ],
   "source": [
    "# lists\n",
    "marks  = [90,70,80,95,100]\n",
    "print(marks)"
   ]
  },
  {
   "cell_type": "code",
   "execution_count": 76,
   "id": "5dd1df60",
   "metadata": {},
   "outputs": [
    {
     "data": {
      "text/plain": [
       "90"
      ]
     },
     "execution_count": 76,
     "metadata": {},
     "output_type": "execute_result"
    }
   ],
   "source": [
    "marks[0]"
   ]
  },
  {
   "cell_type": "code",
   "execution_count": 77,
   "id": "cb9473b3",
   "metadata": {},
   "outputs": [
    {
     "data": {
      "text/plain": [
       "[100, 95, 80, 70, 90]"
      ]
     },
     "execution_count": 77,
     "metadata": {},
     "output_type": "execute_result"
    }
   ],
   "source": [
    "marks[::-1] # reverse"
   ]
  },
  {
   "cell_type": "code",
   "execution_count": 78,
   "id": "ca5278e5",
   "metadata": {},
   "outputs": [
    {
     "data": {
      "text/plain": [
       "[80, 95, 100]"
      ]
     },
     "execution_count": 78,
     "metadata": {},
     "output_type": "execute_result"
    }
   ],
   "source": [
    "# slicing\n",
    "marks[2:5]"
   ]
  },
  {
   "cell_type": "code",
   "execution_count": 79,
   "id": "9f9cc580",
   "metadata": {},
   "outputs": [
    {
     "data": {
      "text/plain": [
       "5"
      ]
     },
     "execution_count": 79,
     "metadata": {},
     "output_type": "execute_result"
    }
   ],
   "source": [
    "len(marks)"
   ]
  },
  {
   "cell_type": "code",
   "execution_count": 80,
   "id": "1bff63e6",
   "metadata": {},
   "outputs": [
    {
     "data": {
      "text/plain": [
       "100"
      ]
     },
     "execution_count": 80,
     "metadata": {},
     "output_type": "execute_result"
    }
   ],
   "source": [
    "max(marks)"
   ]
  },
  {
   "cell_type": "code",
   "execution_count": 81,
   "id": "698d3913",
   "metadata": {},
   "outputs": [
    {
     "data": {
      "text/plain": [
       "70"
      ]
     },
     "execution_count": 81,
     "metadata": {},
     "output_type": "execute_result"
    }
   ],
   "source": [
    "min(marks)"
   ]
  },
  {
   "cell_type": "code",
   "execution_count": 82,
   "id": "085bad11",
   "metadata": {},
   "outputs": [
    {
     "data": {
      "text/plain": [
       "435"
      ]
     },
     "execution_count": 82,
     "metadata": {},
     "output_type": "execute_result"
    }
   ],
   "source": [
    "sum(marks)"
   ]
  },
  {
   "cell_type": "code",
   "execution_count": 84,
   "id": "f9a24700",
   "metadata": {},
   "outputs": [
    {
     "data": {
      "text/plain": [
       "[1, 2, 3, 5, 6]"
      ]
     },
     "execution_count": 84,
     "metadata": {},
     "output_type": "execute_result"
    }
   ],
   "source": [
    "[1,2,3] + [5,6]"
   ]
  },
  {
   "cell_type": "code",
   "execution_count": 85,
   "id": "41c91dd7",
   "metadata": {},
   "outputs": [
    {
     "name": "stdout",
     "output_type": "stream",
     "text": [
      "90\n",
      "70\n",
      "80\n",
      "95\n",
      "100\n"
     ]
    }
   ],
   "source": [
    "for mark in marks:\n",
    "    print(mark)"
   ]
  },
  {
   "cell_type": "code",
   "execution_count": 87,
   "id": "1b8f2e80",
   "metadata": {},
   "outputs": [
    {
     "name": "stdout",
     "output_type": "stream",
     "text": [
      "0 90\n",
      "1 70\n",
      "2 80\n",
      "3 95\n",
      "4 100\n"
     ]
    }
   ],
   "source": [
    "for i,mark in enumerate(marks):\n",
    "    print(i,mark)"
   ]
  },
  {
   "cell_type": "code",
   "execution_count": null,
   "id": "2fde9893",
   "metadata": {},
   "outputs": [],
   "source": []
  }
 ],
 "metadata": {
  "kernelspec": {
   "display_name": "Python 3 (ipykernel)",
   "language": "python",
   "name": "python3"
  },
  "language_info": {
   "codemirror_mode": {
    "name": "ipython",
    "version": 3
   },
   "file_extension": ".py",
   "mimetype": "text/x-python",
   "name": "python",
   "nbconvert_exporter": "python",
   "pygments_lexer": "ipython3",
   "version": "3.9.6"
  }
 },
 "nbformat": 4,
 "nbformat_minor": 5
}
