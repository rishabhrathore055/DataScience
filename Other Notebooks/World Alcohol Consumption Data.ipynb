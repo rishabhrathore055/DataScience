{
 "cells": [
  {
   "cell_type": "code",
<<<<<<< HEAD
<<<<<<< HEAD
   "execution_count": 22,
   "id": "c444dfcc",
=======
   "execution_count": 17,
   "id": "e9e82f9a",
>>>>>>> 4e42817ae6987009c891de9487d9d4ca4a08995f
=======
   "execution_count": 17,
   "id": "e9e82f9a",
>>>>>>> 4e42817ae6987009c891de9487d9d4ca4a08995f
   "metadata": {},
   "outputs": [],
   "source": [
    "import pandas as pd"
   ]
  },
  {
   "cell_type": "code",
<<<<<<< HEAD
<<<<<<< HEAD
   "execution_count": 23,
   "id": "2ec87a37",
=======
   "execution_count": 2,
   "id": "21638f78",
>>>>>>> 4e42817ae6987009c891de9487d9d4ca4a08995f
=======
   "execution_count": 2,
   "id": "21638f78",
>>>>>>> 4e42817ae6987009c891de9487d9d4ca4a08995f
   "metadata": {},
   "outputs": [],
   "source": [
    "drinks = pd.read_csv('https://raw.githubusercontent.com/sinanuozdemir/principles_of_data_science/master/data/chapter_2/drinks.csv')"
   ]
  },
  {
   "cell_type": "code",
<<<<<<< HEAD
<<<<<<< HEAD
   "execution_count": 24,
   "id": "39d4d2b3",
=======
   "execution_count": 3,
   "id": "adf89247",
>>>>>>> 4e42817ae6987009c891de9487d9d4ca4a08995f
=======
   "execution_count": 3,
   "id": "adf89247",
>>>>>>> 4e42817ae6987009c891de9487d9d4ca4a08995f
   "metadata": {},
   "outputs": [
    {
     "data": {
      "text/html": [
       "<div>\n",
       "<style scoped>\n",
       "    .dataframe tbody tr th:only-of-type {\n",
       "        vertical-align: middle;\n",
       "    }\n",
       "\n",
       "    .dataframe tbody tr th {\n",
       "        vertical-align: top;\n",
       "    }\n",
       "\n",
       "    .dataframe thead th {\n",
       "        text-align: right;\n",
       "    }\n",
       "</style>\n",
       "<table border=\"1\" class=\"dataframe\">\n",
       "  <thead>\n",
       "    <tr style=\"text-align: right;\">\n",
       "      <th></th>\n",
       "      <th>country</th>\n",
       "      <th>beer_servings</th>\n",
       "      <th>spirit_servings</th>\n",
       "      <th>wine_servings</th>\n",
       "      <th>total_litres_of_pure_alcohol</th>\n",
       "      <th>continent</th>\n",
       "    </tr>\n",
       "  </thead>\n",
       "  <tbody>\n",
       "    <tr>\n",
       "      <th>0</th>\n",
       "      <td>Afghanistan</td>\n",
       "      <td>0</td>\n",
       "      <td>0</td>\n",
       "      <td>0</td>\n",
       "      <td>0.0</td>\n",
       "      <td>AS</td>\n",
       "    </tr>\n",
       "    <tr>\n",
       "      <th>1</th>\n",
       "      <td>Albania</td>\n",
       "      <td>89</td>\n",
       "      <td>132</td>\n",
       "      <td>54</td>\n",
       "      <td>4.9</td>\n",
       "      <td>EU</td>\n",
       "    </tr>\n",
       "    <tr>\n",
       "      <th>2</th>\n",
       "      <td>Algeria</td>\n",
       "      <td>25</td>\n",
       "      <td>0</td>\n",
       "      <td>14</td>\n",
       "      <td>0.7</td>\n",
       "      <td>AF</td>\n",
       "    </tr>\n",
       "    <tr>\n",
       "      <th>3</th>\n",
       "      <td>Andorra</td>\n",
       "      <td>245</td>\n",
       "      <td>138</td>\n",
       "      <td>312</td>\n",
       "      <td>12.4</td>\n",
       "      <td>EU</td>\n",
       "    </tr>\n",
       "    <tr>\n",
       "      <th>4</th>\n",
       "      <td>Angola</td>\n",
       "      <td>217</td>\n",
       "      <td>57</td>\n",
       "      <td>45</td>\n",
       "      <td>5.9</td>\n",
       "      <td>AF</td>\n",
       "    </tr>\n",
       "  </tbody>\n",
       "</table>\n",
       "</div>"
      ],
      "text/plain": [
       "       country  beer_servings  spirit_servings  wine_servings  \\\n",
       "0  Afghanistan              0                0              0   \n",
       "1      Albania             89              132             54   \n",
       "2      Algeria             25                0             14   \n",
       "3      Andorra            245              138            312   \n",
       "4       Angola            217               57             45   \n",
       "\n",
       "   total_litres_of_pure_alcohol continent  \n",
       "0                           0.0        AS  \n",
       "1                           4.9        EU  \n",
       "2                           0.7        AF  \n",
       "3                          12.4        EU  \n",
       "4                           5.9        AF  "
      ]
     },
<<<<<<< HEAD
<<<<<<< HEAD
     "execution_count": 24,
=======
     "execution_count": 3,
>>>>>>> 4e42817ae6987009c891de9487d9d4ca4a08995f
=======
     "execution_count": 3,
>>>>>>> 4e42817ae6987009c891de9487d9d4ca4a08995f
     "metadata": {},
     "output_type": "execute_result"
    }
   ],
   "source": [
    "drinks.head()"
   ]
  },
  {
   "cell_type": "code",
<<<<<<< HEAD
<<<<<<< HEAD
   "execution_count": 34,
   "id": "2fbe2552",
   "metadata": {},
   "outputs": [
    {
     "data": {
      "text/plain": [
       "count     170\n",
       "unique      5\n",
       "top        AF\n",
       "freq       53\n",
       "Name: continent, dtype: object"
      ]
     },
     "execution_count": 34,
     "metadata": {},
     "output_type": "execute_result"
    }
   ],
   "source": [
    "drinks['continent'].describe()"
   ]
  },
  {
   "cell_type": "code",
   "execution_count": 26,
   "id": "ba216209",
=======
   "execution_count": 4,
   "id": "fd6066a7",
>>>>>>> 4e42817ae6987009c891de9487d9d4ca4a08995f
=======
   "execution_count": 4,
   "id": "fd6066a7",
>>>>>>> 4e42817ae6987009c891de9487d9d4ca4a08995f
   "metadata": {},
   "outputs": [
    {
     "data": {
      "text/plain": [
       "count       193\n",
       "unique      193\n",
       "top       Nepal\n",
       "freq          1\n",
       "Name: country, dtype: object"
      ]
     },
<<<<<<< HEAD
<<<<<<< HEAD
     "execution_count": 26,
=======
     "execution_count": 4,
>>>>>>> 4e42817ae6987009c891de9487d9d4ca4a08995f
=======
     "execution_count": 4,
>>>>>>> 4e42817ae6987009c891de9487d9d4ca4a08995f
     "metadata": {},
     "output_type": "execute_result"
    }
   ],
   "source": [
    "drinks['country'].describe()"
   ]
  },
  {
   "cell_type": "code",
<<<<<<< HEAD
<<<<<<< HEAD
   "execution_count": 27,
   "id": "5fc47e21",
=======
   "execution_count": 7,
   "id": "7f43e709",
>>>>>>> 4e42817ae6987009c891de9487d9d4ca4a08995f
=======
   "execution_count": 7,
   "id": "7f43e709",
>>>>>>> 4e42817ae6987009c891de9487d9d4ca4a08995f
   "metadata": {},
   "outputs": [
    {
     "data": {
      "text/plain": [
       "count    193.000000\n",
       "mean     106.160622\n",
       "std      101.143103\n",
       "min        0.000000\n",
       "25%       20.000000\n",
       "50%       76.000000\n",
       "75%      188.000000\n",
       "max      376.000000\n",
       "Name: beer_servings, dtype: float64"
      ]
     },
<<<<<<< HEAD
<<<<<<< HEAD
     "execution_count": 27,
=======
     "execution_count": 7,
>>>>>>> 4e42817ae6987009c891de9487d9d4ca4a08995f
=======
     "execution_count": 7,
>>>>>>> 4e42817ae6987009c891de9487d9d4ca4a08995f
     "metadata": {},
     "output_type": "execute_result"
    }
   ],
   "source": [
    "drinks['beer_servings'].describe()"
   ]
  },
  {
   "cell_type": "code",
<<<<<<< HEAD
<<<<<<< HEAD
   "execution_count": 28,
   "id": "ec7b9883",
=======
   "execution_count": 8,
   "id": "02bfe2d5",
>>>>>>> 4e42817ae6987009c891de9487d9d4ca4a08995f
=======
   "execution_count": 8,
   "id": "02bfe2d5",
>>>>>>> 4e42817ae6987009c891de9487d9d4ca4a08995f
   "metadata": {},
   "outputs": [
    {
     "data": {
      "text/plain": [
       "count    193.000000\n",
       "mean      49.450777\n",
       "std       79.697598\n",
       "min        0.000000\n",
       "25%        1.000000\n",
       "50%        8.000000\n",
       "75%       59.000000\n",
       "max      370.000000\n",
       "Name: wine_servings, dtype: float64"
      ]
     },
<<<<<<< HEAD
<<<<<<< HEAD
     "execution_count": 28,
=======
     "execution_count": 8,
>>>>>>> 4e42817ae6987009c891de9487d9d4ca4a08995f
=======
     "execution_count": 8,
>>>>>>> 4e42817ae6987009c891de9487d9d4ca4a08995f
     "metadata": {},
     "output_type": "execute_result"
    }
   ],
   "source": [
    "drinks['wine_servings'].describe()"
   ]
  },
  {
   "cell_type": "code",
<<<<<<< HEAD
<<<<<<< HEAD
   "execution_count": 29,
   "id": "9302e376",
=======
   "execution_count": 10,
   "id": "6dff3198",
>>>>>>> 4e42817ae6987009c891de9487d9d4ca4a08995f
=======
   "execution_count": 10,
   "id": "6dff3198",
>>>>>>> 4e42817ae6987009c891de9487d9d4ca4a08995f
   "metadata": {},
   "outputs": [],
   "source": [
    "%matplotlib inline"
   ]
  },
  {
   "cell_type": "code",
<<<<<<< HEAD
<<<<<<< HEAD
   "execution_count": 30,
   "id": "45b35bc4",
=======
   "execution_count": 13,
   "id": "3e34aa59",
>>>>>>> 4e42817ae6987009c891de9487d9d4ca4a08995f
=======
   "execution_count": 13,
   "id": "3e34aa59",
>>>>>>> 4e42817ae6987009c891de9487d9d4ca4a08995f
   "metadata": {},
   "outputs": [
    {
     "data": {
      "text/html": [
       "<div>\n",
       "<style scoped>\n",
       "    .dataframe tbody tr th:only-of-type {\n",
       "        vertical-align: middle;\n",
       "    }\n",
       "\n",
       "    .dataframe tbody tr th {\n",
       "        vertical-align: top;\n",
       "    }\n",
       "\n",
       "    .dataframe thead th {\n",
       "        text-align: right;\n",
       "    }\n",
       "</style>\n",
       "<table border=\"1\" class=\"dataframe\">\n",
       "  <thead>\n",
       "    <tr style=\"text-align: right;\">\n",
       "      <th></th>\n",
       "      <th>beer_servings</th>\n",
       "      <th>spirit_servings</th>\n",
       "      <th>wine_servings</th>\n",
       "      <th>total_litres_of_pure_alcohol</th>\n",
       "    </tr>\n",
       "  </thead>\n",
       "  <tbody>\n",
       "    <tr>\n",
       "      <th>count</th>\n",
       "      <td>193.000000</td>\n",
       "      <td>193.000000</td>\n",
       "      <td>193.000000</td>\n",
       "      <td>193.000000</td>\n",
       "    </tr>\n",
       "    <tr>\n",
       "      <th>mean</th>\n",
       "      <td>106.160622</td>\n",
       "      <td>80.994819</td>\n",
       "      <td>49.450777</td>\n",
       "      <td>4.717098</td>\n",
       "    </tr>\n",
       "    <tr>\n",
       "      <th>std</th>\n",
       "      <td>101.143103</td>\n",
       "      <td>88.284312</td>\n",
       "      <td>79.697598</td>\n",
       "      <td>3.773298</td>\n",
       "    </tr>\n",
       "    <tr>\n",
       "      <th>min</th>\n",
       "      <td>0.000000</td>\n",
       "      <td>0.000000</td>\n",
       "      <td>0.000000</td>\n",
       "      <td>0.000000</td>\n",
       "    </tr>\n",
       "    <tr>\n",
       "      <th>25%</th>\n",
       "      <td>20.000000</td>\n",
       "      <td>4.000000</td>\n",
       "      <td>1.000000</td>\n",
       "      <td>1.300000</td>\n",
       "    </tr>\n",
       "    <tr>\n",
       "      <th>50%</th>\n",
       "      <td>76.000000</td>\n",
       "      <td>56.000000</td>\n",
       "      <td>8.000000</td>\n",
       "      <td>4.200000</td>\n",
       "    </tr>\n",
       "    <tr>\n",
       "      <th>75%</th>\n",
       "      <td>188.000000</td>\n",
       "      <td>128.000000</td>\n",
       "      <td>59.000000</td>\n",
       "      <td>7.200000</td>\n",
       "    </tr>\n",
       "    <tr>\n",
       "      <th>max</th>\n",
       "      <td>376.000000</td>\n",
       "      <td>438.000000</td>\n",
       "      <td>370.000000</td>\n",
       "      <td>14.400000</td>\n",
       "    </tr>\n",
       "  </tbody>\n",
       "</table>\n",
       "</div>"
      ],
      "text/plain": [
       "       beer_servings  spirit_servings  wine_servings  \\\n",
       "count     193.000000       193.000000     193.000000   \n",
       "mean      106.160622        80.994819      49.450777   \n",
       "std       101.143103        88.284312      79.697598   \n",
       "min         0.000000         0.000000       0.000000   \n",
       "25%        20.000000         4.000000       1.000000   \n",
       "50%        76.000000        56.000000       8.000000   \n",
       "75%       188.000000       128.000000      59.000000   \n",
       "max       376.000000       438.000000     370.000000   \n",
       "\n",
       "       total_litres_of_pure_alcohol  \n",
       "count                    193.000000  \n",
       "mean                       4.717098  \n",
       "std                        3.773298  \n",
       "min                        0.000000  \n",
       "25%                        1.300000  \n",
       "50%                        4.200000  \n",
       "75%                        7.200000  \n",
       "max                       14.400000  "
      ]
     },
<<<<<<< HEAD
<<<<<<< HEAD
     "execution_count": 30,
=======
     "execution_count": 13,
>>>>>>> 4e42817ae6987009c891de9487d9d4ca4a08995f
=======
     "execution_count": 13,
>>>>>>> 4e42817ae6987009c891de9487d9d4ca4a08995f
     "metadata": {},
     "output_type": "execute_result"
    }
   ],
   "source": [
    "drinks.describe()"
   ]
  },
  {
   "cell_type": "code",
<<<<<<< HEAD
<<<<<<< HEAD
   "execution_count": 31,
   "id": "7d041580",
=======
   "execution_count": 16,
   "id": "27a715d1",
>>>>>>> 4e42817ae6987009c891de9487d9d4ca4a08995f
=======
   "execution_count": 16,
   "id": "27a715d1",
>>>>>>> 4e42817ae6987009c891de9487d9d4ca4a08995f
   "metadata": {},
   "outputs": [
    {
     "data": {
      "text/plain": [
       "193"
      ]
     },
<<<<<<< HEAD
<<<<<<< HEAD
     "execution_count": 31,
=======
     "execution_count": 16,
>>>>>>> 4e42817ae6987009c891de9487d9d4ca4a08995f
=======
     "execution_count": 16,
>>>>>>> 4e42817ae6987009c891de9487d9d4ca4a08995f
     "metadata": {},
     "output_type": "execute_result"
    }
   ],
   "source": [
    "drinks['country'].count()"
   ]
  },
  {
   "cell_type": "code",
   "execution_count": null,
<<<<<<< HEAD
<<<<<<< HEAD
   "id": "ab13eb14",
=======
   "id": "8e51b683",
>>>>>>> 4e42817ae6987009c891de9487d9d4ca4a08995f
=======
   "id": "8e51b683",
>>>>>>> 4e42817ae6987009c891de9487d9d4ca4a08995f
   "metadata": {},
   "outputs": [],
   "source": []
  }
 ],
 "metadata": {
  "kernelspec": {
   "display_name": "Python 3 (ipykernel)",
   "language": "python",
   "name": "python3"
  },
  "language_info": {
   "codemirror_mode": {
    "name": "ipython",
    "version": 3
   },
   "file_extension": ".py",
   "mimetype": "text/x-python",
   "name": "python",
   "nbconvert_exporter": "python",
   "pygments_lexer": "ipython3",
   "version": "3.9.6"
  }
 },
 "nbformat": 4,
 "nbformat_minor": 5
}
