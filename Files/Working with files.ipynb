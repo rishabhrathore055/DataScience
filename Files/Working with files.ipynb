{
 "cells": [
  {
   "cell_type": "code",
   "execution_count": 16,
   "id": "a44375f9",
   "metadata": {},
   "outputs": [],
   "source": [
    "f = open('test.txt','a')"
   ]
  },
  {
   "cell_type": "code",
   "execution_count": 12,
   "id": "c05c0775",
   "metadata": {},
   "outputs": [
    {
     "data": {
      "text/plain": [
       "'E:\\\\DataScience\\\\Files'"
      ]
     },
     "execution_count": 12,
     "metadata": {},
     "output_type": "execute_result"
    }
   ],
   "source": [
    "pwd"
   ]
  },
  {
   "cell_type": "code",
   "execution_count": 17,
   "id": "cf4738aa",
   "metadata": {},
   "outputs": [
    {
     "data": {
      "text/plain": [
       "210"
      ]
     },
     "execution_count": 17,
     "metadata": {},
     "output_type": "execute_result"
    }
   ],
   "source": [
    "f.write(\"Review data structures and algorithms, and learn common machine learning models and techniques. You can also learn about technical concepts, such as the differences between supervised and unsupervised learning.\")"
   ]
  },
  {
   "cell_type": "code",
   "execution_count": 18,
   "id": "b67a2b7a",
   "metadata": {},
   "outputs": [],
   "source": [
    "f.close()"
   ]
  },
  {
   "cell_type": "code",
   "execution_count": 19,
   "id": "e907c92e",
   "metadata": {},
   "outputs": [],
   "source": [
    "data = open('test.txt','r')"
   ]
  },
  {
   "cell_type": "code",
   "execution_count": 21,
   "id": "92a4916d",
   "metadata": {},
   "outputs": [
    {
     "data": {
      "text/plain": [
       "'Review data structures and algorithms, and learn common machine learning models and techniques. You can also learn about technical concepts, such as the differences between supervised and unsupervised learning.This is the text we writeReview data structures and algorithms, and learn common machine learning models and techniques. You can also learn about technical concepts, such as the differences between supervised and unsupervised learning.Review data structures and algorithms, and learn common machine learning models and techniques. You can also learn about technical concepts, such as the differences between supervised and unsupervised learning.'"
      ]
     },
     "execution_count": 21,
     "metadata": {},
     "output_type": "execute_result"
    }
   ],
   "source": [
    "data.read()"
   ]
  },
  {
   "cell_type": "code",
   "execution_count": 24,
   "id": "5e618478",
   "metadata": {},
   "outputs": [
    {
     "data": {
      "text/plain": [
       "'Review data structures and algorithms, and learn common machine learning models and techniques. You can also learn about technical concepts, such as the differences between supervised and unsupervised learning.This is the text we writeReview data structures and algorithms, and learn common machine learning models and techniques. You can also learn about technical concepts, such as the differences between supervised and unsupervised learning.Review data structures and algorithms, and learn common machine learning models and techniques. You can also learn about technical concepts, such as the differences between supervised and unsupervised learning.'"
      ]
     },
     "execution_count": 24,
     "metadata": {},
     "output_type": "execute_result"
    }
   ],
   "source": [
    "data.read()"
   ]
  },
  {
   "cell_type": "code",
   "execution_count": 23,
   "id": "4c38a169",
   "metadata": {},
   "outputs": [
    {
     "data": {
      "text/plain": [
       "0"
      ]
     },
     "execution_count": 23,
     "metadata": {},
     "output_type": "execute_result"
    }
   ],
   "source": [
    "data.seek(0)"
   ]
  },
  {
   "cell_type": "code",
   "execution_count": 25,
   "id": "87e9fafc",
   "metadata": {},
   "outputs": [],
   "source": [
    "data1 = open('test.txt','r')"
   ]
  },
  {
   "cell_type": "code",
   "execution_count": 26,
   "id": "5f479d48",
   "metadata": {},
   "outputs": [
    {
     "name": "stdout",
     "output_type": "stream",
     "text": [
      "Review data structures and algorithms, and learn common machine learning models and techniques. You can also learn about technical concepts, such as the differences between supervised and unsupervised learning.This is the text we writeReview data structures and algorithms, and learn common machine learning models and techniques. You can also learn about technical concepts, such as the differences between supervised and unsupervised learning.Review data structures and algorithms, and learn common machine learning models and techniques. You can also learn about technical concepts, such as the differences between supervised and unsupervised learning.\n"
     ]
    }
   ],
   "source": [
    "for i in data1:\n",
    "    print(i)"
   ]
  },
  {
   "cell_type": "code",
   "execution_count": 27,
   "id": "fcbf7cd0",
   "metadata": {},
   "outputs": [
    {
     "data": {
      "text/plain": [
       "'cp1252'"
      ]
     },
     "execution_count": 27,
     "metadata": {},
     "output_type": "execute_result"
    }
   ],
   "source": [
    "data."
   ]
  },
  {
   "cell_type": "code",
   "execution_count": 28,
   "id": "4475d561",
   "metadata": {},
   "outputs": [],
   "source": [
    "import os\n"
   ]
  },
  {
   "cell_type": "code",
   "execution_count": 29,
   "id": "195a1382",
   "metadata": {},
   "outputs": [
    {
     "data": {
      "text/plain": [
       "655"
      ]
     },
     "execution_count": 29,
     "metadata": {},
     "output_type": "execute_result"
    }
   ],
   "source": [
    "os.path.getsize('test.txt')"
   ]
  },
  {
   "cell_type": "code",
   "execution_count": 31,
   "id": "01ffa01d",
   "metadata": {},
   "outputs": [],
   "source": [
    "import shutil"
   ]
  },
  {
   "cell_type": "code",
   "execution_count": 33,
   "id": "3b32c8d8",
   "metadata": {},
   "outputs": [
    {
     "data": {
      "text/plain": [
       "'test1.txt'"
      ]
     },
     "execution_count": 33,
     "metadata": {},
     "output_type": "execute_result"
    }
   ],
   "source": [
    "shutil.copy(\"test.txt\",\"test1.txt\")"
   ]
  },
  {
   "cell_type": "code",
   "execution_count": 35,
   "id": "c2d722dd",
   "metadata": {},
   "outputs": [],
   "source": [
    "os.remove(\"test1.txt\")"
   ]
  },
  {
   "cell_type": "code",
   "execution_count": 36,
   "id": "acd75499",
   "metadata": {},
   "outputs": [
    {
     "name": "stdout",
     "output_type": "stream",
     "text": [
      "Review data structures and algorithms, and learn common machine learning models and techniques. You can also learn about technical concepts, such as the differences between supervised and unsupervised learning.This is the text we writeReview data structures and algorithms, and learn common machine learning models and techniques. You can also learn about technical concepts, such as the differences between supervised and unsupervised learning.Review data structures and algorithms, and learn common machine learning models and techniques. You can also learn about technical concepts, such as the differences between supervised and unsupervised learning.\n"
     ]
    }
   ],
   "source": [
    "with open(\"test.txt\",'r') as f:\n",
    "    print(f.read())"
   ]
  },
  {
   "cell_type": "code",
   "execution_count": null,
   "id": "66be26c2",
   "metadata": {},
   "outputs": [],
   "source": []
  }
 ],
 "metadata": {
  "kernelspec": {
   "display_name": "Python 3 (ipykernel)",
   "language": "python",
   "name": "python3"
  },
  "language_info": {
   "codemirror_mode": {
    "name": "ipython",
    "version": 3
   },
   "file_extension": ".py",
   "mimetype": "text/x-python",
   "name": "python",
   "nbconvert_exporter": "python",
   "pygments_lexer": "ipython3",
   "version": "3.9.6"
  }
 },
 "nbformat": 4,
 "nbformat_minor": 5
}
