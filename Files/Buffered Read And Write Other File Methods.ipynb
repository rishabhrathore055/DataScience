{
 "cells": [
  {
   "cell_type": "code",
   "execution_count": 1,
   "id": "645c8b5d",
   "metadata": {},
   "outputs": [],
   "source": [
    "import io"
   ]
  },
  {
   "cell_type": "code",
   "execution_count": 7,
   "id": "04407386",
   "metadata": {},
   "outputs": [],
   "source": [
    "with open('test.txt','wb') as f:\n",
    "    file = io.BufferedWriter(f)\n",
    "    file.write(b\"This is my buffer write\\n\")\n",
    "    file.write(b\"This is my second line\\n\")\n",
    "    file.write(b\"Review data structures and algorithms, and learn common machine learning models and techniques. You can also learn about technical concepts, such as the differences between supervised and unsupervised learning.\")\n",
    "    file.flush()"
   ]
  },
  {
   "cell_type": "code",
   "execution_count": 11,
   "id": "7ec0f725",
   "metadata": {},
   "outputs": [
    {
     "name": "stdout",
     "output_type": "stream",
     "text": [
      "b'This is my buffer write\\nThis is my second line\\nReview data structures and algorithms, and learn comm'\n"
     ]
    }
   ],
   "source": [
    "with open('test.txt','rb') as f :\n",
    "    file = io.BufferedReader(f)\n",
    "    data = file.read(100)\n",
    "    print(data)"
   ]
  },
  {
   "cell_type": "code",
   "execution_count": null,
   "id": "09768b73",
   "metadata": {},
   "outputs": [],
   "source": []
  }
 ],
 "metadata": {
  "kernelspec": {
   "display_name": "Python 3 (ipykernel)",
   "language": "python",
   "name": "python3"
  },
  "language_info": {
   "codemirror_mode": {
    "name": "ipython",
    "version": 3
   },
   "file_extension": ".py",
   "mimetype": "text/x-python",
   "name": "python",
   "nbconvert_exporter": "python",
   "pygments_lexer": "ipython3",
   "version": "3.9.6"
  }
 },
 "nbformat": 4,
 "nbformat_minor": 5
}
