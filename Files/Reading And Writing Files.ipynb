{
 "cells": [
  {
   "cell_type": "code",
   "execution_count": 1,
   "id": "10bb9245",
   "metadata": {},
   "outputs": [],
   "source": [
    "data = {\n",
    "    \"name\" :\"Aman\",\n",
    "    \"mail_id\" : \"Aman@gmail.com\",\n",
    "    \"Phone_no\" : 9123432223,\n",
    "    \"Subjects\" : ['DA','ML','OS']\n",
    "}"
   ]
  },
  {
   "cell_type": "code",
   "execution_count": 2,
   "id": "b6459ed3",
   "metadata": {},
   "outputs": [],
   "source": [
    "import json"
   ]
  },
  {
   "cell_type": "code",
   "execution_count": 3,
   "id": "0397483e",
   "metadata": {},
   "outputs": [],
   "source": [
    "with open('test.json','w') as f:\n",
    "    json.dump(data,f)"
   ]
  },
  {
   "cell_type": "code",
   "execution_count": 4,
   "id": "1449a7b8",
   "metadata": {},
   "outputs": [],
   "source": [
    "with open('test.json','r') as f:\n",
    "    data1 = json.load(f)"
   ]
  },
  {
   "cell_type": "code",
   "execution_count": 5,
   "id": "4844f729",
   "metadata": {},
   "outputs": [
    {
     "data": {
      "text/plain": [
       "{'name': 'Aman',\n",
       " 'mail_id': 'Aman@gmail.com',\n",
       " 'Phone_no': 9123432223,\n",
       " 'Subjects': ['DA', 'ML', 'OS']}"
      ]
     },
     "execution_count": 5,
     "metadata": {},
     "output_type": "execute_result"
    }
   ],
   "source": [
    "data1"
   ]
  },
  {
   "cell_type": "code",
   "execution_count": 6,
   "id": "d0a296b2",
   "metadata": {},
   "outputs": [
    {
     "data": {
      "text/plain": [
       "['DA', 'ML', 'OS']"
      ]
     },
     "execution_count": 6,
     "metadata": {},
     "output_type": "execute_result"
    }
   ],
   "source": [
    "data1['Subjects']"
   ]
  },
  {
   "cell_type": "code",
   "execution_count": 7,
   "id": "f375f1b8",
   "metadata": {},
   "outputs": [
    {
     "data": {
      "text/plain": [
       "'ML'"
      ]
     },
     "execution_count": 7,
     "metadata": {},
     "output_type": "execute_result"
    }
   ],
   "source": [
    "data1['Subjects'][1]"
   ]
  },
  {
   "cell_type": "code",
   "execution_count": 8,
   "id": "993a570a",
   "metadata": {},
   "outputs": [],
   "source": [
    "data = [['Name','Email_id','Enroll'],\n",
    "       ['Ram','Ram@gmail.com','49'],\n",
    "       ['Luv','luv@gmail.com',50]\n",
    "       ]"
   ]
  },
  {
   "cell_type": "code",
   "execution_count": 9,
   "id": "d5bbfe7e",
   "metadata": {},
   "outputs": [],
   "source": [
    "import  csv"
   ]
  },
  {
   "cell_type": "code",
   "execution_count": 10,
   "id": "633503e9",
   "metadata": {},
   "outputs": [],
   "source": [
    "with open('data.csv','w') as f:\n",
    "    w = csv.writer(f)\n",
    "    for i in data:\n",
    "        w.writerow(i)"
   ]
  },
  {
   "cell_type": "code",
   "execution_count": 15,
   "id": "72c743ba",
   "metadata": {},
   "outputs": [
    {
     "name": "stdout",
     "output_type": "stream",
     "text": [
      "['Name', 'Email_id', 'Enroll']\n",
      "[]\n",
      "['Ram', 'Ram@gmail.com', '49']\n",
      "[]\n",
      "['Luv', 'luv@gmail.com', '50']\n",
      "[]\n"
     ]
    }
   ],
   "source": [
    "with open('data.csv','r') as f:\n",
    "    read = csv.reader(f)\n",
    "    for i in read :\n",
    "        print(i)"
   ]
  },
  {
   "cell_type": "code",
   "execution_count": 16,
   "id": "c4db5e1c",
   "metadata": {},
   "outputs": [],
   "source": [
    "with open('test.bin','wb') as f:\n",
    "    f.write(b\"\\x01\\x02\\x03\")\n",
    "    "
   ]
  },
  {
   "cell_type": "code",
   "execution_count": 17,
   "id": "549f538f",
   "metadata": {},
   "outputs": [
    {
     "name": "stdout",
     "output_type": "stream",
     "text": [
      "b'\\x01\\x02\\x03'\n"
     ]
    }
   ],
   "source": [
    "with open('test.bin','rb') as f:\n",
    "    print(f.read())"
   ]
  },
  {
   "cell_type": "code",
   "execution_count": null,
   "id": "8761bf86",
   "metadata": {},
   "outputs": [],
   "source": []
  }
 ],
 "metadata": {
  "kernelspec": {
   "display_name": "Python 3 (ipykernel)",
   "language": "python",
   "name": "python3"
  },
  "language_info": {
   "codemirror_mode": {
    "name": "ipython",
    "version": 3
   },
   "file_extension": ".py",
   "mimetype": "text/x-python",
   "name": "python",
   "nbconvert_exporter": "python",
   "pygments_lexer": "ipython3",
   "version": "3.9.6"
  }
 },
 "nbformat": 4,
 "nbformat_minor": 5
}
