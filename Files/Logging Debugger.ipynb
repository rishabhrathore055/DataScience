{
 "cells": [
  {
   "cell_type": "code",
   "execution_count": 1,
   "id": "fa577158",
   "metadata": {},
   "outputs": [
    {
     "name": "stdout",
     "output_type": "stream",
     "text": [
      "Hello\n"
     ]
    }
   ],
   "source": [
    "print(\"Hello\")"
   ]
  },
  {
   "cell_type": "code",
   "execution_count": 2,
   "id": "bf59a056",
   "metadata": {},
   "outputs": [],
   "source": [
    "import logging"
   ]
  },
  {
   "cell_type": "code",
   "execution_count": 3,
   "id": "865b440a",
   "metadata": {},
   "outputs": [],
   "source": [
    "logging.basicConfig(filename = 'test.log',level = logging.INFO)"
   ]
  },
  {
   "cell_type": "code",
   "execution_count": 4,
   "id": "c49f6ffd",
   "metadata": {},
   "outputs": [],
   "source": [
    "logging.info(\"This is the line of execution\")"
   ]
  },
  {
   "cell_type": "code",
   "execution_count": 5,
   "id": "e3d0c16d",
   "metadata": {},
   "outputs": [],
   "source": [
    "logging.error(\"This is the error\")"
   ]
  },
  {
   "cell_type": "code",
   "execution_count": 6,
   "id": "a7e9a3be",
   "metadata": {},
   "outputs": [],
   "source": [
    "logging.critical(\"This is the critical\")"
   ]
  },
  {
   "cell_type": "markdown",
   "id": "d5c0cf78",
   "metadata": {},
   "source": [
    "1. NOSET\n",
    "2. DEBUG\n",
    "3. INFO\n",
    "4. WARNING\n",
    "5. ERROR\n",
    "6. CRITICAL"
   ]
  },
  {
   "cell_type": "code",
   "execution_count": 7,
   "id": "6f2e6dd8",
   "metadata": {},
   "outputs": [],
   "source": [
    "logging.warning(\"This is the warning\")"
   ]
  },
  {
   "cell_type": "code",
   "execution_count": 8,
   "id": "c25b218a",
   "metadata": {},
   "outputs": [],
   "source": [
    "logging.debug(\"This is the debug\")"
   ]
  },
  {
   "cell_type": "code",
   "execution_count": 9,
   "id": "fdf130de",
   "metadata": {},
   "outputs": [],
   "source": [
    "# logging.noset(\"This is noset\")"
   ]
  },
  {
   "cell_type": "code",
   "execution_count": 10,
   "id": "ef045cbc",
   "metadata": {},
   "outputs": [],
   "source": [
    "logging.shutdown()"
   ]
  },
  {
   "cell_type": "code",
   "execution_count": 11,
   "id": "ba439fe0",
   "metadata": {},
   "outputs": [],
   "source": [
    "import logging"
   ]
  },
  {
   "cell_type": "code",
   "execution_count": 12,
   "id": "056cc6ee",
   "metadata": {},
   "outputs": [],
   "source": [
    "logging.basicConfig(filename = 'test1.log',level = logging.DEBUG,format = '%(asctime)s %(message)s')"
   ]
  },
  {
   "cell_type": "code",
   "execution_count": 13,
   "id": "2daeeb1f",
   "metadata": {},
   "outputs": [],
   "source": [
    "logging.info(\"This is the info\")"
   ]
  },
  {
   "cell_type": "code",
   "execution_count": 14,
   "id": "36e34e1a",
   "metadata": {},
   "outputs": [],
   "source": [
    "logging.debug(\"This is debug log\")"
   ]
  },
  {
   "cell_type": "code",
   "execution_count": 15,
   "id": "75b092fc",
   "metadata": {},
   "outputs": [],
   "source": [
    "logging.warning(\"This is my waring\")"
   ]
  },
  {
   "cell_type": "code",
   "execution_count": 16,
   "id": "eb2713c0",
   "metadata": {},
   "outputs": [],
   "source": [
    "logging.shutdown()"
   ]
  },
  {
   "cell_type": "code",
   "execution_count": 1,
   "id": "8971cfeb",
   "metadata": {},
   "outputs": [],
   "source": [
    "import logging"
   ]
  },
  {
   "cell_type": "code",
   "execution_count": 2,
   "id": "67fe148e",
   "metadata": {},
   "outputs": [],
   "source": [
    "logging.basicConfig(filename = 'test2.log',level = logging.DEBUG,format = '%(asctime)s %(name)s %(levelname)s %(message)s',)"
   ]
  },
  {
   "cell_type": "code",
   "execution_count": 3,
   "id": "f454bb40",
   "metadata": {},
   "outputs": [],
   "source": [
    "logging.info(\"This is the info log\")"
   ]
  },
  {
   "cell_type": "code",
   "execution_count": 7,
   "id": "d21da68e",
   "metadata": {},
   "outputs": [],
   "source": [
    "l = [1,2,3,4,5,6,[10,2,45],'Ram','Rishi']"
   ]
  },
  {
   "cell_type": "code",
   "execution_count": 17,
   "id": "0d0986e3",
   "metadata": {},
   "outputs": [],
   "source": [
    "l_int = []\n",
    "l_str = []\n",
    "for i in l:\n",
    "    logging.info(\"This is the start of my first for loop {}\".format(l))\n",
    "    logging.info(\"This is the value of the i am logging {}\".format(i))\n",
    "    if type(i) == list:\n",
    "        for j in i:\n",
    "            logging.info(\"logging my j {}\".format(j))\n",
    "            if type(j) == int:\n",
    "                l_int.append(j)\n",
    "    elif type(i) == int:\n",
    "        l_int.append(i)\n",
    "    elif type(i) == str:\n",
    "        l_str.append(i)"
   ]
  },
  {
   "cell_type": "code",
   "execution_count": 15,
   "id": "a8b3760d",
   "metadata": {},
   "outputs": [
    {
     "data": {
      "text/plain": [
       "[1, 2, 3, 4, 5, 6, 10, 2, 45]"
      ]
     },
     "execution_count": 15,
     "metadata": {},
     "output_type": "execute_result"
    }
   ],
   "source": [
    "l_int"
   ]
  },
  {
   "cell_type": "code",
   "execution_count": 16,
   "id": "ec7dcf61",
   "metadata": {},
   "outputs": [
    {
     "data": {
      "text/plain": [
       "['Ram', 'Rishi']"
      ]
     },
     "execution_count": 16,
     "metadata": {},
     "output_type": "execute_result"
    }
   ],
   "source": [
    "l_str"
   ]
  },
  {
   "cell_type": "code",
   "execution_count": null,
   "id": "7eede401",
   "metadata": {},
   "outputs": [],
   "source": []
  }
 ],
 "metadata": {
  "kernelspec": {
   "display_name": "Python 3 (ipykernel)",
   "language": "python",
   "name": "python3"
  },
  "language_info": {
   "codemirror_mode": {
    "name": "ipython",
    "version": 3
   },
   "file_extension": ".py",
   "mimetype": "text/x-python",
   "name": "python",
   "nbconvert_exporter": "python",
   "pygments_lexer": "ipython3",
   "version": "3.9.6"
  }
 },
 "nbformat": 4,
 "nbformat_minor": 5
}
