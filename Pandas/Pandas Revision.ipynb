{
 "cells": [
  {
   "cell_type": "markdown",
   "metadata": {
    "id": "Nkgl3LZGP0XZ"
   },
   "source": [
    "### What is Pandas\n",
    "\n",
    "Pandas is a fast, powerful, flexible and easy to use open source data analysis and manipulation tool,\n",
    "built on top of the Python programming language.\n",
    "\n",
    "https://pandas.pydata.org/about/index.html"
   ]
  },
  {
   "cell_type": "markdown",
   "metadata": {
    "id": "3QmWVpYGRw59"
   },
   "source": [
    "### Pandas Series\n",
    "\n",
    "A Pandas Series is like a column in a table. It is a 1-D array holding data of any type."
   ]
  },
  {
   "cell_type": "markdown",
   "metadata": {
    "id": "3hwTOkrbPMjE"
   },
   "source": [
    "### Importing Pandas"
   ]
  },
  {
   "cell_type": "code",
   "execution_count": 1,
   "metadata": {
    "id": "QWWCrofyPM7J"
   },
   "outputs": [],
   "source": [
    "import numpy as np\n",
    "import pandas as pd"
   ]
  },
  {
   "cell_type": "markdown",
   "metadata": {
    "id": "uU-Ms_To_FG1"
   },
   "source": [
    "### Series from lists"
   ]
  },
  {
   "cell_type": "code",
   "execution_count": 3,
   "metadata": {
    "colab": {
     "base_uri": "https://localhost:8080/"
    },
    "id": "KYk9Gta7_G38",
    "outputId": "45f1b6c8-44ec-4081-d59e-d7139682da3e"
   },
   "outputs": [
    {
     "data": {
      "text/plain": [
       "0       India\n",
       "1    Pakistan\n",
       "2         USA\n",
       "3       Nepal\n",
       "4    Srilanka\n",
       "dtype: object"
      ]
     },
     "execution_count": 3,
     "metadata": {},
     "output_type": "execute_result"
    }
   ],
   "source": [
    "# string\n",
    "country = ['India','Pakistan','USA','Nepal','Srilanka']\n",
    "pd.Series(country)"
   ]
  },
  {
   "cell_type": "code",
   "execution_count": 8,
   "metadata": {},
   "outputs": [
    {
     "data": {
      "text/plain": [
       "0    10\n",
       "1    20\n",
       "2    30\n",
       "3    40\n",
       "4    50\n",
       "5    60\n",
       "6    70\n",
       "7    80\n",
       "8    90\n",
       "dtype: int32"
      ]
     },
     "execution_count": 8,
     "metadata": {},
     "output_type": "execute_result"
    }
   ],
   "source": [
    "nums = np.arange(10,100,10)\n",
    "pd.Series(nums)"
   ]
  },
  {
   "cell_type": "code",
   "execution_count": 9,
   "metadata": {
    "id": "h_Wgimpg_Idl"
   },
   "outputs": [],
   "source": [
    "# integers\n",
    "runs = [13,24,56,78,100]\n",
    "\n",
    "runs_ser = pd.Series(runs)"
   ]
  },
  {
   "cell_type": "code",
   "execution_count": 21,
   "metadata": {},
   "outputs": [],
   "source": [
    "# Numbers\n",
    "Price = [10,45,80,160,120]\n",
    "Items = [\"Water Bottle\",\"Sugar\",\"Rice\",\"Vegetable oil\",\"Moong Dal\"]\n",
    "\n",
    "Items = pd.Series(Price,index = Items)"
   ]
  },
  {
   "cell_type": "code",
   "execution_count": 12,
   "metadata": {
    "colab": {
     "base_uri": "https://localhost:8080/"
    },
    "id": "CJgHbnepH_EX",
    "outputId": "b1de62df-903c-4e66-d67b-976425039f17"
   },
   "outputs": [
    {
     "data": {
      "text/plain": [
       "maths       67\n",
       "english     57\n",
       "science     89\n",
       "hindi      100\n",
       "dtype: int64"
      ]
     },
     "execution_count": 12,
     "metadata": {},
     "output_type": "execute_result"
    }
   ],
   "source": [
    "# custom index\n",
    "marks = [67,57,89,100]\n",
    "subjects = ['maths','english','science','hindi']\n",
    "\n",
    "pd.Series(marks,index=subjects)"
   ]
  },
  {
   "cell_type": "code",
   "execution_count": 13,
   "metadata": {
    "colab": {
     "base_uri": "https://localhost:8080/"
    },
    "id": "zcjykyJVKgWs",
    "outputId": "26c2aee7-42c8-4aa2-a854-e436cfbb24b9"
   },
   "outputs": [
    {
     "data": {
      "text/plain": [
       "maths       67\n",
       "english     57\n",
       "science     89\n",
       "hindi      100\n",
       "Name: Nitish ke marks, dtype: int64"
      ]
     },
     "execution_count": 13,
     "metadata": {},
     "output_type": "execute_result"
    }
   ],
   "source": [
    "# setting a name\n",
    "marks = pd.Series(marks,index=subjects,name='Nitish ke marks')\n",
    "marks"
   ]
  },
  {
   "cell_type": "markdown",
   "metadata": {
    "id": "gw4NHrWf_Km3"
   },
   "source": [
    "### Series from dict"
   ]
  },
  {
   "cell_type": "code",
   "execution_count": 15,
   "metadata": {
    "colab": {
     "base_uri": "https://localhost:8080/"
    },
    "id": "Sz9B_oPy_RMX",
    "outputId": "d03fa978-2e6b-4098-af75-a7471deaf464"
   },
   "outputs": [
    {
     "data": {
      "text/plain": [
       "maths       67\n",
       "english     57\n",
       "science     89\n",
       "hindi      100\n",
       "Name: Chotu's marks, dtype: int64"
      ]
     },
     "execution_count": 15,
     "metadata": {},
     "output_type": "execute_result"
    }
   ],
   "source": [
    "marks = {\n",
    "    'maths':67,\n",
    "    'english':57,\n",
    "    'science':89,\n",
    "    'hindi':100\n",
    "}\n",
    "\n",
    "marks_series = pd.Series(marks,name=\"Chotu's marks\")\n",
    "marks_series"
   ]
  },
  {
   "cell_type": "markdown",
   "metadata": {
    "id": "MDSIDfei_Szi"
   },
   "source": [
    "### Series Attributes"
   ]
  },
  {
   "cell_type": "code",
   "execution_count": 16,
   "metadata": {
    "colab": {
     "base_uri": "https://localhost:8080/"
    },
    "id": "0_eqjw1u_lG_",
    "outputId": "5d0a82ad-78c1-4d70-cca3-55f0324362ea"
   },
   "outputs": [
    {
     "data": {
      "text/plain": [
       "4"
      ]
     },
     "execution_count": 16,
     "metadata": {},
     "output_type": "execute_result"
    }
   ],
   "source": [
    "# size\n",
    "marks_series.size"
   ]
  },
  {
   "cell_type": "code",
   "execution_count": 17,
   "metadata": {
    "colab": {
     "base_uri": "https://localhost:8080/"
    },
    "id": "nYpNWJhWGyqa",
    "outputId": "36ce60d5-efc7-4ca5-80e6-f4cbc723e46f"
   },
   "outputs": [
    {
     "data": {
      "text/plain": [
       "dtype('int64')"
      ]
     },
     "execution_count": 17,
     "metadata": {},
     "output_type": "execute_result"
    }
   ],
   "source": [
    "# dtype\n",
    "marks_series.dtype"
   ]
  },
  {
   "cell_type": "code",
   "execution_count": 18,
   "metadata": {
    "colab": {
     "base_uri": "https://localhost:8080/",
     "height": 36
    },
    "id": "ImBy24CkKkZP",
    "outputId": "c78dbc63-c3c0-48a5-b516-b84bf619fe82"
   },
   "outputs": [
    {
     "data": {
      "text/plain": [
       "\"Chotu's marks\""
      ]
     },
     "execution_count": 18,
     "metadata": {},
     "output_type": "execute_result"
    }
   ],
   "source": [
    "# name\n",
    "marks_series.name"
   ]
  },
  {
   "cell_type": "code",
   "execution_count": 19,
   "metadata": {
    "colab": {
     "base_uri": "https://localhost:8080/"
    },
    "id": "UsNGB2rCF9V-",
    "outputId": "a9dcd91d-fc74-4947-a536-ad99af92ac02"
   },
   "outputs": [
    {
     "data": {
      "text/plain": [
       "False"
      ]
     },
     "execution_count": 19,
     "metadata": {},
     "output_type": "execute_result"
    }
   ],
   "source": [
    "# is_unique\n",
    "marks_series.is_unique\n",
    "\n",
    "pd.Series([1,1,2,3,4,5]).is_unique"
   ]
  },
  {
   "cell_type": "code",
   "execution_count": 20,
   "metadata": {
    "colab": {
     "base_uri": "https://localhost:8080/"
    },
    "id": "VLB00Z-vGBHL",
    "outputId": "f49ea31d-92d4-453a-c649-990f6b630420"
   },
   "outputs": [
    {
     "data": {
      "text/plain": [
       "Index(['maths', 'english', 'science', 'hindi'], dtype='object')"
      ]
     },
     "execution_count": 20,
     "metadata": {},
     "output_type": "execute_result"
    }
   ],
   "source": [
    "# index\n",
    "marks_series.index"
   ]
  },
  {
   "cell_type": "code",
   "execution_count": 22,
   "metadata": {},
   "outputs": [
    {
     "data": {
      "text/plain": [
       "Index(['Water Bottle', 'Sugar', 'Rice', 'Vegetable oil', 'Moong Dal'], dtype='object')"
      ]
     },
     "execution_count": 22,
     "metadata": {},
     "output_type": "execute_result"
    }
   ],
   "source": [
    "Items.index"
   ]
  },
  {
   "cell_type": "code",
   "execution_count": 26,
   "metadata": {},
   "outputs": [
    {
     "data": {
      "text/plain": [
       "array([ 10,  45,  80, 160, 120], dtype=int64)"
      ]
     },
     "execution_count": 26,
     "metadata": {},
     "output_type": "execute_result"
    }
   ],
   "source": [
    "Items.values"
   ]
  },
  {
   "cell_type": "code",
   "execution_count": 23,
   "metadata": {
    "colab": {
     "base_uri": "https://localhost:8080/"
    },
    "id": "MJ1HXX2H_Mhu",
    "outputId": "88818e3c-8a1a-4d7e-b5e3-50d7bd411fa0"
   },
   "outputs": [
    {
     "data": {
      "text/plain": [
       "RangeIndex(start=0, stop=5, step=1)"
      ]
     },
     "execution_count": 23,
     "metadata": {},
     "output_type": "execute_result"
    }
   ],
   "source": [
    "runs_ser.index"
   ]
  },
  {
   "cell_type": "code",
   "execution_count": 24,
   "metadata": {
    "colab": {
     "base_uri": "https://localhost:8080/"
    },
    "id": "PmE8l3SKGDbl",
    "outputId": "90d0daf7-580a-4def-9c42-f34a8ee9ca6a"
   },
   "outputs": [
    {
     "data": {
      "text/plain": [
       "array([ 67,  57,  89, 100], dtype=int64)"
      ]
     },
     "execution_count": 24,
     "metadata": {},
     "output_type": "execute_result"
    }
   ],
   "source": [
    "# values\n",
    "marks_series.values"
   ]
  },
  {
   "cell_type": "markdown",
   "metadata": {
    "id": "UCP7I0t_KMID"
   },
   "source": [
    "### Series using read_csv"
   ]
  },
  {
   "cell_type": "code",
   "execution_count": 43,
   "metadata": {
    "colab": {
     "base_uri": "https://localhost:8080/"
    },
    "id": "r2FWTRoBGEk5",
    "outputId": "8a160aa3-095c-4602-b4ca-2edcfaf3d13b"
   },
   "outputs": [
    {
     "name": "stderr",
     "output_type": "stream",
     "text": [
      "C:\\Users\\RISHAB~1\\AppData\\Local\\Temp/ipykernel_21272/520158827.py:2: FutureWarning: The squeeze argument has been deprecated and will be removed in a future version. Append .squeeze(\"columns\") to the call to squeeze.\n",
      "\n",
      "\n",
      "  subs = pd.read_csv('subs.csv',squeeze=True)\n"
     ]
    },
    {
     "data": {
      "text/plain": [
       "0       48\n",
       "1       57\n",
       "2       40\n",
       "3       43\n",
       "4       44\n",
       "      ... \n",
       "360    231\n",
       "361    226\n",
       "362    155\n",
       "363    144\n",
       "364    172\n",
       "Name: Subscribers gained, Length: 365, dtype: int64"
      ]
     },
     "execution_count": 43,
     "metadata": {},
     "output_type": "execute_result"
    }
   ],
   "source": [
    "# with one col\n",
    "subs = pd.read_csv('subs.csv',squeeze=True)\n",
    "#type(subs)\n",
    "subs"
   ]
  },
  {
   "cell_type": "code",
   "execution_count": 78,
   "metadata": {
    "colab": {
     "base_uri": "https://localhost:8080/"
    },
    "id": "a6Y3bq4TOniT",
    "outputId": "f919b599-9e23-423b-c42c-a468999ad3f6"
   },
   "outputs": [
    {
     "name": "stderr",
     "output_type": "stream",
     "text": [
      "C:\\Users\\RISHAB~1\\AppData\\Local\\Temp/ipykernel_21272/727099308.py:2: FutureWarning: The squeeze argument has been deprecated and will be removed in a future version. Append .squeeze(\"columns\") to the call to squeeze.\n",
      "\n",
      "\n",
      "  vk = pd.read_csv('kohli_ipl.csv',index_col='match_no',squeeze=True)\n"
     ]
    },
    {
     "data": {
      "text/plain": [
       "match_no\n",
       "1       1\n",
       "2      23\n",
       "3      13\n",
       "4      12\n",
       "5       1\n",
       "       ..\n",
       "211     0\n",
       "212    20\n",
       "213    73\n",
       "214    25\n",
       "215     7\n",
       "Name: runs, Length: 215, dtype: int64"
      ]
     },
     "execution_count": 78,
     "metadata": {},
     "output_type": "execute_result"
    }
   ],
   "source": [
    "# with 2 cols\n",
    "vk = pd.read_csv('kohli_ipl.csv',index_col='match_no',squeeze=True)\n",
    "vk"
   ]
  },
  {
   "cell_type": "code",
   "execution_count": 47,
   "metadata": {
    "colab": {
     "base_uri": "https://localhost:8080/"
    },
    "id": "v34r_I_82dwZ",
    "outputId": "ab5f9a30-d9f1-4532-fbc8-a8b792107b80"
   },
   "outputs": [
    {
     "name": "stderr",
     "output_type": "stream",
     "text": [
      "C:\\Users\\RISHAB~1\\AppData\\Local\\Temp/ipykernel_21272/3398216118.py:1: FutureWarning: The squeeze argument has been deprecated and will be removed in a future version. Append .squeeze(\"columns\") to the call to squeeze.\n",
      "\n",
      "\n",
      "  movies = pd.read_csv('bollywood.csv',index_col='movie',squeeze=True)\n"
     ]
    },
    {
     "data": {
      "text/plain": [
       "movie\n",
       "Uri: The Surgical Strike                   Vicky Kaushal\n",
       "Battalion 609                                Vicky Ahuja\n",
       "The Accidental Prime Minister (film)         Anupam Kher\n",
       "Why Cheat India                            Emraan Hashmi\n",
       "Evening Shadows                         Mona Ambegaonkar\n",
       "                                              ...       \n",
       "Hum Tumhare Hain Sanam                    Shah Rukh Khan\n",
       "Aankhen (2002 film)                     Amitabh Bachchan\n",
       "Saathiya (film)                             Vivek Oberoi\n",
       "Company (film)                                Ajay Devgn\n",
       "Awara Paagal Deewana                        Akshay Kumar\n",
       "Name: lead, Length: 1500, dtype: object"
      ]
     },
     "execution_count": 47,
     "metadata": {},
     "output_type": "execute_result"
    }
   ],
   "source": [
    "movies = pd.read_csv('bollywood.csv',index_col='movie',squeeze=True)\n",
    "movies"
   ]
  },
  {
   "cell_type": "markdown",
   "metadata": {
    "id": "taKAApMTLJkG"
   },
   "source": [
    "### Series methods"
   ]
  },
  {
   "cell_type": "code",
   "execution_count": 48,
   "metadata": {
    "colab": {
     "base_uri": "https://localhost:8080/"
    },
    "id": "Lt-l4sM_LLsH",
    "outputId": "ce63f92e-7d0c-46b1-f64c-92afa28cd1c3"
   },
   "outputs": [
    {
     "data": {
      "text/plain": [
       "0    48\n",
       "1    57\n",
       "2    40\n",
       "3    43\n",
       "4    44\n",
       "Name: Subscribers gained, dtype: int64"
      ]
     },
     "execution_count": 48,
     "metadata": {},
     "output_type": "execute_result"
    }
   ],
   "source": [
    "# head and tail\n",
    "subs.head()"
   ]
  },
  {
   "cell_type": "code",
   "execution_count": 79,
   "metadata": {
    "colab": {
     "base_uri": "https://localhost:8080/"
    },
    "id": "dvZrPaR-DiKT",
    "outputId": "88925c9f-a86a-4fd7-aec8-fcb8dfc9ad45"
   },
   "outputs": [
    {
     "data": {
      "text/plain": [
       "match_no\n",
       "1      1\n",
       "2     23\n",
       "3     13\n",
       "4     12\n",
       "5      1\n",
       "6      9\n",
       "7     34\n",
       "8      0\n",
       "9     21\n",
       "10     3\n",
       "Name: runs, dtype: int64"
      ]
     },
     "execution_count": 79,
     "metadata": {},
     "output_type": "execute_result"
    }
   ],
   "source": [
    "vk.head(10)"
   ]
  },
  {
   "cell_type": "code",
   "execution_count": 80,
   "metadata": {
    "colab": {
     "base_uri": "https://localhost:8080/"
    },
    "id": "S5St_OwODto7",
    "outputId": "1748a142-3854-4f8f-c7ec-54c0268859e8"
   },
   "outputs": [
    {
     "data": {
      "text/plain": [
       "match_no\n",
       "212    20\n",
       "213    73\n",
       "214    25\n",
       "215     7\n",
       "Name: runs, dtype: int64"
      ]
     },
     "execution_count": 80,
     "metadata": {},
     "output_type": "execute_result"
    }
   ],
   "source": [
    "vk.tail(4)"
   ]
  },
  {
   "cell_type": "code",
   "execution_count": 60,
   "metadata": {
    "colab": {
     "base_uri": "https://localhost:8080/"
    },
    "id": "COKh4XYBLqT3",
    "outputId": "7294bf7c-0f1d-46c6-885a-7b993f2a9551"
   },
   "outputs": [
    {
     "data": {
      "text/plain": [
       "movie\n",
       "The Last Lear                  Amitabh Bachchan\n",
       "Khamoshiyan                   Gurmeet Choudhary\n",
       "Mubarakan                           Anil Kapoor\n",
       "From Sydney with Love                Bidita Bag\n",
       "Happy New Year (2014 film)       Shah Rukh Khan\n",
       "Name: lead, dtype: object"
      ]
     },
     "execution_count": 60,
     "metadata": {},
     "output_type": "execute_result"
    }
   ],
   "source": [
    "# sample\n",
    "movies.sample(5)"
   ]
  },
  {
   "cell_type": "code",
   "execution_count": 66,
   "metadata": {},
   "outputs": [
    {
     "data": {
      "text/plain": [
       "Akshay Kumar        48\n",
       "Amitabh Bachchan    45\n",
       "Ajay Devgn          38\n",
       "Salman Khan         31\n",
       "Sanjay Dutt         26\n",
       "                    ..\n",
       "Diganth              1\n",
       "Parveen Kaur         1\n",
       "Seema Azmi           1\n",
       "Akanksha Puri        1\n",
       "Edwin Fernandes      1\n",
       "Name: lead, Length: 566, dtype: int64"
      ]
     },
     "execution_count": 66,
     "metadata": {},
     "output_type": "execute_result"
    }
   ],
   "source": [
    "# value_counts -> movies\n",
    "movies.value_counts()"
   ]
  },
  {
   "cell_type": "code",
   "execution_count": 71,
   "metadata": {
    "colab": {
     "base_uri": "https://localhost:8080/"
    },
    "id": "vzMt0ZOPMgpO",
    "outputId": "17bd1ba3-ad6b-46cb-b6f8-1fac73474e74"
   },
   "outputs": [
    {
     "data": {
      "text/plain": [
       "113"
      ]
     },
     "execution_count": 71,
     "metadata": {},
     "output_type": "execute_result"
    }
   ],
   "source": [
    "# sort_values -> inplace\n",
    "vk.sort_values(ascending=False)\n",
    "vk.sort_values(ascending=False).head(1).values[0]"
   ]
  },
  {
   "cell_type": "code",
   "execution_count": 72,
   "metadata": {
    "colab": {
     "base_uri": "https://localhost:8080/"
    },
    "id": "5Psr0lEwGE2i",
    "outputId": "537ab14a-c922-4eeb-a8c7-ee7c057e1e11"
   },
   "outputs": [
    {
     "data": {
      "text/plain": [
       "match_no\n",
       "128    113\n",
       "126    109\n",
       "123    108\n",
       "164    100\n",
       "120    100\n",
       "      ... \n",
       "93       0\n",
       "211      0\n",
       "130      0\n",
       "8        0\n",
       "135      0\n",
       "Name: runs, Length: 215, dtype: int64"
      ]
     },
     "execution_count": 72,
     "metadata": {},
     "output_type": "execute_result"
    }
   ],
   "source": [
    "vk.sort_values(ascending=False)"
   ]
  },
  {
   "cell_type": "code",
   "execution_count": 73,
   "metadata": {
    "id": "Z0t20LmCNZVi"
   },
   "outputs": [],
   "source": [
    "# sort_index -> inplace -> movies\n",
    "movies.sort_index(ascending=False,inplace=True)"
   ]
  },
  {
   "cell_type": "code",
   "execution_count": 74,
   "metadata": {
    "colab": {
     "base_uri": "https://localhost:8080/"
    },
    "id": "pyFYColfG3LP",
    "outputId": "47ee4f49-d3c1-4936-e23c-483a5b2544de"
   },
   "outputs": [
    {
     "data": {
      "text/plain": [
       "movie\n",
       "Zor Lagaa Ke...Haiya!            Meghan Jadhav\n",
       "Zokkomon                       Darsheel Safary\n",
       "Zindagi Tere Naam           Mithun Chakraborty\n",
       "Zindagi Na Milegi Dobara        Hrithik Roshan\n",
       "Zindagi 50-50                      Veena Malik\n",
       "                                   ...        \n",
       "2 States (2014 film)              Arjun Kapoor\n",
       "1971 (2007 film)                Manoj Bajpayee\n",
       "1920: The Evil Returns             Vicky Ahuja\n",
       "1920: London                     Sharman Joshi\n",
       "1920 (film)                   Rajniesh Duggall\n",
       "Name: lead, Length: 1500, dtype: object"
      ]
     },
     "execution_count": 74,
     "metadata": {},
     "output_type": "execute_result"
    }
   ],
   "source": [
    "movies"
   ]
  },
  {
   "cell_type": "code",
   "execution_count": 75,
   "metadata": {
    "id": "XwHA77x2GJtb"
   },
   "outputs": [],
   "source": [
    "#vk.sort_values(inplace=True)"
   ]
  },
  {
   "cell_type": "code",
   "execution_count": 81,
   "metadata": {
    "colab": {
     "base_uri": "https://localhost:8080/"
    },
    "id": "44qVilrDGWCK",
    "outputId": "98dc5995-4849-4450-c089-06558ac4f48d"
   },
   "outputs": [
    {
     "data": {
      "text/plain": [
       "match_no\n",
       "1       1\n",
       "2      23\n",
       "3      13\n",
       "4      12\n",
       "5       1\n",
       "       ..\n",
       "211     0\n",
       "212    20\n",
       "213    73\n",
       "214    25\n",
       "215     7\n",
       "Name: runs, Length: 215, dtype: int64"
      ]
     },
     "execution_count": 81,
     "metadata": {},
     "output_type": "execute_result"
    }
   ],
   "source": [
    "vk"
   ]
  },
  {
   "cell_type": "markdown",
   "metadata": {
    "id": "58RZWU44Tj_U"
   },
   "source": [
    "### Series Maths Methods"
   ]
  },
  {
   "cell_type": "code",
   "execution_count": null,
   "metadata": {
    "colab": {
     "base_uri": "https://localhost:8080/"
    },
    "id": "6GzHd8BPToFa",
    "outputId": "c2aa9e18-2ec0-49c5-ab62-61928d1068e3"
   },
   "outputs": [
    {
     "data": {
      "text/plain": [
       "215"
      ]
     },
     "execution_count": 77,
     "metadata": {},
     "output_type": "execute_result"
    }
   ],
   "source": [
    "# count\n",
    "vk.count()"
   ]
  },
  {
   "cell_type": "code",
   "execution_count": null,
   "metadata": {
    "colab": {
     "base_uri": "https://localhost:8080/"
    },
    "id": "QAUr7vxtTrAU",
    "outputId": "b63afaa2-bf2f-409b-bd54-db2865c9d4fa"
   },
   "outputs": [
    {
     "data": {
      "text/plain": [
       "49510"
      ]
     },
     "execution_count": 81,
     "metadata": {},
     "output_type": "execute_result"
    }
   ],
   "source": [
    "# sum \n",
    "subs.sum()"
   ]
  },
  {
   "cell_type": "code",
   "execution_count": 95,
   "metadata": {},
   "outputs": [
    {
     "data": {
      "text/plain": [
       "0"
      ]
     },
     "execution_count": 95,
     "metadata": {},
     "output_type": "execute_result"
    }
   ],
   "source": [
    "# product\n",
    "subs.prod()"
   ]
  },
  {
   "cell_type": "code",
   "execution_count": 84,
   "metadata": {
    "colab": {
     "base_uri": "https://localhost:8080/"
    },
    "id": "q1pRRhmdTrM0",
    "outputId": "7b4c758a-12b6-452a-bc22-d2c1a9a8ce46"
   },
   "outputs": [
    {
     "data": {
      "text/plain": [
       "135.64383561643837"
      ]
     },
     "execution_count": 84,
     "metadata": {},
     "output_type": "execute_result"
    }
   ],
   "source": [
    "# Mean \n",
    "subs.mean()"
   ]
  },
  {
   "cell_type": "code",
   "execution_count": 83,
   "metadata": {},
   "outputs": [
    {
     "data": {
      "text/plain": [
       "123.0"
      ]
     },
     "execution_count": 83,
     "metadata": {},
     "output_type": "execute_result"
    }
   ],
   "source": [
    "# Median\n",
    "subs.median()"
   ]
  },
  {
   "cell_type": "code",
   "execution_count": 86,
   "metadata": {},
   "outputs": [
    {
     "name": "stdout",
     "output_type": "stream",
     "text": [
      "0    105\n",
      "Name: Subscribers gained, dtype: int64\n"
     ]
    },
    {
     "data": {
      "text/plain": [
       "0    Akshay Kumar\n",
       "Name: lead, dtype: object"
      ]
     },
     "execution_count": 86,
     "metadata": {},
     "output_type": "execute_result"
    }
   ],
   "source": [
    "print(subs.mode())\n",
    "movies.mode()"
   ]
  },
  {
   "cell_type": "code",
   "execution_count": 94,
   "metadata": {},
   "outputs": [
    {
     "data": {
      "text/plain": [
       "62.6750230372527"
      ]
     },
     "execution_count": 94,
     "metadata": {},
     "output_type": "execute_result"
    }
   ],
   "source": [
    "# std\n",
    "subs.std()"
   ]
  },
  {
   "cell_type": "code",
   "execution_count": 97,
   "metadata": {
    "colab": {
     "base_uri": "https://localhost:8080/"
    },
    "id": "L64dQIXJTrXF",
    "outputId": "54e6f3fa-e75f-4382-8c02-d9ba8466285a"
   },
   "outputs": [
    {
     "data": {
      "text/plain": [
       "33"
      ]
     },
     "execution_count": 97,
     "metadata": {},
     "output_type": "execute_result"
    }
   ],
   "source": [
    "# min\n",
    "subs.min()"
   ]
  },
  {
   "cell_type": "code",
   "execution_count": 98,
   "metadata": {},
   "outputs": [
    {
     "data": {
      "text/plain": [
       "396"
      ]
     },
     "execution_count": 98,
     "metadata": {},
     "output_type": "execute_result"
    }
   ],
   "source": [
    "# max\n",
    "subs.max()"
   ]
  },
  {
   "cell_type": "code",
   "execution_count": 99,
   "metadata": {
    "colab": {
     "base_uri": "https://localhost:8080/"
    },
    "id": "SAvniKCuUB_J",
    "outputId": "c7f46902-52e5-4c1e-d0ac-bbe31850d37e"
   },
   "outputs": [
    {
     "data": {
      "text/plain": [
       "count    365.000000\n",
       "mean     135.643836\n",
       "std       62.675023\n",
       "min       33.000000\n",
       "25%       88.000000\n",
       "50%      123.000000\n",
       "75%      177.000000\n",
       "max      396.000000\n",
       "Name: Subscribers gained, dtype: float64"
      ]
     },
     "execution_count": 99,
     "metadata": {},
     "output_type": "execute_result"
    }
   ],
   "source": [
    "# describe\n",
    "subs.describe()"
   ]
  },
  {
   "cell_type": "markdown",
   "metadata": {
    "id": "Cz12N8YKP-h8"
   },
   "source": [
    "### Series Indexing"
   ]
  },
  {
   "cell_type": "code",
   "execution_count": 100,
   "metadata": {
    "colab": {
     "base_uri": "https://localhost:8080/"
    },
    "id": "VXMiwNgAQA4V",
    "outputId": "2dc567ed-8548-4a68-df9e-91a0842bced4"
   },
   "outputs": [
    {
     "data": {
      "text/plain": [
       "0    12\n",
       "1    13\n",
       "2    14\n",
       "3    35\n",
       "4    46\n",
       "5    57\n",
       "6    58\n",
       "7    79\n",
       "8     9\n",
       "dtype: int64"
      ]
     },
     "execution_count": 100,
     "metadata": {},
     "output_type": "execute_result"
    }
   ],
   "source": [
    "# integer indexing\n",
    "x = pd.Series([12,13,14,35,46,57,58,79,9])\n",
    "x"
   ]
  },
  {
   "cell_type": "code",
   "execution_count": 105,
   "metadata": {
    "colab": {
     "base_uri": "https://localhost:8080/",
     "height": 444
    },
    "id": "uL2i-qNuQ6t8",
    "outputId": "1a52fb86-819d-4470-fc88-dd67ce00c577"
   },
   "outputs": [
    {
     "data": {
      "text/plain": [
       "13"
      ]
     },
     "execution_count": 105,
     "metadata": {},
     "output_type": "execute_result"
    }
   ],
   "source": [
    "# negative indexing\n",
    "x[1]"
   ]
  },
  {
   "cell_type": "code",
   "execution_count": 107,
   "metadata": {
    "colab": {
     "base_uri": "https://localhost:8080/"
    },
    "id": "9BKWa4-fKugd",
    "outputId": "3d9fbab1-9295-4307-be08-e9574d3d267d"
   },
   "outputs": [
    {
     "data": {
      "text/plain": [
       "'Darsheel Safary'"
      ]
     },
     "execution_count": 107,
     "metadata": {},
     "output_type": "execute_result"
    }
   ],
   "source": [
    "movies['Zokkomon']"
   ]
  },
  {
   "cell_type": "code",
   "execution_count": 110,
   "metadata": {
    "colab": {
     "base_uri": "https://localhost:8080/",
     "height": 515
    },
    "id": "UdfXS16jLVIo",
    "outputId": "7adcf453-a4a2-4984-a2a3-de2090e035f4"
   },
   "outputs": [
    {
     "data": {
      "text/plain": [
       "120"
      ]
     },
     "execution_count": 110,
     "metadata": {},
     "output_type": "execute_result"
    }
   ],
   "source": [
    "Items[-1]"
   ]
  },
  {
   "cell_type": "code",
   "execution_count": 120,
   "metadata": {},
   "outputs": [
    {
     "data": {
      "text/plain": [
       "match_no\n",
       "1      1\n",
       "2     23\n",
       "3     13\n",
       "4     12\n",
       "5      1\n",
       "6      9\n",
       "7     34\n",
       "8      0\n",
       "9     21\n",
       "10     3\n",
       "Name: runs, dtype: int64"
      ]
     },
     "execution_count": 120,
     "metadata": {},
     "output_type": "execute_result"
    }
   ],
   "source": [
    "vk[:10]"
   ]
  },
  {
   "cell_type": "code",
   "execution_count": 122,
   "metadata": {
    "colab": {
     "base_uri": "https://localhost:8080/"
    },
    "id": "Liu7rQJbQ9GW",
    "outputId": "c205b3f2-e431-4e2c-8a52-57b701b806e7"
   },
   "outputs": [
    {
     "data": {
      "text/plain": [
       "match_no\n",
       "211     0\n",
       "212    20\n",
       "213    73\n",
       "214    25\n",
       "215     7\n",
       "Name: runs, dtype: int64"
      ]
     },
     "execution_count": 122,
     "metadata": {},
     "output_type": "execute_result"
    }
   ],
   "source": [
    "# negative slicing\n",
    "vk[-5:]"
   ]
  },
  {
   "cell_type": "code",
   "execution_count": 121,
   "metadata": {},
   "outputs": [
    {
     "data": {
      "text/plain": [
       "match_no\n",
       "1       1\n",
       "3      13\n",
       "5       1\n",
       "7      34\n",
       "9      21\n",
       "       ..\n",
       "207     0\n",
       "209    58\n",
       "211     0\n",
       "213    73\n",
       "215     7\n",
       "Name: runs, Length: 108, dtype: int64"
      ]
     },
     "execution_count": 121,
     "metadata": {},
     "output_type": "execute_result"
    }
   ],
   "source": [
    "vk[::2]"
   ]
  },
  {
   "cell_type": "code",
   "execution_count": 123,
   "metadata": {
    "colab": {
     "base_uri": "https://localhost:8080/"
    },
    "id": "BE4kLq1vMSes",
    "outputId": "ff5de4e4-5b80-484c-9241-72de04792aa8"
   },
   "outputs": [
    {
     "data": {
      "text/plain": [
       "movie\n",
       "Zor Lagaa Ke...Haiya!              Meghan Jadhav\n",
       "Zid (2014 film)                   Mannara Chopra\n",
       "Yuva                                  Ajay Devgn\n",
       "Yeh Hai India                       Gavie Chahal\n",
       "Yadvi – The Dignified Princess      Prisha Aneja\n",
       "                                       ...      \n",
       "Aakhari Decision                      Paul Sidhu\n",
       "ABCD 2                               Prabhu Deva\n",
       "88 Antop Hill                      Atul Kulkarni\n",
       "36 China Town                     Akshaye Khanna\n",
       "1971 (2007 film)                  Manoj Bajpayee\n",
       "Name: lead, Length: 188, dtype: object"
      ]
     },
     "execution_count": 123,
     "metadata": {},
     "output_type": "execute_result"
    }
   ],
   "source": [
    "movies[::8]"
   ]
  },
  {
   "cell_type": "code",
   "execution_count": 112,
   "metadata": {
    "colab": {
     "base_uri": "https://localhost:8080/"
    },
    "id": "QjB-8CydQA_W",
    "outputId": "9bcace4d-f461-4a12-83f4-ebc6d620d943"
   },
   "outputs": [
    {
     "data": {
      "text/plain": [
       "match_no\n",
       "1     1\n",
       "3    13\n",
       "4    12\n",
       "5     1\n",
       "Name: runs, dtype: int64"
      ]
     },
     "execution_count": 112,
     "metadata": {},
     "output_type": "execute_result"
    }
   ],
   "source": [
    "# fancy indexing\n",
    "vk[[1,3,4,5]]"
   ]
  },
  {
   "cell_type": "code",
   "execution_count": 124,
   "metadata": {
    "colab": {
     "base_uri": "https://localhost:8080/",
     "height": 36
    },
    "id": "m4y-6vjTQBCP",
    "outputId": "0da130b4-7e28-457e-884c-9be1ca736d26"
   },
   "outputs": [
    {
     "data": {
      "text/plain": [
       "'Arjun Kapoor'"
      ]
     },
     "execution_count": 124,
     "metadata": {},
     "output_type": "execute_result"
    }
   ],
   "source": [
    "# indexing with labels -> fancy indexing\n",
    "movies['2 States (2014 film)']"
   ]
  },
  {
   "cell_type": "markdown",
   "metadata": {
    "id": "NFElpr-tR5en"
   },
   "source": [
    "### Editing Series"
   ]
  },
  {
   "cell_type": "code",
   "execution_count": 125,
   "metadata": {
    "colab": {
     "base_uri": "https://localhost:8080/"
    },
    "id": "bMaxSAmfR8JQ",
    "outputId": "15df7b1b-d1f4-42dd-c6ac-d155afd18b0e"
   },
   "outputs": [
    {
     "data": {
      "text/plain": [
       "maths       67\n",
       "english    100\n",
       "science     89\n",
       "hindi      100\n",
       "Name: Chotu's marks, dtype: int64"
      ]
     },
     "execution_count": 125,
     "metadata": {},
     "output_type": "execute_result"
    }
   ],
   "source": [
    "# using indexing\n",
    "marks_series[1] = 100\n",
    "marks_series"
   ]
  },
  {
   "cell_type": "code",
   "execution_count": 126,
   "metadata": {
    "id": "p2sikMnPR8MU"
   },
   "outputs": [],
   "source": [
    "# what if an index does not exist\n",
    "marks_series['evs'] = 100"
   ]
  },
  {
   "cell_type": "code",
   "execution_count": 127,
   "metadata": {
    "colab": {
     "base_uri": "https://localhost:8080/"
    },
    "id": "rmwOXl0yNjA6",
    "outputId": "66228db5-7b15-46b0-e5d8-8fc97ecee7dd"
   },
   "outputs": [
    {
     "data": {
      "text/plain": [
       "maths       67\n",
       "english    100\n",
       "science     89\n",
       "hindi      100\n",
       "evs        100\n",
       "Name: Chotu's marks, dtype: int64"
      ]
     },
     "execution_count": 127,
     "metadata": {},
     "output_type": "execute_result"
    }
   ],
   "source": [
    "marks_series"
   ]
  },
  {
   "cell_type": "code",
   "execution_count": 128,
   "metadata": {
    "colab": {
     "base_uri": "https://localhost:8080/"
    },
    "id": "bsvV3kz0R8Ps",
    "outputId": "2b6e97f9-2374-4f6e-f832-146eb3339f99"
   },
   "outputs": [
    {
     "data": {
      "text/plain": [
       "0     13\n",
       "1     24\n",
       "2    100\n",
       "3    100\n",
       "4    100\n",
       "dtype: int64"
      ]
     },
     "execution_count": 128,
     "metadata": {},
     "output_type": "execute_result"
    }
   ],
   "source": [
    "# slicing\n",
    "runs_ser[2:4] = [100,100]\n",
    "runs_ser"
   ]
  },
  {
   "cell_type": "code",
   "execution_count": 129,
   "metadata": {
    "colab": {
     "base_uri": "https://localhost:8080/"
    },
    "id": "UbXMK59FSJp7",
    "outputId": "75f69728-d376-468f-8843-604f4454ea6c"
   },
   "outputs": [
    {
     "data": {
      "text/plain": [
       "0      0\n",
       "1     24\n",
       "2    100\n",
       "3      0\n",
       "4      0\n",
       "dtype: int64"
      ]
     },
     "execution_count": 129,
     "metadata": {},
     "output_type": "execute_result"
    }
   ],
   "source": [
    "# fancy indexing\n",
    "runs_ser[[0,3,4]] = [0,0,0]\n",
    "runs_ser"
   ]
  },
  {
   "cell_type": "code",
   "execution_count": 130,
   "metadata": {
    "colab": {
     "base_uri": "https://localhost:8080/"
    },
    "id": "D1gyqD5bSa_1",
    "outputId": "56b096fb-686b-4240-8b0f-c07de0e34e53"
   },
   "outputs": [
    {
     "data": {
      "text/plain": [
       "movie\n",
       "Zor Lagaa Ke...Haiya!            Meghan Jadhav\n",
       "Zokkomon                       Darsheel Safary\n",
       "Zindagi Tere Naam           Mithun Chakraborty\n",
       "Zindagi Na Milegi Dobara        Hrithik Roshan\n",
       "Zindagi 50-50                      Veena Malik\n",
       "                                   ...        \n",
       "2 States (2014 film)                Alia Bhatt\n",
       "1971 (2007 film)                Manoj Bajpayee\n",
       "1920: The Evil Returns             Vicky Ahuja\n",
       "1920: London                     Sharman Joshi\n",
       "1920 (film)                   Rajniesh Duggall\n",
       "Name: lead, Length: 1500, dtype: object"
      ]
     },
     "execution_count": 130,
     "metadata": {},
     "output_type": "execute_result"
    }
   ],
   "source": [
    "# using index label\n",
    "movies['2 States (2014 film)'] = 'Alia Bhatt'\n",
    "movies"
   ]
  },
  {
   "cell_type": "markdown",
   "metadata": {
    "id": "6OVEN5eFUWA-"
   },
   "source": [
    "### Series with Python Functionalities"
   ]
  },
  {
   "cell_type": "code",
   "execution_count": 135,
   "metadata": {
    "colab": {
     "base_uri": "https://localhost:8080/"
    },
    "id": "zebKLTsNt12p",
    "outputId": "1fc18462-7d27-4029-fe3d-cea42f00013d"
   },
   "outputs": [
    {
     "data": {
      "text/plain": [
       "365"
      ]
     },
     "execution_count": 135,
     "metadata": {},
     "output_type": "execute_result"
    }
   ],
   "source": [
    "# len/type/dir/sorted/max/min\n",
    "len(subs)"
   ]
  },
  {
   "cell_type": "code",
   "execution_count": 136,
   "metadata": {},
   "outputs": [
    {
     "data": {
      "text/plain": [
       "pandas.core.series.Series"
      ]
     },
     "execution_count": 136,
     "metadata": {},
     "output_type": "execute_result"
    }
   ],
   "source": [
    "type(subs)"
   ]
  },
  {
   "cell_type": "code",
   "execution_count": 137,
   "metadata": {},
   "outputs": [
    {
     "data": {
      "text/plain": [
       "['T',\n",
       " '_AXIS_LEN',\n",
       " '_AXIS_ORDERS',\n",
       " '_AXIS_TO_AXIS_NUMBER',\n",
       " '_HANDLED_TYPES',\n",
       " '__abs__',\n",
       " '__add__',\n",
       " '__and__',\n",
       " '__annotations__',\n",
       " '__array__',\n",
       " '__array_priority__',\n",
       " '__array_ufunc__',\n",
       " '__array_wrap__',\n",
       " '__bool__',\n",
       " '__class__',\n",
       " '__contains__',\n",
       " '__copy__',\n",
       " '__deepcopy__',\n",
       " '__delattr__',\n",
       " '__delitem__',\n",
       " '__dict__',\n",
       " '__dir__',\n",
       " '__divmod__',\n",
       " '__doc__',\n",
       " '__eq__',\n",
       " '__finalize__',\n",
       " '__float__',\n",
       " '__floordiv__',\n",
       " '__format__',\n",
       " '__ge__',\n",
       " '__getattr__',\n",
       " '__getattribute__',\n",
       " '__getitem__',\n",
       " '__getstate__',\n",
       " '__gt__',\n",
       " '__hash__',\n",
       " '__iadd__',\n",
       " '__iand__',\n",
       " '__ifloordiv__',\n",
       " '__imod__',\n",
       " '__imul__',\n",
       " '__init__',\n",
       " '__init_subclass__',\n",
       " '__int__',\n",
       " '__invert__',\n",
       " '__ior__',\n",
       " '__ipow__',\n",
       " '__isub__',\n",
       " '__iter__',\n",
       " '__itruediv__',\n",
       " '__ixor__',\n",
       " '__le__',\n",
       " '__len__',\n",
       " '__long__',\n",
       " '__lt__',\n",
       " '__matmul__',\n",
       " '__mod__',\n",
       " '__module__',\n",
       " '__mul__',\n",
       " '__ne__',\n",
       " '__neg__',\n",
       " '__new__',\n",
       " '__nonzero__',\n",
       " '__or__',\n",
       " '__pos__',\n",
       " '__pow__',\n",
       " '__radd__',\n",
       " '__rand__',\n",
       " '__rdivmod__',\n",
       " '__reduce__',\n",
       " '__reduce_ex__',\n",
       " '__repr__',\n",
       " '__rfloordiv__',\n",
       " '__rmatmul__',\n",
       " '__rmod__',\n",
       " '__rmul__',\n",
       " '__ror__',\n",
       " '__round__',\n",
       " '__rpow__',\n",
       " '__rsub__',\n",
       " '__rtruediv__',\n",
       " '__rxor__',\n",
       " '__setattr__',\n",
       " '__setitem__',\n",
       " '__setstate__',\n",
       " '__sizeof__',\n",
       " '__str__',\n",
       " '__sub__',\n",
       " '__subclasshook__',\n",
       " '__truediv__',\n",
       " '__weakref__',\n",
       " '__xor__',\n",
       " '_accessors',\n",
       " '_accum_func',\n",
       " '_add_numeric_operations',\n",
       " '_agg_by_level',\n",
       " '_agg_examples_doc',\n",
       " '_agg_see_also_doc',\n",
       " '_align_frame',\n",
       " '_align_series',\n",
       " '_append',\n",
       " '_arith_method',\n",
       " '_as_manager',\n",
       " '_attrs',\n",
       " '_binop',\n",
       " '_can_hold_na',\n",
       " '_check_inplace_and_allows_duplicate_labels',\n",
       " '_check_inplace_setting',\n",
       " '_check_is_chained_assignment_possible',\n",
       " '_check_label_or_level_ambiguity',\n",
       " '_check_setitem_copy',\n",
       " '_clear_item_cache',\n",
       " '_clip_with_one_bound',\n",
       " '_clip_with_scalar',\n",
       " '_cmp_method',\n",
       " '_consolidate',\n",
       " '_consolidate_inplace',\n",
       " '_construct_axes_dict',\n",
       " '_construct_axes_from_arguments',\n",
       " '_construct_result',\n",
       " '_constructor',\n",
       " '_constructor_expanddim',\n",
       " '_convert',\n",
       " '_convert_dtypes',\n",
       " '_data',\n",
       " '_dir_additions',\n",
       " '_dir_deletions',\n",
       " '_drop_axis',\n",
       " '_drop_labels_or_levels',\n",
       " '_duplicated',\n",
       " '_find_valid_index',\n",
       " '_flags',\n",
       " '_from_mgr',\n",
       " '_get_axis',\n",
       " '_get_axis_name',\n",
       " '_get_axis_number',\n",
       " '_get_axis_resolvers',\n",
       " '_get_block_manager_axis',\n",
       " '_get_bool_data',\n",
       " '_get_cacher',\n",
       " '_get_cleaned_column_resolvers',\n",
       " '_get_index_resolvers',\n",
       " '_get_label_or_level_values',\n",
       " '_get_numeric_data',\n",
       " '_get_value',\n",
       " '_get_values',\n",
       " '_get_values_tuple',\n",
       " '_get_with',\n",
       " '_gotitem',\n",
       " '_hidden_attrs',\n",
       " '_indexed_same',\n",
       " '_info_axis',\n",
       " '_info_axis_name',\n",
       " '_info_axis_number',\n",
       " '_init_dict',\n",
       " '_init_mgr',\n",
       " '_inplace_method',\n",
       " '_internal_names',\n",
       " '_internal_names_set',\n",
       " '_is_cached',\n",
       " '_is_copy',\n",
       " '_is_label_or_level_reference',\n",
       " '_is_label_reference',\n",
       " '_is_level_reference',\n",
       " '_is_mixed_type',\n",
       " '_is_view',\n",
       " '_item_cache',\n",
       " '_ixs',\n",
       " '_logical_func',\n",
       " '_logical_method',\n",
       " '_map_values',\n",
       " '_maybe_update_cacher',\n",
       " '_memory_usage',\n",
       " '_metadata',\n",
       " '_mgr',\n",
       " '_min_count_stat_function',\n",
       " '_name',\n",
       " '_needs_reindex_multi',\n",
       " '_protect_consolidate',\n",
       " '_reduce',\n",
       " '_reindex_axes',\n",
       " '_reindex_indexer',\n",
       " '_reindex_multi',\n",
       " '_reindex_with_indexers',\n",
       " '_rename',\n",
       " '_replace_single',\n",
       " '_repr_data_resource_',\n",
       " '_repr_latex_',\n",
       " '_reset_cache',\n",
       " '_reset_cacher',\n",
       " '_set_as_cached',\n",
       " '_set_axis',\n",
       " '_set_axis_name',\n",
       " '_set_axis_nocheck',\n",
       " '_set_is_copy',\n",
       " '_set_labels',\n",
       " '_set_name',\n",
       " '_set_value',\n",
       " '_set_values',\n",
       " '_set_with',\n",
       " '_set_with_engine',\n",
       " '_slice',\n",
       " '_stat_axis',\n",
       " '_stat_axis_name',\n",
       " '_stat_axis_number',\n",
       " '_stat_function',\n",
       " '_stat_function_ddof',\n",
       " '_take_with_is_copy',\n",
       " '_typ',\n",
       " '_update_inplace',\n",
       " '_validate_dtype',\n",
       " '_values',\n",
       " '_where',\n",
       " 'abs',\n",
       " 'add',\n",
       " 'add_prefix',\n",
       " 'add_suffix',\n",
       " 'agg',\n",
       " 'aggregate',\n",
       " 'align',\n",
       " 'all',\n",
       " 'any',\n",
       " 'append',\n",
       " 'apply',\n",
       " 'argmax',\n",
       " 'argmin',\n",
       " 'argsort',\n",
       " 'array',\n",
       " 'asfreq',\n",
       " 'asof',\n",
       " 'astype',\n",
       " 'at',\n",
       " 'at_time',\n",
       " 'attrs',\n",
       " 'autocorr',\n",
       " 'axes',\n",
       " 'backfill',\n",
       " 'between',\n",
       " 'between_time',\n",
       " 'bfill',\n",
       " 'bool',\n",
       " 'clip',\n",
       " 'combine',\n",
       " 'combine_first',\n",
       " 'compare',\n",
       " 'convert_dtypes',\n",
       " 'copy',\n",
       " 'corr',\n",
       " 'count',\n",
       " 'cov',\n",
       " 'cummax',\n",
       " 'cummin',\n",
       " 'cumprod',\n",
       " 'cumsum',\n",
       " 'describe',\n",
       " 'diff',\n",
       " 'div',\n",
       " 'divide',\n",
       " 'divmod',\n",
       " 'dot',\n",
       " 'drop',\n",
       " 'drop_duplicates',\n",
       " 'droplevel',\n",
       " 'dropna',\n",
       " 'dtype',\n",
       " 'dtypes',\n",
       " 'duplicated',\n",
       " 'empty',\n",
       " 'eq',\n",
       " 'equals',\n",
       " 'ewm',\n",
       " 'expanding',\n",
       " 'explode',\n",
       " 'factorize',\n",
       " 'ffill',\n",
       " 'fillna',\n",
       " 'filter',\n",
       " 'first',\n",
       " 'first_valid_index',\n",
       " 'flags',\n",
       " 'floordiv',\n",
       " 'ge',\n",
       " 'get',\n",
       " 'groupby',\n",
       " 'gt',\n",
       " 'hasnans',\n",
       " 'head',\n",
       " 'hist',\n",
       " 'iat',\n",
       " 'idxmax',\n",
       " 'idxmin',\n",
       " 'iloc',\n",
       " 'index',\n",
       " 'infer_objects',\n",
       " 'info',\n",
       " 'interpolate',\n",
       " 'is_monotonic',\n",
       " 'is_monotonic_decreasing',\n",
       " 'is_monotonic_increasing',\n",
       " 'is_unique',\n",
       " 'isin',\n",
       " 'isna',\n",
       " 'isnull',\n",
       " 'item',\n",
       " 'items',\n",
       " 'iteritems',\n",
       " 'keys',\n",
       " 'kurt',\n",
       " 'kurtosis',\n",
       " 'last',\n",
       " 'last_valid_index',\n",
       " 'le',\n",
       " 'loc',\n",
       " 'lt',\n",
       " 'mad',\n",
       " 'map',\n",
       " 'mask',\n",
       " 'max',\n",
       " 'mean',\n",
       " 'median',\n",
       " 'memory_usage',\n",
       " 'min',\n",
       " 'mod',\n",
       " 'mode',\n",
       " 'mul',\n",
       " 'multiply',\n",
       " 'name',\n",
       " 'nbytes',\n",
       " 'ndim',\n",
       " 'ne',\n",
       " 'nlargest',\n",
       " 'notna',\n",
       " 'notnull',\n",
       " 'nsmallest',\n",
       " 'nunique',\n",
       " 'pad',\n",
       " 'pct_change',\n",
       " 'pipe',\n",
       " 'plot',\n",
       " 'pop',\n",
       " 'pow',\n",
       " 'prod',\n",
       " 'product',\n",
       " 'quantile',\n",
       " 'radd',\n",
       " 'rank',\n",
       " 'ravel',\n",
       " 'rdiv',\n",
       " 'rdivmod',\n",
       " 'reindex',\n",
       " 'reindex_like',\n",
       " 'rename',\n",
       " 'rename_axis',\n",
       " 'reorder_levels',\n",
       " 'repeat',\n",
       " 'replace',\n",
       " 'resample',\n",
       " 'reset_index',\n",
       " 'rfloordiv',\n",
       " 'rmod',\n",
       " 'rmul',\n",
       " 'rolling',\n",
       " 'round',\n",
       " 'rpow',\n",
       " 'rsub',\n",
       " 'rtruediv',\n",
       " 'sample',\n",
       " 'searchsorted',\n",
       " 'sem',\n",
       " 'set_axis',\n",
       " 'set_flags',\n",
       " 'shape',\n",
       " 'shift',\n",
       " 'size',\n",
       " 'skew',\n",
       " 'slice_shift',\n",
       " 'sort_index',\n",
       " 'sort_values',\n",
       " 'squeeze',\n",
       " 'std',\n",
       " 'sub',\n",
       " 'subtract',\n",
       " 'sum',\n",
       " 'swapaxes',\n",
       " 'swaplevel',\n",
       " 'tail',\n",
       " 'take',\n",
       " 'to_clipboard',\n",
       " 'to_csv',\n",
       " 'to_dict',\n",
       " 'to_excel',\n",
       " 'to_frame',\n",
       " 'to_hdf',\n",
       " 'to_json',\n",
       " 'to_latex',\n",
       " 'to_list',\n",
       " 'to_markdown',\n",
       " 'to_numpy',\n",
       " 'to_period',\n",
       " 'to_pickle',\n",
       " 'to_sql',\n",
       " 'to_string',\n",
       " 'to_timestamp',\n",
       " 'to_xarray',\n",
       " 'transform',\n",
       " 'transpose',\n",
       " 'truediv',\n",
       " 'truncate',\n",
       " 'tz_convert',\n",
       " 'tz_localize',\n",
       " 'unique',\n",
       " 'unstack',\n",
       " 'update',\n",
       " 'value_counts',\n",
       " 'values',\n",
       " 'var',\n",
       " 'view',\n",
       " 'where',\n",
       " 'xs']"
      ]
     },
     "execution_count": 137,
     "metadata": {},
     "output_type": "execute_result"
    }
   ],
   "source": [
    "dir(subs)"
   ]
  },
  {
   "cell_type": "code",
   "execution_count": 138,
   "metadata": {},
   "outputs": [
    {
     "data": {
      "text/plain": [
       "[33,\n",
       " 33,\n",
       " 35,\n",
       " 37,\n",
       " 39,\n",
       " 40,\n",
       " 40,\n",
       " 40,\n",
       " 40,\n",
       " 42,\n",
       " 42,\n",
       " 43,\n",
       " 44,\n",
       " 44,\n",
       " 44,\n",
       " 45,\n",
       " 46,\n",
       " 46,\n",
       " 48,\n",
       " 49,\n",
       " 49,\n",
       " 49,\n",
       " 49,\n",
       " 50,\n",
       " 50,\n",
       " 50,\n",
       " 51,\n",
       " 54,\n",
       " 56,\n",
       " 56,\n",
       " 56,\n",
       " 56,\n",
       " 57,\n",
       " 61,\n",
       " 62,\n",
       " 64,\n",
       " 65,\n",
       " 65,\n",
       " 66,\n",
       " 66,\n",
       " 66,\n",
       " 66,\n",
       " 67,\n",
       " 68,\n",
       " 70,\n",
       " 70,\n",
       " 70,\n",
       " 71,\n",
       " 71,\n",
       " 72,\n",
       " 72,\n",
       " 72,\n",
       " 72,\n",
       " 72,\n",
       " 73,\n",
       " 74,\n",
       " 74,\n",
       " 75,\n",
       " 76,\n",
       " 76,\n",
       " 76,\n",
       " 76,\n",
       " 77,\n",
       " 77,\n",
       " 78,\n",
       " 78,\n",
       " 78,\n",
       " 79,\n",
       " 79,\n",
       " 80,\n",
       " 80,\n",
       " 80,\n",
       " 81,\n",
       " 81,\n",
       " 82,\n",
       " 82,\n",
       " 83,\n",
       " 83,\n",
       " 83,\n",
       " 84,\n",
       " 84,\n",
       " 84,\n",
       " 85,\n",
       " 86,\n",
       " 86,\n",
       " 86,\n",
       " 87,\n",
       " 87,\n",
       " 87,\n",
       " 87,\n",
       " 88,\n",
       " 88,\n",
       " 88,\n",
       " 88,\n",
       " 88,\n",
       " 89,\n",
       " 89,\n",
       " 89,\n",
       " 90,\n",
       " 90,\n",
       " 90,\n",
       " 90,\n",
       " 91,\n",
       " 92,\n",
       " 92,\n",
       " 92,\n",
       " 93,\n",
       " 93,\n",
       " 93,\n",
       " 93,\n",
       " 95,\n",
       " 95,\n",
       " 96,\n",
       " 96,\n",
       " 96,\n",
       " 96,\n",
       " 97,\n",
       " 97,\n",
       " 98,\n",
       " 98,\n",
       " 99,\n",
       " 99,\n",
       " 100,\n",
       " 100,\n",
       " 100,\n",
       " 101,\n",
       " 101,\n",
       " 101,\n",
       " 102,\n",
       " 102,\n",
       " 103,\n",
       " 103,\n",
       " 104,\n",
       " 104,\n",
       " 104,\n",
       " 105,\n",
       " 105,\n",
       " 105,\n",
       " 105,\n",
       " 105,\n",
       " 105,\n",
       " 105,\n",
       " 105,\n",
       " 105,\n",
       " 108,\n",
       " 108,\n",
       " 108,\n",
       " 108,\n",
       " 108,\n",
       " 108,\n",
       " 109,\n",
       " 109,\n",
       " 110,\n",
       " 110,\n",
       " 110,\n",
       " 111,\n",
       " 111,\n",
       " 112,\n",
       " 113,\n",
       " 113,\n",
       " 113,\n",
       " 114,\n",
       " 114,\n",
       " 114,\n",
       " 114,\n",
       " 115,\n",
       " 115,\n",
       " 115,\n",
       " 115,\n",
       " 117,\n",
       " 117,\n",
       " 117,\n",
       " 118,\n",
       " 118,\n",
       " 119,\n",
       " 119,\n",
       " 119,\n",
       " 119,\n",
       " 120,\n",
       " 122,\n",
       " 123,\n",
       " 123,\n",
       " 123,\n",
       " 123,\n",
       " 123,\n",
       " 124,\n",
       " 125,\n",
       " 126,\n",
       " 127,\n",
       " 128,\n",
       " 128,\n",
       " 129,\n",
       " 130,\n",
       " 131,\n",
       " 131,\n",
       " 132,\n",
       " 132,\n",
       " 134,\n",
       " 134,\n",
       " 134,\n",
       " 135,\n",
       " 135,\n",
       " 136,\n",
       " 136,\n",
       " 136,\n",
       " 137,\n",
       " 138,\n",
       " 138,\n",
       " 138,\n",
       " 139,\n",
       " 140,\n",
       " 144,\n",
       " 145,\n",
       " 146,\n",
       " 146,\n",
       " 146,\n",
       " 146,\n",
       " 147,\n",
       " 149,\n",
       " 150,\n",
       " 150,\n",
       " 150,\n",
       " 150,\n",
       " 151,\n",
       " 152,\n",
       " 152,\n",
       " 152,\n",
       " 153,\n",
       " 153,\n",
       " 153,\n",
       " 154,\n",
       " 154,\n",
       " 154,\n",
       " 155,\n",
       " 155,\n",
       " 156,\n",
       " 156,\n",
       " 156,\n",
       " 156,\n",
       " 157,\n",
       " 157,\n",
       " 157,\n",
       " 157,\n",
       " 158,\n",
       " 158,\n",
       " 159,\n",
       " 159,\n",
       " 160,\n",
       " 160,\n",
       " 160,\n",
       " 160,\n",
       " 162,\n",
       " 164,\n",
       " 166,\n",
       " 167,\n",
       " 167,\n",
       " 168,\n",
       " 170,\n",
       " 170,\n",
       " 170,\n",
       " 170,\n",
       " 171,\n",
       " 172,\n",
       " 172,\n",
       " 173,\n",
       " 173,\n",
       " 173,\n",
       " 174,\n",
       " 174,\n",
       " 175,\n",
       " 175,\n",
       " 176,\n",
       " 176,\n",
       " 177,\n",
       " 178,\n",
       " 179,\n",
       " 179,\n",
       " 180,\n",
       " 180,\n",
       " 180,\n",
       " 182,\n",
       " 183,\n",
       " 183,\n",
       " 183,\n",
       " 184,\n",
       " 184,\n",
       " 184,\n",
       " 185,\n",
       " 185,\n",
       " 185,\n",
       " 185,\n",
       " 186,\n",
       " 186,\n",
       " 186,\n",
       " 188,\n",
       " 189,\n",
       " 190,\n",
       " 190,\n",
       " 192,\n",
       " 192,\n",
       " 192,\n",
       " 196,\n",
       " 196,\n",
       " 196,\n",
       " 197,\n",
       " 197,\n",
       " 202,\n",
       " 202,\n",
       " 202,\n",
       " 203,\n",
       " 204,\n",
       " 206,\n",
       " 207,\n",
       " 209,\n",
       " 210,\n",
       " 210,\n",
       " 211,\n",
       " 212,\n",
       " 213,\n",
       " 214,\n",
       " 216,\n",
       " 219,\n",
       " 220,\n",
       " 221,\n",
       " 221,\n",
       " 222,\n",
       " 222,\n",
       " 224,\n",
       " 225,\n",
       " 225,\n",
       " 226,\n",
       " 227,\n",
       " 228,\n",
       " 229,\n",
       " 230,\n",
       " 231,\n",
       " 233,\n",
       " 236,\n",
       " 236,\n",
       " 237,\n",
       " 241,\n",
       " 243,\n",
       " 244,\n",
       " 245,\n",
       " 247,\n",
       " 249,\n",
       " 254,\n",
       " 254,\n",
       " 258,\n",
       " 259,\n",
       " 259,\n",
       " 261,\n",
       " 261,\n",
       " 265,\n",
       " 267,\n",
       " 268,\n",
       " 269,\n",
       " 276,\n",
       " 276,\n",
       " 290,\n",
       " 295,\n",
       " 301,\n",
       " 306,\n",
       " 312,\n",
       " 396]"
      ]
     },
     "execution_count": 138,
     "metadata": {},
     "output_type": "execute_result"
    }
   ],
   "source": [
    "sorted(subs)"
   ]
  },
  {
   "cell_type": "code",
   "execution_count": 140,
   "metadata": {},
   "outputs": [
    {
     "data": {
      "text/plain": [
       "33"
      ]
     },
     "execution_count": 140,
     "metadata": {},
     "output_type": "execute_result"
    }
   ],
   "source": [
    "min(subs)"
   ]
  },
  {
   "cell_type": "code",
   "execution_count": 141,
   "metadata": {},
   "outputs": [
    {
     "data": {
      "text/plain": [
       "396"
      ]
     },
     "execution_count": 141,
     "metadata": {},
     "output_type": "execute_result"
    }
   ],
   "source": [
    "max(subs)"
   ]
  },
  {
   "cell_type": "code",
   "execution_count": 142,
   "metadata": {
    "colab": {
     "base_uri": "https://localhost:8080/"
    },
    "id": "ZJmwrkkgt2x4",
    "outputId": "f0f07972-6f03-4a1f-fe81-311a4ca84926"
   },
   "outputs": [
    {
     "data": {
      "text/plain": [
       "[67, 100, 89, 100, 100]"
      ]
     },
     "execution_count": 142,
     "metadata": {},
     "output_type": "execute_result"
    }
   ],
   "source": [
    "# type conversion\n",
    "list(marks_series)"
   ]
  },
  {
   "cell_type": "code",
   "execution_count": 143,
   "metadata": {
    "colab": {
     "base_uri": "https://localhost:8080/"
    },
    "id": "VPV0VndRP56t",
    "outputId": "eb5c5533-2589-49c2-f6f5-970f2818d10e"
   },
   "outputs": [
    {
     "data": {
      "text/plain": [
       "{'maths': 67, 'english': 100, 'science': 89, 'hindi': 100, 'evs': 100}"
      ]
     },
     "execution_count": 143,
     "metadata": {},
     "output_type": "execute_result"
    }
   ],
   "source": [
    "dict(marks_series)"
   ]
  },
  {
   "cell_type": "code",
   "execution_count": 144,
   "metadata": {
    "colab": {
     "base_uri": "https://localhost:8080/"
    },
    "id": "ScG8OTsIt3yS",
    "outputId": "8f002760-75d0-44be-d43f-a21b3b5ee84f"
   },
   "outputs": [
    {
     "data": {
      "text/plain": [
       "True"
      ]
     },
     "execution_count": 144,
     "metadata": {},
     "output_type": "execute_result"
    }
   ],
   "source": [
    "# membership operator\n",
    "'2 States (2014 film)' in movies"
   ]
  },
  {
   "cell_type": "code",
   "execution_count": 145,
   "metadata": {
    "colab": {
     "base_uri": "https://localhost:8080/"
    },
    "id": "R8woF_08QP7D",
    "outputId": "550f3d87-af4a-49c1-a321-359c88877695"
   },
   "outputs": [
    {
     "data": {
      "text/plain": [
       "True"
      ]
     },
     "execution_count": 145,
     "metadata": {},
     "output_type": "execute_result"
    }
   ],
   "source": [
    "'Alia Bhatt' in movies.values"
   ]
  },
  {
   "cell_type": "code",
   "execution_count": 146,
   "metadata": {
    "colab": {
     "base_uri": "https://localhost:8080/"
    },
    "id": "IGjHY4OAQLCC",
    "outputId": "a1394b4a-a632-48a5-c73c-633a20956da3"
   },
   "outputs": [
    {
     "data": {
      "text/plain": [
       "movie\n",
       "Zor Lagaa Ke...Haiya!            Meghan Jadhav\n",
       "Zokkomon                       Darsheel Safary\n",
       "Zindagi Tere Naam           Mithun Chakraborty\n",
       "Zindagi Na Milegi Dobara        Hrithik Roshan\n",
       "Zindagi 50-50                      Veena Malik\n",
       "                                   ...        \n",
       "2 States (2014 film)                Alia Bhatt\n",
       "1971 (2007 film)                Manoj Bajpayee\n",
       "1920: The Evil Returns             Vicky Ahuja\n",
       "1920: London                     Sharman Joshi\n",
       "1920 (film)                   Rajniesh Duggall\n",
       "Name: lead, Length: 1500, dtype: object"
      ]
     },
     "execution_count": 146,
     "metadata": {},
     "output_type": "execute_result"
    }
   ],
   "source": [
    "movies"
   ]
  },
  {
   "cell_type": "code",
   "execution_count": null,
   "metadata": {
    "colab": {
     "base_uri": "https://localhost:8080/"
    },
    "id": "IXnzfjhxt41A",
    "outputId": "fdd25164-e07d-4c86-fdb5-28b2c74ab4c3"
   },
   "outputs": [
    {
     "name": "stdout",
     "output_type": "stream",
     "text": [
      "Zor Lagaa Ke...Haiya!\n",
      "Zokkomon\n",
      "Zindagi Tere Naam\n",
      "Zindagi Na Milegi Dobara\n",
      "Zindagi 50-50\n",
      "Zindaggi Rocks\n",
      "Zinda (film)\n",
      "Zila Ghaziabad\n",
      "Zid (2014 film)\n",
      "Zero (2018 film)\n",
      "Zeher\n",
      "Zed Plus\n",
      "Zameer: The Fire Within\n",
      "Zameen (2003 film)\n",
      "Zamaanat\n",
      "Yuvvraaj\n",
      "Yuva\n",
      "Yun Hota Toh Kya Hota\n",
      "Youngistaan\n",
      "Yeh Saali Aashiqui\n",
      "Yeh Mera India\n",
      "Yeh Lamhe Judaai Ke\n",
      "Yeh Khula Aasmaan\n",
      "Yeh Jawaani Hai Deewani\n",
      "Yeh Hai India\n",
      "Yeh Hai Bakrapur\n",
      "Yeh Dooriyan\n",
      "Yeh Dil\n",
      "Yatra (2007 film)\n",
      "Yamla Pagla Deewana: Phir Se\n",
      "Yamla Pagla Deewana\n",
      "Yakeen (2005 film)\n",
      "Yadvi – The Dignified Princess\n",
      "Yaaram (2019 film)\n",
      "Ya Rab\n",
      "Xcuse Me\n",
      "Woodstock Villa\n",
      "Woh Lamhe...\n",
      "Why Cheat India\n",
      "What's Your Raashee?\n",
      "What the Fish\n",
      "Well Done Abba\n",
      "Welcome to Sajjanpur\n",
      "Welcome Back (film)\n",
      "Welcome 2 Karachi\n",
      "Welcome (2007 film)\n",
      "Wedding Pullav\n",
      "Wedding Anniversary\n",
      "Waris Shah: Ishq Daa Waaris\n",
      "War Chhod Na Yaar\n",
      "Waqt: The Race Against Time\n",
      "Wanted (2009 film)\n",
      "Wake Up Sid\n",
      "Wake Up India\n",
      "Wajah Tum Ho\n",
      "Waiting (2015 film)\n",
      "Waisa Bhi Hota Hai Part II\n",
      "Wah Taj\n",
      "Wafa: A Deadly Love Story\n",
      "Waarrior Savitri\n",
      "W (2014 film)\n",
      "Vodka Diaries\n",
      "Vivah\n",
      "Vishwaroopam\n",
      "Viruddh... Family Comes First\n",
      "Vidyaarthi\n",
      "Victory (2009 film)\n",
      "Vicky Donor\n",
      "Viceroy's House (film)\n",
      "Via Darjeeling\n",
      "Veerey Ki Wedding\n",
      "Veerappan (2016 film)\n",
      "Veer-Zaara\n",
      "Veer (2010 film)\n",
      "Valentine's Night\n",
      "Vaastu Shastra (film)\n",
      "Vaah! Life Ho Toh Aisi!\n",
      "Vaada Raha\n",
      "Vaada (film)\n",
      "Uvaa\n",
      "Utthaan\n",
      "Utt Pataang\n",
      "Uri: The Surgical Strike\n",
      "United Six\n",
      "Union Leader (film)\n",
      "Ungli\n",
      "Umrika\n",
      "Umrao Jaan (2006 film)\n",
      "Umar (film)\n",
      "Ujda Chaman\n",
      "Ugly (film)\n",
      "Udta Punjab\n",
      "Udaan (2010 film)\n",
      "U R My Jaan\n",
      "U Me Aur Hum\n",
      "Turning 30\n",
      "Tumsa Nahin Dekha: A Love Story\n",
      "Tumhari Sulu\n",
      "Tumbbad\n",
      "Tum Milo Toh Sahi\n",
      "Tum Mile\n",
      "Tum Bin II\n",
      "Tulsi (film)\n",
      "Tujhe Meri Kasam\n",
      "Tubelight (2017 Hindi film)\n",
      "Trump Card (film)\n",
      "Trapped (2016 Hindi film)\n",
      "Traffic Signal (film)\n",
      "Traffic (2016 film)\n",
      "Total Siyapaa\n",
      "Total Dhamaal\n",
      "Toonpur Ka Super Hero\n",
      "Tom Dick and Harry (2006 film)\n",
      "Toilet: Ek Prem Katha\n",
      "Toh Baat Pakki!\n",
      "Titoo MBA\n",
      "Titli (2014 film)\n",
      "Tiger Zinda Hai\n",
      "Thugs of Hindostan\n",
      "Thodi Life Thoda Magic\n",
      "Thoda Tum Badlo Thoda Hum\n",
      "Thoda Pyaar Thoda Magic\n",
      "Thoda Lutf Thoda Ishq\n",
      "The Zoya Factor (film)\n",
      "The Xposé\n",
      "The Train (2007 film)\n",
      "The Tashkent Files\n",
      "The Stoneman Murders\n",
      "The Sky Is Pink\n",
      "The Silent Heroes\n",
      "The Shaukeens\n",
      "The Pink Mirror\n",
      "The Namesake (film)\n",
      "The Lunchbox\n",
      "The Last Lear\n",
      "The Killer (2006 film)\n",
      "The Journey of Karma\n",
      "The Japanese Wife\n",
      "The Hero: Love Story of a Spy\n",
      "The Ghazi Attack\n",
      "The Final Exit\n",
      "The Film Emotional Atyachar\n",
      "The Film\n",
      "The Dirty Picture\n",
      "The Bypass\n",
      "The Blueberry Hunt\n",
      "The Blue Umbrella (2005 film)\n",
      "The Accidental Prime Minister (film)\n",
      "Thanks Maa\n",
      "Thank You (2011 film)\n",
      "Thackeray (film)\n",
      "Tezz\n",
      "Tevar\n",
      "Teri Meri Kahaani (film)\n",
      "Tere Naam\n",
      "Tere Naal Love Ho Gaya\n",
      "Tere Mere Phere\n",
      "Tere Bin Laden: Dead or Alive\n",
      "Tere Bin Laden\n",
      "Tera Kya Hoga Johnny\n",
      "Tell Me O Kkhuda\n",
      "Tehzeeb (2003 film)\n",
      "Teesri Aankh: The Hidden Camera\n",
      "Tees Maar Khan (2010 film)\n",
      "Teen Thay Bhai\n",
      "Teen Patti (film)\n",
      "Te3n\n",
      "Taxi No. 9211\n",
      "Tathastu\n",
      "Tashan (film)\n",
      "Tanu Weds Manu: Returns\n",
      "Tanu Weds Manu: Returns\n",
      "Tanu Weds Manu\n",
      "Tango Charlie\n",
      "Tamanchey\n",
      "Talvar (film)\n",
      "Talaash: The Hunt Begins...\n",
      "Talaash: The Answer Lies Within\n",
      "Take It Easy (2015 film)\n",
      "Taj Mahal: An Eternal Love Story\n",
      "Tahaan\n",
      "Table No. 21\n",
      "Taarzan: The Wonder Car\n",
      "Taare Zameen Par\n",
      "Ta Ra Rum Pum\n",
      "Sweetiee Weds NRI\n",
      "Swami (2007 film)\n",
      "Swades\n",
      "Super Nani\n",
      "Super Model (film)\n",
      "Super 30 (film)\n",
      "Suno Sasurjee\n",
      "Sunglass (film)\n",
      "Sunday (2008 film)\n",
      "Summer 2007\n",
      "Sultan (2016 film)\n",
      "Sulemani Keeda\n",
      "Sukhmani: Hope for Life\n",
      "Sui Dhaaga\n",
      "Stumped (film)\n",
      "Student of the Year 2\n",
      "Student of the Year\n",
      "Strings of Passion\n",
      "Striker (2010 film)\n",
      "Stree (2018 film)\n",
      "Strangers (2007 Hindi film)\n",
      "Staying Alive (2012 film)\n",
      "Station (2014 film)\n",
      "Stanley Ka Dabba\n",
      "Ssukh\n",
      "Sssshhh...\n",
      "Speed (2007 film)\n",
      "Special 26\n",
      "Spark (2014 film)\n",
      "Souten: The Other Woman\n",
      "Sorry Daddy\n",
      "Sorry Bhai!\n",
      "Sooper Se Ooper\n",
      "Sonu Ke Titu Ki Sweety\n",
      "Sons of Ram\n",
      "Soni (film)\n",
      "Sonchiriya\n",
      "Sonali Cable\n",
      "Son of Sardaar\n",
      "Socha Na Tha\n",
      "Soch Lo\n",
      "Sixteen (2013 Indian film)\n",
      "Sirf (film)\n",
      "Singham Returns\n",
      "Singham\n",
      "Singh Saab the Great\n",
      "Singh Is Kinng\n",
      "Singh Is Bliing\n",
      "Simran (film)\n",
      "Simmba\n",
      "Silsiilay\n",
      "Sikandar (2009 film)\n",
      "Siddharth (2013 film)\n",
      "Shukriya: Till Death Do Us Apart\n",
      "Shuddh Desi Romance\n",
      "Shubh Mangal Saavdhan\n",
      "Showbiz (film)\n",
      "Shortkut\n",
      "Shortcut Safari\n",
      "Shortcut Romeo\n",
      "Shorgul\n",
      "Shor in the City\n",
      "Shootout at Lokhandwala\n",
      "Sholay\n",
      "Shivaay\n",
      "Shiva (2006 film)\n",
      "Shirin Farhad Ki Toh Nikal Padi\n",
      "Ship of Theseus (film)\n",
      "Shikhar (film)\n",
      "Sheesha (2005 film)\n",
      "Sheen (film)\n",
      "Shart: The Challenge\n",
      "Sharafat Gayi Tel Lene\n",
      "Shanghai (2012 film)\n",
      "Shamitabh\n",
      "Shakalaka Boom Boom\n",
      "Shaitan (film)\n",
      "Shahid (film)\n",
      "Shagird (2011 film)\n",
      "Shabri\n",
      "Shabnam Mausi\n",
      "Shabd (film)\n",
      "Shab (film)\n",
      "Shaapit\n",
      "Shaandaar\n",
      "Shaadi Se Pehle\n",
      "Shaadi No. 1\n",
      "Shaadi Mein Zaroor Aana\n",
      "Shaadi Ke Side Effects\n",
      "Shaadi Karke Phas Gaya Yaar\n",
      "Shaadi Ka Laddoo\n",
      "Setters (film)\n",
      "Sehar\n",
      "Section 375\n",
      "Secret Superstar\n",
      "Second Hand Husband\n",
      "Say Salaam India\n",
      "Satyameva Jayate (2018 film)\n",
      "Satyagraha (film)\n",
      "Satya 2\n",
      "Satta (film)\n",
      "Satrangee Parachute\n",
      "Satellite Shankar\n",
      "Sarkar Raj\n",
      "Sarkar 3\n",
      "Sarkar (2005 film)\n",
      "Sarhad Paar\n",
      "Sarbjit (film)\n",
      "Santa Banta Pvt Ltd\n",
      "Sankat City\n",
      "Sanju\n",
      "Sandwich (2006 film)\n",
      "Sanam Re\n",
      "Samrat & Co.\n",
      "Samay: When Time Strikes\n",
      "Sallu Ki Shaadi\n",
      "Salaam-e-Ishq: A Tribute to Love\n",
      "Salaam Namaste\n",
      "Sahi Dhandhe Galat Bande\n",
      "Saheb Biwi Aur Gangster Returns\n",
      "Saheb Biwi Aur Gangster 3\n",
      "Saheb Biwi Aur Gangster\n",
      "Sadiyaan\n",
      "Sadda Adda\n",
      "Sacred Evil – A True Story\n",
      "Sachin: A Billion Dreams\n",
      "Sabki Bajegi Band\n",
      "Saaya (2003 film)\n",
      "Saawariya\n",
      "Saawan... The Love Season\n",
      "Saathiya (film)\n",
      "Saat Uchakkey\n",
      "Saas Bahu Aur Sensex\n",
      "Saare Jahaan Se Mehnga\n",
      "Saansein\n",
      "Saankal\n",
      "Saand Ki Aankh\n",
      "Saaho\n",
      "Rustom (film)\n",
      "Rush (2012 film)\n",
      "Running Shaadi\n",
      "Run (2004 film)\n",
      "Rules: Pyaar Ka Superhit Formula\n",
      "Rukh (film)\n",
      "Rudraksh (film)\n",
      "Roy (film)\n",
      "Rough Book\n",
      "Rokkk\n",
      "Rok Sako To Rok Lo\n",
      "Rog\n",
      "Rocky Handsome\n",
      "Rockstar (2011 film)\n",
      "Rocket Singh: Salesman of the Year\n",
      "Rock On!!\n",
      "Rock On 2\n",
      "Roar: Tigers of the Sundarbans\n",
      "Roadside Romeo\n",
      "Road to Sangam\n",
      "Riyasat (film)\n",
      "Risknamaa\n",
      "Risk (2007 film)\n",
      "Right Yaaa Wrong\n",
      "Right Here Right Now (film)\n",
      "Ribbon (film)\n",
      "Revolver Rani\n",
      "Revati (film)\n",
      "Red: The Dark Side\n",
      "Red Swastik\n",
      "Red Alert: The War Within\n",
      "Rebellious Flower\n",
      "Rascals (2011 film)\n",
      "Raqeeb\n",
      "Rann (film)\n",
      "Rangrezz\n",
      "Rangoon (2017 Hindi film)\n",
      "Rang Rasiya\n",
      "Rang De Basanti\n",
      "Ranchi Diaries\n",
      "Ranbanka\n",
      "Ramprasad Ki Tehrvi\n",
      "Ramji Londonwaley\n",
      "Ramayana: The Epic\n",
      "Raman Raghav 2.0\n",
      "Ramaiya Vastavaiya\n",
      "Ramaa: The Saviour\n",
      "Rakhtbeej\n",
      "Rakht\n",
      "Rajma Chawal\n",
      "Rajjo\n",
      "Raja Natwarlal\n",
      "Raja Bhaiya (film)\n",
      "Raincoat (film)\n",
      "Raid (2018 film)\n",
      "Rahasya\n",
      "Ragini MMS 2\n",
      "Ragini MMS\n",
      "Raghu Romeo\n",
      "Raees (film)\n",
      "Race 3\n",
      "Race 2\n",
      "Race (2008 film)\n",
      "Rab Ne Bana Di Jodi\n",
      "Raazi\n",
      "Raaz: The Mystery Continues\n",
      "Raaz: Reboot\n",
      "Raaz (2002 film)\n",
      "Raavan\n",
      "Raat Gayi Baat Gayi?\n",
      "Raanjhanaa\n",
      "Raag Desh (film)\n",
      "Raabta (film)\n",
      "Ra.One\n",
      "Quick Gun Murugun\n",
      "Queen (2014 film)\n",
      "Qissa (film)\n",
      "Qayamat: City Under Threat\n",
      "Qarib Qarib Singlle\n",
      "Qaidi Band\n",
      "Pyare Mohan\n",
      "Pyaar Mein Twist\n",
      "Pyaar Ke Side Effects\n",
      "Pyaar Ka Punchnama 2\n",
      "Pyaar Ka Punchnama\n",
      "Pyaar Impossible!\n",
      "Purani Jeans\n",
      "Prince (2010 film)\n",
      "Prem Ratan Dhan Payo\n",
      "Prem Kaa Game\n",
      "Prateeksha\n",
      "Prassthanam\n",
      "Pranaam\n",
      "Prague (2013 film)\n",
      "Praan Jaye Par Shaan Na Jaye\n",
      "Poster Boys\n",
      "Popcorn Khao! Mast Ho Jao\n",
      "Policegiri\n",
      "Police Force: An Inside Story\n",
      "Players (2012 film)\n",
      "Plan (film)\n",
      "Pizza (2014 film)\n",
      "Pink (2016 film)\n",
      "Pinjar (film)\n",
      "Piku\n",
      "Pihu\n",
      "Photograph (film)\n",
      "Phoonk 2\n",
      "Phobia (2016 film)\n",
      "Phir Milenge\n",
      "Phir Kabhi\n",
      "Phir Hera Pheri\n",
      "Phillauri (film)\n",
      "Phhir\n",
      "Phata Poster Nikhla Hero\n",
      "Phas Gaye Re Obama\n",
      "Phantom (2015 film)\n",
      "Phamous\n",
      "Pehchaan: The Face of Truth\n",
      "Peepli Live\n",
      "Paying Guests\n",
      "Patiala House (film)\n",
      "Pati Patni Aur Woh (2019 film)\n",
      "Patel Ki Punjabi Shaadi\n",
      "Pataakha\n",
      "Parwana (2003 film)\n",
      "Partner (2007 film)\n",
      "Parmanu: The Story of Pokhran\n",
      "Parineeta (2005 film)\n",
      "Parched\n",
      "Paranthe Wali Gali\n",
      "Pankh\n",
      "Panchlait\n",
      "Paltan (film)\n",
      "Pal Pal Dil Ke Paas\n",
      "Paisa Vasool\n",
      "Paheli\n",
      "Page 3 (film)\n",
      "Pagalpanti (2019 film)\n",
      "Padmashree Laloo Prasad Yadav\n",
      "Padmaavat\n",
      "Paathshaala\n",
      "Paap\n",
      "Paanch Ghantey Mien Paanch Crore\n",
      "Paan Singh Tomar (film)\n",
      "Paa (film)\n",
      "PM Narendra Modi\n",
      "PK (film)\n",
      "P Se Pyaar F Se Faraar\n",
      "P Se PM Tak\n",
      "Oye Lucky! Lucky Oye!\n",
      "Out of Control (2003 film)\n",
      "One by Two (2014 film)\n",
      "One Two Three\n",
      "One Day: Justice Delivered\n",
      "Once Upon ay Time in Mumbai Dobaara!\n",
      "Once Upon a Time in Mumbaai\n",
      "Omkara (2006 film)\n",
      "Omerta (film)\n",
      "Om-Dar-B-Dar\n",
      "Om Shanti Om\n",
      "Om (2003 film)\n",
      "Ok Jaanu\n",
      "Oh My God (2008 film)\n",
      "October (2018 film)\n",
      "OMG – Oh My God!\n",
      "O Teri\n",
      "Nothing but Life\n",
      "Notebook (2019 film)\n",
      "Not a Love Story (2011 film)\n",
      "Noor (film)\n",
      "No Smoking (2007 film)\n",
      "No Problem (2010 film)\n",
      "No One Killed Jessica\n",
      "No Entry\n",
      "Nishabd\n",
      "Nirdosh\n",
      "Nil Battey Sannata\n",
      "Newton (film)\n",
      "New York (2009 film)\n",
      "Netaji Subhas Chandra Bose: The Forgotten Hero\n",
      "Nehlle Pe Dehlla\n",
      "Neerja\n",
      "Neal 'n' Nikki\n",
      "Nayee Padosan\n",
      "Nawabzaade\n",
      "Nautanki Saala!\n",
      "Naughty @ 40\n",
      "Nasha (film)\n",
      "Naqaab\n",
      "Nanu Ki Jaanu\n",
      "Nanhe Jaisalmer\n",
      "Namastey London\n",
      "Namaste England\n",
      "Naksha\n",
      "Naina (2005 film)\n",
      "Naam Shabana\n",
      "Naach (2004 film)\n",
      "Na Ghar Ke Na Ghaat Ke\n",
      "NH10 (film)\n",
      "NH-8 Road to Nidhivan\n",
      "My Wife's Murder\n",
      "My Name Is Khan\n",
      "My Friend Pinto\n",
      "My Brother…Nikhil\n",
      "My Bollywood Bride\n",
      "My Birthday Song\n",
      "Muskaan\n",
      "Musafir (2004 film)\n",
      "Murder 3\n",
      "Murder 2\n",
      "Murder (2004 film)\n",
      "Murari the Mad Gentleman\n",
      "Munna Michael\n",
      "Munna Bhai M.B.B.S.\n",
      "Mummy Punjabi\n",
      "Mumbhai Connection\n",
      "Mumbai Se Aaya Mera Dost\n",
      "Mumbai Salsa\n",
      "Mumbai Meri Jaan\n",
      "Mumbai Matinee\n",
      "Mumbai Mast Kallander\n",
      "Mumbai Delhi Mumbai\n",
      "Mumbai Can Dance Saala\n",
      "Mumbai 125 KM\n",
      "Mulk (film)\n",
      "Mukkabaaz\n",
      "Mukhbiir\n",
      "Mujhse Shaadi Karogi\n",
      "Mujhse Fraaandship Karoge\n",
      "Mughal-e-Azam\n",
      "Mubarakan\n",
      "Mr. X (2015 film)\n",
      "Mr. Singh Mrs. Mehta\n",
      "Mr. Bhatti on Chutti\n",
      "Mr Prime Minister\n",
      "Motu Patlu: King of Kings\n",
      "Motichoor Chaknachoor\n",
      "Morning Raga\n",
      "Monsoon Shootout\n",
      "Monica (film)\n",
      "Money Hai Toh Honey Hai\n",
      "Mom (film)\n",
      "Mohenjo Daro (film)\n",
      "Mohalla Assi\n",
      "Moh Maya Money\n",
      "Mittal v/s Mittal\n",
      "Mitron\n",
      "Mission Mangal\n",
      "Mission Istaanbul\n",
      "Missing (2018 film)\n",
      "Miss Tanakpur Haazir Ho\n",
      "Mirzya (film)\n",
      "Mirch\n",
      "Miley Naa Miley Hum\n",
      "Milenge Milenge\n",
      "Mickey Virus\n",
      "Meri Pyaari Bindu\n",
      "Meri Biwi Ka Jawaab Nahin\n",
      "Mere Pyare Prime Minister\n",
      "Mere Jeevan Saathi (2006 film)\n",
      "Mere Genie Uncle\n",
      "Mere Dost Picture Abhi Baki Hai\n",
      "Mere Dad Ki Maruti\n",
      "Mere Brother Ki Dulhan\n",
      "Mere Baap Pehle Aap\n",
      "Mercury (film)\n",
      "Memories in March\n",
      "Meinu Ek Ladki Chaahiye\n",
      "Meeruthiya Gangsters\n",
      "Meerabai Not Out\n",
      "Meenaxi: A Tale of Three Cities\n",
      "Maximum (film)\n",
      "Mausam (2011 film)\n",
      "Matrubhoomi\n",
      "Matru Ki Bijlee Ka Mandola\n",
      "Mastram\n",
      "Mastizaade\n",
      "Masti (2004 film)\n",
      "Masaan\n",
      "Mary Kom (film)\n",
      "Married 2 America\n",
      "Market (2003 film)\n",
      "Marjaavaan\n",
      "Marigold (2007 film)\n",
      "Margarita with a Straw\n",
      "Mardaani 2\n",
      "Mardaani\n",
      "Mard Ko Dard Nahi Hota\n",
      "Maqbool\n",
      "Mantra (2016 film)\n",
      "Manto (2018 film)\n",
      "Manorama Six Feet Under\n",
      "Manmarziyaan\n",
      "Manjunath (film)\n",
      "Manjhi – The Mountain Man\n",
      "Manikarnika: The Queen of Jhansi\n",
      "Mangal Pandey: The Rising\n",
      "Malik Ek\n",
      "Malamaal Weekly\n",
      "Maine Pyaar Kyun Kiya?\n",
      "Maine Gandhi Ko Nahin Mara\n",
      "Main Tera Hero\n",
      "Main Prem Ki Diwani Hoon\n",
      "Main Meri Patni Aur Woh\n",
      "Main Madhuri Dixit Banna Chahti Hoon\n",
      "Main Krishna Hoon\n",
      "Main Hoon Part-Time Killer\n",
      "Main Hoon Na\n",
      "Main Aurr Mrs Khanna\n",
      "Main Aur Mr. Riight\n",
      "Main Aisa Hi Hoon\n",
      "Mai (2013 film)\n",
      "Magic Magic 3D\n",
      "Madras Cafe\n",
      "Madhoshi\n",
      "Made in China (2019 film)\n",
      "Madaari\n",
      "Mad About Dance\n",
      "Machine (2017 film)\n",
      "Machhli Jal Ki Rani Hai\n",
      "Maazii\n",
      "Maatr\n",
      "Maan Gaye Mughal-e-Azam\n",
      "MSG: The Warrior Lion Heart\n",
      "MSG: The Messenger\n",
      "MSG-2 The Messenger\n",
      "MP3: Mera Pehla Pehla Pyaar\n",
      "M.S. Dhoni: The Untold Story\n",
      "M Cream\n",
      "Luv U Soniyo\n",
      "Luv U Alia\n",
      "Lucky: No Time for Love\n",
      "Lucky Kabootar\n",
      "Lucknow Central\n",
      "Luckhnowi Ishq\n",
      "Luck by Chance\n",
      "Luck (2009 film)\n",
      "Loveshhuda\n",
      "Love per Square Foot\n",
      "Love in Bombay\n",
      "Love U...Mr. Kalakaar!\n",
      "Love Story 2050\n",
      "Love Sonia\n",
      "Love Shagun\n",
      "Love Sex Aur Dhokha\n",
      "Love Ke Chakkar Mein\n",
      "Love Games (film)\n",
      "Love Breakups Zindagi\n",
      "Love Aaj Kal\n",
      "Lootera\n",
      "London Dreams\n",
      "Loins of Punjab Presents\n",
      "Login (film)\n",
      "Little Zizou\n",
      "Listen... Amaya\n",
      "Lipstick Under My Burkha\n",
      "Life in a... Metro\n",
      "Life Partner\n",
      "Life Mein Kabhie Kabhiee\n",
      "Life Ki Toh Lag Gayi\n",
      "Life Is Beautiful (2014 film)\n",
      "Life Express (2010 film)\n",
      "Lekar Hum Deewana Dil\n",
      "Lamhaa\n",
      "Lakshya (film)\n",
      "Lakshmi (2014 film)\n",
      "Lakeer – Forbidden Lines\n",
      "Laila Majnu (2018 film)\n",
      "Lahore (film)\n",
      "Lage Raho Munna Bhai\n",
      "Lafangey Parindey\n",
      "Ladies vs Ricky Bahl\n",
      "Laal Rang\n",
      "Laaga Chunari Mein Daag\n",
      "LOC Kargil\n",
      "Kyun! Ho Gaya Na...\n",
      "Kyon Ki\n",
      "Kyaa Super Kool Hain Hum\n",
      "Kyaa Kool Hain Hum 3\n",
      "Kyaa Kool Hai Hum\n",
      "Kya Love Story Hai\n",
      "Kya Dilli Kya Lahore\n",
      "Kushti (film)\n",
      "Kurbaan (2009 film)\n",
      "Kuku Mathur Ki Jhand Ho Gayi\n",
      "Kudiyon Ka Hai Zamana\n",
      "Kuchh Meetha Ho Jaye\n",
      "Kuchh Bheege Alfaaz\n",
      "Kuch Naa Kaho\n",
      "Kuch Kuch Locha Hai\n",
      "Kucch To Hai\n",
      "Kucch Luv Jaisaa\n",
      "Krrish\n",
      "Krishna Cottage\n",
      "Krishna Aur Kans\n",
      "Krazzy 4\n",
      "Koyelaanchal\n",
      "Koi... Mil Gaya\n",
      "Koi Mere Dil Mein Hai\n",
      "Koi Aap Sa\n",
      "Knock Out (2010 film)\n",
      "Kites (film)\n",
      "Kisse Pyaar Karoon\n",
      "Kisna: The Warrior Poet\n",
      "Kismat Love Paisa Dilli\n",
      "Kismat Konnection\n",
      "Kismat (2004 film)\n",
      "Kisaan\n",
      "Kis Kisko Pyaar Karoon\n",
      "Kis Kis Ki Kismat\n",
      "Kill Dil\n",
      "Kick (2014 film)\n",
      "Ki & Ka\n",
      "Khwahish\n",
      "Khwaabb\n",
      "Khushi (2003 Hindi film)\n",
      "Khuda Kasam\n",
      "Khoya Khoya Chand\n",
      "Khosla Ka Ghosla\n",
      "Khoobsurat (2014 film)\n",
      "Khichdi: The Movie\n",
      "Khel – No Ordinary Game\n",
      "Khel Toh Ab Shuru Hoga\n",
      "Khatta Meetha (2010 film)\n",
      "Khap (film)\n",
      "Khamoshiyan\n",
      "Khamoshi (2019 film)\n",
      "Khamoshh... Khauff Ki Raat\n",
      "Khamosh Pani\n",
      "Khakee\n",
      "Khajoor Pe Atke\n",
      "Kesari (film)\n",
      "Keep Safe Distance (film)\n",
      "Kaun Kitne Paani Mein\n",
      "Kaun Hai Jo Sapno Mein Aaya\n",
      "Katti Batti\n",
      "Kash Aap Hamare Hote\n",
      "Kasak (2005 film)\n",
      "Karzzzz\n",
      "Karwaan\n",
      "Karthik Calling Karthik\n",
      "Karma Aur Holi\n",
      "Karle Pyaar Karle\n",
      "Karar: The Deal\n",
      "Karam (film)\n",
      "Kapoor & Sons\n",
      "Kaminey\n",
      "Kalyug (2005 film)\n",
      "Kalank\n",
      "Kal Ho Naa Ho\n",
      "Kaise Kahoon Ke... Pyaar Hai\n",
      "Kai Po Che!\n",
      "Kahin Hai Mera Pyar\n",
      "Kahaani\n",
      "Kagaar: Life on the Edge\n",
      "Kadvi Hawa\n",
      "Kabul Express\n",
      "Kabir Singh\n",
      "Kabhi Alvida Naa Kehna\n",
      "Kaashi in Search of Ganga\n",
      "Kaante\n",
      "Kaanchi: The Unbreakable\n",
      "Kaalo\n",
      "Kaalakaandi\n",
      "Kaal (2005 film)\n",
      "Kaagaz Ke Fools\n",
      "Kaabil\n",
      "Just Married (2007 film)\n",
      "Jurm (2005 film)\n",
      "Junooniyat\n",
      "Junglee (2019 film)\n",
      "Julie 2\n",
      "Julie (2004 film)\n",
      "Jugni (2016 film)\n",
      "Judwaa 2\n",
      "Judgementall Hai Kya\n",
      "Jolly LLB\n",
      "Joker (2012 film)\n",
      "Johnny Gaddaar\n",
      "John Day (film)\n",
      "Joggers' Park (film)\n",
      "Jodi Breakers\n",
      "Jodhaa Akbar\n",
      "Jo Hum Chahein\n",
      "Jo Bole So Nihaal (film)\n",
      "Jism (2003 film)\n",
      "Jimmy (2008 film)\n",
      "Jigyaasa\n",
      "Jigariyaa\n",
      "Jia Aur Jia\n",
      "Jhootha Kahin Ka\n",
      "Jhootha Hi Sahi\n",
      "Jhoom Barabar Jhoom\n",
      "Jhankaar Beats\n",
      "Jhalki\n",
      "Jeena Isi Ka Naam Hai (film)\n",
      "Jeena Hai Toh Thok Daal\n",
      "Jazbaa\n",
      "Jayantabhai Ki Luv Story\n",
      "Jawani Diwani: A Youthful Joyride\n",
      "Jattu Engineer\n",
      "Jannat (film)\n",
      "Janasheen\n",
      "James (2005 film)\n",
      "Jalpari: The Desert Mermaid\n",
      "Jalebi (film)\n",
      "Jal (film)\n",
      "Jajantaram Mamantaram\n",
      "Jail (2009 film)\n",
      "Jai Veeru\n",
      "Jai Jawaan Jai Kisaan (film)\n",
      "Jai Ho (film)\n",
      "Jai Gangaajal\n",
      "Jai Chiranjeeva\n",
      "Jahan Jaaeyega Hamen Paaeyega\n",
      "Jagga Jasoos\n",
      "Jackpot (2013 film)\n",
      "Jack and Dil\n",
      "Jabariya Jodi\n",
      "Jab We Met\n",
      "Jab Tak Hai Jaan\n",
      "Jab Harry Met Sejal\n",
      "Jaane Kyun De Yaaron\n",
      "Jaane Kahan Se Aayi Hai\n",
      "Jaane Hoga Kya\n",
      "Jaan-E-Mann\n",
      "Jaal: The Trap\n",
      "JD (film)\n",
      "It's a Wonderful Afterlife\n",
      "Issaq\n",
      "Island City (2015 film)\n",
      "Isi Life Mein\n",
      "Ishqiya\n",
      "Ishqeria\n",
      "Ishqedarriyaan\n",
      "Ishq Vishk\n",
      "Ishq Ke Parindey\n",
      "Ishq Hai Tumse\n",
      "Ishq Forever\n",
      "Ishq Click\n",
      "Ishkq in Paris\n",
      "Ishaqzaade\n",
      "Irudhi Suttru\n",
      "Irada (2017 film)\n",
      "Iqraar by Chance\n",
      "Iqbal (film)\n",
      "Inteqam: The Perfect Game\n",
      "Inteha (2003 film)\n",
      "Insan\n",
      "Insaaf: The Justice\n",
      "Inkaar (2013 film)\n",
      "Indu Sarkar\n",
      "Indian Babu\n",
      "India's Most Wanted (film)\n",
      "Impatient Vivek\n",
      "I See You (2006 film)\n",
      "I Proud to Be an Indian\n",
      "I Love NY (2015 film)\n",
      "I Love Desi\n",
      "I Hate Luv Storys\n",
      "I Am Kalam\n",
      "I Am (2010 Indian film)\n",
      "Hyderabad Blues 2\n",
      "Hunterrr\n",
      "Hungama (2003 film)\n",
      "Humshakals\n",
      "Humpty Sharma Ki Dulhania\n",
      "Humne Jeena Seekh Liya\n",
      "Humko Tumse Pyaar Hai\n",
      "Humko Deewana Kar Gaye\n",
      "Hume Tumse Pyaar Kitna\n",
      "Hum Tumhare Hain Sanam\n",
      "Hum Tum Shabana\n",
      "Hum Tum Aur Ghost\n",
      "Hum Tum\n",
      "Hum Hai Raahi Car Ke\n",
      "Hum Chaar\n",
      "Hulchul (2004 film)\n",
      "Housefull 4\n",
      "Housefull 2\n",
      "Housefull (2010 film)\n",
      "Hotel Salvation\n",
      "Hostel (2011 film)\n",
      "Horror Story (film)\n",
      "Hope Aur Hum\n",
      "Honour Killing (film)\n",
      "Honeymoon Travels Pvt. Ltd.\n",
      "Home Delivery\n",
      "Holiday: A Soldier Is Never Off Duty\n",
      "Holiday (2006 film)\n",
      "Hisss\n",
      "Hindi Medium\n",
      "Hind Ka Napak Ko Jawab: MSG Lion Heart 2\n",
      "Himmatwala (2013 film)\n",
      "Highway (2014 Hindi film)\n",
      "High Jack (film)\n",
      "Hichki\n",
      "Heyy Babyy\n",
      "Hey Bro\n",
      "Heropanti\n",
      "Heroine (2012 film)\n",
      "Heroes (2008 film)\n",
      "Hero (2015 Hindi film)\n",
      "Help (film)\n",
      "Hello Darling\n",
      "Hello (2008 film)\n",
      "Helicopter Eela\n",
      "Heartless (2014 film)\n",
      "Hazaaron Khwaishein Aisi\n",
      "Hawayein\n",
      "Hawas (2004 film)\n",
      "Hawaizaada\n",
      "Hawaa Hawaai\n",
      "Hawa (film)\n",
      "Hava Aney Dey\n",
      "Haunted – 3D\n",
      "Hatya (2004 film)\n",
      "Hattrick (film)\n",
      "Hate Story 4\n",
      "Hate Story 2\n",
      "Hate Story\n",
      "Hastey Hastey\n",
      "Haseena Parkar\n",
      "Hasee Toh Phasee\n",
      "Hari Puttar: A Comedy of Terrors\n",
      "Haraamkhor\n",
      "Happy Phirr Bhag Jayegi\n",
      "Happy New Year (2014 film)\n",
      "Happy Husbands (2011 film)\n",
      "Happy Ending (film)\n",
      "Happy Bhag Jayegi\n",
      "Hanuman (2005 film)\n",
      "Hamid (film)\n",
      "Hamari Adhuri Kahani\n",
      "Halla Bol\n",
      "Halkaa\n",
      "Half Girlfriend (film)\n",
      "Haider (film)\n",
      "Hai Apna Dil Toh Awara\n",
      "Haasil\n",
      "Haal-e-Dil\n",
      "Guzaarish (film)\n",
      "Guru (2007 film)\n",
      "Gunday\n",
      "Gumnaam – The Mystery\n",
      "Gully Boy\n",
      "Gulabi Gang (film)\n",
      "Gulaal (film)\n",
      "Gulaab Gang\n",
      "Guest iin London\n",
      "Guddu Rangeela\n",
      "Guddu Ki Gun\n",
      "Green Card Fever\n",
      "Great Grand Masti\n",
      "Grand Masti\n",
      "Gour Hari Dastaan\n",
      "Gori Tere Pyaar Mein\n",
      "Good Newwz\n",
      "Good Boy Bad Boy\n",
      "Gone Kesh\n",
      "Golmaal: Fun Unlimited\n",
      "Golmaal Returns\n",
      "Golmaal Again\n",
      "Gollu Aur Pappu\n",
      "Goliyon Ki Raasleela Ram-Leela\n",
      "Gold (2018 film)\n",
      "God Tussi Great Ho\n",
      "Goal (2007 Hindi film)\n",
      "Go Goa Gone\n",
      "Go (2007 film)\n",
      "Global Baba\n",
      "Girlfriend (2004 film)\n",
      "Gippi\n",
      "Ghost (2019 film)\n",
      "Ghost (2012 film)\n",
      "Ghayal: Once Again\n",
      "Ghanchakkar (film)\n",
      "Ghajini (2008 film)\n",
      "Genius (2018 Hindi film)\n",
      "Gayab\n",
      "Gauri: The Unborn\n",
      "Gattu\n",
      "Garv: Pride & Honour\n",
      "Garam Masala (2005 film)\n",
      "Gangster (2006 film)\n",
      "Gangs of Wasseypur – Part 2\n",
      "Gangs of Wasseypur\n",
      "Gangoobai\n",
      "Gangaajal\n",
      "Gang of Ghosts\n",
      "Gandhi My Father\n",
      "Game (2011 film)\n",
      "Gali Guleiyan\n",
      "Gabbar Is Back\n",
      "Gabbar Is Back\n",
      "G Kutta Se\n",
      "Fun2shh... Dudes in the 10th Century\n",
      "Fun – Can Be Dangerous Sometimes\n",
      "Fukrey Returns\n",
      "Fukrey\n",
      "Fugly (film)\n",
      "Fuddu\n",
      "FryDay\n",
      "Fruit and Nut (film)\n",
      "From Sydney with Love\n",
      "Fredrick (film)\n",
      "Freaky Ali\n",
      "Fraud Saiyaan\n",
      "Fox (film)\n",
      "Force 2\n",
      "Force (2011 film)\n",
      "Footpath (2003 film)\n",
      "Fool & Final\n",
      "Flavors (film)\n",
      "Flat 211\n",
      "Fitoor\n",
      "Firangi\n",
      "Firaaq\n",
      "Finding Fanny\n",
      "Filmistaan\n",
      "Fight Club – Members Only\n",
      "Fida\n",
      "Fever (2016 film)\n",
      "Ferrari Ki Sawaari\n",
      "Fatso!\n",
      "Fashion (2008 film)\n",
      "Fareb (2005 film)\n",
      "Fanaa (2006 film)\n",
      "Fan (film)\n",
      "Familywala\n",
      "Family of Thakurganj\n",
      "Family (2006 film)\n",
      "F.A.L.T.U\n",
      "Evening Shadows\n",
      "Escape from Taliban\n",
      "Entertainment (2014 film)\n",
      "English Vinglish\n",
      "Enemmy\n",
      "Elaan (2005 film)\n",
      "Eklavya: The Royal Guard\n",
      "Ekkees Toppon Ki Salaami\n",
      "Ekk Deewana Tha\n",
      "Ek: The Power of One\n",
      "Ek Vivaah... Aisa Bhi\n",
      "Ek Villain\n",
      "Ek Thi Rani Aisi Bhi\n",
      "Ek Thi Daayan\n",
      "Ek Tha Tiger\n",
      "Ek Second... Jo Zindagi Badal De?\n",
      "Ek Se Bure Do\n",
      "Ek Se Badhkar Ek (2004 film)\n",
      "Ek Paheli Leela\n",
      "Ek Main Aur Ekk Tu\n",
      "Ek Khiladi Ek Haseena (film)\n",
      "Ek Kahani Julie Ki\n",
      "Ek Hasina Thi (film)\n",
      "Ek Haseena Thi Ek Deewana Tha\n",
      "Ek Din 24 Ghante\n",
      "Ek Chalis Ki Last Local\n",
      "Ek Aur Ek Gyarah\n",
      "Ek Alag Mausam\n",
      "Ek Ajnabee\n",
      "Eight: The Power of Shani\n",
      "Dus Kahaniyaan\n",
      "Dus\n",
      "Dunno Y... Na Jaane Kyon\n",
      "Dum Maaro Dum (film)\n",
      "Dum Laga Ke Haisha\n",
      "Dum (2003 Hindi film)\n",
      "Dulha Mil Gaya\n",
      "Dude Where's the Party?\n",
      "Drona (2008 film)\n",
      "Drishyam (2015 film)\n",
      "Dreams (2006 film)\n",
      "Dream Girl (2019 film)\n",
      "Double Dhamaal\n",
      "Double Cross (2005 film)\n",
      "Dosti: Friends Forever\n",
      "Dostana (2008 film)\n",
      "Dor (film)\n",
      "Dongari Ka Raja\n",
      "Don't Stop Dreaming\n",
      "Don Muthu Swami\n",
      "Don 2\n",
      "Don (2006 Hindi film)\n",
      "Dolly Ki Doli\n",
      "Dobara\n",
      "Dobaara: See Your Evil\n",
      "Do Lafzon Ki Kahani (film)\n",
      "Do Dooni Chaar\n",
      "Dishoom\n",
      "Dishkiyaoon\n",
      "Dirty Politics (film)\n",
      "Direct Ishq\n",
      "Dilwale (2015 film)\n",
      "Dilliwali Zaalim Girlfriend\n",
      "Dil Toh Deewana Hai\n",
      "Dil Toh Baccha Hai Ji\n",
      "Dil Pardesi Ho Gayaa\n",
      "Dil Ne Jise Apna Kahaa\n",
      "Dil Maange More\n",
      "Dil Kabaddi\n",
      "Dil Ka Rishta\n",
      "Dil Juunglee\n",
      "Dil Jo Na Keh Saka\n",
      "Dil Jo Bhi Kahey...\n",
      "Dil Dosti Etc\n",
      "Dil Diya Hai\n",
      "Dil Dhadakne Do\n",
      "Dil Bole Hadippa!\n",
      "Dil Bechara Pyaar Ka Maara\n",
      "Dil Bechara\n",
      "Dhund (2003 film)\n",
      "Dhoop\n",
      "Dhoondte Reh Jaaoge\n",
      "Dhoom 3\n",
      "Dhoom 2\n",
      "Dhoom\n",
      "Dhol (film)\n",
      "Dhokha\n",
      "Dhobi Ghat (film)\n",
      "Dharti Kahe Pukar Ke (2006 film)\n",
      "Dharm (film)\n",
      "Dharam Sankat Mein\n",
      "Dhanak\n",
      "Dhamaal\n",
      "Dhadak\n",
      "Devi (2016 film)\n",
      "Devdas (2002 Hindi film)\n",
      "Devaki (2005 film)\n",
      "Dev (2004 film)\n",
      "Detective Byomkesh Bakshy!\n",
      "Desi Kattey\n",
      "Desi Boyz\n",
      "Deshdrohi\n",
      "Department (film)\n",
      "Delhi-6\n",
      "Delhi Safari\n",
      "Delhi Belly (film)\n",
      "Dekh Tamasha Dekh\n",
      "Dehraadun Diary\n",
      "Deewane Huye Paagal\n",
      "Deewaar (2004 film)\n",
      "Dedh Ishqiya\n",
      "Dear Zindagi\n",
      "Dear Maya\n",
      "Dear Friend Hitler\n",
      "Dear Dad (film)\n",
      "Deadline: Sirf 24 Ghante\n",
      "De Taali\n",
      "De De Pyaar De\n",
      "De Dana Dan\n",
      "Days of Tafree\n",
      "Dasvidaniya\n",
      "Dassehra\n",
      "Darwaaza Bandh Rakho\n",
      "Darr @ the Mall\n",
      "Darna Zaroori Hai\n",
      "Darna Mana Hai\n",
      "Darling (2007 Indian film)\n",
      "Dangerous Ishhq\n",
      "Dangal (film)\n",
      "Damadamm!\n",
      "Daddy Cool (2009 Hindi film)\n",
      "Daddy (2017 film)\n",
      "Dabangg 3\n",
      "Dabangg 2\n",
      "Dabangg\n",
      "Daawat-e-Ishq\n",
      "Daas Dev\n",
      "D-Day (2013 film)\n",
      "D (film)\n",
      "Crook (film)\n",
      "Creature 3D\n",
      "Crazy Cukkad Family\n",
      "Court (film)\n",
      "Corporate (2006 film)\n",
      "Contract (2008 film)\n",
      "Company (film)\n",
      "Commando: A One Man Army\n",
      "Commando 3 (film)\n",
      "Coffee with D\n",
      "Coffee Bloom\n",
      "Cocktail (2012 film)\n",
      "Click (2010 film)\n",
      "Classic – Dance of Love\n",
      "CityLights (2014 film)\n",
      "City of Gold (2010 film)\n",
      "Cigarette Ki Tarah\n",
      "Chura Liyaa Hai Tumne\n",
      "Chup Chup Ke\n",
      "Chori Chori (2003 film)\n",
      "Chor Chor Super Chor\n",
      "Chocolate (2005 film)\n",
      "Chittagong (film)\n",
      "Chintu Ji\n",
      "Chingaari\n",
      "Chinar Daastaan-E-Ishq\n",
      "Chillar Party\n",
      "Children of War (2014 film)\n",
      "Children of Heaven\n",
      "Chicken Curry Law\n",
      "Chhota Bheem and the Throne of Bali\n",
      "Chhodon Naa Yaar\n",
      "Chetna: The Excitement\n",
      "Chennai Express\n",
      "Chehraa\n",
      "Chef (2017 film)\n",
      "Cheeni Kum\n",
      "Chatur Singh Two Star\n",
      "Chashme Baddoor (2013 film)\n",
      "Chase (2010 film)\n",
      "Chargesheet (film)\n",
      "Charas (2004 film)\n",
      "Chandni Chowk to China\n",
      "Chand Sa Roshan Chehra\n",
      "Chand Ke Paar Chalo (film)\n",
      "Chance Pe Dance\n",
      "Chamku\n",
      "Chameli (film)\n",
      "Chalte Chalte (2003 film)\n",
      "Chalo Dilli\n",
      "Challo Driver\n",
      "Chalk n Duster\n",
      "Chal Pichchur Banate Hain\n",
      "Chal Chala Chal\n",
      "Chakravyuh (2012 film)\n",
      "Chak De! India\n",
      "Chaarfutiya Chhokare\n",
      "Chaar Din Ki Chandni\n",
      "Chaalis Chauraasi\n",
      "Chaahat – Ek Nasha\n",
      "Cash (2007 film)\n",
      "Calendar Girls (2015 film)\n",
      "Calcutta Mail\n",
      "Calapor (film)\n",
      "C Kkompany\n",
      "Bypass Road (film)\n",
      "Bunty Aur Babli\n",
      "Bumper Draw\n",
      "Bumm Bumm Bole\n",
      "Bumboo\n",
      "Bullett Raja\n",
      "Bullet: Ek Dhamaka\n",
      "Buddha in a Traffic Jam\n",
      "Buddha Mar Gaya\n",
      "Bubble Gum (film)\n",
      "Brothers (2015 film)\n",
      "Brij Mohan Amar Rahe\n",
      "Breakaway (2011 film)\n",
      "Break Ke Baad\n",
      "Brahman Naman\n",
      "Boss (2013 Hindi film)\n",
      "Border (1997 film)\n",
      "Boom (film)\n",
      "Bombay to Goa (2007 film)\n",
      "Bombay to Bangkok\n",
      "Bombay Velvet\n",
      "Bombay Talkies (film)\n",
      "Bombairiya\n",
      "Bollywood Diaries\n",
      "Bol Bachchan\n",
      "Bodyguard (2011 Hindi film)\n",
      "Bobby Jasoos\n",
      "Bluffmaster!\n",
      "Blue (2009 film)\n",
      "Bloody Isshq\n",
      "Blood Money (2012 film)\n",
      "Blood Brothers (2007 Indian film)\n",
      "Blackmail (2005 film)\n",
      "Black Friday (2007 film)\n",
      "Black (2005 film)\n",
      "Bittoo Boss\n",
      "Bioscopewala\n",
      "Bin Bulaye Baraati\n",
      "Billu\n",
      "Big Brother (2007 film)\n",
      "Bhram\n",
      "Bhopal: A Prayer for Rain\n",
      "Bhoothnath Returns\n",
      "Bhoothnath\n",
      "Bhoot Unkle\n",
      "Bhoot Returns\n",
      "Bhoot (film)\n",
      "Bhoomi (film)\n",
      "Bhool Bhulaiyaa\n",
      "Bhola in Bollywood\n",
      "Bheja Fry 2\n",
      "Bheja Fry (film)\n",
      "Bhavesh Joshi Superhero\n",
      "Bhanwarey\n",
      "Bhaiaji Superhit\n",
      "Bhagmati (2005 film)\n",
      "Bhagam Bhag\n",
      "Bhaag Milkha Bhaag\n",
      "Bhaag Johnny\n",
      "Bezubaan Ishq\n",
      "Beyond the Clouds (2017 film)\n",
      "Bewakoofiyaan\n",
      "Bewafaa (2005 film)\n",
      "Being Cyrus\n",
      "Beiimaan Love\n",
      "Behen Hogi Teri\n",
      "Begum Jaan\n",
      "Befikre\n",
      "Bbuddah... Hoga Terra Baap\n",
      "Bazaar E Husn\n",
      "Batti Gul Meter Chalu\n",
      "Battalion 609\n",
      "Batla House\n",
      "Basti (film)\n",
      "Bas Ek Pal\n",
      "Barsaat (2005 film)\n",
      "Barkhaa\n",
      "Barfi!\n",
      "Bareilly Ki Barfi\n",
      "Bardaasht\n",
      "Barah Aana\n",
      "Bank Chor\n",
      "Banjo (2016 film)\n",
      "Bangistan\n",
      "Bang Bang!\n",
      "Bandook\n",
      "Band Baaja Baaraat\n",
      "Banaras (2006 film)\n",
      "Balwinder Singh Famous Ho Gaya\n",
      "Bala (2019 film)\n",
      "Bajrangi Bhaijaan\n",
      "Bajirao Mastani\n",
      "Bajatey Raho\n",
      "Baghban (2003 film)\n",
      "Badrinath Ki Dulhania\n",
      "Badmashiyaan\n",
      "Badlapur Boys\n",
      "Badlapur (film)\n",
      "Badla (2019 film)\n",
      "Badhaai Ho\n",
      "Bachna Ae Haseeno\n",
      "Bachke Rehna Re Baba\n",
      "Bachche Kachche Sachche\n",
      "Baby (2015 Hindi film)\n",
      "Babumoshai Bandookbaaz\n",
      "Babuji Ek Ticket Bambai\n",
      "Babloo Happy Hai\n",
      "Baazaar\n",
      "Baaz: A Bird in Danger\n",
      "Baat Bann Gayi\n",
      "Baar Baar Dekho\n",
      "Baaghi 2\n",
      "Baaghi (2016 film)\n",
      "Baabul (2006 film)\n",
      "Baabarr\n",
      "B.A. Pass\n",
      "Azhar (film)\n",
      "Awarapan\n",
      "Awara Paagal Deewana\n",
      "Aval (2017 film)\n",
      "Aurangzeb (film)\n",
      "Aur Pappu Paas Ho Gaya\n",
      "Ata Pata Laapata\n",
      "Asambhav\n",
      "Aryan: Unbreakable\n",
      "Article 15 (film)\n",
      "Armaan (2003 film)\n",
      "Arjun: The Warrior Prince\n",
      "Arjun Patiala\n",
      "Apne\n",
      "Apna Sapna Money Money\n",
      "Apna Asmaan\n",
      "Apartment (film)\n",
      "Apaharan\n",
      "Anwar (2007 film)\n",
      "Anuradha (2014 film)\n",
      "Anthony Kaun Hai?\n",
      "Antardwand\n",
      "Anna (2016 film)\n",
      "Ankur Arora Murder Case\n",
      "Ankhon Dekhi\n",
      "Ankahee (2006 film)\n",
      "Anjaane (2005 film)\n",
      "Anjaana Anjaani\n",
      "Angel (2011 film)\n",
      "Andhadhun\n",
      "Andaaz\n",
      "Andaaz\n",
      "Anamika (2008 film)\n",
      "Anaarkali of Aarah\n",
      "Amit Sahni Ki List\n",
      "Amavas\n",
      "Always Kabhi Kabhi\n",
      "Aloo Chaat (film)\n",
      "Alone (2015 Hindi film)\n",
      "Allah Ke Banday\n",
      "All the Best: Fun Begins\n",
      "All Is Well (2015 film)\n",
      "Aligarh (film)\n",
      "Albert Pinto Ko Gussa Kyun Aata Hai?\n",
      "Alag\n",
      "Aladin (film)\n",
      "Aksar 2\n",
      "Aksar\n",
      "Akaash Vani\n",
      "Ajji\n",
      "Ajab Prem Ki Ghazab Kahani\n",
      "Ajab Gazabb Love\n",
      "Aiyyaa\n",
      "Aiyaary\n",
      "Aitraaz\n",
      "Aisa Yeh Jahaan\n",
      "Aisa Kyon Hota Hai?\n",
      "Airlift (film)\n",
      "Ahista Ahista (2006 film)\n",
      "Agnipankh\n",
      "Agneepath (2012 film)\n",
      "Aggar (film)\n",
      "Agent Vinod (2012 film)\n",
      "Aetbaar\n",
      "Ae Dil Hai Mushkil\n",
      "Adharm (2006 film)\n",
      "Action Replayy\n",
      "Action Jackson (2014 film)\n",
      "Acid Factory\n",
      "Accident on Hill Road\n",
      "Ab Tumhare Hawale Watan Saathiyo\n",
      "Ab Tak Chhappan 2\n",
      "Aazaan\n",
      "Aasma: The Sky Is the Limit\n",
      "Aashiqui.in\n",
      "Aashiqui 2\n",
      "Aashiq Banaya Aapne\n",
      "Aashayein\n",
      "Aarakshan\n",
      "Aapko Pehle Bhi Kahin Dekha Hai\n",
      "Aap Ki Khatir (2006 film)\n",
      "Aap Kaa Surroor\n",
      "Aankhen (2002 film)\n",
      "Aanch\n",
      "Aan: Men at Work\n",
      "Aalaap (film)\n",
      "Aakrosh (2010 film)\n",
      "Aakhari Decision\n",
      "Aaja Nachle\n",
      "Aaj Ka Andha Kanoon\n",
      "Aagey Se Right\n",
      "Aag (2007 film)\n",
      "Aabra Ka Daabra\n",
      "Aa Gaya Hero\n",
      "Aa Dekhen Zara\n",
      "ABCD 2\n",
      "A Gentleman\n",
      "A Flying Jatt\n",
      "A Flat (film)\n",
      "A Decent Arrangement\n",
      "?: A Question Mark\n",
      "99.9 FM (film)\n",
      "99 (2009 film)\n",
      "88 Antop Hill\n",
      "7½ Phere\n",
      "7 Khoon Maaf\n",
      "7 Hours to Go\n",
      "68 Pages\n",
      "5 Weddings\n",
      "404 (film)\n",
      "3G (film)\n",
      "36 China Town\n",
      "31st October (film)\n",
      "3 Storeys\n",
      "3 Idiots\n",
      "3 Deewarein\n",
      "3 A.M. (2014 film)\n",
      "22 Yards\n",
      "2 States (2014 film)\n",
      "1971 (2007 film)\n",
      "1920: The Evil Returns\n",
      "1920: London\n",
      "1920 (film)\n"
     ]
    }
   ],
   "source": [
    "# looping\n",
    "for i in movies.index:\n",
    "  print(i)"
   ]
  },
  {
   "cell_type": "code",
   "execution_count": 150,
   "metadata": {},
   "outputs": [
    {
     "name": "stdout",
     "output_type": "stream",
     "text": [
      "Water Bottle : 10 \n",
      "Sugar : 45 \n",
      "Rice : 80 \n",
      "Vegetable oil : 160 \n",
      "Moong Dal : 120 \n"
     ]
    }
   ],
   "source": [
    "for k,v in Items.items():\n",
    "    print(\"{} : {} \".format(k,v))"
   ]
  },
  {
   "cell_type": "code",
   "execution_count": 151,
   "metadata": {},
   "outputs": [
    {
     "name": "stdout",
     "output_type": "stream",
     "text": [
      "Zor Lagaa Ke...Haiya! : Meghan Jadhav \n",
      "Zokkomon : Darsheel Safary \n",
      "Zindagi Tere Naam : Mithun Chakraborty \n",
      "Zindagi Na Milegi Dobara : Hrithik Roshan \n",
      "Zindagi 50-50 : Veena Malik \n",
      "Zindaggi Rocks : Sushmita Sen \n",
      "Zinda (film) : Sanjay Dutt \n",
      "Zila Ghaziabad : Vivek Oberoi \n",
      "Zid (2014 film) : Mannara Chopra \n",
      "Zero (2018 film) : Shah Rukh Khan \n",
      "Zeher : Emraan Hashmi \n",
      "Zed Plus : Vinod Acharya \n",
      "Zameer: The Fire Within : Ajay Devgn \n",
      "Zameen (2003 film) : Ajay Devgn \n",
      "Zamaanat : Jeetendra \n",
      "Yuvvraaj : Salman Khan \n",
      "Yuva : Ajay Devgn \n",
      "Yun Hota Toh Kya Hota : Paresh Rawal \n",
      "Youngistaan : Jackky Bhagnani \n",
      "Yeh Saali Aashiqui : Vardhan Puri \n",
      "Yeh Mera India : Anupam Kher \n",
      "Yeh Lamhe Judaai Ke : Shah Rukh Khan \n",
      "Yeh Khula Aasmaan : Anya Anand \n",
      "Yeh Jawaani Hai Deewani : Ranbir Kapoor \n",
      "Yeh Hai India : Gavie Chahal \n",
      "Yeh Hai Bakrapur : Anshuman Jha \n",
      "Yeh Dooriyan : Deepshika Nagpal \n",
      "Yeh Dil : Tusshar Kapoor \n",
      "Yatra (2007 film) : Rekha \n",
      "Yamla Pagla Deewana: Phir Se : Dharmendra \n",
      "Yamla Pagla Deewana : Nafisa Ali \n",
      "Yakeen (2005 film) : Arjun Rampal \n",
      "Yadvi – The Dignified Princess : Prisha Aneja \n",
      "Yaaram (2019 film) : Siddhanth Kapoor \n",
      "Ya Rab : Indrapal Ahuja \n",
      "Xcuse Me : Sharman Joshi \n",
      "Woodstock Villa : Sikander Kher \n",
      "Woh Lamhe... : Kangana Ranaut \n",
      "Why Cheat India : Emraan Hashmi \n",
      "What's Your Raashee? : Harman Baweja \n",
      "What the Fish : Manu Rishi Chadha \n",
      "Well Done Abba : Boman Irani \n",
      "Welcome to Sajjanpur : Shreyas Talpade \n",
      "Welcome Back (film) : Anil Kapoor \n",
      "Welcome 2 Karachi : Arshad Warsi \n",
      "Welcome (2007 film) : Akshay Kumar \n",
      "Wedding Pullav : Diganth \n",
      "Wedding Anniversary : Nana Patekar \n",
      "Waris Shah: Ishq Daa Waaris : Gurdas Maan \n",
      "War Chhod Na Yaar : Sharman Joshi \n",
      "Waqt: The Race Against Time : Amitabh Bachchan \n",
      "Wanted (2009 film) : Salman Khan \n",
      "Wake Up Sid : Ranbir Kapoor \n",
      "Wake Up India : Elisha Kriis \n",
      "Wajah Tum Ho : Sharman Joshi \n",
      "Waiting (2015 film) : Naseeruddin Shah \n",
      "Waisa Bhi Hota Hai Part II : Arshad Warsi \n",
      "Wah Taj : Shreyas Talpade \n",
      "Wafa: A Deadly Love Story : Rajesh Khanna \n",
      "Waarrior Savitri : Niharica Raizada \n",
      "W (2014 film) : Leeza Mangaldas \n",
      "Vodka Diaries : Kay Kay Menon \n",
      "Vivah : Shahid Kapoor \n",
      "Vishwaroopam : Kamal Haasan \n",
      "Viruddh... Family Comes First : Amitabh Bachchan \n",
      "Vidyaarthi : Vikram Aditya \n",
      "Victory (2009 film) : Harman Baweja \n",
      "Vicky Donor : Ayushmann Khurrana \n",
      "Viceroy's House (film) : Hugh Bonneville \n",
      "Via Darjeeling : Kay Kay Menon \n",
      "Veerey Ki Wedding : Pulkit Samrat \n",
      "Veerappan (2016 film) : Sachiin Joshi \n",
      "Veer-Zaara : Shah Rukh Khan \n",
      "Veer (2010 film) : Salman Khan \n",
      "Valentine's Night : Shikhi Gupta \n",
      "Vaastu Shastra (film) : Vicky Ahuja \n",
      "Vaah! Life Ho Toh Aisi! : Shahid Kapoor \n",
      "Vaada Raha : Bobby Deol \n",
      "Vaada (film) : Arjun Rampal \n",
      "Uvaa : Mohit Baghel \n",
      "Utthaan : Priyanshu Chatterjee \n",
      "Utt Pataang : Vinay Pathak \n",
      "Uri: The Surgical Strike : Vicky Kaushal \n",
      "United Six : Russell Geoffrey Banks \n",
      "Union Leader (film) : Rahul Bhat \n",
      "Ungli : Emraan Hashmi \n",
      "Umrika : Aashish Bhatt \n",
      "Umrao Jaan (2006 film) : Aishwarya Rai Bachchan \n",
      "Umar (film) : Jimmy Sheirgill \n",
      "Ujda Chaman : Sunny Singh Nijjar \n",
      "Ugly (film) : Rahul Bhat \n",
      "Udta Punjab : Shahid Kapoor \n",
      "Udaan (2010 film) : Rajat Barmecha \n",
      "U R My Jaan : Mikaal \n",
      "U Me Aur Hum : Ajay Devgn \n",
      "Turning 30 : Gul Panag \n",
      "Tumsa Nahin Dekha: A Love Story : Emraan Hashmi \n",
      "Tumhari Sulu : Vidya Balan \n",
      "Tumbbad : Sohum Shah \n",
      "Tum Milo Toh Sahi : Nana Patekar \n",
      "Tum Mile : Emraan Hashmi \n",
      "Tum Bin II : Neha Sharma \n",
      "Tulsi (film) : Manisha Koirala \n",
      "Tujhe Meri Kasam : Riteish Deshmukh \n",
      "Tubelight (2017 Hindi film) : Salman Khan \n",
      "Trump Card (film) : Vikrum Kumar \n",
      "Trapped (2016 Hindi film) : Rajkummar Rao \n",
      "Traffic Signal (film) : Kunal Khemu \n",
      "Traffic (2016 film) : Manoj Bajpayee \n",
      "Total Siyapaa : Ali Zafar \n",
      "Total Dhamaal : Ajay Devgn \n",
      "Toonpur Ka Super Hero : Ajay Devgn \n",
      "Tom Dick and Harry (2006 film) : Rakesh Bedi \n",
      "Toilet: Ek Prem Katha : Akshay Kumar \n",
      "Toh Baat Pakki! : Tabu \n",
      "Titoo MBA : Nishant Dahiya \n",
      "Titli (2014 film) : Nawazuddin Siddiqui \n",
      "Tiger Zinda Hai : Salman Khan \n",
      "Thugs of Hindostan : Aamir Khan \n",
      "Thodi Life Thoda Magic : Saahil Chadha \n",
      "Thoda Tum Badlo Thoda Hum : Arya Babbar \n",
      "Thoda Pyaar Thoda Magic : Saif Ali Khan \n",
      "Thoda Lutf Thoda Ishq : Bhavita Anand \n",
      "The Zoya Factor (film) : Sonam Kapoor \n",
      "The Xposé : Himesh Reshammiya \n",
      "The Train (2007 film) : Emraan Hashmi \n",
      "The Tashkent Files : Naseeruddin Shah \n",
      "The Stoneman Murders : Kay Kay Menon \n",
      "The Sky Is Pink : Zaira Wasim \n",
      "The Silent Heroes : Mann Bagga \n",
      "The Shaukeens : Akshay Kumar \n",
      "The Pink Mirror : Edwin Fernandes \n",
      "The Namesake (film) : Kal Penn \n",
      "The Lunchbox : Irrfan Khan \n",
      "The Last Lear : Amitabh Bachchan \n",
      "The Killer (2006 film) : Irrfan Khan \n",
      "The Journey of Karma : Shakti Kapoor \n",
      "The Japanese Wife : Rahul Bose \n",
      "The Hero: Love Story of a Spy : Sunny Deol \n",
      "The Ghazi Attack : Rana Daggubati \n",
      "The Final Exit : Kunaal Roy Kapur \n",
      "The Film Emotional Atyachar : Ranvir Shorey \n",
      "The Film : Nassar Abdulla \n",
      "The Dirty Picture : Vidya Balan \n",
      "The Bypass : Nawazuddin Siddiqui \n",
      "The Blueberry Hunt : Kartik Elangovan \n",
      "The Blue Umbrella (2005 film) : Pankaj Kapur \n",
      "The Accidental Prime Minister (film) : Anupam Kher \n",
      "Thanks Maa : Master Shams \n",
      "Thank You (2011 film) : Akshay Kumar \n",
      "Thackeray (film) : Nawazuddin Siddiqui \n",
      "Tezz : Anil Kapoor \n",
      "Tevar : Arjun Kapoor \n",
      "Teri Meri Kahaani (film) : Shahid Kapoor \n",
      "Tere Naam : Salman Khan \n",
      "Tere Naal Love Ho Gaya : Riteish Deshmukh \n",
      "Tere Mere Phere : Vinay Pathak \n",
      "Tere Bin Laden: Dead or Alive : Parthaa Akerkar \n",
      "Tere Bin Laden : Ali Zafar \n",
      "Tera Kya Hoga Johnny : Neil Nitin Mukesh \n",
      "Tell Me O Kkhuda : Dharmendra \n",
      "Tehzeeb (2003 film) : Shabana Azmi \n",
      "Teesri Aankh: The Hidden Camera : Sunny Deol \n",
      "Tees Maar Khan (2010 film) : Akshay Kumar \n",
      "Teen Thay Bhai : Om Puri \n",
      "Teen Patti (film) : Amitabh Bachchan \n",
      "Te3n : Amitabh Bachchan \n",
      "Taxi No. 9211 : Nana Patekar \n",
      "Tathastu : Sanjay Dutt \n",
      "Tashan (film) : Akshay Kumar \n",
      "Tanu Weds Manu: Returns : Kangana Ranaut \n",
      "Tanu Weds Manu: Returns : Kangana Ranaut \n",
      "Tanu Weds Manu : Madhavan \n",
      "Tango Charlie : Ajay Devgn \n",
      "Tamanchey : Nikhil Dwivedi \n",
      "Talvar (film) : Irrfan Khan \n",
      "Talaash: The Hunt Begins... : Rakhee Gulzar \n",
      "Talaash: The Answer Lies Within : Aamir Khan \n",
      "Take It Easy (2015 film) : Sulabha Arya \n",
      "Taj Mahal: An Eternal Love Story : Zulfi Sayed \n",
      "Tahaan : Victor Banerjee \n",
      "Table No. 21 : Paresh Rawal \n",
      "Taarzan: The Wonder Car : Vatsal Sheth \n",
      "Taare Zameen Par : Darsheel Safary \n",
      "Ta Ra Rum Pum : Saif Ali Khan \n",
      "Sweetiee Weds NRI : Himansh Kohli \n",
      "Swami (2007 film) : Manoj Bajpayee \n",
      "Swades : Shah Rukh Khan \n",
      "Super Nani : Rekha \n",
      "Super Model (film) : Ashmit Patel \n",
      "Super 30 (film) : Hrithik Roshan \n",
      "Suno Sasurjee : Aftab Shivdasani \n",
      "Sunglass (film) : Jaya Bachchan \n",
      "Sunday (2008 film) : Ajay Devgn \n",
      "Summer 2007 : Ahraz Ahmed \n",
      "Sultan (2016 film) : Salman Khan \n",
      "Sulemani Keeda : Naveen Kasturia \n",
      "Sukhmani: Hope for Life : Gurdas Maan \n",
      "Sui Dhaaga : Anushka Sharma \n",
      "Stumped (film) : Raveena Tandon \n",
      "Student of the Year 2 : Tiger Shroff \n",
      "Student of the Year : Alia Bhatt \n",
      "Strings of Passion : Zeenat Aman \n",
      "Striker (2010 film) : Siddharth \n",
      "Stree (2018 film) : Rajkummar Rao \n",
      "Strangers (2007 Hindi film) : Jimmy Sheirgill \n",
      "Staying Alive (2012 film) : Jahangir Khan \n",
      "Station (2014 film) : Kanika Batra \n",
      "Stanley Ka Dabba : Partho A. Gupte \n",
      "Ssukh : Aarti Chhabria \n",
      "Sssshhh... : Tanishaa Mukerji \n",
      "Speed (2007 film) : Urmila Matondkar \n",
      "Special 26 : Akshay Kumar \n",
      "Spark (2014 film) : Rati Agnihotri \n",
      "Souten: The Other Woman : Mahima Chaudhry \n",
      "Sorry Daddy : Shamim Khan \n",
      "Sorry Bhai! : Shabana Azmi \n",
      "Sooper Se Ooper : Tinnu Anand \n",
      "Sonu Ke Titu Ki Sweety : Kartik Aaryan \n",
      "Sons of Ram : Sunidhi Chauhan \n",
      "Soni (film) : Geetika Vidya Ohlyan \n",
      "Sonchiriya : Sushant Singh Rajput \n",
      "Sonali Cable : Rhea Chakraborty \n",
      "Son of Sardaar : Ajay Devgn \n",
      "Socha Na Tha : Abhay Deol \n",
      "Soch Lo : Barkha Madan \n",
      "Sixteen (2013 Indian film) : Wamiqa Gabbi \n",
      "Sirf (film) : Kay Kay Menon \n",
      "Singham Returns : Anupam Kher \n",
      "Singham : Ajay Devgn \n",
      "Singh Saab the Great : Sunny Deol \n",
      "Singh Is Kinng : Akshay Kumar \n",
      "Singh Is Bliing : Akshay Kumar \n",
      "Simran (film) : Kangana Ranaut \n",
      "Simmba : Ranveer Singh \n",
      "Silsiilay : Tabu \n",
      "Sikandar (2009 film) : Parzaan Dastur \n",
      "Siddharth (2013 film) : Rajesh Tailang \n",
      "Shukriya: Till Death Do Us Apart : Anupam Kher \n",
      "Shuddh Desi Romance : Sushant Singh Rajput \n",
      "Shubh Mangal Saavdhan : Ayushmann Khurrana \n",
      "Showbiz (film) : Tushar Jalota \n",
      "Shortkut : Sanjay Dutt \n",
      "Shortcut Safari : Jimmy Sheirgill \n",
      "Shortcut Romeo : Neil Nitin Mukesh \n",
      "Shorgul : Jimmy Sheirgill \n",
      "Shor in the City : Sendhil Ramamurthy \n",
      "Shootout at Lokhandwala : Amitabh Bachchan \n",
      "Sholay : Sanjeev Kumar \n",
      "Shivaay : Ajay Devgn \n",
      "Shiva (2006 film) : Mohit Ahlawat \n",
      "Shirin Farhad Ki Toh Nikal Padi : Freny Bhagat \n",
      "Ship of Theseus (film) : Aida Elkashef \n",
      "Shikhar (film) : Ajay Devgn \n",
      "Sheesha (2005 film) : Neha Dhupia \n",
      "Sheen (film) : Tarun Arora \n",
      "Shart: The Challenge : Tusshar Kapoor \n",
      "Sharafat Gayi Tel Lene : Zayed Khan \n",
      "Shanghai (2012 film) : Emraan Hashmi \n",
      "Shamitabh : Amitabh Bachchan \n",
      "Shakalaka Boom Boom : Bobby Deol \n",
      "Shaitan (film) : Kalki Koechlin \n",
      "Shahid (film) : Rajkummar Rao \n",
      "Shagird (2011 film) : Nana Patekar \n",
      "Shabri : Isha Koppikar \n",
      "Shabnam Mausi : Ashutosh Rana \n",
      "Shabd (film) : Sanjay Dutt \n",
      "Shab (film) : Ashish Bisht \n",
      "Shaapit : Aditya Narayan \n",
      "Shaandaar : Shahid Kapoor \n",
      "Shaadi Se Pehle : Akshaye Khanna \n",
      "Shaadi No. 1 : Fardeen Khan \n",
      "Shaadi Mein Zaroor Aana : Rajkummar Rao \n",
      "Shaadi Ke Side Effects : Farhan Akhtar \n",
      "Shaadi Karke Phas Gaya Yaar : Salman Khan \n",
      "Shaadi Ka Laddoo : Sanjay Suri \n",
      "Setters (film) : Shreyas Talpade \n",
      "Sehar : Arshad Warsi \n",
      "Section 375 : Akshaye Khanna \n",
      "Secret Superstar : Zaira Wasim \n",
      "Second Hand Husband : Dharmendra \n",
      "Say Salaam India : Mandar Jadhav \n",
      "Satyameva Jayate (2018 film) : John Abraham \n",
      "Satyagraha (film) : Amitabh Bachchan \n",
      "Satya 2 : Puneet Singh Ratn \n",
      "Satta (film) : Raveena Tandon \n",
      "Satrangee Parachute : Sanjay Mishra \n",
      "Satellite Shankar : Suraj Pancholi \n",
      "Sarkar Raj : Amitabh Bachchan \n",
      "Sarkar 3 : Amitabh Bachchan \n",
      "Sarkar (2005 film) : Amitabh Bachchan \n",
      "Sarhad Paar : Mahima Chaudhry \n",
      "Sarbjit (film) : Randeep Hooda \n",
      "Santa Banta Pvt Ltd : Boman Irani \n",
      "Sankat City : Kay Kay Menon \n",
      "Sanju : Ranbir Kapoor \n",
      "Sandwich (2006 film) : Govinda \n",
      "Sanam Re : Rishi Kapoor \n",
      "Samrat & Co. : Rajeev Khandelwal \n",
      "Samay: When Time Strikes : Sushmita Sen \n",
      "Sallu Ki Shaadi : Zeenat Aman \n",
      "Salaam-e-Ishq: A Tribute to Love : Salman Khan \n",
      "Salaam Namaste : Saif Ali Khan \n",
      "Sahi Dhandhe Galat Bande : Anupam Kher \n",
      "Saheb Biwi Aur Gangster Returns : Jimmy Sheirgill \n",
      "Saheb Biwi Aur Gangster 3 : Sanjay Dutt \n",
      "Saheb Biwi Aur Gangster : Jimmy Sheirgill \n",
      "Sadiyaan : Rekha \n",
      "Sadda Adda : Karan Sharma \n",
      "Sacred Evil – A True Story : Sarika \n",
      "Sachin: A Billion Dreams : Sachin Tendulkar \n",
      "Sabki Bajegi Band : Swara Bhaskar \n",
      "Saaya (2003 film) : John Abraham \n",
      "Saawariya : Rani Mukerji \n",
      "Saawan... The Love Season : Salman Khan \n",
      "Saathiya (film) : Vivek Oberoi \n",
      "Saat Uchakkey : Manoj Bajpayee \n",
      "Saas Bahu Aur Sensex : Kiron Kher \n",
      "Saare Jahaan Se Mehnga : Vishwa Mohan Badola \n",
      "Saansein : Sonarika Bhadoria \n",
      "Saankal : Tanima Bhattacharya \n",
      "Saand Ki Aankh : Taapsee Pannu \n",
      "Saaho : Jacqueline Fernandez \n",
      "Rustom (film) : Ileana D'Cruz \n",
      "Rush (2012 film) : Emraan Hashmi \n",
      "Running Shaadi : Arsh Bajwa \n",
      "Run (2004 film) : Abhishek Bachchan \n",
      "Rules: Pyaar Ka Superhit Formula : Tanuja \n",
      "Rukh (film) : Manoj Bajpayee \n",
      "Rudraksh (film) : Sanjay Dutt \n",
      "Roy (film) : Arjun Rampal \n",
      "Rough Book : Tannishtha Chatterjee \n",
      "Rokkk : Tanushree Dutta \n",
      "Rok Sako To Rok Lo : Sunny Deol \n",
      "Rog : Irrfan Khan \n",
      "Rocky Handsome : John Abraham \n",
      "Rockstar (2011 film) : Ranbir Kapoor \n",
      "Rocket Singh: Salesman of the Year : Ranbir Kapoor \n",
      "Rock On!! : Arjun Rampal \n",
      "Rock On 2 : Farhan Akhtar \n",
      "Roar: Tigers of the Sundarbans : Aadil Chahal \n",
      "Roadside Romeo : Saif Ali Khan \n",
      "Road to Sangam : Paresh Rawal \n",
      "Riyasat (film) : Rajesh Khanna \n",
      "Risknamaa : Garima Agarwal \n",
      "Risk (2007 film) : Vinod Khanna \n",
      "Right Yaaa Wrong : Sunny Deol \n",
      "Right Here Right Now (film) : Ankit \n",
      "Ribbon (film) : Kalki Koechlin \n",
      "Revolver Rani : Kangana Ranaut \n",
      "Revati (film) : Kashmira Shah \n",
      "Red: The Dark Side : Aftab Shivdasani \n",
      "Red Swastik : Sherlyn Chopra \n",
      "Red Alert: The War Within : Sunil Shetty \n",
      "Rebellious Flower : Prince Shah \n",
      "Rascals (2011 film) : Ajay Devgn \n",
      "Raqeeb : Rahul Khanna \n",
      "Rann (film) : Amitabh Bachchan \n",
      "Rangrezz : Jackky Bhagnani \n",
      "Rangoon (2017 Hindi film) : Kangana Ranaut \n",
      "Rang Rasiya : Randeep Hooda \n",
      "Rang De Basanti : Aamir Khan \n",
      "Ranchi Diaries : Soundarya Sharma \n",
      "Ranbanka : Manish Paul \n",
      "Ramprasad Ki Tehrvi : Naseeruddin Shah \n",
      "Ramji Londonwaley : Madhavan \n",
      "Ramayana: The Epic : Manoj Bajpayee \n",
      "Raman Raghav 2.0 : Nawazuddin Siddiqui \n",
      "Ramaiya Vastavaiya : Shruti Haasan \n",
      "Ramaa: The Saviour : Sahil Khan \n",
      "Rakhtbeej : Julia Datt \n",
      "Rakht : Sanjay Dutt \n",
      "Rajma Chawal : Amyra Dastur \n",
      "Rajjo : Kangana Ranaut \n",
      "Raja Natwarlal : Emraan Hashmi \n",
      "Raja Bhaiya (film) : Sadashiv Amrapurkar \n",
      "Raincoat (film) : Ajay Devgn \n",
      "Raid (2018 film) : Ajay Devgn \n",
      "Rahasya : Kay Kay Menon \n",
      "Ragini MMS 2 : Sunny Leone \n",
      "Ragini MMS : Kainaz Motivala \n",
      "Raghu Romeo : Vijay Raaz \n",
      "Raees (film) : Raj Arjun \n",
      "Race 3 : Anil Kapoor \n",
      "Race 2 : Saif Ali Khan \n",
      "Race (2008 film) : Saif Ali Khan \n",
      "Rab Ne Bana Di Jodi : Shah Rukh Khan \n",
      "Raazi : Alia Bhatt \n",
      "Raaz: The Mystery Continues : Kangana Ranaut \n",
      "Raaz: Reboot : Emraan Hashmi \n",
      "Raaz (2002 film) : Dino Morea \n",
      "Raavan : Abhishek Bachchan \n",
      "Raat Gayi Baat Gayi? : Aamir Bashir \n",
      "Raanjhanaa : Dhanush \n",
      "Raag Desh (film) : Kunal Kapoor \n",
      "Raabta (film) : Deepika Padukone \n",
      "Ra.One : Shah Rukh Khan \n",
      "Quick Gun Murugun : Rajendra Prasad \n",
      "Queen (2014 film) : Kangana Ranaut \n",
      "Qissa (film) : Irrfan Khan \n",
      "Qayamat: City Under Threat : Ajay Devgn \n",
      "Qarib Qarib Singlle : Irrfan Khan \n",
      "Qaidi Band : Aadar Jain \n",
      "Pyare Mohan : Fardeen Khan \n",
      "Pyaar Mein Twist : Rishi Kapoor \n",
      "Pyaar Ke Side Effects : Rahul Bose \n",
      "Pyaar Ka Punchnama 2 : Kartik Aaryan \n",
      "Pyaar Ka Punchnama : Kartik Aaryan \n",
      "Pyaar Impossible! : Priyanka Chopra \n",
      "Purani Jeans : Tanuj Virwani \n",
      "Prince (2010 film) : Vivek Oberoi \n",
      "Prem Ratan Dhan Payo : Salman Khan \n",
      "Prem Kaa Game : Arbaaz Khan \n",
      "Prateeksha : Jeetendra \n",
      "Prassthanam : Sanjay Dutt \n",
      "Pranaam : Rajeev Khandelwal \n",
      "Prague (2013 film) : Chandan Roy Sanyal \n",
      "Praan Jaye Par Shaan Na Jaye : Raveena Tandon \n",
      "Poster Boys : Sunny Deol \n",
      "Popcorn Khao! Mast Ho Jao : Akshay Kapoor \n",
      "Policegiri : Sanjay Dutt \n",
      "Police Force: An Inside Story : Akshay Kumar \n",
      "Players (2012 film) : Vinod Khanna \n",
      "Plan (film) : Sanjay Dutt \n",
      "Pizza (2014 film) : Akshay Oberoi \n",
      "Pink (2016 film) : Taapsee Pannu \n",
      "Pinjar (film) : Urmila Matondkar \n",
      "Piku : Deepika Padukone \n",
      "Pihu : Rahul Bagga \n",
      "Photograph (film) : Nawazuddin Siddiqui \n",
      "Phoonk 2 : Sudeep \n",
      "Phobia (2016 film) : Radhika Apte \n",
      "Phir Milenge : Salman Khan \n",
      "Phir Kabhi : Mithun Chakraborty \n",
      "Phir Hera Pheri : Akshay Kumar \n",
      "Phillauri (film) : Anushka Sharma \n",
      "Phhir : Rajniesh Duggall \n",
      "Phata Poster Nikhla Hero : Shahid Kapoor \n",
      "Phas Gaye Re Obama : Rajat Kapoor \n",
      "Phantom (2015 film) : Saif Ali Khan \n",
      "Phamous : Jimmy Sheirgill \n",
      "Pehchaan: The Face of Truth : Vinod Khanna \n",
      "Peepli Live : Omkar Das Manikpuri \n",
      "Paying Guests : Shreyas Talpade \n",
      "Patiala House (film) : Rishi Kapoor \n",
      "Pati Patni Aur Woh (2019 film) : Kartik Aaryan \n",
      "Patel Ki Punjabi Shaadi : Rishi Kapoor \n",
      "Pataakha : Sanya Malhotra \n",
      "Parwana (2003 film) : Ajay Devgn \n",
      "Partner (2007 film) : Salman Khan \n",
      "Parmanu: The Story of Pokhran : John Abraham \n",
      "Parineeta (2005 film) : Saif Ali Khan \n",
      "Parched : Tannishtha Chatterjee \n",
      "Paranthe Wali Gali : Mohinder Gujral \n",
      "Pankh : Bipasha Basu \n",
      "Panchlait : Nayna Bandhopadhyay \n",
      "Paltan (film) : Jackie Shroff \n",
      "Pal Pal Dil Ke Paas : Karan Deol \n",
      "Paisa Vasool : Manisha Koirala \n",
      "Paheli : Shah Rukh Khan \n",
      "Page 3 (film) : Konkona Sen Sharma \n",
      "Pagalpanti (2019 film) : Kriti Kharbanda \n",
      "Padmashree Laloo Prasad Yadav : Sunil Shetty \n",
      "Padmaavat : Deepika Padukone \n",
      "Paathshaala : Nana Patekar \n",
      "Paap : John Abraham \n",
      "Paanch Ghantey Mien Paanch Crore : Nassar Abdulla \n",
      "Paan Singh Tomar (film) : Irrfan Khan \n",
      "Paa (film) : Amitabh Bachchan \n",
      "PM Narendra Modi : Boman Irani \n",
      "PK (film) : Aamir Khan \n",
      "P Se Pyaar F Se Faraar : Bhavesh Kumar \n",
      "P Se PM Tak : Meenakshi Dixit \n",
      "Oye Lucky! Lucky Oye! : Abhay Deol \n",
      "Out of Control (2003 film) : Riteish Deshmukh \n",
      "One by Two (2014 film) : Abhay Deol \n",
      "One Two Three : Tusshar Kapoor \n",
      "One Day: Justice Delivered : Anupam Kher \n",
      "Once Upon ay Time in Mumbai Dobaara! : Akshay Kumar \n",
      "Once Upon a Time in Mumbaai : Ajay Devgn \n",
      "Omkara (2006 film) : Ajay Devgn \n",
      "Omerta (film) : Rajkummar Rao \n",
      "Om-Dar-B-Dar : Gopi Desai \n",
      "Om Shanti Om : Shah Rukh Khan \n",
      "Om (2003 film) : Attin Bhalla \n",
      "Ok Jaanu : Shraddha Kapoor \n",
      "Oh My God (2008 film) : Vinay Pathak \n",
      "October (2018 film) : Varun Dhawan \n",
      "OMG – Oh My God! : Paresh Rawal \n",
      "O Teri : Pulkit Samrat \n",
      "Nothing but Life : Madhavan \n",
      "Notebook (2019 film) : Zaheer Iqbal \n",
      "Not a Love Story (2011 film) : Deepak Dobriyal \n",
      "Noor (film) : Sunny Leone \n",
      "No Smoking (2007 film) : John Abraham \n",
      "No Problem (2010 film) : Sanjay Dutt \n",
      "No One Killed Jessica : Rani Mukerji \n",
      "No Entry : Anil Kapoor \n",
      "Nishabd : Amitabh Bachchan \n",
      "Nirdosh : Ashmit Patel \n",
      "Nil Battey Sannata : Swara Bhaskar \n",
      "Newton (film) : Rajkummar Rao \n",
      "New York (2009 film) : John Abraham \n",
      "Netaji Subhas Chandra Bose: The Forgotten Hero : Vinay Anand \n",
      "Nehlle Pe Dehlla : Sanjay Dutt \n",
      "Neerja : Sonam Kapoor \n",
      "Neal 'n' Nikki : Uday Chopra \n",
      "Nayee Padosan : Vikas Kalantri \n",
      "Nawabzaade : Dharmesh Yelande \n",
      "Nautanki Saala! : Ayushmann Khurrana \n",
      "Naughty @ 40 : Govinda \n",
      "Nasha (film) : Poonam Pandey \n",
      "Naqaab : Bobby Deol \n",
      "Nanu Ki Jaanu : Abhay Deol \n",
      "Nanhe Jaisalmer : Dwij Yadav \n",
      "Namastey London : Akshay Kumar \n",
      "Namaste England : Arjun Kapoor \n",
      "Naksha : Sunny Deol \n",
      "Naina (2005 film) : Urmila Matondkar \n",
      "Naam Shabana : Taapsee Pannu \n",
      "Naach (2004 film) : Antara Mali \n",
      "Na Ghar Ke Na Ghaat Ke : Om Puri \n",
      "NH10 (film) : Anushka Sharma \n",
      "NH-8 Road to Nidhivan : Auroshika Dey \n",
      "My Wife's Murder : Anil Kapoor \n",
      "My Name Is Khan : Shah Rukh Khan \n",
      "My Friend Pinto : Prateik \n",
      "My Brother…Nikhil : Sanjay Suri \n",
      "My Bollywood Bride : Jason Lewis \n",
      "My Birthday Song : Nora Fatehi \n",
      "Muskaan : Aftab Shivdasani \n",
      "Musafir (2004 film) : Anil Kapoor \n",
      "Murder 3 : Randeep Hooda \n",
      "Murder 2 : Emraan Hashmi \n",
      "Murder (2004 film) : Mallika Sherawat \n",
      "Murari the Mad Gentleman : Sanjay Singh \n",
      "Munna Michael : Tiger Shroff \n",
      "Munna Bhai M.B.B.S. : Sanjay Dutt \n",
      "Mummy Punjabi : Kiron Kher \n",
      "Mumbhai Connection : Alieesa P Badresia \n",
      "Mumbai Se Aaya Mera Dost : Abhishek Bachchan \n",
      "Mumbai Salsa : Linda Arsenio \n",
      "Mumbai Meri Jaan : Paresh Rawal \n",
      "Mumbai Matinee : Rahul Bose \n",
      "Mumbai Mast Kallander : Mohsin \n",
      "Mumbai Delhi Mumbai : Shiv Panditt \n",
      "Mumbai Can Dance Saala : Shakti Kapoor \n",
      "Mumbai 125 KM : Karanvir Bohra \n",
      "Mulk (film) : Taapsee Pannu \n",
      "Mukkabaaz : Viineet Kumar \n",
      "Mukhbiir : Sammir Dattani \n",
      "Mujhse Shaadi Karogi : Salman Khan \n",
      "Mujhse Fraaandship Karoge : Saqib Saleem \n",
      "Mughal-e-Azam : Prithviraj Kapoor \n",
      "Mubarakan : Anil Kapoor \n",
      "Mr. X (2015 film) : Emraan Hashmi \n",
      "Mr. Singh Mrs. Mehta : Prashant Narayanan \n",
      "Mr. Bhatti on Chutti : Anupam Kher \n",
      "Mr Prime Minister : Dev Anand \n",
      "Motu Patlu: King of Kings : Saurav Chakraborty \n",
      "Motichoor Chaknachoor : Nawazuddin Siddiqui \n",
      "Morning Raga : Shabana Azmi \n",
      "Monsoon Shootout : Vijay Varma \n",
      "Monica (film) : Ashutosh Rana \n",
      "Money Hai Toh Honey Hai : Govinda \n",
      "Mom (film) : Sridevi \n",
      "Mohenjo Daro (film) : Hrithik Roshan \n",
      "Mohalla Assi : Sunny Deol \n",
      "Moh Maya Money : Neha Dhupia \n",
      "Mittal v/s Mittal : Hazel Croney \n",
      "Mitron : Jackky Bhagnani \n",
      "Mission Mangal : Akshay Kumar \n",
      "Mission Istaanbul : Vivek Oberoi \n",
      "Missing (2018 film) : Manoj Bajpayee \n",
      "Miss Tanakpur Haazir Ho : Rahul Bagga \n",
      "Mirzya (film) : Harshvardhan Kapoor \n",
      "Mirch : Arunoday Singh \n",
      "Miley Naa Miley Hum : Chirag Paswan \n",
      "Milenge Milenge : Kareena Kapoor \n",
      "Mickey Virus : Manish Paul \n",
      "Meri Pyaari Bindu : Ayushmann Khurrana \n",
      "Meri Biwi Ka Jawaab Nahin : Akshay Kumar \n",
      "Mere Pyare Prime Minister : Rasika Agashe \n",
      "Mere Jeevan Saathi (2006 film) : Akshay Kumar \n",
      "Mere Genie Uncle : Yash Acharya \n",
      "Mere Dost Picture Abhi Baki Hai : Sunil Shetty \n",
      "Mere Dad Ki Maruti : Saqib Saleem \n",
      "Mere Brother Ki Dulhan : Imran Khan \n",
      "Mere Baap Pehle Aap : Paresh Rawal \n",
      "Mercury (film) : Prabhu Deva \n",
      "Memories in March : Deepti Naval \n",
      "Meinu Ek Ladki Chaahiye : Puru Chibber \n",
      "Meeruthiya Gangsters : Jaideep Ahlawat \n",
      "Meerabai Not Out : Anupam Kher \n",
      "Meenaxi: A Tale of Three Cities : Tabu \n",
      "Maximum (film) : Sonu Sood \n",
      "Mausam (2011 film) : Shahid Kapoor \n",
      "Matrubhoomi : Tulip Joshi \n",
      "Matru Ki Bijlee Ka Mandola : Imran Khan \n",
      "Mastram : Rahul Bagga \n",
      "Mastizaade : Tusshar Kapoor \n",
      "Masti (2004 film) : Aftab Shivdasani \n",
      "Masaan : Richa Chadha \n",
      "Mary Kom (film) : Priyanka Chopra \n",
      "Married 2 America : Archana Joglekar \n",
      "Market (2003 film) : Manisha Koirala \n",
      "Marjaavaan : Riteish Deshmukh \n",
      "Marigold (2007 film) : Salman Khan \n",
      "Margarita with a Straw : Kalki Koechlin \n",
      "Mardaani 2 : Rani Mukerji \n",
      "Mardaani : Rani Mukerji \n",
      "Mard Ko Dard Nahi Hota : Abhimanyu Dasani \n",
      "Maqbool : Irrfan Khan \n",
      "Mantra (2016 film) : Rajat Kapoor \n",
      "Manto (2018 film) : Nawazuddin Siddiqui \n",
      "Manorama Six Feet Under : Abhay Deol \n",
      "Manmarziyaan : Taapsee Pannu \n",
      "Manjunath (film) : Anjori Alagh \n",
      "Manjhi – The Mountain Man : Nawazuddin Siddiqui \n",
      "Manikarnika: The Queen of Jhansi : Kangana Ranaut \n",
      "Mangal Pandey: The Rising : Aamir Khan \n",
      "Malik Ek : Akanksha \n",
      "Malamaal Weekly : Paresh Rawal \n",
      "Maine Pyaar Kyun Kiya? : Salman Khan \n",
      "Maine Gandhi Ko Nahin Mara : Anupam Kher \n",
      "Main Tera Hero : Varun Dhawan \n",
      "Main Prem Ki Diwani Hoon : Hrithik Roshan \n",
      "Main Meri Patni Aur Woh : Rajpal Yadav \n",
      "Main Madhuri Dixit Banna Chahti Hoon : Antara Mali \n",
      "Main Krishna Hoon : Juhi Chawla \n",
      "Main Hoon Part-Time Killer : Smitha Gondkar \n",
      "Main Hoon Na : Shah Rukh Khan \n",
      "Main Aurr Mrs Khanna : Salman Khan \n",
      "Main Aur Mr. Riight : Barun Sobti \n",
      "Main Aisa Hi Hoon : Ajay Devgn \n",
      "Mai (2013 film) : Asha Bhosle \n",
      "Magic Magic 3D : Sooraj Balaji \n",
      "Madras Cafe : John Abraham \n",
      "Madhoshi : Bipasha Basu \n",
      "Made in China (2019 film) : Rajkummar Rao \n",
      "Madaari : Irrfan Khan \n",
      "Mad About Dance : Saahil Prem \n",
      "Machine (2017 film) : Kiara Advani \n",
      "Machhli Jal Ki Rani Hai : Swara Bhaskar \n",
      "Maazii : Sumit Nijhawan \n",
      "Maatr : Raveena Tandon \n",
      "Maan Gaye Mughal-e-Azam : Mallika Sherawat \n",
      "MSG: The Warrior Lion Heart : Ashok Insan \n",
      "MSG: The Messenger : Gurmeet Ram Rahim Singh \n",
      "MSG-2 The Messenger : Charanpreet Insan \n",
      "MP3: Mera Pehla Pehla Pyaar : Menekka Arora \n",
      "M.S. Dhoni: The Untold Story : Sushant Singh Rajput \n",
      "M Cream : Tom Alter \n",
      "Luv U Soniyo : Tanuj Virwani \n",
      "Luv U Alia : V. Ravichandran \n",
      "Lucky: No Time for Love : Salman Khan \n",
      "Lucky Kabootar : Arvinder Bhatti \n",
      "Lucknow Central : Farhan Akhtar \n",
      "Luckhnowi Ishq : Adhyayan Suman \n",
      "Luck by Chance : Farhan Akhtar \n",
      "Luck (2009 film) : Mithun Chakraborty \n",
      "Loveshhuda : Girish Taurani \n",
      "Love per Square Foot : Vicky Kaushal \n",
      "Love in Bombay : Joy Mukherjee \n",
      "Love U...Mr. Kalakaar! : Tusshar Kapoor \n",
      "Love Story 2050 : Harman Baweja \n",
      "Love Sonia : Abhishek Bharate \n",
      "Love Shagun : Anuj Sachdeva \n",
      "Love Sex Aur Dhokha : Nushrat Bharucha \n",
      "Love Ke Chakkar Mein : Rishi Kapoor \n",
      "Love Games (film) : Patralekhaa Paul \n",
      "Love Breakups Zindagi : Zayed Khan \n",
      "Love Aaj Kal : Saif Ali Khan \n",
      "Lootera : Ranveer Singh \n",
      "London Dreams : Salman Khan \n",
      "Loins of Punjab Presents : Shabana Azmi \n",
      "Login (film) : Himanshu Bhatt \n",
      "Little Zizou : John Abraham \n",
      "Listen... Amaya : Farooq Shaikh \n",
      "Lipstick Under My Burkha : Aahana Kumra \n",
      "Life in a... Metro : Dharmendra \n",
      "Life Partner : Govinda \n",
      "Life Mein Kabhie Kabhiee : Aftab Shivdasani \n",
      "Life Ki Toh Lag Gayi : Kay Kay Menon \n",
      "Life Is Beautiful (2014 film) : Manoj Amarnani \n",
      "Life Express (2010 film) : Rituparna Sengupta \n",
      "Lekar Hum Deewana Dil : Armaan Jain \n",
      "Lamhaa : Sanjay Dutt \n",
      "Lakshya (film) : Hrithik Roshan \n",
      "Lakshmi (2014 film) : Monali Thakur \n",
      "Lakeer – Forbidden Lines : Sunny Deol \n",
      "Laila Majnu (2018 film) : Avinash Tiwary \n",
      "Lahore (film) : Farooq Shaikh \n",
      "Lage Raho Munna Bhai : Sanjay Dutt \n",
      "Lafangey Parindey : Neil Nitin Mukesh \n",
      "Ladies vs Ricky Bahl : Ranveer Singh \n",
      "Laal Rang : Randeep Hooda \n",
      "Laaga Chunari Mein Daag : Rani Mukerji \n",
      "LOC Kargil : Sanjay Dutt \n",
      "Kyun! Ho Gaya Na... : Amitabh Bachchan \n",
      "Kyon Ki : Salman Khan \n",
      "Kyaa Super Kool Hain Hum : Riteish Deshmukh \n",
      "Kyaa Kool Hain Hum 3 : Tusshar Kapoor \n",
      "Kyaa Kool Hai Hum : Tusshar Kapoor \n",
      "Kya Love Story Hai : Tusshar Kapoor \n",
      "Kya Dilli Kya Lahore : Vijay Raaz \n",
      "Kushti (film) : Rajpal Yadav \n",
      "Kurbaan (2009 film) : Lewis Tan \n",
      "Kuku Mathur Ki Jhand Ho Gayi : Siddharth Gupta \n",
      "Kudiyon Ka Hai Zamana : Rekha \n",
      "Kuchh Meetha Ho Jaye : Arshad Warsi \n",
      "Kuchh Bheege Alfaaz : Geetanjali Thapa \n",
      "Kuch Naa Kaho : Aishwarya Rai Bachchan \n",
      "Kuch Kuch Locha Hai : Ram Kapoor \n",
      "Kucch To Hai : Tusshar Kapoor \n",
      "Kucch Luv Jaisaa : Shefali Shah \n",
      "Krrish : Rekha \n",
      "Krishna Cottage : Sohail Khan \n",
      "Krishna Aur Kans : Manoj Bajpayee \n",
      "Krazzy 4 : Juhi Chawla \n",
      "Koyelaanchal : Kannan Arunachalam \n",
      "Koi... Mil Gaya : Rekha \n",
      "Koi Mere Dil Mein Hai : Dia Mirza \n",
      "Koi Aap Sa : Aftab Shivdasani \n",
      "Knock Out (2010 film) : Sanjay Dutt \n",
      "Kites (film) : Hrithik Roshan \n",
      "Kisse Pyaar Karoon : Arshad Warsi \n",
      "Kisna: The Warrior Poet : Vivek Oberoi \n",
      "Kismat Love Paisa Dilli : Vivek Oberoi \n",
      "Kismat Konnection : Shahid Kapoor \n",
      "Kismat (2004 film) : Bobby Deol \n",
      "Kisaan : Jackie Shroff \n",
      "Kis Kisko Pyaar Karoon : Kapil Sharma \n",
      "Kis Kis Ki Kismat : Mallika Sherawat \n",
      "Kill Dil : Ranveer Singh \n",
      "Kick (2014 film) : Salman Khan \n",
      "Ki & Ka : Amitabh Bachchan \n",
      "Khwahish : Himanshu Malik \n",
      "Khwaabb : Simer Motiani \n",
      "Khushi (2003 Hindi film) : Fardeen Khan \n",
      "Khuda Kasam : Sunny Deol \n",
      "Khoya Khoya Chand : Shiney Ahuja \n",
      "Khosla Ka Ghosla : Anupam Kher \n",
      "Khoobsurat (2014 film) : Sonam Kapoor \n",
      "Khichdi: The Movie : Supriya Pathak \n",
      "Khel – No Ordinary Game : Sunny Deol \n",
      "Khel Toh Ab Shuru Hoga : Hazel Croney \n",
      "Khatta Meetha (2010 film) : Akshay Kumar \n",
      "Khap (film) : Rahul Jaiswal \n",
      "Khamoshiyan : Gurmeet Choudhary \n",
      "Khamoshi (2019 film) : Prabhu Deva \n",
      "Khamoshh... Khauff Ki Raat : Shilpa Shetty Kundra \n",
      "Khamosh Pani : Kiron Kher \n",
      "Khakee : Amitabh Bachchan \n",
      "Khajoor Pe Atke : Vinay Pathak \n",
      "Kesari (film) : Akshay Kumar \n",
      "Keep Safe Distance (film) : Shahbaaz Khan \n",
      "Kaun Kitne Paani Mein : Kunal Kapoor \n",
      "Kaun Hai Jo Sapno Mein Aaya : Raqesh Bapat \n",
      "Katti Batti : Suhaas Ahuja \n",
      "Kash Aap Hamare Hote : Juhi Babbar \n",
      "Kasak (2005 film) : Lucky Ali \n",
      "Karzzzz : Himesh Reshammiya \n",
      "Karwaan : Irrfan Khan \n",
      "Karthik Calling Karthik : Siddhartha Gupta \n",
      "Karma Aur Holi : Rati Agnihotri \n",
      "Karle Pyaar Karle : Shiv Darshan \n",
      "Karar: The Deal : Mahek Chahal \n",
      "Karam (film) : John Abraham \n",
      "Kapoor & Sons : Sidharth Malhotra \n",
      "Kaminey : Shahid Kapoor \n",
      "Kalyug (2005 film) : Kunal Khemu \n",
      "Kalank : Varun Dhawan \n",
      "Kal Ho Naa Ho : Shah Rukh Khan \n",
      "Kaise Kahoon Ke... Pyaar Hai : Amit Hingorani \n",
      "Kai Po Che! : Rajkummar Rao \n",
      "Kahin Hai Mera Pyar : Eesha Agarwal \n",
      "Kahaani : Vidya Balan \n",
      "Kagaar: Life on the Edge : Om Puri \n",
      "Kadvi Hawa : Sanjay Mishra \n",
      "Kabul Express : John Abraham \n",
      "Kabir Singh : Shahid Kapoor \n",
      "Kabhi Alvida Naa Kehna : Amitabh Bachchan \n",
      "Kaashi in Search of Ganga : Aishwarya Devan \n",
      "Kaante : Amitabh Bachchan \n",
      "Kaanchi: The Unbreakable : Kartik Aaryan \n",
      "Kaalo : Aditya Srivastava \n",
      "Kaalakaandi : Saif Ali Khan \n",
      "Kaal (2005 film) : Ajay Devgn \n",
      "Kaagaz Ke Fools : Vinay Pathak \n",
      "Kaabil : Hrithik Roshan \n",
      "Just Married (2007 film) : Fardeen Khan \n",
      "Jurm (2005 film) : Kamal Adib \n",
      "Junooniyat : Pulkit Samrat \n",
      "Junglee (2019 film) : Vidyut Jammwal \n",
      "Julie 2 : Nishikant Kamat \n",
      "Julie (2004 film) : Neha Dhupia \n",
      "Jugni (2016 film) : Sadhana Singh \n",
      "Judwaa 2 : Varun Dhawan \n",
      "Judgementall Hai Kya : Kangana Ranaut \n",
      "Jolly LLB : Arshad Warsi \n",
      "Joker (2012 film) : Akshay Kumar \n",
      "Johnny Gaddaar : Dharmendra \n",
      "John Day (film) : Naseeruddin Shah \n",
      "Joggers' Park (film) : Victor Banerjee \n",
      "Jodi Breakers : Bipasha Basu \n",
      "Jodhaa Akbar : Hrithik Roshan \n",
      "Jo Hum Chahein : Sunny Gill \n",
      "Jo Bole So Nihaal (film) : Sunny Deol \n",
      "Jism (2003 film) : Bipasha Basu \n",
      "Jimmy (2008 film) : Mimoh Chakraborty \n",
      "Jigyaasa : Nassar Abdulla \n",
      "Jigariyaa : Harshvardhan Deo \n",
      "Jia Aur Jia : Richa Chadha \n",
      "Jhootha Kahin Ka : Rishi Kapoor \n",
      "Jhootha Hi Sahi : John Abraham \n",
      "Jhoom Barabar Jhoom : Abhishek Bachchan \n",
      "Jhankaar Beats : Sanjay Suri \n",
      "Jhalki : Boman Irani \n",
      "Jeena Isi Ka Naam Hai (film) : Arbaaz Khan \n",
      "Jeena Hai Toh Thok Daal : Ravi Kishan \n",
      "Jazbaa : Aishwarya Rai Bachchan \n",
      "Jayantabhai Ki Luv Story : Vivek Oberoi \n",
      "Jawani Diwani: A Youthful Joyride : Emraan Hashmi \n",
      "Jattu Engineer : Amardeep Insan \n",
      "Jannat (film) : Emraan Hashmi \n",
      "Janasheen : Feroz Khan \n",
      "James (2005 film) : Mohit Ahlawat \n",
      "Jalpari: The Desert Mermaid : Harish Chabbra \n",
      "Jalebi (film) : Rhea Chakraborty \n",
      "Jal (film) : Purab Kohli \n",
      "Jajantaram Mamantaram : Javed Jaffrey \n",
      "Jail (2009 film) : Manoj Bajpayee \n",
      "Jai Veeru : Fardeen Khan \n",
      "Jai Jawaan Jai Kisaan (film) : Rati Agnihotri \n",
      "Jai Ho (film) : Salman Khan \n",
      "Jai Gangaajal : Priyanka Chopra \n",
      "Jai Chiranjeeva : Chiranjeevi \n",
      "Jahan Jaaeyega Hamen Paaeyega : Govinda \n",
      "Jagga Jasoos : Ranbir Kapoor \n",
      "Jackpot (2013 film) : Naseeruddin Shah \n",
      "Jack and Dil : Amit Sadh \n",
      "Jabariya Jodi : Sidharth Malhotra \n",
      "Jab We Met : Shahid Kapoor \n",
      "Jab Tak Hai Jaan : Shah Rukh Khan \n",
      "Jab Harry Met Sejal : Shah Rukh Khan \n",
      "Jaane Kyun De Yaaron : Akshay Anand \n",
      "Jaane Kahan Se Aayi Hai : Priyanka Chopra \n",
      "Jaane Hoga Kya : Aftab Shivdasani \n",
      "Jaan-E-Mann : Salman Khan \n",
      "Jaal: The Trap : Sunny Deol \n",
      "JD (film) : Rina Charaniya \n",
      "It's a Wonderful Afterlife : Sanjeev Bhaskar \n",
      "Issaq : Prateik \n",
      "Island City (2015 film) : Vinay Pathak \n",
      "Isi Life Mein : Akshay Oberoi \n",
      "Ishqiya : Vidya Balan \n",
      "Ishqeria : Manish Anand \n",
      "Ishqedarriyaan : Mimoh Chakraborty \n",
      "Ishq Vishk : Shahid Kapoor \n",
      "Ishq Ke Parindey : Rishi Verma \n",
      "Ishq Hai Tumse : Dino Morea \n",
      "Ishq Forever : Krishna Chaturvedi \n",
      "Ishq Click : Sara Loren \n",
      "Ishkq in Paris : Preity Zinta \n",
      "Ishaqzaade : Arjun Kapoor \n",
      "Irudhi Suttru : Madhavan \n",
      "Irada (2017 film) : Naseeruddin Shah \n",
      "Iqraar by Chance : Amarjeet \n",
      "Iqbal (film) : Shreyas Talpade \n",
      "Inteqam: The Perfect Game : Manoj Bajpayee \n",
      "Inteha (2003 film) : Ashmit Patel \n",
      "Insan : Akshay Kumar \n",
      "Insaaf: The Justice : Dino Morea \n",
      "Inkaar (2013 film) : Arjun Rampal \n",
      "Indu Sarkar : Kirti Kulhari \n",
      "Indian Babu : Jaz Pandher \n",
      "India's Most Wanted (film) : Arjun Kapoor \n",
      "Impatient Vivek : Vivek Sudershan \n",
      "I See You (2006 film) : Arjun Rampal \n",
      "I Proud to Be an Indian : Sohail Khan \n",
      "I Love NY (2015 film) : Sunny Deol \n",
      "I Love Desi : Shakti Anand \n",
      "I Hate Luv Storys : Imran Khan \n",
      "I Am Kalam : Gulshan Grover \n",
      "I Am (2010 Indian film) : Juhi Chawla \n",
      "Hyderabad Blues 2 : Tisca Chopra \n",
      "Hunterrr : Gulshan Devaiah \n",
      "Hungama (2003 film) : Akshaye Khanna \n",
      "Humshakals : Saif Ali Khan \n",
      "Humpty Sharma Ki Dulhania : Varun Dhawan \n",
      "Humne Jeena Seekh Liya : Omkar Bhatkar \n",
      "Humko Tumse Pyaar Hai : Arjun Rampal \n",
      "Humko Deewana Kar Gaye : Akshay Kumar \n",
      "Hume Tumse Pyaar Kitna : Karanvir Bohra \n",
      "Hum Tumhare Hain Sanam : Shah Rukh Khan \n",
      "Hum Tum Shabana : Tusshar Kapoor \n",
      "Hum Tum Aur Ghost : Arshad Warsi \n",
      "Hum Tum : Saif Ali Khan \n",
      "Hum Hai Raahi Car Ke : Anupam Kher \n",
      "Hum Chaar : Prit Kamani \n",
      "Hulchul (2004 film) : Akshaye Khanna \n",
      "Housefull 4 : Akshay Kumar \n",
      "Housefull 2 : Akshay Kumar \n",
      "Housefull (2010 film) : Akshay Kumar \n",
      "Hotel Salvation : Adil Hussain \n",
      "Hostel (2011 film) : Vatsal Sheth \n",
      "Horror Story (film) : Karan Kundrra \n",
      "Hope Aur Hum : Naseeruddin Shah \n",
      "Honour Killing (film) : Zara Sheikh \n",
      "Honeymoon Travels Pvt. Ltd. : Ranvir Shorey \n",
      "Home Delivery : Vivek Oberoi \n",
      "Holiday: A Soldier Is Never Off Duty : Akshay Kumar \n",
      "Holiday (2006 film) : Onjolee Nair \n",
      "Hisss : Mallika Sherawat \n",
      "Hindi Medium : Irrfan Khan \n",
      "Hind Ka Napak Ko Jawab: MSG Lion Heart 2 : Gurmeet Ram Rahim Singh \n",
      "Himmatwala (2013 film) : Ajay Devgn \n",
      "Highway (2014 Hindi film) : Alia Bhatt \n",
      "High Jack (film) : Sumeet Vyas \n",
      "Hichki : Rani Mukerji \n",
      "Heyy Babyy : Juanna Sanghvi \n",
      "Hey Bro : Ganesh Acharya \n",
      "Heropanti : Tiger Shroff \n",
      "Heroine (2012 film) : Kareena Kapoor \n",
      "Heroes (2008 film) : Sohail Khan \n",
      "Hero (2015 Hindi film) : Suraj Pancholi \n",
      "Help (film) : Bobby Deol \n",
      "Hello Darling : Gul Panag \n",
      "Hello (2008 film) : Sharman Joshi \n",
      "Helicopter Eela : Kajol \n",
      "Heartless (2014 film) : Adhyayan Suman \n",
      "Hazaaron Khwaishein Aisi : Kay Kay Menon \n",
      "Hawayein : Babbu Mann \n",
      "Hawas (2004 film) : Shawar Ali \n",
      "Hawaizaada : Naman Jain \n",
      "Hawaa Hawaai : Makrand Deshpande \n",
      "Hawa (film) : Tabu \n",
      "Hava Aney Dey : Aniket Vishwasrao \n",
      "Haunted – 3D : Mimoh Chakraborty \n",
      "Hatya (2004 film) : Akshay Kumar \n",
      "Hattrick (film) : Nana Patekar \n",
      "Hate Story 4 : Lee Byford \n",
      "Hate Story 2 : Jay Bhanushali \n",
      "Hate Story : Nikhil Dwivedi \n",
      "Hastey Hastey : Jimmy Sheirgill \n",
      "Haseena Parkar : Shraddha Kapoor \n",
      "Hasee Toh Phasee : Sidharth Malhotra \n",
      "Hari Puttar: A Comedy of Terrors : Jackie Shroff \n",
      "Haraamkhor : Nawazuddin Siddiqui \n",
      "Happy Phirr Bhag Jayegi : Sonakshi Sinha \n",
      "Happy New Year (2014 film) : Shah Rukh Khan \n",
      "Happy Husbands (2011 film) : Anay \n",
      "Happy Ending (film) : Saif Ali Khan \n",
      "Happy Bhag Jayegi : Diana Penty \n",
      "Hanuman (2005 film) : Mukesh Khanna \n",
      "Hamid (film) : Talha Arshad Reshi \n",
      "Hamari Adhuri Kahani : Rajkummar Rao \n",
      "Halla Bol : Ajay Devgn \n",
      "Halkaa : Paoli Dam \n",
      "Half Girlfriend (film) : Shraddha Kapoor \n",
      "Haider (film) : Tabu \n",
      "Hai Apna Dil Toh Awara : Sahil Anand \n",
      "Haasil : Jimmy Sheirgill \n",
      "Haal-e-Dil : Amita Pathak \n",
      "Guzaarish (film) : Hrithik Roshan \n",
      "Guru (2007 film) : Mithun Chakraborty \n",
      "Gunday : Ranveer Singh \n",
      "Gumnaam – The Mystery : Dino Morea \n",
      "Gully Boy : Ranveer Singh \n",
      "Gulabi Gang (film) : Sampat Pal Devi \n",
      "Gulaal (film) : Kay Kay Menon \n",
      "Gulaab Gang : Madhuri Dixit \n",
      "Guest iin London : Kartik Aaryan \n",
      "Guddu Rangeela : Arshad Warsi \n",
      "Guddu Ki Gun : Kunal Khemu \n",
      "Green Card Fever : Vikram Dasu \n",
      "Great Grand Masti : Urvashi Rautela \n",
      "Grand Masti : Vivek Oberoi \n",
      "Gour Hari Dastaan : Vinay Pathak \n",
      "Gori Tere Pyaar Mein : Imran Khan \n",
      "Good Newwz : Akshay Kumar \n",
      "Good Boy Bad Boy : Tusshar Kapoor \n",
      "Gone Kesh : Deepika Amin \n",
      "Golmaal: Fun Unlimited : Ajay Devgn \n",
      "Golmaal Returns : Ajay Devgn \n",
      "Golmaal Again : Ajay Devgn \n",
      "Gollu Aur Pappu : Dimple Kapadia \n",
      "Goliyon Ki Raasleela Ram-Leela : Ranveer Singh \n",
      "Gold (2018 film) : Akshay Kumar \n",
      "God Tussi Great Ho : Amitabh Bachchan \n",
      "Goal (2007 Hindi film) : John Abraham \n",
      "Go Goa Gone : Saif Ali Khan \n",
      "Go (2007 film) : Gautam Gupta \n",
      "Global Baba : Pankaj Tripathi \n",
      "Girlfriend (2004 film) : Isha Koppikar \n",
      "Gippi : Riya Vij \n",
      "Ghost (2019 film) : Sanaya Irani \n",
      "Ghost (2012 film) : Shiney Ahuja \n",
      "Ghayal: Once Again : Sunny Deol \n",
      "Ghanchakkar (film) : Vidya Balan \n",
      "Ghajini (2008 film) : Aamir Khan \n",
      "Genius (2018 Hindi film) : Utkarsh Sharma \n",
      "Gayab : Tusshar Kapoor \n",
      "Gauri: The Unborn : Mohan Azaad \n",
      "Gattu : Naresh Sharma \n",
      "Garv: Pride & Honour : Salman Khan \n",
      "Garam Masala (2005 film) : Akshay Kumar \n",
      "Gangster (2006 film) : Kangana Ranaut \n",
      "Gangs of Wasseypur – Part 2 : Manoj Bajpayee \n",
      "Gangs of Wasseypur : Manoj Bajpayee \n",
      "Gangoobai : Sarita Joshi \n",
      "Gangaajal : Ajay Devgn \n",
      "Gang of Ghosts : Sharman Joshi \n",
      "Gandhi My Father : Akshaye Khanna \n",
      "Game (2011 film) : Abhishek Bachchan \n",
      "Gali Guleiyan : Manoj Bajpayee \n",
      "Gabbar Is Back : Akshay Kumar \n",
      "Gabbar Is Back : Akshay Kumar \n",
      "G Kutta Se : Rajveer Ankur Singh \n",
      "Fun2shh... Dudes in the 10th Century : Rushali Arora \n",
      "Fun – Can Be Dangerous Sometimes : Siddharth Koirala \n",
      "Fukrey Returns : Pulkit Samrat \n",
      "Fukrey : Pulkit Samrat \n",
      "Fugly (film) : Jimmy Sheirgill \n",
      "Fuddu : Shubham \n",
      "FryDay : Govinda \n",
      "Fruit and Nut (film) : Atmaram Bhende \n",
      "From Sydney with Love : Bidita Bag \n",
      "Fredrick (film) : Avinash Dhyani \n",
      "Freaky Ali : Nawazuddin Siddiqui \n",
      "Fraud Saiyaan : Arshad Warsi \n",
      "Fox (film) : Arjun Rampal \n",
      "Force 2 : John Abraham \n",
      "Force (2011 film) : John Abraham \n",
      "Footpath (2003 film) : Aftab Shivdasani \n",
      "Fool & Final : Shahid Kapoor \n",
      "Flavors (film) : Reef Karim \n",
      "Flat 211 : Jayesh Raj \n",
      "Fitoor : Aditya Roy Kapoor \n",
      "Firangi : Kapil Sharma \n",
      "Firaaq : Inaamulhaq \n",
      "Finding Fanny : Deepika Padukone \n",
      "Filmistaan : Sharib Hashmi \n",
      "Fight Club – Members Only : Sunil Shetty \n",
      "Fida : Kareena Kapoor \n",
      "Fever (2016 film) : Rajeev Khandelwal \n",
      "Ferrari Ki Sawaari : Sharman Joshi \n",
      "Fatso! : Gul Panag \n",
      "Fashion (2008 film) : Priyanka Chopra \n",
      "Fareb (2005 film) : Shilpa Shetty Kundra \n",
      "Fanaa (2006 film) : Aamir Khan \n",
      "Fan (film) : Shah Rukh Khan \n",
      "Familywala : Arjun Rampal \n",
      "Family of Thakurganj : Jimmy Sheirgill \n",
      "Family (2006 film) : Amitabh Bachchan \n",
      "F.A.L.T.U : Arshad Warsi \n",
      "Evening Shadows : Mona Ambegaonkar \n",
      "Escape from Taliban : Manisha Koirala \n",
      "Entertainment (2014 film) : Akshay Kumar \n",
      "English Vinglish : Sridevi \n",
      "Enemmy : Sunil Shetty \n",
      "Elaan (2005 film) : Arjun Rampal \n",
      "Eklavya: The Royal Guard : Amitabh Bachchan \n",
      "Ekkees Toppon Ki Salaami : Anupam Kher \n",
      "Ekk Deewana Tha : Prateik \n",
      "Ek: The Power of One : Bobby Deol \n",
      "Ek Vivaah... Aisa Bhi : Isha Koppikar \n",
      "Ek Villain : Sidharth Malhotra \n",
      "Ek Thi Rani Aisi Bhi : Hema Malini \n",
      "Ek Thi Daayan : Emraan Hashmi \n",
      "Ek Tha Tiger : Salman Khan \n",
      "Ek Second... Jo Zindagi Badal De? : Bhushan Agarwal \n",
      "Ek Se Bure Do : Anita \n",
      "Ek Se Badhkar Ek (2004 film) : Sunil Shetty \n",
      "Ek Paheli Leela : Sunny Leone \n",
      "Ek Main Aur Ekk Tu : Kareena Kapoor \n",
      "Ek Khiladi Ek Haseena (film) : Fardeen Khan \n",
      "Ek Kahani Julie Ki : Jimmy Sharma \n",
      "Ek Hasina Thi (film) : Saif Ali Khan \n",
      "Ek Haseena Thi Ek Deewana Tha : Shiv Darshan \n",
      "Ek Din 24 Ghante : Rahul Bose \n",
      "Ek Chalis Ki Last Local : Abhay Deol \n",
      "Ek Aur Ek Gyarah : Sanjay Dutt \n",
      "Ek Alag Mausam : Nandita Das \n",
      "Ek Ajnabee : Amitabh Bachchan \n",
      "Eight: The Power of Shani : Raj Tara \n",
      "Dus Kahaniyaan : Arbaaz Khan \n",
      "Dus : Sanjay Dutt \n",
      "Dunno Y... Na Jaane Kyon : Zeenat Aman \n",
      "Dum Maaro Dum (film) : Abhishek Bachchan \n",
      "Dum Laga Ke Haisha : Ayushmann Khurrana \n",
      "Dum (2003 Hindi film) : Vivek Oberoi \n",
      "Dulha Mil Gaya : Sushmita Sen \n",
      "Dude Where's the Party? : Diwakar Pathak \n",
      "Drona (2008 film) : Jayshree Arora \n",
      "Drishyam (2015 film) : Ajay Devgn \n",
      "Dreams (2006 film) : Aseel Adel \n",
      "Dream Girl (2019 film) : Ayushmann Khurrana \n",
      "Double Dhamaal : Sanjay Dutt \n",
      "Double Cross (2005 film) : Ayesha Jhulka \n",
      "Dosti: Friends Forever : Akshay Kumar \n",
      "Dostana (2008 film) : Abhishek Bachchan \n",
      "Dor (film) : Ayesha Takia \n",
      "Dongari Ka Raja : Ronit Roy \n",
      "Don't Stop Dreaming : Rishi Kapoor \n",
      "Don Muthu Swami : Mithun Chakraborty \n",
      "Don 2 : Shah Rukh Khan \n",
      "Don (2006 Hindi film) : Shah Rukh Khan \n",
      "Dolly Ki Doli : Malaika Arora \n",
      "Dobara : Jackie Shroff \n",
      "Dobaara: See Your Evil : Adil Hussain \n",
      "Do Lafzon Ki Kahani (film) : Kajal Aggarwal \n",
      "Do Dooni Chaar : Rishi Kapoor \n",
      "Dishoom : John Abraham \n",
      "Dishkiyaoon : Harman Baweja \n",
      "Dirty Politics (film) : Anupam Kher \n",
      "Direct Ishq : Rajniesh Duggall \n",
      "Dilwale (2015 film) : Shah Rukh Khan \n",
      "Dilliwali Zaalim Girlfriend : Ira Dubey \n",
      "Dil Toh Deewana Hai : Zeenat Aman \n",
      "Dil Toh Baccha Hai Ji : Ajay Devgn \n",
      "Dil Pardesi Ho Gayaa : Kapil Jhaveri \n",
      "Dil Ne Jise Apna Kahaa : Salman Khan \n",
      "Dil Maange More : Shahid Kapoor \n",
      "Dil Kabaddi : Irrfan Khan \n",
      "Dil Ka Rishta : Arjun Rampal \n",
      "Dil Juunglee : Taapsee Pannu \n",
      "Dil Jo Na Keh Saka : Himansh Kohli \n",
      "Dil Jo Bhi Kahey... : Amitabh Bachchan \n",
      "Dil Dosti Etc : Imaaduddin Shah \n",
      "Dil Diya Hai : Emraan Hashmi \n",
      "Dil Dhadakne Do : Anil Kapoor \n",
      "Dil Bole Hadippa! : Shahid Kapoor \n",
      "Dil Bechara Pyaar Ka Maara : Vikaas Kalantari \n",
      "Dil Bechara : Sushant Singh Rajput \n",
      "Dhund (2003 film) : Amar Upadhyaya \n",
      "Dhoop : Om Puri \n",
      "Dhoondte Reh Jaaoge : Paresh Rawal \n",
      "Dhoom 3 : Aamir Khan \n",
      "Dhoom 2 : Hrithik Roshan \n",
      "Dhoom : Abhishek Bachchan \n",
      "Dhol (film) : Sharman Joshi \n",
      "Dhokha : Muzamil Ibrahim \n",
      "Dhobi Ghat (film) : Prateik \n",
      "Dharti Kahe Pukar Ke (2006 film) : Ajay Devgn \n",
      "Dharm (film) : Pankaj Kapur \n",
      "Dharam Sankat Mein : Naseeruddin Shah \n",
      "Dhanak : Krrish Chhabria \n",
      "Dhamaal : Sanjay Dutt \n",
      "Dhadak : Ishaan Khattar \n",
      "Devi (2016 film) : RJ Balaji \n",
      "Devdas (2002 Hindi film) : Shah Rukh Khan \n",
      "Devaki (2005 film) : Ram Kapoor \n",
      "Dev (2004 film) : Amitabh Bachchan \n",
      "Detective Byomkesh Bakshy! : Sushant Singh Rajput \n",
      "Desi Kattey : Sasha Aagha \n",
      "Desi Boyz : Akshay Kumar \n",
      "Deshdrohi : Kamal Rashid Khan \n",
      "Department (film) : Sanjay Dutt \n",
      "Delhi-6 : Waheeda Rehman \n",
      "Delhi Safari : Cary Elwes \n",
      "Delhi Belly (film) : Imran Khan \n",
      "Dekh Tamasha Dekh : Satish Kaushik \n",
      "Dehraadun Diary : Adhyayan Suman \n",
      "Deewane Huye Paagal : Akshay Kumar \n",
      "Deewaar (2004 film) : Amitabh Bachchan \n",
      "Dedh Ishqiya : Madhuri Dixit \n",
      "Dear Zindagi : Alia Bhatt \n",
      "Dear Maya : Manisha Koirala \n",
      "Dear Friend Hitler : Raghuvir Yadav \n",
      "Dear Dad (film) : Arvind Swamy \n",
      "Deadline: Sirf 24 Ghante : Rajit Kapoor \n",
      "De Taali : Aftab Shivdasani \n",
      "De De Pyaar De : Ajay Devgn \n",
      "De Dana Dan : Akshay Kumar \n",
      "Days of Tafree : Yash Soni \n",
      "Dasvidaniya : Vinay Pathak \n",
      "Dassehra : Neil Nitin Mukesh \n",
      "Darwaaza Bandh Rakho : Ishrat Ali \n",
      "Darr @ the Mall : Jimmy Sheirgill \n",
      "Darna Zaroori Hai : Amitabh Bachchan \n",
      "Darna Mana Hai : Sameera Reddy \n",
      "Darling (2007 Indian film) : Fardeen Khan \n",
      "Dangerous Ishhq : Karisma Kapoor \n",
      "Dangal (film) : Aamir Khan \n",
      "Damadamm! : Himesh Reshammiya \n",
      "Daddy Cool (2009 Hindi film) : Sunil Shetty \n",
      "Daddy (2017 film) : Arjun Rampal \n",
      "Dabangg 3 : Salman Khan \n",
      "Dabangg 2 : Salman Khan \n",
      "Dabangg : Salman Khan \n",
      "Daawat-e-Ishq : Aditya Roy Kapoor \n",
      "Daas Dev : Yogesh Raj Mishra \n",
      "D-Day (2013 film) : Rishi Kapoor \n",
      "D (film) : Randeep Hooda \n",
      "Crook (film) : Emraan Hashmi \n",
      "Creature 3D : Bipasha Basu \n",
      "Crazy Cukkad Family : Swanand Kirkire \n",
      "Court (film) : Vira Sathidar \n",
      "Corporate (2006 film) : Bipasha Basu \n",
      "Contract (2008 film) : Adhvik Mahajan \n",
      "Company (film) : Ajay Devgn \n",
      "Commando: A One Man Army : Vidyut Jammwal \n",
      "Commando 3 (film) : Vidyut Jammwal \n",
      "Coffee with D : Sunil Grover \n",
      "Coffee Bloom : Arjun Mathur \n",
      "Cocktail (2012 film) : Saif Ali Khan \n",
      "Click (2010 film) : Shreyas Talpade \n",
      "Classic – Dance of Love : Mithun Chakraborty \n",
      "CityLights (2014 film) : Rajkummar Rao \n",
      "City of Gold (2010 film) : Sachin Khedekar \n",
      "Cigarette Ki Tarah : Ashok Banthia \n",
      "Chura Liyaa Hai Tumne : Zayed Khan \n",
      "Chup Chup Ke : Kareena Kapoor \n",
      "Chori Chori (2003 film) : Ajay Devgn \n",
      "Chor Chor Super Chor : Deepak Dobriyal \n",
      "Chocolate (2005 film) : Anil Kapoor \n",
      "Chittagong (film) : Manoj Bajpayee \n",
      "Chintu Ji : Rishi Kapoor \n",
      "Chingaari : Sushmita Sen \n",
      "Chinar Daastaan-E-Ishq : Parveen Kaur \n",
      "Chillar Party : Aarav Khanna \n",
      "Children of War (2014 film) : Farooq Shaikh \n",
      "Children of Heaven : Mohammad Amir Naji \n",
      "Chicken Curry Law : Natalia Janoszek \n",
      "Chhota Bheem and the Throne of Bali : Rupa Bhimani \n",
      "Chhodon Naa Yaar : Jimmy Sheirgill \n",
      "Chetna: The Excitement : Jatin Grewal \n",
      "Chennai Express : Deepika Padukone \n",
      "Chehraa : Bipasha Basu \n",
      "Chef (2017 film) : Saif Ali Khan \n",
      "Cheeni Kum : Amitabh Bachchan \n",
      "Chatur Singh Two Star : Sanjay Dutt \n",
      "Chashme Baddoor (2013 film) : Ali Zafar \n",
      "Chase (2010 film) : Anuj Saxena \n",
      "Chargesheet (film) : Dev Anand \n",
      "Charas (2004 film) : Jimmy Sheirgill \n",
      "Chandni Chowk to China : Mithun Chakraborty \n",
      "Chand Sa Roshan Chehra : Samir Aftab \n",
      "Chand Ke Paar Chalo (film) : Somesh Agarwal \n",
      "Chance Pe Dance : Shahid Kapoor \n",
      "Chamku : Bobby Deol \n",
      "Chameli (film) : Kareena Kapoor \n",
      "Chalte Chalte (2003 film) : Shah Rukh Khan \n",
      "Chalo Dilli : Vinay Pathak \n",
      "Challo Driver : Vickrant Mahajan \n",
      "Chalk n Duster : Richa Chadha \n",
      "Chal Pichchur Banate Hain : Sagar Bhangade \n",
      "Chal Chala Chal : Asrani \n",
      "Chakravyuh (2012 film) : Arjun Rampal \n",
      "Chak De! India : Shah Rukh Khan \n",
      "Chaarfutiya Chhokare : Soha Ali Khan \n",
      "Chaar Din Ki Chandni : Tusshar Kapoor \n",
      "Chaalis Chauraasi : Naseeruddin Shah \n",
      "Chaahat – Ek Nasha : Aryan Vaid \n",
      "Cash (2007 film) : Ajay Devgn \n",
      "Calendar Girls (2015 film) : Akanksha Puri \n",
      "Calcutta Mail : Anil Kapoor \n",
      "Calapor (film) : Hemant Gopal \n",
      "C Kkompany : Tusshar Kapoor \n",
      "Bypass Road (film) : Neil Nitin Mukesh \n",
      "Bunty Aur Babli : Abhishek Bachchan \n",
      "Bumper Draw : Seema Azmi \n",
      "Bumm Bumm Bole : Atul Kulkarni \n",
      "Bumboo : Kavin Dave \n",
      "Bullett Raja : Saif Ali Khan \n",
      "Bullet: Ek Dhamaka : Saayli Buva \n",
      "Buddha in a Traffic Jam : Aanchal Dwivedi \n",
      "Buddha Mar Gaya : Mona Ambegaonkar \n",
      "Bubble Gum (film) : Apoorva Arora \n",
      "Brothers (2015 film) : Akshay Kumar \n",
      "Brij Mohan Amar Rahe : Arjun Mathur \n",
      "Breakaway (2011 film) : Vinay Virmani \n",
      "Break Ke Baad : Deepika Padukone \n",
      "Brahman Naman : Shashank Arora \n",
      "Boss (2013 Hindi film) : Akshay Kumar \n",
      "Border (1997 film) : Sanjay Dutt \n",
      "Boom (film) : Amitabh Bachchan \n",
      "Bombay to Goa (2007 film) : Sunil Pal \n",
      "Bombay to Bangkok : Shreyas Talpade \n",
      "Bombay Velvet : Ranbir Kapoor \n",
      "Bombay Talkies (film) : Rani Mukerji \n",
      "Bombairiya : Radhika Apte \n",
      "Bollywood Diaries : Raima Sen \n",
      "Bol Bachchan : Amitabh Bachchan \n",
      "Bodyguard (2011 Hindi film) : Salman Khan \n",
      "Bobby Jasoos : Vidya Balan \n",
      "Bluffmaster! : Abhishek Bachchan \n",
      "Blue (2009 film) : Akshay Kumar \n",
      "Bloody Isshq : Akash \n",
      "Blood Money (2012 film) : Manish Chaudhary \n",
      "Blood Brothers (2007 Indian film) : Jazzy Doe \n",
      "Blackmail (2005 film) : Ajay Devgn \n",
      "Black Friday (2007 film) : Kay Kay Menon \n",
      "Black (2005 film) : Amitabh Bachchan \n",
      "Bittoo Boss : Pulkit Samrat \n",
      "Bioscopewala : Danny Denzongpa \n",
      "Bin Bulaye Baraati : Naushaad Abbas \n",
      "Billu : Irrfan Khan \n",
      "Big Brother (2007 film) : Sunny Deol \n",
      "Bhram : Dino Morea \n",
      "Bhopal: A Prayer for Rain : Mischa Barton \n",
      "Bhoothnath Returns : Amitabh Bachchan \n",
      "Bhoothnath : Amitabh Bachchan \n",
      "Bhoot Unkle : Jackie Shroff \n",
      "Bhoot Returns : J.D. Chakravarthi \n",
      "Bhoot (film) : Ajay Devgn \n",
      "Bhoomi (film) : Sunny Leone \n",
      "Bhool Bhulaiyaa : Akshay Kumar \n",
      "Bhola in Bollywood : Ali Asgar \n",
      "Bheja Fry 2 : Vinay Pathak \n",
      "Bheja Fry (film) : Vinay Pathak \n",
      "Bhavesh Joshi Superhero : Harshvardhan Kapoor \n",
      "Bhanwarey : Shaurya Singh \n",
      "Bhaiaji Superhit : Sunny Deol \n",
      "Bhagmati (2005 film) : Tabu \n",
      "Bhagam Bhag : Akshay Kumar \n",
      "Bhaag Milkha Bhaag : Farhan Akhtar \n",
      "Bhaag Johnny : Kunal Khemu \n",
      "Bezubaan Ishq : Mugdha Godse \n",
      "Beyond the Clouds (2017 film) : Ishaan Khattar \n",
      "Bewakoofiyaan : Ayushmann Khurrana \n",
      "Bewafaa (2005 film) : Anil Kapoor \n",
      "Being Cyrus : Naseeruddin Shah \n",
      "Beiimaan Love : Sunny Leone \n",
      "Behen Hogi Teri : Rajkummar Rao \n",
      "Begum Jaan : Amitabh Bachchan \n",
      "Befikre : Vaani Kapoor \n",
      "Bbuddah... Hoga Terra Baap : Amitabh Bachchan \n",
      "Bazaar E Husn : Reshmi Ghosh \n",
      "Batti Gul Meter Chalu : Shahid Kapoor \n",
      "Battalion 609 : Vicky Ahuja \n",
      "Batla House : John Abraham \n",
      "Basti (film) : Sadashiv Amrapurkar \n",
      "Bas Ek Pal : Juhi Chawla \n",
      "Barsaat (2005 film) : Bobby Deol \n",
      "Barkhaa : Sara Loren \n",
      "Barfi! : Ranbir Kapoor \n",
      "Bareilly Ki Barfi : Ayushmann Khurrana \n",
      "Bardaasht : Bobby Deol \n",
      "Barah Aana : Naseeruddin Shah \n",
      "Bank Chor : Riteish Deshmukh \n",
      "Banjo (2016 film) : Riteish Deshmukh \n",
      "Bangistan : Jacqueline Fernandez \n",
      "Bang Bang! : Hrithik Roshan \n",
      "Bandook : Manisha Kelkar \n",
      "Band Baaja Baaraat : Ranveer Singh \n",
      "Banaras (2006 film) : Urmila Matondkar \n",
      "Balwinder Singh Famous Ho Gaya : Asrani \n",
      "Bala (2019 film) : Ayushmann Khurrana \n",
      "Bajrangi Bhaijaan : Salman Khan \n",
      "Bajirao Mastani : Ranveer Singh \n",
      "Bajatey Raho : Tusshar Kapoor \n",
      "Baghban (2003 film) : Amitabh Bachchan \n",
      "Badrinath Ki Dulhania : Varun Dhawan \n",
      "Badmashiyaan : Sidhant Gupta \n",
      "Badlapur Boys : Annu Kapoor \n",
      "Badlapur (film) : Varun Dhawan \n",
      "Badla (2019 film) : Amitabh Bachchan \n",
      "Badhaai Ho : Ayushmann Khurrana \n",
      "Bachna Ae Haseeno : Ranbir Kapoor \n",
      "Bachke Rehna Re Baba : Rekha \n",
      "Bachche Kachche Sachche : Manoj Babani \n",
      "Baby (2015 Hindi film) : Akshay Kumar \n",
      "Babumoshai Bandookbaaz : Nawazuddin Siddiqui \n",
      "Babuji Ek Ticket Bambai : Sudha Chandran \n",
      "Babloo Happy Hai : Sahil Anand \n",
      "Baazaar : Radhika Apte \n",
      "Baaz: A Bird in Danger : Jackie Shroff \n",
      "Baat Bann Gayi : Anisa Butt \n",
      "Baar Baar Dekho : Sidharth Malhotra \n",
      "Baaghi 2 : Tiger Shroff \n",
      "Baaghi (2016 film) : Shraddha Kapoor \n",
      "Baabul (2006 film) : Amitabh Bachchan \n",
      "Baabarr : Mithun Chakraborty \n",
      "B.A. Pass : Shadab Kamal \n",
      "Azhar (film) : Emraan Hashmi \n",
      "Awarapan : Emraan Hashmi \n",
      "Awara Paagal Deewana : Akshay Kumar \n",
      "Aval (2017 film) : Prakash Belawadi \n",
      "Aurangzeb (film) : Arjun Kapoor \n",
      "Aur Pappu Paas Ho Gaya : Krishna Abhishek \n",
      "Ata Pata Laapata : Asrani \n",
      "Asambhav : Arjun Rampal \n",
      "Aryan: Unbreakable : Sohail Khan \n",
      "Article 15 (film) : Ayushmann Khurrana \n",
      "Armaan (2003 film) : Amitabh Bachchan \n",
      "Arjun: The Warrior Prince : Yudhveer Bakoliya \n",
      "Arjun Patiala : Diljit Dosanjh \n",
      "Apne : Dharmendra \n",
      "Apna Sapna Money Money : Bobby Darling \n",
      "Apna Asmaan : Irrfan Khan \n",
      "Apartment (film) : Rohit Roy \n",
      "Apaharan : Ajay Devgn \n",
      "Anwar (2007 film) : Nauheed Cyrusi \n",
      "Anuradha (2014 film) : Sachin Khedekar \n",
      "Anthony Kaun Hai? : Sanjay Dutt \n",
      "Antardwand : Raj Singh Chaudhary \n",
      "Anna (2016 film) : Shashank Udapurkar \n",
      "Ankur Arora Murder Case : Kay Kay Menon \n",
      "Ankhon Dekhi : Sanjay Mishra \n",
      "Ankahee (2006 film) : Aftab Shivdasani \n",
      "Anjaane (2005 film) : Manisha Koirala \n",
      "Anjaana Anjaani : Priyanka Chopra \n",
      "Angel (2011 film) : Sumit Arora \n",
      "Andhadhun : Ayushmann Khurrana \n",
      "Andaaz : Akshay Kumar \n",
      "Andaaz : Akshay Kumar \n",
      "Anamika (2008 film) : Dino Morea \n",
      "Anaarkali of Aarah : Pankaj Tripathi \n",
      "Amit Sahni Ki List : Vir Das \n",
      "Amavas : Ali Asgar \n",
      "Always Kabhi Kabhi : Lillete Dubey \n",
      "Aloo Chaat (film) : Aftab Shivdasani \n",
      "Alone (2015 Hindi film) : Bipasha Basu \n",
      "Allah Ke Banday : Varun Bhagwat \n",
      "All the Best: Fun Begins : Sanjay Dutt \n",
      "All Is Well (2015 film) : Rishi Kapoor \n",
      "Aligarh (film) : Sukhesh Arora \n",
      "Albert Pinto Ko Gussa Kyun Aata Hai? : Manav Kaul \n",
      "Alag : Akshay Kapoor \n",
      "Aladin (film) : Amitabh Bachchan \n",
      "Aksar 2 : Zareen Khan \n",
      "Aksar : Emraan Hashmi \n",
      "Akaash Vani : Kartik Aaryan \n",
      "Ajji : Sushama Deshpande \n",
      "Ajab Prem Ki Ghazab Kahani : Ranbir Kapoor \n",
      "Ajab Gazabb Love : Jackky Bhagnani \n",
      "Aiyyaa : Rani Mukerji \n",
      "Aiyaary : Sidharth Malhotra \n",
      "Aitraaz : Akshay Kumar \n",
      "Aisa Yeh Jahaan : Yashpal Sharma \n",
      "Aisa Kyon Hota Hai? : Rati Agnihotri \n",
      "Airlift (film) : Akshay Kumar \n",
      "Ahista Ahista (2006 film) : Abhay Deol \n",
      "Agnipankh : Jimmy Sheirgill \n",
      "Agneepath (2012 film) : Hrithik Roshan \n",
      "Aggar (film) : Tusshar Kapoor \n",
      "Agent Vinod (2012 film) : Kareena Kapoor \n",
      "Aetbaar : Amitabh Bachchan \n",
      "Ae Dil Hai Mushkil : Ranbir Kapoor \n",
      "Adharm (2006 film) : Rahul Dev \n",
      "Action Replayy : Akshay Kumar \n",
      "Action Jackson (2014 film) : Prabhas \n",
      "Acid Factory : Fardeen Khan \n",
      "Accident on Hill Road : Farooq Shaikh \n",
      "Ab Tumhare Hawale Watan Saathiyo : Amitabh Bachchan \n",
      "Ab Tak Chhappan 2 : Nana Patekar \n",
      "Aazaan : Sachiin Joshi \n",
      "Aasma: The Sky Is the Limit : Hrishitaa Bhatt \n",
      "Aashiqui.in : Ishaan Manhaas \n",
      "Aashiqui 2 : Aditya Roy Kapoor \n",
      "Aashiq Banaya Aapne : Emraan Hashmi \n",
      "Aashayein : John Abraham \n",
      "Aarakshan : Amitabh Bachchan \n",
      "Aapko Pehle Bhi Kahin Dekha Hai : Priyanshu Chatterjee \n",
      "Aap Ki Khatir (2006 film) : Akshaye Khanna \n",
      "Aap Kaa Surroor : Himesh Reshammiya \n",
      "Aankhen (2002 film) : Amitabh Bachchan \n",
      "Aanch : Arun Bakshi \n",
      "Aan: Men at Work : Shatrughan Sinha \n",
      "Aalaap (film) : Omkar Das Manikpuri \n",
      "Aakrosh (2010 film) : Ajay Devgn \n",
      "Aakhari Decision : Paul Sidhu \n",
      "Aaja Nachle : Madhuri Dixit \n",
      "Aaj Ka Andha Kanoon : Sudesh Berry \n",
      "Aagey Se Right : Shreyas Talpade \n",
      "Aag (2007 film) : Amitabh Bachchan \n",
      "Aabra Ka Daabra : Naveen Bawa \n",
      "Aa Gaya Hero : Govinda \n",
      "Aa Dekhen Zara : Neil Nitin Mukesh \n",
      "ABCD 2 : Prabhu Deva \n",
      "A Gentleman : Sidharth Malhotra \n",
      "A Flying Jatt : Tiger Shroff \n",
      "A Flat (film) : Jimmy Sheirgill \n",
      "A Decent Arrangement : Shabana Azmi \n",
      "?: A Question Mark : Kiran Bhatia \n",
      "99.9 FM (film) : Shawar Ali \n",
      "99 (2009 film) : Kunal Khemu \n",
      "88 Antop Hill : Atul Kulkarni \n",
      "7½ Phere : Juhi Chawla \n",
      "7 Khoon Maaf : Priyanka Chopra \n",
      "7 Hours to Go : Vipin Sharma \n",
      "68 Pages : Mouli Ganguly \n",
      "5 Weddings : Nargis Fakhri \n",
      "404 (film) : Sara Arjun \n",
      "3G (film) : Neil Nitin Mukesh \n",
      "36 China Town : Akshaye Khanna \n",
      "31st October (film) : Soha Ali Khan \n",
      "3 Storeys : Aisha Ahmed \n",
      "3 Idiots : Aamir Khan \n",
      "3 Deewarein : Naseeruddin Shah \n",
      "3 A.M. (2014 film) : Salil Acharya \n",
      "22 Yards : Barun Sobti \n",
      "2 States (2014 film) : Alia Bhatt \n",
      "1971 (2007 film) : Manoj Bajpayee \n",
      "1920: The Evil Returns : Vicky Ahuja \n",
      "1920: London : Sharman Joshi \n",
      "1920 (film) : Rajniesh Duggall \n"
     ]
    }
   ],
   "source": [
    "for k,v in movies.items():\n",
    "    print(\"{} : {} \".format(k,v))"
   ]
  },
  {
   "cell_type": "code",
   "execution_count": 152,
   "metadata": {},
   "outputs": [
    {
     "name": "stdout",
     "output_type": "stream",
     "text": [
      "maths : 67 \n",
      "english : 57 \n",
      "science : 89 \n",
      "hindi : 100 \n"
     ]
    }
   ],
   "source": [
    "for k,v in marks.items():\n",
    "    print(\"{} : {} \".format(k,v))"
   ]
  },
  {
   "cell_type": "code",
   "execution_count": 153,
   "metadata": {
    "colab": {
     "base_uri": "https://localhost:8080/"
    },
    "id": "XPYoq68WuBZ_",
    "outputId": "37e4b69d-1071-4735-a5cc-1db0c1b096a6"
   },
   "outputs": [
    {
     "data": {
      "text/plain": [
       "maths      33\n",
       "english     0\n",
       "science    11\n",
       "hindi       0\n",
       "evs         0\n",
       "Name: Chotu's marks, dtype: int64"
      ]
     },
     "execution_count": 153,
     "metadata": {},
     "output_type": "execute_result"
    }
   ],
   "source": [
    "# Arithmetic Operators(Broadcasting)\n",
    "100 - marks_series"
   ]
  },
  {
   "cell_type": "code",
   "execution_count": 154,
   "metadata": {},
   "outputs": [
    {
     "data": {
      "text/plain": [
       "maths      167\n",
       "english    200\n",
       "science    189\n",
       "hindi      200\n",
       "evs        200\n",
       "Name: Chotu's marks, dtype: int64"
      ]
     },
     "execution_count": 154,
     "metadata": {},
     "output_type": "execute_result"
    }
   ],
   "source": [
    "100 + marks_series"
   ]
  },
  {
   "cell_type": "code",
   "execution_count": 161,
   "metadata": {
    "colab": {
     "base_uri": "https://localhost:8080/"
    },
    "id": "L3uIP0BJuEKf",
    "outputId": "5071a9e3-ef90-4e09-d880-785518914f78"
   },
   "outputs": [
    {
     "data": {
      "text/plain": [
       "match_no\n",
       "34      58\n",
       "41      71\n",
       "44      56\n",
       "45      67\n",
       "52      70\n",
       "57      57\n",
       "68      73\n",
       "71      51\n",
       "73      58\n",
       "74      65\n",
       "80      57\n",
       "81      93\n",
       "82      99\n",
       "85      56\n",
       "97      67\n",
       "99      73\n",
       "103     51\n",
       "104     62\n",
       "110     82\n",
       "116     75\n",
       "117     79\n",
       "119     80\n",
       "120    100\n",
       "122     52\n",
       "123    108\n",
       "126    109\n",
       "127     75\n",
       "128    113\n",
       "129     54\n",
       "131     54\n",
       "132     62\n",
       "134     64\n",
       "137     55\n",
       "141     58\n",
       "144     57\n",
       "145     92\n",
       "148     68\n",
       "152     70\n",
       "160     84\n",
       "162     67\n",
       "164    100\n",
       "175     72\n",
       "178     90\n",
       "188     72\n",
       "197     51\n",
       "198     53\n",
       "209     58\n",
       "213     73\n",
       "Name: runs, dtype: int64"
      ]
     },
     "execution_count": 161,
     "metadata": {},
     "output_type": "execute_result"
    }
   ],
   "source": [
    "# Relational Operators\n",
    "vk[vk >50]"
   ]
  },
  {
   "cell_type": "markdown",
   "metadata": {
    "id": "nrtnwvD0O515"
   },
   "source": [
    "### Boolean Indexing on Series"
   ]
  },
  {
   "cell_type": "code",
   "execution_count": 158,
   "metadata": {
    "colab": {
     "base_uri": "https://localhost:8080/"
    },
    "id": "XcyU25jLO9ft",
    "outputId": "a239891b-0493-4eb0-85b5-301f599fa2f0"
   },
   "outputs": [
    {
     "data": {
      "text/plain": [
       "50"
      ]
     },
     "execution_count": 158,
     "metadata": {},
     "output_type": "execute_result"
    }
   ],
   "source": [
    "# Find no of 50's and 100's scored by kohli\n",
    "vk[vk >= 50].size"
   ]
  },
  {
   "cell_type": "code",
   "execution_count": 162,
   "metadata": {
    "colab": {
     "base_uri": "https://localhost:8080/"
    },
    "id": "37QxNConO904",
    "outputId": "82600c80-6242-41cd-b904-1831912b41da"
   },
   "outputs": [
    {
     "data": {
      "text/plain": [
       "9"
      ]
     },
     "execution_count": 162,
     "metadata": {},
     "output_type": "execute_result"
    }
   ],
   "source": [
    "# find number of ducks\n",
    "vk[vk == 0].size"
   ]
  },
  {
   "cell_type": "code",
   "execution_count": null,
   "metadata": {
    "colab": {
     "base_uri": "https://localhost:8080/"
    },
    "id": "p-Hft0kSvBn2",
    "outputId": "40c5162c-bf00-4be3-b07f-9e6a1ab1d3c2"
   },
   "outputs": [
    {
     "data": {
      "text/plain": [
       "59"
      ]
     },
     "execution_count": 161,
     "metadata": {},
     "output_type": "execute_result"
    }
   ],
   "source": [
    "# Count number of day when I had more than 200 subs a day\n",
    "subs[subs > 200].size"
   ]
  },
  {
   "cell_type": "code",
   "execution_count": 163,
   "metadata": {},
   "outputs": [
    {
     "data": {
      "text/plain": [
       "240"
      ]
     },
     "execution_count": 163,
     "metadata": {},
     "output_type": "execute_result"
    }
   ],
   "source": [
    "subs[subs > 100].size"
   ]
  },
  {
   "cell_type": "code",
   "execution_count": 164,
   "metadata": {
    "colab": {
     "base_uri": "https://localhost:8080/"
    },
    "id": "fZM3OCApvsZe",
    "outputId": "4dedb12e-c01e-4209-93a1-7614a4fb9a25"
   },
   "outputs": [
    {
     "data": {
      "text/plain": [
       "Akshay Kumar        48\n",
       "Amitabh Bachchan    45\n",
       "Ajay Devgn          38\n",
       "Salman Khan         31\n",
       "Sanjay Dutt         26\n",
       "Shah Rukh Khan      22\n",
       "Emraan Hashmi       21\n",
       "Name: lead, dtype: int64"
      ]
     },
     "execution_count": 164,
     "metadata": {},
     "output_type": "execute_result"
    }
   ],
   "source": [
    "# find actors who have done more than 20 movies\n",
    "num_movies = movies.value_counts()\n",
    "num_movies[num_movies > 20]"
   ]
  },
  {
   "cell_type": "markdown",
   "metadata": {
    "id": "PQjv9hm-42Jr"
   },
   "source": [
    "### Plotting Graphs on Series"
   ]
  },
  {
   "cell_type": "code",
   "execution_count": 166,
   "metadata": {
    "colab": {
     "base_uri": "https://localhost:8080/",
     "height": 283
    },
    "id": "WVEQvPTw40KE",
    "outputId": "8e7a69f1-792a-4a0e-ad83-4875ecde1108"
   },
   "outputs": [
    {
     "data": {
      "text/plain": [
       "<AxesSubplot:>"
      ]
     },
     "execution_count": 166,
     "metadata": {},
     "output_type": "execute_result"
    },
    {
     "data": {
      "image/png": "[encoded data removed]",
      "text/plain": [
       "<Figure size 432x288 with 1 Axes>"
      ]
     },
     "metadata": {
      "needs_background": "light"
     },
     "output_type": "display_data"
    }
   ],
   "source": [
    "subs.plot()"
   ]
  },
  {
   "cell_type": "code",
   "execution_count": 167,
   "metadata": {},
   "outputs": [
    {
     "data": {
      "text/plain": [
       "<AxesSubplot:>"
      ]
     },
     "execution_count": 167,
     "metadata": {},
     "output_type": "execute_result"
    },
    {
     "data": {
      "image/png": "[encoded data removed]",
      "text/plain": [
       "<Figure size 432x288 with 1 Axes>"
      ]
     },
     "metadata": {
      "needs_background": "light"
     },
     "output_type": "display_data"
    }
   ],
   "source": [
    "Items.plot()"
   ]
  },
  {
   "cell_type": "code",
   "execution_count": 168,
   "metadata": {
    "colab": {
     "base_uri": "https://localhost:8080/",
     "height": 266
    },
    "id": "lGhMdpmkTm-z",
    "outputId": "e21c52dc-b3cb-4a40-c2cf-2a09b7cd61f1"
   },
   "outputs": [
    {
     "data": {
      "text/plain": [
       "<AxesSubplot:ylabel='lead'>"
      ]
     },
     "execution_count": 168,
     "metadata": {},
     "output_type": "execute_result"
    },
    {
     "data": {
      "image/png": "[encoded data removed]",
      "text/plain": [
       "<Figure size 432x288 with 1 Axes>"
      ]
     },
     "metadata": {},
     "output_type": "display_data"
    }
   ],
   "source": [
    "movies.value_counts().head(10).plot(kind='pie')"
   ]
  },
  {
   "cell_type": "code",
   "execution_count": null,
   "metadata": {
    "id": "HRw5A2lhKn97"
   },
   "outputs": [],
   "source": [
    "# astype\n",
    "# between\n",
    "# clip\n",
    "# drop_duplicates\n",
    "# isnull\n",
    "# dropna\n",
    "# fillna\n",
    "# isin\n",
    "# apply\n",
    "# copy"
   ]
  },
  {
   "cell_type": "code",
   "execution_count": 169,
   "metadata": {
    "id": "AWCxMcdt6tN2"
   },
   "outputs": [],
   "source": [
    "import numpy as np\n",
    "import pandas as pd"
   ]
  },
  {
   "cell_type": "code",
   "execution_count": 170,
   "metadata": {
    "colab": {
     "base_uri": "https://localhost:8080/"
    },
    "id": "7ziyhORZ0Oy1",
    "outputId": "a480585f-3edd-4497-8f48-1f6a718cdbd3"
   },
   "outputs": [
    {
     "name": "stderr",
     "output_type": "stream",
     "text": [
      "C:\\Users\\RISHAB~1\\AppData\\Local\\Temp/ipykernel_21272/4208130662.py:1: FutureWarning: The squeeze argument has been deprecated and will be removed in a future version. Append .squeeze(\"columns\") to the call to squeeze.\n",
      "\n",
      "\n",
      "  subs = pd.read_csv('subs.csv',squeeze=True)\n"
     ]
    },
    {
     "data": {
      "text/plain": [
       "0       48\n",
       "1       57\n",
       "2       40\n",
       "3       43\n",
       "4       44\n",
       "      ... \n",
       "360    231\n",
       "361    226\n",
       "362    155\n",
       "363    144\n",
       "364    172\n",
       "Name: Subscribers gained, Length: 365, dtype: int64"
      ]
     },
     "execution_count": 170,
     "metadata": {},
     "output_type": "execute_result"
    }
   ],
   "source": [
    "subs = pd.read_csv('subs.csv',squeeze=True)\n",
    "subs"
   ]
  },
  {
   "cell_type": "code",
   "execution_count": 171,
   "metadata": {
    "colab": {
     "base_uri": "https://localhost:8080/"
    },
    "id": "sXzsoZBIzXgQ",
    "outputId": "fdfa4a42-cab0-4f2a-84d8-7b0ffb3a3a0b"
   },
   "outputs": [
    {
     "name": "stderr",
     "output_type": "stream",
     "text": [
      "C:\\Users\\RISHAB~1\\AppData\\Local\\Temp/ipykernel_21272/2355429793.py:1: FutureWarning: The squeeze argument has been deprecated and will be removed in a future version. Append .squeeze(\"columns\") to the call to squeeze.\n",
      "\n",
      "\n",
      "  vk = pd.read_csv('kohli_ipl.csv',index_col='match_no',squeeze=True)\n"
     ]
    },
    {
     "data": {
      "text/plain": [
       "match_no\n",
       "1       1\n",
       "2      23\n",
       "3      13\n",
       "4      12\n",
       "5       1\n",
       "       ..\n",
       "211     0\n",
       "212    20\n",
       "213    73\n",
       "214    25\n",
       "215     7\n",
       "Name: runs, Length: 215, dtype: int64"
      ]
     },
     "execution_count": 171,
     "metadata": {},
     "output_type": "execute_result"
    }
   ],
   "source": [
    "vk = pd.read_csv('kohli_ipl.csv',index_col='match_no',squeeze=True)\n",
    "vk"
   ]
  },
  {
   "cell_type": "code",
   "execution_count": 172,
   "metadata": {
    "colab": {
     "base_uri": "https://localhost:8080/"
    },
    "id": "YIG8ViibzbaA",
    "outputId": "e3db35aa-e98a-425a-ca61-df44efa191c8"
   },
   "outputs": [
    {
     "name": "stderr",
     "output_type": "stream",
     "text": [
      "C:\\Users\\RISHAB~1\\AppData\\Local\\Temp/ipykernel_21272/3398216118.py:1: FutureWarning: The squeeze argument has been deprecated and will be removed in a future version. Append .squeeze(\"columns\") to the call to squeeze.\n",
      "\n",
      "\n",
      "  movies = pd.read_csv('bollywood.csv',index_col='movie',squeeze=True)\n"
     ]
    },
    {
     "data": {
      "text/plain": [
       "movie\n",
       "Uri: The Surgical Strike                   Vicky Kaushal\n",
       "Battalion 609                                Vicky Ahuja\n",
       "The Accidental Prime Minister (film)         Anupam Kher\n",
       "Why Cheat India                            Emraan Hashmi\n",
       "Evening Shadows                         Mona Ambegaonkar\n",
       "                                              ...       \n",
       "Hum Tumhare Hain Sanam                    Shah Rukh Khan\n",
       "Aankhen (2002 film)                     Amitabh Bachchan\n",
       "Saathiya (film)                             Vivek Oberoi\n",
       "Company (film)                                Ajay Devgn\n",
       "Awara Paagal Deewana                        Akshay Kumar\n",
       "Name: lead, Length: 1500, dtype: object"
      ]
     },
     "execution_count": 172,
     "metadata": {},
     "output_type": "execute_result"
    }
   ],
   "source": [
    "movies = pd.read_csv('bollywood.csv',index_col='movie',squeeze=True)\n",
    "movies"
   ]
  },
  {
   "cell_type": "code",
   "execution_count": 173,
   "metadata": {
    "colab": {
     "base_uri": "https://localhost:8080/"
    },
    "id": "9TGRR7Mi63Rl",
    "outputId": "9b255cc8-bc45-4889-cc41-0a466f023e8e"
   },
   "outputs": [
    {
     "data": {
      "text/plain": [
       "43"
      ]
     },
     "execution_count": 173,
     "metadata": {},
     "output_type": "execute_result"
    }
   ],
   "source": [
    "# between\n",
    "vk[vk.between(51,99)].size"
   ]
  },
  {
   "cell_type": "code",
   "execution_count": 174,
   "metadata": {
    "colab": {
     "base_uri": "https://localhost:8080/"
    },
    "id": "n7FUL-St69Dk",
    "outputId": "2f39b3ef-1505-48ff-9515-5118cbb6566e"
   },
   "outputs": [
    {
     "data": {
      "text/plain": [
       "0       48\n",
       "1       57\n",
       "2       40\n",
       "3       43\n",
       "4       44\n",
       "      ... \n",
       "360    231\n",
       "361    226\n",
       "362    155\n",
       "363    144\n",
       "364    172\n",
       "Name: Subscribers gained, Length: 365, dtype: int64"
      ]
     },
     "execution_count": 174,
     "metadata": {},
     "output_type": "execute_result"
    }
   ],
   "source": [
    "# clip\n",
    "subs"
   ]
  },
  {
   "cell_type": "code",
   "execution_count": 175,
   "metadata": {
    "colab": {
     "base_uri": "https://localhost:8080/"
    },
    "id": "kUkcI7Q86-Ik",
    "outputId": "ded69a90-7ed3-4c1d-c6d1-8cf1f7a4c621"
   },
   "outputs": [
    {
     "data": {
      "text/plain": [
       "0      100\n",
       "1      100\n",
       "2      100\n",
       "3      100\n",
       "4      100\n",
       "      ... \n",
       "360    200\n",
       "361    200\n",
       "362    155\n",
       "363    144\n",
       "364    172\n",
       "Name: Subscribers gained, Length: 365, dtype: int64"
      ]
     },
     "execution_count": 175,
     "metadata": {},
     "output_type": "execute_result"
    }
   ],
   "source": [
    "subs.clip(100,200)"
   ]
  },
  {
   "cell_type": "code",
   "execution_count": 176,
   "metadata": {
    "colab": {
     "base_uri": "https://localhost:8080/"
    },
    "id": "1pxfXsU2z13B",
    "outputId": "18a6951c-06b6-48ea-d3c2-22a27f737ed5"
   },
   "outputs": [
    {
     "data": {
      "text/plain": [
       "0    1\n",
       "1    1\n",
       "2    2\n",
       "3    2\n",
       "4    3\n",
       "5    3\n",
       "6    4\n",
       "7    4\n",
       "dtype: int64"
      ]
     },
     "execution_count": 176,
     "metadata": {},
     "output_type": "execute_result"
    }
   ],
   "source": [
    "# drop_duplicates\n",
    "temp = pd.Series([1,1,2,2,3,3,4,4])\n",
    "temp"
   ]
  },
  {
   "cell_type": "code",
   "execution_count": 177,
   "metadata": {
    "colab": {
     "base_uri": "https://localhost:8080/"
    },
    "id": "CuhblaOA6eLa",
    "outputId": "132438ce-dfa3-43e7-9574-27e573ebaa3b"
   },
   "outputs": [
    {
     "data": {
      "text/plain": [
       "1    1\n",
       "3    2\n",
       "5    3\n",
       "7    4\n",
       "dtype: int64"
      ]
     },
     "execution_count": 177,
     "metadata": {},
     "output_type": "execute_result"
    }
   ],
   "source": [
    "temp.drop_duplicates(keep='last')"
   ]
  },
  {
   "cell_type": "code",
   "execution_count": 178,
   "metadata": {
    "colab": {
     "base_uri": "https://localhost:8080/"
    },
    "id": "JP2eHcJQ9wUT",
    "outputId": "7e4323f5-24f1-42ad-85f7-d8ce51999716"
   },
   "outputs": [
    {
     "data": {
      "text/plain": [
       "4"
      ]
     },
     "execution_count": 178,
     "metadata": {},
     "output_type": "execute_result"
    }
   ],
   "source": [
    "temp.duplicated().sum()"
   ]
  },
  {
   "cell_type": "code",
   "execution_count": 179,
   "metadata": {
    "colab": {
     "base_uri": "https://localhost:8080/"
    },
    "id": "CNOErsJI992F",
    "outputId": "f775f7de-3bfb-41f1-b602-bd3b49d3c5bf"
   },
   "outputs": [
    {
     "data": {
      "text/plain": [
       "137"
      ]
     },
     "execution_count": 179,
     "metadata": {},
     "output_type": "execute_result"
    }
   ],
   "source": [
    "vk.duplicated().sum()"
   ]
  },
  {
   "cell_type": "code",
   "execution_count": 180,
   "metadata": {
    "colab": {
     "base_uri": "https://localhost:8080/"
    },
    "id": "HJrGhllP9mUy",
    "outputId": "ad772a71-57fb-4d1a-bdc3-dc5ff28dfbca"
   },
   "outputs": [
    {
     "data": {
      "text/plain": [
       "movie\n",
       "Uri: The Surgical Strike                   Vicky Kaushal\n",
       "Battalion 609                                Vicky Ahuja\n",
       "The Accidental Prime Minister (film)         Anupam Kher\n",
       "Why Cheat India                            Emraan Hashmi\n",
       "Evening Shadows                         Mona Ambegaonkar\n",
       "                                              ...       \n",
       "Sssshhh...                              Tanishaa Mukerji\n",
       "Rules: Pyaar Ka Superhit Formula                  Tanuja\n",
       "Right Here Right Now (film)                        Ankit\n",
       "Talaash: The Hunt Begins...                Rakhee Gulzar\n",
       "The Pink Mirror                          Edwin Fernandes\n",
       "Name: lead, Length: 566, dtype: object"
      ]
     },
     "execution_count": 180,
     "metadata": {},
     "output_type": "execute_result"
    }
   ],
   "source": [
    "movies.drop_duplicates()"
   ]
  },
  {
   "cell_type": "code",
   "execution_count": 181,
   "metadata": {
    "colab": {
     "base_uri": "https://localhost:8080/"
    },
    "id": "QrrlnPu46ene",
    "outputId": "9e396114-42da-49b6-b850-710f52e89c6c"
   },
   "outputs": [
    {
     "data": {
      "text/plain": [
       "0     1.0\n",
       "1     2.0\n",
       "2     3.0\n",
       "3     NaN\n",
       "4     5.0\n",
       "5     6.0\n",
       "6     NaN\n",
       "7     8.0\n",
       "8     NaN\n",
       "9    10.0\n",
       "dtype: float64"
      ]
     },
     "execution_count": 181,
     "metadata": {},
     "output_type": "execute_result"
    }
   ],
   "source": [
    "temp = pd.Series([1,2,3,np.nan,5,6,np.nan,8,np.nan,10])\n",
    "temp"
   ]
  },
  {
   "cell_type": "code",
   "execution_count": 182,
   "metadata": {
    "colab": {
     "base_uri": "https://localhost:8080/"
    },
    "id": "yH3URjKb-PTJ",
    "outputId": "90e1a0f4-53e4-44dd-ae5f-7e5cccb60f13"
   },
   "outputs": [
    {
     "data": {
      "text/plain": [
       "10"
      ]
     },
     "execution_count": 182,
     "metadata": {},
     "output_type": "execute_result"
    }
   ],
   "source": [
    "temp.size"
   ]
  },
  {
   "cell_type": "code",
   "execution_count": 183,
   "metadata": {
    "colab": {
     "base_uri": "https://localhost:8080/"
    },
    "id": "alUtB-HD-WNQ",
    "outputId": "9cbc07c4-d8bf-4455-d9a0-150189d719cd"
   },
   "outputs": [
    {
     "data": {
      "text/plain": [
       "7"
      ]
     },
     "execution_count": 183,
     "metadata": {},
     "output_type": "execute_result"
    }
   ],
   "source": [
    "temp.count()"
   ]
  },
  {
   "cell_type": "code",
   "execution_count": 185,
   "metadata": {
    "colab": {
     "base_uri": "https://localhost:8080/"
    },
    "id": "6FRiAkec6mib",
    "outputId": "db5c5c03-218b-43b0-bcdf-07df161e66de"
   },
   "outputs": [
    {
     "data": {
      "text/plain": [
       "3"
      ]
     },
     "execution_count": 185,
     "metadata": {},
     "output_type": "execute_result"
    }
   ],
   "source": [
    "# isnull\n",
    "temp.isnull()\n",
    "temp.isnull().sum()"
   ]
  },
  {
   "cell_type": "code",
   "execution_count": 186,
   "metadata": {
    "colab": {
     "base_uri": "https://localhost:8080/"
    },
    "id": "STkbZIDn7HBa",
    "outputId": "e128100c-4f4e-46b3-80b5-bb9390f2d53c"
   },
   "outputs": [
    {
     "data": {
      "text/plain": [
       "0     1.0\n",
       "1     2.0\n",
       "2     3.0\n",
       "4     5.0\n",
       "5     6.0\n",
       "7     8.0\n",
       "9    10.0\n",
       "dtype: float64"
      ]
     },
     "execution_count": 186,
     "metadata": {},
     "output_type": "execute_result"
    }
   ],
   "source": [
    "# dropna\n",
    "temp.dropna()"
   ]
  },
  {
   "cell_type": "code",
   "execution_count": 187,
   "metadata": {
    "colab": {
     "base_uri": "https://localhost:8080/"
    },
    "id": "cXIb28DN7Ihc",
    "outputId": "946fad61-56ad-412a-8e53-76ee45835d64"
   },
   "outputs": [
    {
     "data": {
      "text/plain": [
       "0     1.0\n",
       "1     2.0\n",
       "2     3.0\n",
       "3     5.0\n",
       "4     5.0\n",
       "5     6.0\n",
       "6     5.0\n",
       "7     8.0\n",
       "8     5.0\n",
       "9    10.0\n",
       "dtype: float64"
      ]
     },
     "execution_count": 187,
     "metadata": {},
     "output_type": "execute_result"
    }
   ],
   "source": [
    "# fillna\n",
    "temp.fillna(temp.mean())"
   ]
  },
  {
   "cell_type": "code",
   "execution_count": 188,
   "metadata": {
    "colab": {
     "base_uri": "https://localhost:8080/"
    },
    "id": "PHKT_uv-7MBm",
    "outputId": "25426a86-3608-4380-f970-03084bbbe02b"
   },
   "outputs": [
    {
     "data": {
      "text/plain": [
       "match_no\n",
       "82    99\n",
       "86    49\n",
       "Name: runs, dtype: int64"
      ]
     },
     "execution_count": 188,
     "metadata": {},
     "output_type": "execute_result"
    }
   ],
   "source": [
    "# isin\n",
    "vk[(vk == 49) | (vk == 99)]"
   ]
  },
  {
   "cell_type": "code",
   "execution_count": 189,
   "metadata": {},
   "outputs": [
    {
     "data": {
      "text/plain": [
       "Water Bottle      10\n",
       "Sugar             45\n",
       "Rice              80\n",
       "Vegetable oil    160\n",
       "Moong Dal        120\n",
       "dtype: int64"
      ]
     },
     "execution_count": 189,
     "metadata": {},
     "output_type": "execute_result"
    }
   ],
   "source": [
    "new = Items.copy()\n",
    "new"
   ]
  },
  {
   "cell_type": "code",
   "execution_count": 192,
   "metadata": {},
   "outputs": [
    {
     "data": {
      "text/plain": [
       "0       48\n",
       "1       57\n",
       "2       40\n",
       "3       43\n",
       "4       44\n",
       "      ... \n",
       "360    231\n",
       "361    226\n",
       "362    155\n",
       "363    144\n",
       "364    172\n",
       "Name: Subscribers gained, Length: 365, dtype: int64"
      ]
     },
     "execution_count": 192,
     "metadata": {},
     "output_type": "execute_result"
    }
   ],
   "source": [
    "# apply\n",
    "subs"
   ]
  },
  {
   "cell_type": "code",
   "execution_count": 193,
   "metadata": {},
   "outputs": [
    {
     "data": {
      "text/plain": [
       "0       bad day\n",
       "1       bad day\n",
       "2       bad day\n",
       "3       bad day\n",
       "4       bad day\n",
       "         ...   \n",
       "360    good day\n",
       "361    good day\n",
       "362    good day\n",
       "363    good day\n",
       "364    good day\n",
       "Name: Subscribers gained, Length: 365, dtype: object"
      ]
     },
     "execution_count": 193,
     "metadata": {},
     "output_type": "execute_result"
    }
   ],
   "source": [
    "subs.apply(lambda x:'good day' if x > subs.mean() else 'bad day')"
   ]
  },
  {
   "cell_type": "markdown",
   "metadata": {},
   "source": [
    "# Creating DataFrame"
   ]
  },
  {
   "cell_type": "code",
   "execution_count": 2,
   "metadata": {},
   "outputs": [
    {
     "data": {
      "text/html": [
       "<div>\n",
       "<style scoped>\n",
       "    .dataframe tbody tr th:only-of-type {\n",
       "        vertical-align: middle;\n",
       "    }\n",
       "\n",
       "    .dataframe tbody tr th {\n",
       "        vertical-align: top;\n",
       "    }\n",
       "\n",
       "    .dataframe thead th {\n",
       "        text-align: right;\n",
       "    }\n",
       "</style>\n",
       "<table border=\"1\" class=\"dataframe\">\n",
       "  <thead>\n",
       "    <tr style=\"text-align: right;\">\n",
       "      <th></th>\n",
       "      <th>iq</th>\n",
       "      <th>marks</th>\n",
       "      <th>package</th>\n",
       "    </tr>\n",
       "  </thead>\n",
       "  <tbody>\n",
       "    <tr>\n",
       "      <th>0</th>\n",
       "      <td>100</td>\n",
       "      <td>80</td>\n",
       "      <td>10</td>\n",
       "    </tr>\n",
       "    <tr>\n",
       "      <th>1</th>\n",
       "      <td>90</td>\n",
       "      <td>70</td>\n",
       "      <td>7</td>\n",
       "    </tr>\n",
       "    <tr>\n",
       "      <th>2</th>\n",
       "      <td>120</td>\n",
       "      <td>100</td>\n",
       "      <td>14</td>\n",
       "    </tr>\n",
       "    <tr>\n",
       "      <th>3</th>\n",
       "      <td>80</td>\n",
       "      <td>50</td>\n",
       "      <td>2</td>\n",
       "    </tr>\n",
       "  </tbody>\n",
       "</table>\n",
       "</div>"
      ],
      "text/plain": [
       "    iq  marks  package\n",
       "0  100     80       10\n",
       "1   90     70        7\n",
       "2  120    100       14\n",
       "3   80     50        2"
      ]
     },
     "execution_count": 2,
     "metadata": {},
     "output_type": "execute_result"
    }
   ],
   "source": [
    "# using lists\n",
    "student_data = [\n",
    "    [100,80,10],\n",
    "    [90,70,7],\n",
    "    [120,100,14],\n",
    "    [80,50,2]\n",
    "]\n",
    "\n",
    "pd.DataFrame(student_data,columns=['iq','marks','package'])"
   ]
  },
  {
   "cell_type": "code",
   "execution_count": 3,
   "metadata": {},
   "outputs": [
    {
     "data": {
      "text/html": [
       "<div>\n",
       "<style scoped>\n",
       "    .dataframe tbody tr th:only-of-type {\n",
       "        vertical-align: middle;\n",
       "    }\n",
       "\n",
       "    .dataframe tbody tr th {\n",
       "        vertical-align: top;\n",
       "    }\n",
       "\n",
       "    .dataframe thead th {\n",
       "        text-align: right;\n",
       "    }\n",
       "</style>\n",
       "<table border=\"1\" class=\"dataframe\">\n",
       "  <thead>\n",
       "    <tr style=\"text-align: right;\">\n",
       "      <th></th>\n",
       "      <th>iq</th>\n",
       "      <th>marks</th>\n",
       "      <th>package</th>\n",
       "    </tr>\n",
       "    <tr>\n",
       "      <th>name</th>\n",
       "      <th></th>\n",
       "      <th></th>\n",
       "      <th></th>\n",
       "    </tr>\n",
       "  </thead>\n",
       "  <tbody>\n",
       "    <tr>\n",
       "      <th>Mukund</th>\n",
       "      <td>100</td>\n",
       "      <td>80</td>\n",
       "      <td>10</td>\n",
       "    </tr>\n",
       "    <tr>\n",
       "      <th>Ankit</th>\n",
       "      <td>90</td>\n",
       "      <td>70</td>\n",
       "      <td>7</td>\n",
       "    </tr>\n",
       "    <tr>\n",
       "      <th>Lalit</th>\n",
       "      <td>120</td>\n",
       "      <td>100</td>\n",
       "      <td>14</td>\n",
       "    </tr>\n",
       "    <tr>\n",
       "      <th>Amit</th>\n",
       "      <td>80</td>\n",
       "      <td>50</td>\n",
       "      <td>2</td>\n",
       "    </tr>\n",
       "    <tr>\n",
       "      <th>Sourabh</th>\n",
       "      <td>0</td>\n",
       "      <td>0</td>\n",
       "      <td>0</td>\n",
       "    </tr>\n",
       "    <tr>\n",
       "      <th>Ritu</th>\n",
       "      <td>0</td>\n",
       "      <td>0</td>\n",
       "      <td>0</td>\n",
       "    </tr>\n",
       "  </tbody>\n",
       "</table>\n",
       "</div>"
      ],
      "text/plain": [
       "          iq  marks  package\n",
       "name                        \n",
       "Mukund   100     80       10\n",
       "Ankit     90     70        7\n",
       "Lalit    120    100       14\n",
       "Amit      80     50        2\n",
       "Sourabh    0      0        0\n",
       "Ritu       0      0        0"
      ]
     },
     "execution_count": 3,
     "metadata": {},
     "output_type": "execute_result"
    }
   ],
   "source": [
    "# using dicts\n",
    "\n",
    "student_dict = {\n",
    "    'name':['Mukund','Ankit','Lalit','Amit','Sourabh','Ritu'],\n",
    "    'iq':[100,90,120,80,0,0],\n",
    "    'marks':[80,70,100,50,0,0],\n",
    "    'package':[10,7,14,2,0,0]\n",
    "}\n",
    "\n",
    "students = pd.DataFrame(student_dict)\n",
    "students.set_index('name',inplace=True)\n",
    "students"
   ]
  },
  {
   "cell_type": "code",
   "execution_count": 4,
   "metadata": {},
   "outputs": [
    {
     "ename": "NameError",
     "evalue": "name 'read_xlsx' is not defined",
     "output_type": "error",
     "traceback": [
      "\u001b[1;31m---------------------------------------------------------------------------\u001b[0m",
      "\u001b[1;31mNameError\u001b[0m                                 Traceback (most recent call last)",
      "\u001b[1;32mC:\\Users\\RISHAB~1\\AppData\\Local\\Temp/ipykernel_22896/4293557886.py\u001b[0m in \u001b[0;36m<module>\u001b[1;34m\u001b[0m\n\u001b[0;32m      1\u001b[0m \u001b[1;31m# Using read_csv\u001b[0m\u001b[1;33m\u001b[0m\u001b[1;33m\u001b[0m\u001b[1;33m\u001b[0m\u001b[0m\n\u001b[1;32m----> 2\u001b[1;33m \u001b[0mpd\u001b[0m \u001b[1;33m=\u001b[0m \u001b[0mread_xlsx\u001b[0m\u001b[1;33m(\u001b[0m\u001b[1;34m'bollywood.xlsx'\u001b[0m\u001b[1;33m)\u001b[0m\u001b[1;33m\u001b[0m\u001b[1;33m\u001b[0m\u001b[0m\n\u001b[0m",
      "\u001b[1;31mNameError\u001b[0m: name 'read_xlsx' is not defined"
     ]
    }
   ],
   "source": [
    "# Using read_csv\n",
    "pd = read_xlsx('bollywood.xlsx')"
   ]
  },
  {
   "cell_type": "code",
   "execution_count": null,
   "metadata": {},
   "outputs": [],
   "source": []
  }
 ],
 "metadata": {
  "colab": {
   "provenance": []
  },
  "kernelspec": {
   "display_name": "Python 3 (ipykernel)",
   "language": "python",
   "name": "python3"
  },
  "language_info": {
   "codemirror_mode": {
    "name": "ipython",
    "version": 3
   },
   "file_extension": ".py",
   "mimetype": "text/x-python",
   "name": "python",
   "nbconvert_exporter": "python",
   "pygments_lexer": "ipython3",
   "version": "3.9.6"
  }
 },
 "nbformat": 4,
 "nbformat_minor": 1
}
