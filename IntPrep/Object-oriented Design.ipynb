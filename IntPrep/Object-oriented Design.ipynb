{
 "cells": [
  {
   "cell_type": "markdown",
   "id": "a7f31524",
   "metadata": {},
   "source": [
    "## Object-oriented programming"
   ]
  },
  {
   "cell_type": "markdown",
   "id": "a14bd5e7",
   "metadata": {},
   "source": [
    "- **Object-oriented Analysis (OOA) is the process of looking at a problem, system,\n",
    "    or task that somebody wants to turn into an application and identifying the objects\n",
    "    and interactions between those objects.** \n",
    "    \n",
    "- **Object-oriented Design (OOD) is the process of converting such requirements into\n",
    "    an implementation specification. The designer must name the objects, define the\n",
    "    behaviors, and formally specify what objects can activate specific behaviors on\n",
    "    other objects.**\n",
    "- **Object-oriented Programming (OOP) is the process of converting this perfectly\n",
    "    defined design into a working program that does exactly what the CEO\n",
    "    originally requested**"
   ]
  },
  {
   "cell_type": "code",
   "execution_count": 36,
   "id": "7b03bbc9",
   "metadata": {},
   "outputs": [],
   "source": [
    "class Student():\n",
    "    def __init__(self,name):\n",
    "        self.name = name\n",
    "    def __str__(self):\n",
    "        return f\"Student name is {self.name}\""
   ]
  },
  {
   "cell_type": "code",
   "execution_count": 38,
   "id": "b3254757",
   "metadata": {},
   "outputs": [
    {
     "name": "stdout",
     "output_type": "stream",
     "text": [
      "Student name is Rishabh\n",
      "Student name is Rishabh\n",
      "Student name is Puneet\n",
      "\n"
     ]
    }
   ],
   "source": [
    "s1 = Student(\"Rishabh\")\n",
    "# print(type(s1))\n",
    "print(s1)\n",
    "# print(s1.name)\n",
    "\n",
    "print(s1)\n",
    "\n",
    "# s2 = Student()\n",
    "# s2.name = \"Puneet\"\n",
    "\n",
    "print(s2)\n",
    "\n",
    "\n",
    "s3 = Student(\"Divyansh\")\n",
    "# s2.name = \"Puneet\"\n",
    "print()\n",
    "# mystr = str(s2)\n",
    "# print(mystr) __str__ using this"
   ]
  },
  {
   "cell_type": "markdown",
   "id": "554f8857",
   "metadata": {},
   "source": [
    "- Parameter -> Placeholder\n",
    "- Argument -> The actual value"
   ]
  },
  {
   "cell_type": "code",
   "execution_count": null,
   "id": "c88dcdec",
   "metadata": {},
   "outputs": [],
   "source": []
  }
 ],
 "metadata": {
  "kernelspec": {
   "display_name": "Python 3 (ipykernel)",
   "language": "python",
   "name": "python3"
  },
  "language_info": {
   "codemirror_mode": {
    "name": "ipython",
    "version": 3
   },
   "file_extension": ".py",
   "mimetype": "text/x-python",
   "name": "python",
   "nbconvert_exporter": "python",
   "pygments_lexer": "ipython3",
   "version": "3.9.6"
  }
 },
 "nbformat": 4,
 "nbformat_minor": 5
}
