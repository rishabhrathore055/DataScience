{
 "cells": [
  {
   "cell_type": "code",
   "execution_count": 1,
   "id": "fdc8dc67",
   "metadata": {},
   "outputs": [],
   "source": [
    "import numpy as np \n",
    "import pandas as pd \n",
    "import matplotlib.pyplot as plt\n",
    "import torch\n",
    "import torch.nn.functional as F\n",
    "from torch import nn, optim"
   ]
  },
  {
   "cell_type": "code",
   "execution_count": 2,
   "id": "8dfd62b3",
   "metadata": {},
   "outputs": [],
   "source": [
    "training_data = [\n",
    "        (\"Veinte paginas\".lower().split(), \"Spanish\"),\n",
    "        (\"I will visit the library\".lower().split(), \"English\"),\n",
    "        (\"I am reading a book\".lower().split(), \"English\"),\n",
    "        (\"This is my favourite chapter\".lower().split(), \"English\"),\n",
    "        (\"Estoy en la biblioteca\".lower().split(), \"Spanish\"),\n",
    "        (\"Tengo un libro\".lower().split(), \"Spanish\")\n",
    "        ]\n",
    "\n",
    "test_data = [\n",
    "        (\"Estoy leyendo\".lower().split(), \"Spanish\"),\n",
    "        (\"This is not my favourite book\".lower().split(), \"English\")\n",
    "        ]"
   ]
  },
  {
   "cell_type": "code",
   "execution_count": 3,
   "id": "1afa815c",
   "metadata": {},
   "outputs": [
    {
     "name": "stdout",
     "output_type": "stream",
     "text": [
      "{'veinte': 0, 'paginas': 1, 'i': 2, 'will': 3, 'visit': 4, 'the': 5, 'library': 6, 'am': 7, 'reading': 8, 'a': 9, 'book': 10, 'this': 11, 'is': 12, 'my': 13, 'favourite': 14, 'chapter': 15, 'estoy': 16, 'en': 17, 'la': 18, 'biblioteca': 19, 'tengo': 20, 'un': 21, 'libro': 22, 'leyendo': 23, 'not': 24}\n"
     ]
    }
   ],
   "source": [
    "word_dict = {}\n",
    "i = 0\n",
    "for words,language in training_data + test_data:\n",
    "    for word in words:\n",
    "        if word not in word_dict:\n",
    "            word_dict[word]=i\n",
    "            i+=1\n",
    "print(word_dict)\n"
   ]
  },
  {
   "cell_type": "markdown",
   "id": "296792e3",
   "metadata": {},
   "source": [
    "Setting up the classifier"
   ]
  },
  {
   "cell_type": "code",
   "execution_count": 10,
   "id": "865dc752",
   "metadata": {},
   "outputs": [],
   "source": [
    "corpus_size = len(word_dict)\n",
    "languages = 2\n",
    "label_index = {\"Spanish\": 0, \"English\": 1}\n",
    "class BagofWordsClassifier(nn.Module):\n",
    "    \n",
    "    def __init__(self,languages,corpus_size):\n",
    "        super(BagofWordsClassifier,self).__init__()\n",
    "        self.linear = nn.Linear(corpus_size,languages)\n",
    "        \n",
    "    def forward(self, bow_vec):\n",
    "        return F.log_softmax(self.linear(bow_vec),dim=1)"
   ]
  },
  {
   "cell_type": "code",
   "execution_count": 11,
   "id": "bfc1652e",
   "metadata": {},
   "outputs": [],
   "source": [
    "def make_bow_vector(sentence, word_index):\n",
    "    word_vec = torch.zeros(corpus_size)\n",
    "    for word in sentence:\n",
    "        word_vec[word_dict[word]] += 1\n",
    "    return word_vec.view(1, -1)\n",
    "\n",
    "def make_target(label, label_index):\n",
    "    return torch.LongTensor([label_index[label]])\n"
   ]
  },
  {
   "cell_type": "code",
   "execution_count": 14,
   "id": "47c4ce6d",
   "metadata": {},
   "outputs": [],
   "source": [
    "# Stochatic Gradient descent(SGD)\n",
    "model = BagofWordsClassifier(languages, corpus_size)\n",
    "loss_function = nn.NLLLoss()\n",
    "optimizer = optim.SGD(model.parameters(), lr=0.1)"
   ]
  },
  {
   "cell_type": "code",
   "execution_count": 17,
   "id": "8a288797",
   "metadata": {},
   "outputs": [
    {
     "name": "stdout",
     "output_type": "stream",
     "text": [
      "Epoch:  1  Loss: 0.5838678479194641\n",
      "Epoch:  11  Loss: 0.12294137477874756\n",
      "Epoch:  21  Loss: 0.06453198194503784\n",
      "Epoch:  31  Loss: 0.04350188747048378\n",
      "Epoch:  41  Loss: 0.03276314213871956\n",
      "Epoch:  51  Loss: 0.02626236155629158\n",
      "Epoch:  61  Loss: 0.02190852351486683\n",
      "Epoch:  71  Loss: 0.018790453672409058\n",
      "Epoch:  81  Loss: 0.01644790731370449\n",
      "Epoch:  91  Loss: 0.014624071307480335\n",
      "Epoch:  101  Loss: 0.013163803145289421\n"
     ]
    }
   ],
   "source": [
    "# Training Classifier\n",
    "for epoch in range(110):\n",
    "    for sentence, label in training_data:\n",
    "        model.zero_grad()\n",
    "        bow_vec = make_bow_vector(sentence, word_dict)\n",
    "        target = make_target(label, label_index)\n",
    "        \n",
    "        log_probs = model(bow_vec)\n",
    "        \n",
    "        loss = loss_function(log_probs, target)\n",
    "        loss.backward()\n",
    "        optimizer.step()\n",
    "    if epoch%10==0:\n",
    "        print('Epoch: ',str(epoch+1),' Loss: ' + str(loss.item()))"
   ]
  },
  {
   "cell_type": "code",
   "execution_count": 20,
   "id": "ecd9a2a9",
   "metadata": {},
   "outputs": [
    {
     "name": "stdout",
     "output_type": "stream",
     "text": [
      "On branch main\n",
      "Your branch is up to date with 'origin/main'.\n",
      "\n",
      "Changes to be committed:\n",
      "  (use \"git restore --staged <file>...\" to unstage)\n",
      "\tnew file:   .ipynb_checkpoints/Bag of Word-Classifier-checkpoint.ipynb\n",
      "\tnew file:   Bag of Word-Classifier.ipynb\n",
      "\tmodified:   NN.ipynb\n",
      "\n"
     ]
    }
   ],
   "source": [
    "!git status\n",
    "!git add *"
   ]
  },
  {
   "cell_type": "code",
   "execution_count": null,
   "id": "5fcaac61",
   "metadata": {},
   "outputs": [],
   "source": []
  }
 ],
 "metadata": {
  "kernelspec": {
   "display_name": "Python 3 (ipykernel)",
   "language": "python",
   "name": "python3"
  },
  "language_info": {
   "codemirror_mode": {
    "name": "ipython",
    "version": 3
   },
   "file_extension": ".py",
   "mimetype": "text/x-python",
   "name": "python",
   "nbconvert_exporter": "python",
   "pygments_lexer": "ipython3",
   "version": "3.9.6"
  }
 },
 "nbformat": 4,
 "nbformat_minor": 5
}
