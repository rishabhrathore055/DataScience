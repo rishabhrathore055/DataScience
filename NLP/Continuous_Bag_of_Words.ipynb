{
 "cells": [
  {
   "cell_type": "markdown",
   "id": "6774fdf5",
   "metadata": {},
   "source": [
    "### Building CBOW Model"
   ]
  },
  {
   "cell_type": "code",
   "execution_count": 2,
   "id": "31b52b57",
   "metadata": {},
   "outputs": [],
   "source": [
    "import torch\n",
    "import torch.nn as nn\n",
    "import numpy as np"
   ]
  },
  {
   "cell_type": "code",
   "execution_count": 3,
   "id": "6f3e7a44",
   "metadata": {},
   "outputs": [],
   "source": [
    "text = \"\"\"How that personage haunted my dreams, I need scarcely tell you. On\n",
    "stormy nights, when the wind shook the four corners of the house and\n",
    "the surf roared along the cove and up the cliffs, I would see him in a\n",
    "thousand forms, and with a thousand diabolical expressions. Now the leg\n",
    "would be cut off at the knee, now at the hip, now he was a monstrous\n",
    "kind of a creature who had never had but the one leg, and that in the\n",
    "middle of his body. To see him leap and run and pursue me over hedge and\n",
    "ditch was the worst of nightmares. And altogether I paid pretty dear for\n",
    "my monthly fourpenny piece, in the shape of these abominable fancies\"\"\""
   ]
  },
  {
   "cell_type": "code",
   "execution_count": 4,
   "id": "249e89f3",
   "metadata": {},
   "outputs": [],
   "source": [
    "text = text.replace(',','').replace('.','').lower().split()"
   ]
  },
  {
   "cell_type": "code",
   "execution_count": 9,
   "id": "a9acd455",
   "metadata": {},
   "outputs": [],
   "source": [
    "corpus = set(text)\n",
    "corpus_length = len(corpus)"
   ]
  },
  {
   "cell_type": "code",
   "execution_count": 10,
   "id": "3ba9de91",
   "metadata": {},
   "outputs": [],
   "source": [
    "word_dict = {}\n",
    "inverse_word_dict = {}\n",
    "for i ,word in enumerate(corpus):\n",
    "    word_dict[word] = i\n",
    "    inverse_word_dict[i] = word"
   ]
  },
  {
   "cell_type": "code",
   "execution_count": 11,
   "id": "9a159ee8",
   "metadata": {},
   "outputs": [
    {
     "data": {
      "text/plain": [
       "{'diabolical': 0,\n",
       " 'in': 1,\n",
       " 'hip': 2,\n",
       " 'wind': 3,\n",
       " 'he': 4,\n",
       " 'a': 5,\n",
       " 'forms': 6,\n",
       " 'house': 7,\n",
       " 'i': 8,\n",
       " 'be': 9,\n",
       " 'cut': 10,\n",
       " 'along': 11,\n",
       " 'middle': 12,\n",
       " 'knee': 13,\n",
       " 'and': 14,\n",
       " 'run': 15,\n",
       " 'shook': 16,\n",
       " 'expressions': 17,\n",
       " 'dear': 18,\n",
       " 'corners': 19,\n",
       " 'him': 20,\n",
       " 'how': 21,\n",
       " 'dreams': 22,\n",
       " 'tell': 23,\n",
       " 'pursue': 24,\n",
       " 'one': 25,\n",
       " 'piece': 26,\n",
       " 'but': 27,\n",
       " 'four': 28,\n",
       " 'haunted': 29,\n",
       " 'paid': 30,\n",
       " 'these': 31,\n",
       " 'that': 32,\n",
       " 'altogether': 33,\n",
       " 'nightmares': 34,\n",
       " 'need': 35,\n",
       " 'over': 36,\n",
       " 'thousand': 37,\n",
       " 'fancies': 38,\n",
       " 'was': 39,\n",
       " 'would': 40,\n",
       " 'monthly': 41,\n",
       " 'my': 42,\n",
       " 'scarcely': 43,\n",
       " 'with': 44,\n",
       " 'see': 45,\n",
       " 'abominable': 46,\n",
       " 'hedge': 47,\n",
       " 'surf': 48,\n",
       " 'fourpenny': 49,\n",
       " 'you': 50,\n",
       " 'creature': 51,\n",
       " 'when': 52,\n",
       " 'cliffs': 53,\n",
       " 'body': 54,\n",
       " 'up': 55,\n",
       " 'never': 56,\n",
       " 'nights': 57,\n",
       " 'pretty': 58,\n",
       " 'leap': 59,\n",
       " 'roared': 60,\n",
       " 'worst': 61,\n",
       " 'now': 62,\n",
       " 'for': 63,\n",
       " 'on': 64,\n",
       " 'kind': 65,\n",
       " 'at': 66,\n",
       " 'ditch': 67,\n",
       " 'the': 68,\n",
       " 'shape': 69,\n",
       " 'to': 70,\n",
       " 'cove': 71,\n",
       " 'his': 72,\n",
       " 'off': 73,\n",
       " 'had': 74,\n",
       " 'who': 75,\n",
       " 'me': 76,\n",
       " 'of': 77,\n",
       " 'leg': 78,\n",
       " 'personage': 79,\n",
       " 'stormy': 80,\n",
       " 'monstrous': 81}"
      ]
     },
     "execution_count": 11,
     "metadata": {},
     "output_type": "execute_result"
    }
   ],
   "source": [
    "word_dict"
   ]
  },
  {
   "cell_type": "code",
   "execution_count": 12,
   "id": "cc5eef97",
   "metadata": {},
   "outputs": [
    {
     "data": {
      "text/plain": [
       "{0: 'diabolical',\n",
       " 1: 'in',\n",
       " 2: 'hip',\n",
       " 3: 'wind',\n",
       " 4: 'he',\n",
       " 5: 'a',\n",
       " 6: 'forms',\n",
       " 7: 'house',\n",
       " 8: 'i',\n",
       " 9: 'be',\n",
       " 10: 'cut',\n",
       " 11: 'along',\n",
       " 12: 'middle',\n",
       " 13: 'knee',\n",
       " 14: 'and',\n",
       " 15: 'run',\n",
       " 16: 'shook',\n",
       " 17: 'expressions',\n",
       " 18: 'dear',\n",
       " 19: 'corners',\n",
       " 20: 'him',\n",
       " 21: 'how',\n",
       " 22: 'dreams',\n",
       " 23: 'tell',\n",
       " 24: 'pursue',\n",
       " 25: 'one',\n",
       " 26: 'piece',\n",
       " 27: 'but',\n",
       " 28: 'four',\n",
       " 29: 'haunted',\n",
       " 30: 'paid',\n",
       " 31: 'these',\n",
       " 32: 'that',\n",
       " 33: 'altogether',\n",
       " 34: 'nightmares',\n",
       " 35: 'need',\n",
       " 36: 'over',\n",
       " 37: 'thousand',\n",
       " 38: 'fancies',\n",
       " 39: 'was',\n",
       " 40: 'would',\n",
       " 41: 'monthly',\n",
       " 42: 'my',\n",
       " 43: 'scarcely',\n",
       " 44: 'with',\n",
       " 45: 'see',\n",
       " 46: 'abominable',\n",
       " 47: 'hedge',\n",
       " 48: 'surf',\n",
       " 49: 'fourpenny',\n",
       " 50: 'you',\n",
       " 51: 'creature',\n",
       " 52: 'when',\n",
       " 53: 'cliffs',\n",
       " 54: 'body',\n",
       " 55: 'up',\n",
       " 56: 'never',\n",
       " 57: 'nights',\n",
       " 58: 'pretty',\n",
       " 59: 'leap',\n",
       " 60: 'roared',\n",
       " 61: 'worst',\n",
       " 62: 'now',\n",
       " 63: 'for',\n",
       " 64: 'on',\n",
       " 65: 'kind',\n",
       " 66: 'at',\n",
       " 67: 'ditch',\n",
       " 68: 'the',\n",
       " 69: 'shape',\n",
       " 70: 'to',\n",
       " 71: 'cove',\n",
       " 72: 'his',\n",
       " 73: 'off',\n",
       " 74: 'had',\n",
       " 75: 'who',\n",
       " 76: 'me',\n",
       " 77: 'of',\n",
       " 78: 'leg',\n",
       " 79: 'personage',\n",
       " 80: 'stormy',\n",
       " 81: 'monstrous'}"
      ]
     },
     "execution_count": 12,
     "metadata": {},
     "output_type": "execute_result"
    }
   ],
   "source": [
    "inverse_word_dict"
   ]
  },
  {
   "cell_type": "code",
   "execution_count": 15,
   "id": "6e736143",
   "metadata": {},
   "outputs": [
    {
     "data": {
      "text/plain": [
       "(['that', 'personage', 'my', 'dreams'], 'haunted')"
      ]
     },
     "execution_count": 15,
     "metadata": {},
     "output_type": "execute_result"
    }
   ],
   "source": [
    "data = []\n",
    "for i in range(2,len(text)-2):\n",
    "    sentence = [text[i-2],text[i-1],text[i+1],text[i+2]]\n",
    "    target = text[i]\n",
    "    data.append((sentence,target))\n",
    "data[1]"
   ]
  },
  {
   "cell_type": "code",
   "execution_count": 16,
   "id": "dff30cd3",
   "metadata": {},
   "outputs": [],
   "source": [
    "embedding_length = 20"
   ]
  },
  {
   "cell_type": "code",
   "execution_count": null,
   "id": "cb815964",
   "metadata": {},
   "outputs": [],
   "source": []
  }
 ],
 "metadata": {
  "kernelspec": {
   "display_name": "Python 3 (ipykernel)",
   "language": "python",
   "name": "python3"
  },
  "language_info": {
   "codemirror_mode": {
    "name": "ipython",
    "version": 3
   },
   "file_extension": ".py",
   "mimetype": "text/x-python",
   "name": "python",
   "nbconvert_exporter": "python",
   "pygments_lexer": "ipython3",
   "version": "3.9.6"
  }
 },
 "nbformat": 4,
 "nbformat_minor": 5
}
