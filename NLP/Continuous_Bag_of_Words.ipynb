{
 "cells": [
  {
   "cell_type": "markdown",
   "id": "6774fdf5",
   "metadata": {},
   "source": [
    "### Building CBOW Model"
   ]
  },
  {
   "cell_type": "code",
   "execution_count": 1,
   "id": "31b52b57",
   "metadata": {},
   "outputs": [],
   "source": [
    "import torch\n",
    "import torch.nn as nn\n",
    "import numpy as np"
   ]
  },
  {
   "cell_type": "code",
   "execution_count": 2,
   "id": "6f3e7a44",
   "metadata": {},
   "outputs": [],
   "source": [
    "text = \"\"\"How that personage haunted my dreams, I need scarcely tell you. On\n",
    "stormy nights, when the wind shook the four corners of the house and\n",
    "the surf roared along the cove and up the cliffs, I would see him in a\n",
    "thousand forms, and with a thousand diabolical expressions. Now the leg\n",
    "would be cut off at the knee, now at the hip, now he was a monstrous\n",
    "kind of a creature who had never had but the one leg, and that in the\n",
    "middle of his body. To see him leap and run and pursue me over hedge and\n",
    "ditch was the worst of nightmares. And altogether I paid pretty dear for\n",
    "my monthly fourpenny piece, in the shape of these abominable fancies\"\"\""
   ]
  },
  {
   "cell_type": "code",
   "execution_count": 3,
   "id": "249e89f3",
   "metadata": {},
   "outputs": [],
   "source": [
    "text = text.replace(',','').replace('.','').lower().split()"
   ]
  },
  {
   "cell_type": "code",
   "execution_count": 4,
   "id": "a9acd455",
   "metadata": {},
   "outputs": [],
   "source": [
    "corpus = set(text)\n",
    "corpus_length = len(corpus)"
   ]
  },
  {
   "cell_type": "code",
   "execution_count": 5,
   "id": "3ba9de91",
   "metadata": {},
   "outputs": [],
   "source": [
    "word_dict = {}\n",
    "inverse_word_dict = {}\n",
    "for i ,word in enumerate(corpus):\n",
    "    word_dict[word] = i\n",
    "    inverse_word_dict[i] = word"
   ]
  },
  {
   "cell_type": "code",
   "execution_count": 6,
   "id": "9a159ee8",
   "metadata": {},
   "outputs": [
    {
     "data": {
      "text/plain": [
       "{'corners': 0,\n",
       " 'pretty': 1,\n",
       " 'at': 2,\n",
       " 'had': 3,\n",
       " 'house': 4,\n",
       " 'never': 5,\n",
       " 'four': 6,\n",
       " 'scarcely': 7,\n",
       " 'fancies': 8,\n",
       " 'nightmares': 9,\n",
       " 'pursue': 10,\n",
       " 'diabolical': 11,\n",
       " 'who': 12,\n",
       " 'tell': 13,\n",
       " 'now': 14,\n",
       " 'me': 15,\n",
       " 'need': 16,\n",
       " 'kind': 17,\n",
       " 'nights': 18,\n",
       " 'piece': 19,\n",
       " 'his': 20,\n",
       " 'of': 21,\n",
       " 'monthly': 22,\n",
       " 'over': 23,\n",
       " 'cliffs': 24,\n",
       " 'thousand': 25,\n",
       " 'and': 26,\n",
       " 'altogether': 27,\n",
       " 'body': 28,\n",
       " 'run': 29,\n",
       " 'when': 30,\n",
       " 'middle': 31,\n",
       " 'on': 32,\n",
       " 'one': 33,\n",
       " 'off': 34,\n",
       " 'to': 35,\n",
       " 'wind': 36,\n",
       " 'shape': 37,\n",
       " 'cut': 38,\n",
       " 'these': 39,\n",
       " 'for': 40,\n",
       " 'along': 41,\n",
       " 'knee': 42,\n",
       " 'hip': 43,\n",
       " 'dear': 44,\n",
       " 'creature': 45,\n",
       " 'ditch': 46,\n",
       " 'he': 47,\n",
       " 'haunted': 48,\n",
       " 'leg': 49,\n",
       " 'leap': 50,\n",
       " 'personage': 51,\n",
       " 'i': 52,\n",
       " 'be': 53,\n",
       " 'my': 54,\n",
       " 'surf': 55,\n",
       " 'forms': 56,\n",
       " 'you': 57,\n",
       " 'hedge': 58,\n",
       " 'how': 59,\n",
       " 'was': 60,\n",
       " 'paid': 61,\n",
       " 'with': 62,\n",
       " 'in': 63,\n",
       " 'stormy': 64,\n",
       " 'worst': 65,\n",
       " 'a': 66,\n",
       " 'would': 67,\n",
       " 'fourpenny': 68,\n",
       " 'dreams': 69,\n",
       " 'the': 70,\n",
       " 'cove': 71,\n",
       " 'that': 72,\n",
       " 'shook': 73,\n",
       " 'roared': 74,\n",
       " 'but': 75,\n",
       " 'him': 76,\n",
       " 'expressions': 77,\n",
       " 'abominable': 78,\n",
       " 'monstrous': 79,\n",
       " 'up': 80,\n",
       " 'see': 81}"
      ]
     },
     "execution_count": 6,
     "metadata": {},
     "output_type": "execute_result"
    }
   ],
   "source": [
    "word_dict"
   ]
  },
  {
   "cell_type": "code",
   "execution_count": 7,
   "id": "cc5eef97",
   "metadata": {},
   "outputs": [
    {
     "data": {
      "text/plain": [
       "{0: 'corners',\n",
       " 1: 'pretty',\n",
       " 2: 'at',\n",
       " 3: 'had',\n",
       " 4: 'house',\n",
       " 5: 'never',\n",
       " 6: 'four',\n",
       " 7: 'scarcely',\n",
       " 8: 'fancies',\n",
       " 9: 'nightmares',\n",
       " 10: 'pursue',\n",
       " 11: 'diabolical',\n",
       " 12: 'who',\n",
       " 13: 'tell',\n",
       " 14: 'now',\n",
       " 15: 'me',\n",
       " 16: 'need',\n",
       " 17: 'kind',\n",
       " 18: 'nights',\n",
       " 19: 'piece',\n",
       " 20: 'his',\n",
       " 21: 'of',\n",
       " 22: 'monthly',\n",
       " 23: 'over',\n",
       " 24: 'cliffs',\n",
       " 25: 'thousand',\n",
       " 26: 'and',\n",
       " 27: 'altogether',\n",
       " 28: 'body',\n",
       " 29: 'run',\n",
       " 30: 'when',\n",
       " 31: 'middle',\n",
       " 32: 'on',\n",
       " 33: 'one',\n",
       " 34: 'off',\n",
       " 35: 'to',\n",
       " 36: 'wind',\n",
       " 37: 'shape',\n",
       " 38: 'cut',\n",
       " 39: 'these',\n",
       " 40: 'for',\n",
       " 41: 'along',\n",
       " 42: 'knee',\n",
       " 43: 'hip',\n",
       " 44: 'dear',\n",
       " 45: 'creature',\n",
       " 46: 'ditch',\n",
       " 47: 'he',\n",
       " 48: 'haunted',\n",
       " 49: 'leg',\n",
       " 50: 'leap',\n",
       " 51: 'personage',\n",
       " 52: 'i',\n",
       " 53: 'be',\n",
       " 54: 'my',\n",
       " 55: 'surf',\n",
       " 56: 'forms',\n",
       " 57: 'you',\n",
       " 58: 'hedge',\n",
       " 59: 'how',\n",
       " 60: 'was',\n",
       " 61: 'paid',\n",
       " 62: 'with',\n",
       " 63: 'in',\n",
       " 64: 'stormy',\n",
       " 65: 'worst',\n",
       " 66: 'a',\n",
       " 67: 'would',\n",
       " 68: 'fourpenny',\n",
       " 69: 'dreams',\n",
       " 70: 'the',\n",
       " 71: 'cove',\n",
       " 72: 'that',\n",
       " 73: 'shook',\n",
       " 74: 'roared',\n",
       " 75: 'but',\n",
       " 76: 'him',\n",
       " 77: 'expressions',\n",
       " 78: 'abominable',\n",
       " 79: 'monstrous',\n",
       " 80: 'up',\n",
       " 81: 'see'}"
      ]
     },
     "execution_count": 7,
     "metadata": {},
     "output_type": "execute_result"
    }
   ],
   "source": [
    "inverse_word_dict"
   ]
  },
  {
   "cell_type": "code",
   "execution_count": 8,
   "id": "6e736143",
   "metadata": {},
   "outputs": [
    {
     "data": {
      "text/plain": [
       "(['how', 'that', 'haunted', 'my'], 'personage')"
      ]
     },
     "execution_count": 8,
     "metadata": {},
     "output_type": "execute_result"
    }
   ],
   "source": [
    "data = []\n",
    "for i in range(2,len(text)-2):\n",
    "    sentence = [text[i-2],text[i-1],text[i+1],text[i+2]]\n",
    "    target = text[i]\n",
    "    data.append((sentence,target))\n",
    "data[0]"
   ]
  },
  {
   "cell_type": "code",
   "execution_count": 9,
   "id": "dff30cd3",
   "metadata": {},
   "outputs": [],
   "source": [
    "embedding_length = 20"
   ]
  },
  {
   "cell_type": "code",
   "execution_count": 19,
   "id": "cb815964",
   "metadata": {},
   "outputs": [],
   "source": [
    "class CBOW(torch.nn.Module):\n",
    "    def __init__(self, corpus_length, embedding_dim):\n",
    "        super(CBOW, self).__init__()\n",
    "        self.embeddings = nn.Embedding(corpus_length,\n",
    "        embedding_dim)\n",
    "        self.linear1 = nn.Linear(embedding_dim, 64)\n",
    "        self.linear2 = nn.Linear(64, corpus_length)\n",
    "        self.activation_function1 = nn.ReLU()\n",
    "        self.activation_function2 = nn.LogSoftmax(dim = -1)\n",
    "    def forward(self, inputs):\n",
    "        embeds = sum(self.embeddings(inputs)).view(1,-1)\n",
    "        out = self.linear1(embeds)\n",
    "        out = self.activation_function1(out)\n",
    "        out = self.linear2(out)\n",
    "        out = self.activation_function2(out)\n",
    "        return out\n",
    "    def get_word_emdedding(self, word):\n",
    "        word = torch.LongTensor([word_dict[word]])\n",
    "        return self.embeddings(word).view(1,-1)"
   ]
  },
  {
   "cell_type": "code",
   "execution_count": 20,
   "id": "8972d275",
   "metadata": {},
   "outputs": [
    {
     "name": "stdout",
     "output_type": "stream",
     "text": [
      "tensor([64, 18, 30, 70])\n"
     ]
    }
   ],
   "source": [
    "model = CBOW(corpus_length, embedding_length)\n",
    "loss_function = nn.NLLLoss()\n",
    "optimizer = torch.optim.SGD(model.parameters(), lr=0.01)\n",
    "def make_sentence_vector(sentence, word_dict):\n",
    "    idxs = [word_dict[w] for w in sentence]\n",
    "    return torch.tensor(idxs, dtype=torch.long)\n",
    "print(make_sentence_vector(['stormy','nights','when','the'], word_dict))"
   ]
  },
  {
   "cell_type": "code",
   "execution_count": 21,
   "id": "02bd016e",
   "metadata": {},
   "outputs": [
    {
     "name": "stdout",
     "output_type": "stream",
     "text": [
      "Epoch: 0, Loss: 529.4085693359375\n",
      "Epoch: 1, Loss: 475.45147705078125\n",
      "Epoch: 2, Loss: 435.5121154785156\n",
      "Epoch: 3, Loss: 398.7772216796875\n",
      "Epoch: 4, Loss: 362.43096923828125\n",
      "Epoch: 5, Loss: 325.6566162109375\n",
      "Epoch: 6, Loss: 288.5445556640625\n",
      "Epoch: 7, Loss: 251.77365112304688\n",
      "Epoch: 8, Loss: 216.1964111328125\n",
      "Epoch: 9, Loss: 182.65499877929688\n",
      "Epoch: 10, Loss: 152.080810546875\n",
      "Epoch: 11, Loss: 125.14311981201172\n",
      "Epoch: 12, Loss: 101.84101104736328\n",
      "Epoch: 13, Loss: 82.38603973388672\n",
      "Epoch: 14, Loss: 66.56572723388672\n",
      "Epoch: 15, Loss: 53.88785934448242\n",
      "Epoch: 16, Loss: 43.94063949584961\n",
      "Epoch: 17, Loss: 36.15391159057617\n",
      "Epoch: 18, Loss: 30.191171646118164\n",
      "Epoch: 19, Loss: 25.556697845458984\n",
      "Epoch: 20, Loss: 21.962766647338867\n",
      "Epoch: 21, Loss: 19.133319854736328\n",
      "Epoch: 22, Loss: 16.87236785888672\n",
      "Epoch: 23, Loss: 15.041474342346191\n",
      "Epoch: 24, Loss: 13.523797988891602\n",
      "Epoch: 25, Loss: 12.269386291503906\n",
      "Epoch: 26, Loss: 11.197855949401855\n",
      "Epoch: 27, Loss: 10.292583465576172\n",
      "Epoch: 28, Loss: 9.50706958770752\n",
      "Epoch: 29, Loss: 8.823968887329102\n",
      "Epoch: 30, Loss: 8.225295066833496\n",
      "Epoch: 31, Loss: 7.695336818695068\n",
      "Epoch: 32, Loss: 7.223633289337158\n",
      "Epoch: 33, Loss: 6.805830478668213\n",
      "Epoch: 34, Loss: 6.427043437957764\n",
      "Epoch: 35, Loss: 6.088599681854248\n",
      "Epoch: 36, Loss: 5.778940677642822\n",
      "Epoch: 37, Loss: 5.4979777336120605\n",
      "Epoch: 38, Loss: 5.241550445556641\n",
      "Epoch: 39, Loss: 5.006244659423828\n",
      "Epoch: 40, Loss: 4.789026260375977\n",
      "Epoch: 41, Loss: 4.589080333709717\n",
      "Epoch: 42, Loss: 4.404050350189209\n",
      "Epoch: 43, Loss: 4.233335494995117\n",
      "Epoch: 44, Loss: 4.073182106018066\n",
      "Epoch: 45, Loss: 3.924666404724121\n",
      "Epoch: 46, Loss: 3.7855465412139893\n",
      "Epoch: 47, Loss: 3.655117988586426\n",
      "Epoch: 48, Loss: 3.5335733890533447\n",
      "Epoch: 49, Loss: 3.4182088375091553\n",
      "Epoch: 50, Loss: 3.3109071254730225\n",
      "Epoch: 51, Loss: 3.2087366580963135\n",
      "Epoch: 52, Loss: 3.112518310546875\n",
      "Epoch: 53, Loss: 3.0214953422546387\n",
      "Epoch: 54, Loss: 2.935246229171753\n",
      "Epoch: 55, Loss: 2.853393793106079\n",
      "Epoch: 56, Loss: 2.775951862335205\n",
      "Epoch: 57, Loss: 2.7023377418518066\n",
      "Epoch: 58, Loss: 2.6317689418792725\n",
      "Epoch: 59, Loss: 2.5650875568389893\n",
      "Epoch: 60, Loss: 2.501447916030884\n",
      "Epoch: 61, Loss: 2.4401845932006836\n",
      "Epoch: 62, Loss: 2.3819754123687744\n",
      "Epoch: 63, Loss: 2.3264598846435547\n",
      "Epoch: 64, Loss: 2.273008108139038\n",
      "Epoch: 65, Loss: 2.2218072414398193\n",
      "Epoch: 66, Loss: 2.172863245010376\n",
      "Epoch: 67, Loss: 2.1258909702301025\n",
      "Epoch: 68, Loss: 2.0807979106903076\n",
      "Epoch: 69, Loss: 2.0372912883758545\n",
      "Epoch: 70, Loss: 1.995657205581665\n",
      "Epoch: 71, Loss: 1.9554548263549805\n",
      "Epoch: 72, Loss: 1.9167345762252808\n",
      "Epoch: 73, Loss: 1.879350185394287\n",
      "Epoch: 74, Loss: 1.8433818817138672\n",
      "Epoch: 75, Loss: 1.8087358474731445\n",
      "Epoch: 76, Loss: 1.7750550508499146\n",
      "Epoch: 77, Loss: 1.7428327798843384\n",
      "Epoch: 78, Loss: 1.7114888429641724\n",
      "Epoch: 79, Loss: 1.6811755895614624\n",
      "Epoch: 80, Loss: 1.651971697807312\n",
      "Epoch: 81, Loss: 1.623569369316101\n",
      "Epoch: 82, Loss: 1.5961672067642212\n",
      "Epoch: 83, Loss: 1.569358468055725\n",
      "Epoch: 84, Loss: 1.5436885356903076\n",
      "Epoch: 85, Loss: 1.5186721086502075\n",
      "Epoch: 86, Loss: 1.4944257736206055\n",
      "Epoch: 87, Loss: 1.4708584547042847\n",
      "Epoch: 88, Loss: 1.4479106664657593\n",
      "Epoch: 89, Loss: 1.4257477521896362\n",
      "Epoch: 90, Loss: 1.4041825532913208\n",
      "Epoch: 91, Loss: 1.383109450340271\n",
      "Epoch: 92, Loss: 1.3625715970993042\n",
      "Epoch: 93, Loss: 1.3429585695266724\n",
      "Epoch: 94, Loss: 1.323585033416748\n",
      "Epoch: 95, Loss: 1.3046592473983765\n",
      "Epoch: 96, Loss: 1.2863914966583252\n",
      "Epoch: 97, Loss: 1.2685675621032715\n",
      "Epoch: 98, Loss: 1.2511802911758423\n",
      "Epoch: 99, Loss: 1.2342365980148315\n"
     ]
    }
   ],
   "source": [
    "for epoch in range(100):\n",
    "    epoch_loss = 0\n",
    "    for sentence, target in data:\n",
    "        model.zero_grad()\n",
    "        sentence_vector = make_sentence_vector(sentence, word_dict)\n",
    "        log_probs = model(sentence_vector)\n",
    "        loss = loss_function(log_probs, torch.tensor([word_dict[target]], dtype=torch.long))\n",
    "        loss.backward()\n",
    "        optimizer.step()\n",
    "        epoch_loss += loss.data\n",
    "    print('Epoch: '+str(epoch)+', Loss: ' + str(epoch_loss.item()))"
   ]
  },
  {
   "cell_type": "code",
   "execution_count": 22,
   "id": "7cc6ca36",
   "metadata": {},
   "outputs": [
    {
     "name": "stdout",
     "output_type": "stream",
     "text": [
      "Preceding Words: ['to', 'see']\n",
      "\n",
      "Predicted Word: him\n",
      "\n",
      "Following Words: ['leap', 'and']\n",
      "\n"
     ]
    }
   ],
   "source": [
    "def get_predicted_result(input, inverse_word_dict):\n",
    "    index = np.argmax(input)\n",
    "    return inverse_word_dict[index]\n",
    "def predict_sentence(sentence):\n",
    "    sentence_split = sentence.replace('.','').lower().split()\n",
    "    sentence_vector = make_sentence_vector(sentence_split, word_dict)\n",
    "    prediction_array = model(sentence_vector).data.numpy()\n",
    "    print('Preceding Words: {}\\n'.format(sentence_split[:2]))\n",
    "    print('Predicted Word: {}\\n'.format(get_predicted_result(prediction_array[0], inverse_word_dict)))\n",
    "    print('Following Words: {}\\n'.format(sentence_split[2:]))\n",
    "predict_sentence('to see leap and')"
   ]
  },
  {
   "cell_type": "code",
   "execution_count": 23,
   "id": "2ed2d5bd",
   "metadata": {},
   "outputs": [
    {
     "name": "stdout",
     "output_type": "stream",
     "text": [
      "tensor([[ 1.8213, -1.1196,  0.6845,  0.8898,  1.5934,  1.3590, -2.8483, -0.2130,\n",
      "          0.9974, -0.5111, -0.2763, -1.2185,  0.0490,  1.4361, -0.7034, -0.3596,\n",
      "         -1.4976,  1.0774,  0.0057,  0.4883]], grad_fn=<ViewBackward0>)\n"
     ]
    }
   ],
   "source": [
    "print(model.get_word_emdedding('leap'))"
   ]
  },
  {
   "cell_type": "code",
   "execution_count": null,
   "id": "0a6a6382",
   "metadata": {},
   "outputs": [],
   "source": []
  }
 ],
 "metadata": {
  "kernelspec": {
   "display_name": "Python 3 (ipykernel)",
   "language": "python",
   "name": "python3"
  },
  "language_info": {
   "codemirror_mode": {
    "name": "ipython",
    "version": 3
   },
   "file_extension": ".py",
   "mimetype": "text/x-python",
   "name": "python",
   "nbconvert_exporter": "python",
   "pygments_lexer": "ipython3",
   "version": "3.9.6"
  }
 },
 "nbformat": 4,
 "nbformat_minor": 5
}
