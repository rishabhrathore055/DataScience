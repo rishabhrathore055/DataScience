{
 "cells": [
  {
   "cell_type": "code",
   "execution_count": 1,
   "id": "2ee4d9c6",
   "metadata": {},
   "outputs": [],
   "source": [
    "import torch"
   ]
  },
  {
   "cell_type": "code",
   "execution_count": 2,
   "id": "e83594e9",
   "metadata": {},
   "outputs": [],
   "source": [
    "!mkdir flaskAPI"
   ]
  },
  {
   "cell_type": "code",
   "execution_count": 3,
   "id": "a8827cbf",
   "metadata": {},
   "outputs": [],
   "source": [
    "!cd flaskAPI"
   ]
  },
  {
   "cell_type": "code",
   "execution_count": 6,
   "id": "a2951c26",
   "metadata": {},
   "outputs": [],
   "source": [
    "!cd flaskAPI/"
   ]
  },
  {
   "cell_type": "code",
   "execution_count": 7,
   "id": "baba6cc5",
   "metadata": {},
   "outputs": [
    {
     "name": "stdout",
     "output_type": "stream",
     "text": [
      "Requirement already satisfied: torch in c:\\users\\rishabh rathore\\appdata\\local\\programs\\python\\python39\\lib\\site-packages (1.10.1)\n",
      "Requirement already satisfied: torchvision in c:\\users\\rishabh rathore\\appdata\\local\\programs\\python\\python39\\lib\\site-packages (0.11.2)"
     ]
    },
    {
     "name": "stderr",
     "output_type": "stream",
     "text": [
      "\n",
      "[notice] A new release of pip available: 22.2.2 -> 22.3.1\n",
      "[notice] To update, run: python.exe -m pip install --upgrade pip\n"
     ]
    },
    {
     "name": "stdout",
     "output_type": "stream",
     "text": [
      "\n",
      "Requirement already satisfied: typing-extensions in c:\\users\\rishabh rathore\\appdata\\local\\programs\\python\\python39\\lib\\site-packages (from torch) (4.0.0)\n",
      "Requirement already satisfied: numpy in c:\\users\\rishabh rathore\\appdata\\local\\programs\\python\\python39\\lib\\site-packages (from torchvision) (1.23.2)\n",
      "Requirement already satisfied: pillow!=8.3.0,>=5.3.0 in c:\\users\\rishabh rathore\\appdata\\local\\programs\\python\\python39\\lib\\site-packages (from torchvision) (9.2.0)\n"
     ]
    }
   ],
   "source": [
    "!pip install torch torchvision"
   ]
  },
  {
   "cell_type": "markdown",
   "id": "a523388d",
   "metadata": {},
   "source": [
    "1. ReLU - Rectified Linear Unit\n",
    "2. CUDA - Compute Unified Device Architecture\n",
    "3. "
   ]
  },
  {
   "cell_type": "code",
   "execution_count": 8,
   "id": "05c5ace3",
   "metadata": {},
   "outputs": [
    {
     "data": {
      "text/plain": [
       "tensor([1., 2.])"
      ]
     },
     "execution_count": 8,
     "metadata": {},
     "output_type": "execute_result"
    }
   ],
   "source": [
    "x = torch.tensor([1.,2.])\n",
    "x"
   ]
  },
  {
   "cell_type": "code",
   "execution_count": 11,
   "id": "d01959a7",
   "metadata": {},
   "outputs": [
    {
     "name": "stdout",
     "output_type": "stream",
     "text": [
      "tensor([ 10., 100., 300.])\n"
     ]
    }
   ],
   "source": [
    "x = torch.tensor([10.,20.,30.])\n",
    "y = torch.tensor([1.,5.,10.])\n",
    "print(x*y)"
   ]
  },
  {
   "cell_type": "code",
   "execution_count": 19,
   "id": "d264e3ed",
   "metadata": {},
   "outputs": [
    {
     "name": "stdout",
     "output_type": "stream",
     "text": [
      "tensor(3.)\n"
     ]
    }
   ],
   "source": [
    "x = torch.tensor([[1., 2.],[5., 3.],[0., 4.]])\n",
    "print(x[1][1])"
   ]
  },
  {
   "cell_type": "code",
   "execution_count": 18,
   "id": "e0ce3a76",
   "metadata": {},
   "outputs": [
    {
     "name": "stdout",
     "output_type": "stream",
     "text": [
      "3.0\n"
     ]
    }
   ],
   "source": [
    "x = torch.tensor([[1., 2.],[5., 3.],[0., 4.]])\n",
    "print(x[1][1].item())"
   ]
  },
  {
   "cell_type": "code",
   "execution_count": 20,
   "id": "757789db",
   "metadata": {},
   "outputs": [
    {
     "data": {
      "text/plain": [
       "torch.Size([3, 2])"
      ]
     },
     "execution_count": 20,
     "metadata": {},
     "output_type": "execute_result"
    }
   ],
   "source": [
    "x.shape"
   ]
  }
 ],
 "metadata": {
  "kernelspec": {
   "display_name": "Python 3 (ipykernel)",
   "language": "python",
   "name": "python3"
  },
  "language_info": {
   "codemirror_mode": {
    "name": "ipython",
    "version": 3
   },
   "file_extension": ".py",
   "mimetype": "text/x-python",
   "name": "python",
   "nbconvert_exporter": "python",
   "pygments_lexer": "ipython3",
   "version": "3.9.6"
  }
 },
 "nbformat": 4,
 "nbformat_minor": 5
}
