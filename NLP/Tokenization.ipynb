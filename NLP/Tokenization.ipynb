{
 "cells": [
  {
   "cell_type": "code",
   "execution_count": 1,
   "id": "8fd1af35",
   "metadata": {},
   "outputs": [],
   "source": [
    "from nltk import word_tokenize\n",
    "import nltk"
   ]
  },
  {
   "cell_type": "code",
   "execution_count": 2,
   "id": "a398ef76",
   "metadata": {},
   "outputs": [
    {
     "name": "stdout",
     "output_type": "stream",
     "text": [
      "['This', 'is', 'a', 'single', 'sentence', '.']\n"
     ]
    }
   ],
   "source": [
    "sentence = 'This is a single sentence.'\n",
    "tokens = word_tokenize(sentence)\n",
    "print(tokens)"
   ]
  },
  {
   "cell_type": "code",
   "execution_count": 3,
   "id": "e08b1e39",
   "metadata": {},
   "outputs": [
    {
     "name": "stdout",
     "output_type": "stream",
     "text": [
      "['The', 'big', 'dog', 'is', 'sleeping', 'on', 'the', 'bed']\n"
     ]
    }
   ],
   "source": [
    "sentence = \"The big dog is sleeping on the bed\"\n",
    "tokens = nltk.word_tokenize(sentence)\n",
    "print(tokens)"
   ]
  },
  {
   "cell_type": "code",
   "execution_count": 4,
   "id": "51305bbe",
   "metadata": {},
   "outputs": [
    {
     "data": {
      "text/plain": [
       "[('The', 'DT'),\n",
       " ('big', 'JJ'),\n",
       " ('dog', 'NN'),\n",
       " ('is', 'VBZ'),\n",
       " ('sleeping', 'VBG'),\n",
       " ('on', 'IN'),\n",
       " ('the', 'DT'),\n",
       " ('bed', 'NN')]"
      ]
     },
     "execution_count": 4,
     "metadata": {},
     "output_type": "execute_result"
    }
   ],
   "source": [
    "sentence = \"The big dog is sleeping on the bed\"\n",
    "tokens = nltk.word_tokenize(sentence)\n",
    "nltk.pos_tag(tokens)"
   ]
  },
  {
   "cell_type": "code",
   "execution_count": 5,
   "id": "ad7b501c",
   "metadata": {},
   "outputs": [
    {
     "name": "stdout",
     "output_type": "stream",
     "text": [
      "['the', 'big', 'dog', 'is', 'sleeping', 'on', 'the', 'bed']\n"
     ]
    }
   ],
   "source": [
    "no_punctuation = [word.lower() for word in tokens if word.isalpha()]\n",
    "print(no_punctuation)"
   ]
  },
  {
   "cell_type": "code",
   "execution_count": 6,
   "id": "c65324fd",
   "metadata": {},
   "outputs": [
    {
     "name": "stdout",
     "output_type": "stream",
     "text": [
      "['This is the first sentence.', 'This is the second sentence.', 'A document contains many sentences.']\n"
     ]
    }
   ],
   "source": [
    "sentence = \"\"\"This is the first sentence. \n",
    "This is the second sentence. \n",
    "A document contains many sentences.\"\"\"\n",
    "print(nltk.sent_tokenize(sentence))"
   ]
  },
  {
   "cell_type": "code",
   "execution_count": 7,
   "id": "c1ccb587",
   "metadata": {},
   "outputs": [
    {
     "name": "stdout",
     "output_type": "stream",
     "text": [
      "['This', 'is', 'the', 'first', 'sentence', '.', 'This', 'is', 'the', 'second', 'sentence', '.', 'A', 'document', 'contains', 'many', 'sentences', '.']\n"
     ]
    }
   ],
   "source": [
    "print(nltk.wordpunct_tokenize(sentence))"
   ]
  },
  {
   "cell_type": "code",
   "execution_count": 8,
   "id": "56d48f97",
   "metadata": {},
   "outputs": [
    {
     "name": "stdout",
     "output_type": "stream",
     "text": [
      "['i', 'me', 'my', 'myself', 'we', 'our', 'ours', 'ourselves', 'you', \"you're\", \"you've\", \"you'll\", \"you'd\", 'your', 'yours', 'yourself', 'yourselves', 'he', 'him', 'his', 'himself', 'she', \"she's\", 'her', 'hers', 'herself', 'it', \"it's\", 'its', 'itself', 'they', 'them', 'their', 'theirs', 'themselves', 'what', 'which', 'who', 'whom', 'this', 'that', \"that'll\", 'these', 'those', 'am']\n"
     ]
    },
    {
     "data": {
      "text/plain": [
       "179"
      ]
     },
     "execution_count": 8,
     "metadata": {},
     "output_type": "execute_result"
    }
   ],
   "source": [
    "from nltk.corpus import stopwords\n",
    "stop_words = stopwords.words('english')\n",
    "print(stop_words[:45])\n",
    "len(stop_words)"
   ]
  },
  {
   "cell_type": "markdown",
   "id": "cfd08f51",
   "metadata": {},
   "source": [
    "## Tokenization using Tensorflow"
   ]
  },
  {
   "cell_type": "code",
   "execution_count": 9,
   "id": "4bd73be0",
   "metadata": {},
   "outputs": [],
   "source": [
    "import tensorflow as tf\n",
    "from tensorflow import keras\n",
    "from tensorflow.keras.preprocessing.text import Tokenizer"
   ]
  },
  {
   "cell_type": "code",
   "execution_count": 20,
   "id": "873d069c",
   "metadata": {},
   "outputs": [],
   "source": [
    "sentence = [\n",
    "    'I love python',\n",
    "    'I love Data Science',\n",
    "    'You also love Data Science!',\n",
    "    'Do you think Data Science is amazing?'\n",
    "]"
   ]
  },
  {
   "cell_type": "code",
   "execution_count": 14,
   "id": "dca6dfbc",
   "metadata": {},
   "outputs": [
    {
     "data": {
      "text/plain": [
       "{'love': 1, 'i': 2, 'data': 3, 'science': 4, 'python': 5, 'you': 6, 'also': 7}"
      ]
     },
     "execution_count": 14,
     "metadata": {},
     "output_type": "execute_result"
    }
   ],
   "source": [
    "tokenizer = Tokenizer(num_words=100)\n",
    "tokenizer.fit_on_texts(sentence)\n",
    "word_index = tokenizer.word_index\n",
    "word_index"
   ]
  },
  {
   "cell_type": "code",
   "execution_count": 22,
   "id": "9f92bd85",
   "metadata": {},
   "outputs": [
    {
     "name": "stdout",
     "output_type": "stream",
     "text": [
      "{'love': 1, 'i': 2, 'data': 3, 'science': 4, 'python': 5, 'you': 6, 'also': 7}\n",
      "[[2, 1, 5], [2, 1, 3, 4], [6, 7, 1, 3, 4], [6, 3, 4]]\n"
     ]
    }
   ],
   "source": [
    "sequences = tokenizer.texts_to_sequences(sentence)\n",
    "print(word_index)\n",
    "print(sequences)"
   ]
  },
  {
   "cell_type": "code",
   "execution_count": 23,
   "id": "89acd104",
   "metadata": {},
   "outputs": [],
   "source": [
    "test_data = [\n",
    "    'I really love Data science',\n",
    "    'Data science loves mathematics '\n",
    "]"
   ]
  },
  {
   "cell_type": "code",
   "execution_count": 25,
   "id": "c562f3e9",
   "metadata": {},
   "outputs": [
    {
     "name": "stdout",
     "output_type": "stream",
     "text": [
      "[[2, 1, 3, 4], [3, 4]]\n",
      "{'love': 1, 'i': 2, 'data': 3, 'science': 4, 'python': 5, 'you': 6, 'also': 7}\n"
     ]
    }
   ],
   "source": [
    "test_seq = tokenizer.texts_to_sequences(test_data)\n",
    "print(test_seq)\n",
    "print(word_index)"
   ]
  },
  {
   "cell_type": "code",
   "execution_count": 26,
   "id": "f534b212",
   "metadata": {},
   "outputs": [
    {
     "name": "stdout",
     "output_type": "stream",
     "text": [
      "{'<OOV>': 1, 'love': 2, 'data': 3, 'science': 4, 'i': 5, 'you': 6, 'python': 7, 'also': 8, 'do': 9, 'think': 10, 'is': 11, 'amazing': 12}\n",
      "[[5, 2, 7], [5, 2, 3, 4], [6, 8, 2, 3, 4], [9, 6, 10, 3, 4, 11, 12]]\n"
     ]
    }
   ],
   "source": [
    "sentence = [\n",
    "    'I love python',\n",
    "    'I love Data Science',\n",
    "    'You also love Data Science!',\n",
    "    'Do you think Data Science is amazing?'\n",
    "]\n",
    "\n",
    "tokenizer = Tokenizer(num_words=100,oov_token=\"<OOV>\")\n",
    "tokenizer.fit_on_texts(sentence)\n",
    "word_index = tokenizer.word_index\n",
    "sequences = tokenizer.texts_to_sequences(sentence)\n",
    "print(word_index)\n",
    "print(sequences)"
   ]
  },
  {
   "cell_type": "code",
   "execution_count": 27,
   "id": "d8b55493",
   "metadata": {},
   "outputs": [
    {
     "name": "stdout",
     "output_type": "stream",
     "text": [
      "[[5, 1, 2, 3, 4], [3, 4, 1, 1]]\n",
      "{'<OOV>': 1, 'love': 2, 'data': 3, 'science': 4, 'i': 5, 'you': 6, 'python': 7, 'also': 8, 'do': 9, 'think': 10, 'is': 11, 'amazing': 12}\n"
     ]
    }
   ],
   "source": [
    "test_seq = tokenizer.texts_to_sequences(test_data)\n",
    "print(test_seq)\n",
    "print(word_index)"
   ]
  },
  {
   "cell_type": "code",
   "execution_count": null,
   "id": "12f31312",
   "metadata": {},
   "outputs": [],
   "source": []
  }
 ],
 "metadata": {
  "kernelspec": {
   "display_name": "Python 3 (ipykernel)",
   "language": "python",
   "name": "python3"
  },
  "language_info": {
   "codemirror_mode": {
    "name": "ipython",
    "version": 3
   },
   "file_extension": ".py",
   "mimetype": "text/x-python",
   "name": "python",
   "nbconvert_exporter": "python",
   "pygments_lexer": "ipython3",
   "version": "3.9.6"
  }
 },
 "nbformat": 4,
 "nbformat_minor": 5
}
